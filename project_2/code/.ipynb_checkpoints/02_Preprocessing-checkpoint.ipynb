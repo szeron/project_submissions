{
 "cells": [
  {
   "cell_type": "markdown",
   "metadata": {},
   "source": [
    "<img src=\"http://imgur.com/1ZcRyrc.png\" style=\"float: left; margin: 20px; height: 55px\">\n",
    "\n",
    "# Project 2: Singapore Housing Data and Kaggle Challenge"
   ]
  },
  {
   "cell_type": "markdown",
   "metadata": {},
   "source": [
    "# Part 2: Preprocessing & Modeling"
   ]
  },
  {
   "cell_type": "code",
   "execution_count": 1,
   "metadata": {},
   "outputs": [],
   "source": [
    "# Importing Libraries\n",
    "\n",
    "import numpy as np\n",
    "import pandas as pd\n",
    "import matplotlib\n",
    "import matplotlib.pyplot as plt\n",
    "import seaborn as sns\n",
    "import math\n",
    "\n",
    "from sklearn.linear_model import Ridge, Lasso, ElasticNet, LinearRegression, RidgeCV, LassoCV, ElasticNetCV\n",
    "from sklearn.model_selection import cross_val_score, train_test_split, GridSearchCV\n",
    "from sklearn.preprocessing import StandardScaler, PolynomialFeatures\n",
    "from sklearn.feature_selection import SelectFromModel, SelectKBest\n",
    "from sklearn import metrics\n",
    "from sklearn.metrics import mean_squared_error, r2_score\n",
    "from sklearn.dummy import DummyRegressor"
   ]
  },
  {
   "cell_type": "code",
   "execution_count": 2,
   "metadata": {
    "scrolled": false
   },
   "outputs": [],
   "source": [
    "# importing cleaned train dataset\n",
    "train2 = pd.read_csv(\"../datasets/train2.csv\")"
   ]
  },
  {
   "cell_type": "code",
   "execution_count": 3,
   "metadata": {},
   "outputs": [
    {
     "data": {
      "text/plain": [
       "Index(['tranc_yearmonth', 'flat_type', 'flat_model', 'full_flat_type',\n",
       "       'planning_area'],\n",
       "      dtype='object')"
      ]
     },
     "execution_count": 3,
     "metadata": {},
     "output_type": "execute_result"
    }
   ],
   "source": [
    "# View categorical variables\n",
    "cat_vars = train2.select_dtypes(include=['object'])\n",
    "cat_vars.columns"
   ]
  },
  {
   "cell_type": "markdown",
   "metadata": {},
   "source": [
    "### One-hot encoding of nominal categorical variables"
   ]
  },
  {
   "cell_type": "markdown",
   "metadata": {},
   "source": [
    "As **\"full_flat_type\"** is the amalgamation of both **\"flat_type\"** and **\"flat_model\"**, we shall one-hot encode **\"full_flat_type\"** and **\"planning_area\"**, and drop the other categorical columns."
   ]
  },
  {
   "cell_type": "code",
   "execution_count": 4,
   "metadata": {},
   "outputs": [],
   "source": [
    "all_flat_types = pd.get_dummies(train2['full_flat_type'])\n",
    "all_areas = pd.get_dummies(train2['planning_area'])\n",
    "\n",
    "train2 = train2.drop(columns=['full_flat_type','planning_area', 'tranc_yearmonth', 'flat_type', 'flat_model'])\n",
    "train2 = pd.concat((train2,all_flat_types,all_areas), axis=1)"
   ]
  },
  {
   "cell_type": "code",
   "execution_count": 5,
   "metadata": {},
   "outputs": [],
   "source": [
    "# Convert all columns to snake case\n",
    "train2.columns = train2.columns.str.lower().str.replace(' ', '_')"
   ]
  },
  {
   "cell_type": "code",
   "execution_count": 6,
   "metadata": {
    "scrolled": false
   },
   "outputs": [
    {
     "data": {
      "text/html": [
       "<div>\n",
       "<style scoped>\n",
       "    .dataframe tbody tr th:only-of-type {\n",
       "        vertical-align: middle;\n",
       "    }\n",
       "\n",
       "    .dataframe tbody tr th {\n",
       "        vertical-align: top;\n",
       "    }\n",
       "\n",
       "    .dataframe thead th {\n",
       "        text-align: right;\n",
       "    }\n",
       "</style>\n",
       "<table border=\"1\" class=\"dataframe\">\n",
       "  <thead>\n",
       "    <tr style=\"text-align: right;\">\n",
       "      <th></th>\n",
       "      <th>0</th>\n",
       "      <th>1</th>\n",
       "      <th>2</th>\n",
       "      <th>3</th>\n",
       "      <th>4</th>\n",
       "    </tr>\n",
       "  </thead>\n",
       "  <tbody>\n",
       "    <tr>\n",
       "      <th>id</th>\n",
       "      <td>88471</td>\n",
       "      <td>122598</td>\n",
       "      <td>170897</td>\n",
       "      <td>86070</td>\n",
       "      <td>153632</td>\n",
       "    </tr>\n",
       "    <tr>\n",
       "      <th>resale_price</th>\n",
       "      <td>680000</td>\n",
       "      <td>665000</td>\n",
       "      <td>838000</td>\n",
       "      <td>550000</td>\n",
       "      <td>298000</td>\n",
       "    </tr>\n",
       "    <tr>\n",
       "      <th>tranc_year</th>\n",
       "      <td>2016</td>\n",
       "      <td>2012</td>\n",
       "      <td>2013</td>\n",
       "      <td>2012</td>\n",
       "      <td>2017</td>\n",
       "    </tr>\n",
       "    <tr>\n",
       "      <th>tranc_month</th>\n",
       "      <td>5</td>\n",
       "      <td>7</td>\n",
       "      <td>7</td>\n",
       "      <td>4</td>\n",
       "      <td>12</td>\n",
       "    </tr>\n",
       "    <tr>\n",
       "      <th>mid_storey</th>\n",
       "      <td>11</td>\n",
       "      <td>8</td>\n",
       "      <td>14</td>\n",
       "      <td>3</td>\n",
       "      <td>2</td>\n",
       "    </tr>\n",
       "    <tr>\n",
       "      <th>...</th>\n",
       "      <td>...</td>\n",
       "      <td>...</td>\n",
       "      <td>...</td>\n",
       "      <td>...</td>\n",
       "      <td>...</td>\n",
       "    </tr>\n",
       "    <tr>\n",
       "      <th>tanglin</th>\n",
       "      <td>0</td>\n",
       "      <td>0</td>\n",
       "      <td>0</td>\n",
       "      <td>0</td>\n",
       "      <td>0</td>\n",
       "    </tr>\n",
       "    <tr>\n",
       "      <th>toa_payoh</th>\n",
       "      <td>0</td>\n",
       "      <td>0</td>\n",
       "      <td>0</td>\n",
       "      <td>0</td>\n",
       "      <td>0</td>\n",
       "    </tr>\n",
       "    <tr>\n",
       "      <th>western_water_catchment</th>\n",
       "      <td>0</td>\n",
       "      <td>0</td>\n",
       "      <td>0</td>\n",
       "      <td>0</td>\n",
       "      <td>0</td>\n",
       "    </tr>\n",
       "    <tr>\n",
       "      <th>woodlands</th>\n",
       "      <td>0</td>\n",
       "      <td>0</td>\n",
       "      <td>0</td>\n",
       "      <td>0</td>\n",
       "      <td>0</td>\n",
       "    </tr>\n",
       "    <tr>\n",
       "      <th>yishun</th>\n",
       "      <td>0</td>\n",
       "      <td>0</td>\n",
       "      <td>0</td>\n",
       "      <td>0</td>\n",
       "      <td>1</td>\n",
       "    </tr>\n",
       "  </tbody>\n",
       "</table>\n",
       "<p>120 rows × 5 columns</p>\n",
       "</div>"
      ],
      "text/plain": [
       "                             0      1      2      3      4\n",
       "id                       88471 122598 170897  86070 153632\n",
       "resale_price            680000 665000 838000 550000 298000\n",
       "tranc_year                2016   2012   2013   2012   2017\n",
       "tranc_month                  5      7      7      4     12\n",
       "mid_storey                  11      8     14      3      2\n",
       "...                        ...    ...    ...    ...    ...\n",
       "tanglin                      0      0      0      0      0\n",
       "toa_payoh                    0      0      0      0      0\n",
       "western_water_catchment      0      0      0      0      0\n",
       "woodlands                    0      0      0      0      0\n",
       "yishun                       0      0      0      0      1\n",
       "\n",
       "[120 rows x 5 columns]"
      ]
     },
     "execution_count": 6,
     "metadata": {},
     "output_type": "execute_result"
    }
   ],
   "source": [
    "# Change the display format to remove decimal places\n",
    "pd.options.display.float_format = '{:.0f}'.format\n",
    "train2.head().T"
   ]
  },
  {
   "cell_type": "markdown",
   "metadata": {},
   "source": [
    "We started with 50 columns, after dropping 5 columns, we are left with 45. After one-hot encoding, we should have 45 + 32 + 43 = 120 columns."
   ]
  },
  {
   "cell_type": "code",
   "execution_count": 7,
   "metadata": {},
   "outputs": [
    {
     "data": {
      "text/plain": [
       "(150634, 120)"
      ]
     },
     "execution_count": 7,
     "metadata": {},
     "output_type": "execute_result"
    }
   ],
   "source": [
    "train2.shape"
   ]
  },
  {
   "cell_type": "code",
   "execution_count": 8,
   "metadata": {},
   "outputs": [],
   "source": [
    "train2.to_csv('../datasets/train3.csv', index=False)\n",
    "train3 = pd.read_csv('../datasets/train3.csv')"
   ]
  },
  {
   "cell_type": "markdown",
   "metadata": {},
   "source": [
    "### Creating Predictors & Target"
   ]
  },
  {
   "cell_type": "code",
   "execution_count": 9,
   "metadata": {},
   "outputs": [],
   "source": [
    "X = train3.drop(['resale_price'], axis=1)\n",
    "y = train3['resale_price']"
   ]
  },
  {
   "cell_type": "markdown",
   "metadata": {},
   "source": [
    "### Train/test split"
   ]
  },
  {
   "cell_type": "code",
   "execution_count": 10,
   "metadata": {},
   "outputs": [],
   "source": [
    "X_train, X_test, y_train, y_test = train_test_split(X, y, test_size=0.2, random_state=42)"
   ]
  },
  {
   "cell_type": "markdown",
   "metadata": {},
   "source": [
    "### Scaling"
   ]
  },
  {
   "cell_type": "code",
   "execution_count": 11,
   "metadata": {},
   "outputs": [],
   "source": [
    "# Scale our data.\n",
    "ss = StandardScaler()\n",
    "ss.fit(X_train)\n",
    "X_train = ss.transform(X_train)\n",
    "X_test = ss.transform(X_test)"
   ]
  },
  {
   "cell_type": "code",
   "execution_count": 12,
   "metadata": {},
   "outputs": [
    {
     "name": "stdout",
     "output_type": "stream",
     "text": [
      "X_train shape is: (120507, 119)\n",
      "y_train shape is: (120507,)\n",
      "X_test shape is: (30127, 119)\n",
      "y_test shape is: (30127,)\n"
     ]
    }
   ],
   "source": [
    "print(f'X_train shape is: {X_train.shape}')\n",
    "print(f'y_train shape is: {y_train.shape}')\n",
    "print(f'X_test shape is: {X_test.shape}')\n",
    "print(f'y_test shape is: {y_test.shape}')"
   ]
  },
  {
   "cell_type": "markdown",
   "metadata": {},
   "source": [
    "### Baseline Model"
   ]
  },
  {
   "cell_type": "code",
   "execution_count": 13,
   "metadata": {},
   "outputs": [
    {
     "data": {
      "text/plain": [
       "DummyRegressor()"
      ]
     },
     "execution_count": 13,
     "metadata": {},
     "output_type": "execute_result"
    }
   ],
   "source": [
    "# Getting Baseline model using the Mean\n",
    "\n",
    "baseline = DummyRegressor(strategy = 'mean')\n",
    "baseline.fit(X_train, y_train)"
   ]
  },
  {
   "cell_type": "code",
   "execution_count": 14,
   "metadata": {},
   "outputs": [
    {
     "data": {
      "text/plain": [
       "0.0"
      ]
     },
     "execution_count": 14,
     "metadata": {},
     "output_type": "execute_result"
    }
   ],
   "source": [
    "baseline.score(X_train, y_train)"
   ]
  },
  {
   "cell_type": "markdown",
   "metadata": {},
   "source": [
    "As we used the mean, the model simply predicts the average value of the target variable for all observations."
   ]
  },
  {
   "cell_type": "code",
   "execution_count": 15,
   "metadata": {},
   "outputs": [
    {
     "data": {
      "text/plain": [
       "0.0"
      ]
     },
     "execution_count": 15,
     "metadata": {},
     "output_type": "execute_result"
    }
   ],
   "source": [
    "base_pred = baseline.predict(X_train)\n",
    "r2_score(y_train, base_pred)"
   ]
  },
  {
   "cell_type": "markdown",
   "metadata": {},
   "source": [
    "The R2 score is 0, which means that the model is not able to explain any of the variance in the target variable."
   ]
  },
  {
   "cell_type": "code",
   "execution_count": 16,
   "metadata": {},
   "outputs": [
    {
     "data": {
      "text/plain": [
       "143433.54915244982"
      ]
     },
     "execution_count": 16,
     "metadata": {},
     "output_type": "execute_result"
    }
   ],
   "source": [
    "np.sqrt(metrics.mean_squared_error(y_train, base_pred))"
   ]
  },
  {
   "cell_type": "markdown",
   "metadata": {},
   "source": [
    "The RMSE for the base model is \\\\$143,434, meaning that our predicted sale price could differ from the actual sale price by as much as \\\\$143,434."
   ]
  },
  {
   "cell_type": "markdown",
   "metadata": {},
   "source": [
    "### Fit Linear Regression"
   ]
  },
  {
   "cell_type": "code",
   "execution_count": 17,
   "metadata": {},
   "outputs": [
    {
     "name": "stdout",
     "output_type": "stream",
     "text": [
      "Linear Regression train score: 0.89137\n",
      "Linear Regression test score: 0.892125\n"
     ]
    }
   ],
   "source": [
    "lr = LinearRegression()\n",
    "lr.fit(X_train,y_train)\n",
    "\n",
    "# Generate predictions\n",
    "train_preds = lr.predict(X_train)\n",
    "test_preds = lr.predict(X_test)\n",
    "\n",
    "print(\"Linear Regression train score:\", round(lr.score(X_train, y_train),6))\n",
    "print(\"Linear Regression test score:\", round(lr.score(X_test, y_test),6))"
   ]
  },
  {
   "cell_type": "markdown",
   "metadata": {},
   "source": [
    "Based on the $R^2$, our model is explaining approximately 89% variance in the $Y$ data."
   ]
  },
  {
   "cell_type": "code",
   "execution_count": 18,
   "metadata": {},
   "outputs": [
    {
     "name": "stdout",
     "output_type": "stream",
     "text": [
      "Linear Regression train RMSE: 47274.5\n",
      "Linear Regression test RMSE: 46900.2\n"
     ]
    }
   ],
   "source": [
    "# Compute RMSE on training set\n",
    "train_rmse = mean_squared_error(y_train, train_preds, squared=False)\n",
    "print(\"Linear Regression train RMSE:\", round(train_rmse, 1))\n",
    "\n",
    "# Compute RMSE on testing set\n",
    "test_rmse = mean_squared_error(y_test, test_preds, squared=False)\n",
    "print(\"Linear Regression test RMSE:\", round(test_rmse, 1))"
   ]
  },
  {
   "cell_type": "code",
   "execution_count": 19,
   "metadata": {
    "scrolled": true
   },
   "outputs": [
    {
     "name": "stdout",
     "output_type": "stream",
     "text": [
      "449418.17173292494\n",
      "[ 2.79983443e+02 -1.67243451e+04 -2.30826641e+03  1.86710163e+04\n",
      "  7.94519123e+04 -4.67484601e+04  1.94537554e+04 -1.34990640e+03\n",
      " -2.73866721e+02 -8.70331282e+02  8.47483972e+02 -3.67091032e+15\n",
      " -3.43775896e+16  7.29841434e+14  4.31630780e+15  2.85203411e+15\n",
      "  2.10997988e+15  1.20597347e+15  7.45062087e+13  3.41441598e+14\n",
      "  1.23499851e+14  7.14619524e+14  4.28872293e+13  1.59151294e+12\n",
      " -3.92010559e+03  2.62181549e+03 -1.92254021e+03 -1.01269542e+03\n",
      " -1.08433393e+04  1.86769547e+03  4.17039107e+03  2.47510664e+04\n",
      " -8.09191202e+01  6.52572140e+03 -2.44197674e+04  3.41201527e+03\n",
      "  2.81681178e+03  4.68877222e+02  2.99575677e+03 -9.39631007e+00\n",
      " -2.30469876e+02  3.97348826e+03 -2.32917742e+03  4.57383124e+03\n",
      "  3.40342958e+16 -1.55045347e+14 -8.95162157e+13 -1.79845680e+15\n",
      " -2.14510820e+15 -5.14163228e+14 -1.93893652e+15 -1.05855911e+15\n",
      " -7.78681184e+15 -7.17043389e+15 -9.37801137e+15 -1.62146588e+15\n",
      " -3.49930268e+15 -3.99328819e+15 -7.32521125e+14 -4.29265500e+14\n",
      " -1.93688517e+15 -3.42027470e+15 -1.31332271e+16 -3.61767014e+15\n",
      " -7.01564540e+15 -6.82119789e+15 -4.65089720e+14 -5.72933743e+15\n",
      " -6.69725133e+14 -2.53182739e+14 -1.24901932e+15 -9.46914170e+14\n",
      " -2.38651576e+15 -1.17137706e+16 -3.34920943e+14 -3.52707547e+15\n",
      " -1.33553029e+15 -5.85704130e+15 -2.83064558e+14 -3.28014064e+15\n",
      " -9.08105798e+14 -7.95379991e+14 -6.12062358e+15 -5.21839949e+15\n",
      " -3.03670467e+15 -2.96879381e+14 -6.32846529e+14 -2.72216551e+15\n",
      " -3.08478341e+15 -1.78681262e+15 -2.49211295e+15 -2.51481066e+15\n",
      " -2.46733447e+15 -6.37423332e+14 -2.08272266e+14 -2.59908740e+15\n",
      " -1.98526056e+15 -1.63060595e+14 -2.08866722e+15 -2.82281925e+15\n",
      " -1.95137951e+15 -3.44835658e+15 -1.86694611e+15 -1.01729785e+15\n",
      " -1.09698146e+15 -9.28396527e+14 -2.26521604e+15 -2.87513236e+15\n",
      " -2.11011707e+15 -7.20454522e+14 -2.01785630e+15 -3.38036519e+15\n",
      " -1.84089899e+15 -3.31807061e+15 -1.71426621e+14 -2.26984317e+15\n",
      " -1.34882222e+14 -3.42746129e+15 -3.24464204e+15]\n"
     ]
    }
   ],
   "source": [
    "print(lr.intercept_)\n",
    "print(lr.coef_)"
   ]
  },
  {
   "cell_type": "markdown",
   "metadata": {},
   "source": [
    "As some coefficients are extremely large, this may indicate overfitting or issues with multicollinearity in the model. I will attempt to use Lasso & Ridge regularization techniques to address these issues."
   ]
  },
  {
   "cell_type": "markdown",
   "metadata": {},
   "source": [
    "lasso = LassoCV(n_alphas=200)\n",
    "ridge = RidgeCV(alphas=np.linspace(.1, 10, 100))"
   ]
  },
  {
   "cell_type": "markdown",
   "metadata": {},
   "source": [
    "The mean $R^2$ is extremely negative.\n",
    "It is probably dramatically overfitting and the redundant variables are significantly\n",
    "the coefficients."
   ]
  },
  {
   "cell_type": "markdown",
   "metadata": {},
   "source": [
    "### Fit a Ridge Model"
   ]
  },
  {
   "cell_type": "code",
   "execution_count": 20,
   "metadata": {},
   "outputs": [
    {
     "data": {
      "text/plain": [
       "RidgeCV(alphas=array([ 0.1,  0.2,  0.3,  0.4,  0.5,  0.6,  0.7,  0.8,  0.9,  1. ,  1.1,\n",
       "        1.2,  1.3,  1.4,  1.5,  1.6,  1.7,  1.8,  1.9,  2. ,  2.1,  2.2,\n",
       "        2.3,  2.4,  2.5,  2.6,  2.7,  2.8,  2.9,  3. ,  3.1,  3.2,  3.3,\n",
       "        3.4,  3.5,  3.6,  3.7,  3.8,  3.9,  4. ,  4.1,  4.2,  4.3,  4.4,\n",
       "        4.5,  4.6,  4.7,  4.8,  4.9,  5. ,  5.1,  5.2,  5.3,  5.4,  5.5,\n",
       "        5.6,  5.7,  5.8,  5.9,  6. ,  6.1,  6.2,  6.3,  6.4,  6.5,  6.6,\n",
       "        6.7,  6.8,  6.9,  7. ,  7.1,  7.2,  7.3,  7.4,  7.5,  7.6,  7.7,\n",
       "        7.8,  7.9,  8. ,  8.1,  8.2,  8.3,  8.4,  8.5,  8.6,  8.7,  8.8,\n",
       "        8.9,  9. ,  9.1,  9.2,  9.3,  9.4,  9.5,  9.6,  9.7,  9.8,  9.9,\n",
       "       10. ]),\n",
       "        cv=5, scoring='r2')"
      ]
     },
     "execution_count": 20,
     "metadata": {},
     "output_type": "execute_result"
    }
   ],
   "source": [
    "# Use the best alpha value from RidgeCV to fit a new Ridge model\n",
    "r_alphas = np.linspace(.1,10,100)\n",
    "ridge = RidgeCV(alphas=r_alphas, scoring='r2', cv= 5)\n",
    "ridge.fit(X_train, y_train)"
   ]
  },
  {
   "cell_type": "code",
   "execution_count": 21,
   "metadata": {},
   "outputs": [
    {
     "name": "stdout",
     "output_type": "stream",
     "text": [
      "Ridge train score: 0.89137\n",
      "Ridge test score: 0.892128\n"
     ]
    }
   ],
   "source": [
    "print(\"Ridge train score:\", round(ridge.score(X_train, y_train),6))\n",
    "print(\"Ridge test score:\", round(ridge.score(X_test, y_test),6))"
   ]
  },
  {
   "cell_type": "code",
   "execution_count": 22,
   "metadata": {},
   "outputs": [
    {
     "name": "stdout",
     "output_type": "stream",
     "text": [
      "Ridge train RMSE: 47274.4\n",
      "Ridge test RMSE: 46899.5\n"
     ]
    }
   ],
   "source": [
    "# Generate predictions\n",
    "ridge_train_preds = ridge.predict(X_train)\n",
    "ridge_test_preds = ridge.predict(X_test)\n",
    "\n",
    "# Compute RMSE on training set\n",
    "ridge_train_rmse = mean_squared_error(y_train, ridge_train_preds, squared=False)\n",
    "print(\"Ridge train RMSE:\", round(ridge_train_rmse, 1))\n",
    "\n",
    "# Compute RMSE on testing set\n",
    "ridge_test_rmse = mean_squared_error(y_test, ridge_test_preds, squared=False)\n",
    "print(\"Ridge test RMSE:\", round(ridge_test_rmse, 1))"
   ]
  },
  {
   "cell_type": "markdown",
   "metadata": {},
   "source": [
    "### Fit a Lasso model"
   ]
  },
  {
   "cell_type": "code",
   "execution_count": 23,
   "metadata": {},
   "outputs": [
    {
     "name": "stderr",
     "output_type": "stream",
     "text": [
      "[Parallel(n_jobs=1)]: Using backend SequentialBackend with 1 concurrent workers.\n",
      "....................................................................................................................................................................................................................................................................................................................................................................................................................................................................................................................................................................................................................................................................................................................................................................................................................................................................................................................................................................................................................................................................................................................................................................................................................................................................................................................................................................................................................................................................................................................................................................................................................................................................................................................................................................................................................................................................................................................................................................................................................................................................................................................................................................................................................................................................................................................................................................................................................................................................................................................................................................................................[Parallel(n_jobs=1)]: Done   5 out of   5 | elapsed:   13.9s finished\n"
     ]
    },
    {
     "name": "stdout",
     "output_type": "stream",
     "text": [
      "Optimal Lasso alpha: 93.68396660451486\n"
     ]
    }
   ],
   "source": [
    "# Use the best alpha value from LassoCV to fit a new Lasso model\n",
    "optimal_lasso = LassoCV(n_alphas=500, cv=5, verbose=1)\n",
    "optimal_lasso.fit(X_train, y_train)\n",
    "\n",
    "print(\"Optimal Lasso alpha:\", optimal_lasso.alpha_)"
   ]
  },
  {
   "cell_type": "markdown",
   "metadata": {},
   "source": [
    "The high alpha value indicates that the model is penalising many variables."
   ]
  },
  {
   "cell_type": "code",
   "execution_count": 24,
   "metadata": {},
   "outputs": [
    {
     "data": {
      "text/plain": [
       "Lasso(alpha=93.68396660451486)"
      ]
     },
     "execution_count": 24,
     "metadata": {},
     "output_type": "execute_result"
    }
   ],
   "source": [
    "lasso = Lasso(alpha=optimal_lasso.alpha_)\n",
    "lasso.fit(X_train, y_train)"
   ]
  },
  {
   "cell_type": "code",
   "execution_count": 25,
   "metadata": {},
   "outputs": [
    {
     "name": "stdout",
     "output_type": "stream",
     "text": [
      "Lasso train score: 0.891219\n",
      "Lasso test score: 0.891964\n"
     ]
    }
   ],
   "source": [
    "print(\"Lasso train score:\", round(lasso.score(X_train, y_train),6))\n",
    "print(\"Lasso test score:\", round(lasso.score(X_test, y_test),6))"
   ]
  },
  {
   "cell_type": "code",
   "execution_count": 26,
   "metadata": {},
   "outputs": [
    {
     "name": "stdout",
     "output_type": "stream",
     "text": [
      "Lasso train RMSE: 47307.1\n",
      "Lasso test RMSE: 46935.2\n"
     ]
    }
   ],
   "source": [
    "# Generate predictions\n",
    "lasso_train_preds = lasso.predict(X_train)\n",
    "lasso_test_preds = lasso.predict(X_test)\n",
    "\n",
    "# Compute RMSE on training set\n",
    "lasso_train_rmse = mean_squared_error(y_train, lasso_train_preds, squared=False)\n",
    "print(\"Lasso train RMSE:\", round(lasso_train_rmse, 1))\n",
    "\n",
    "# Compute RMSE on testing set\n",
    "lasso_test_rmse = mean_squared_error(y_test, lasso_test_preds, squared=False)\n",
    "print(\"Lasso test RMSE:\", round(lasso_test_rmse, 1))"
   ]
  },
  {
   "cell_type": "markdown",
   "metadata": {},
   "source": [
    "### Cross-validation"
   ]
  },
  {
   "cell_type": "code",
   "execution_count": 27,
   "metadata": {},
   "outputs": [
    {
     "name": "stdout",
     "output_type": "stream",
     "text": [
      "LR cross-validation scores: [ 8.89631654e-01  8.92633420e-01  8.90096221e-01 -1.46822200e+24\n",
      "  8.90539581e-01]\n",
      "Mean LR cross-validation scores: -2.936443990836588e+23\n"
     ]
    }
   ],
   "source": [
    "lr_scores = cross_val_score(lr, X_train, y_train, cv=5, scoring='r2')\n",
    "print(\"LR cross-validation scores:\", lr_scores)\n",
    "print (\"Mean LR cross-validation scores:\", round(np.mean(lr_scores),2))"
   ]
  },
  {
   "cell_type": "code",
   "execution_count": 28,
   "metadata": {},
   "outputs": [
    {
     "name": "stdout",
     "output_type": "stream",
     "text": [
      "Lasso cross-validation score: [0.88940711 0.89244466 0.89010637 0.89216623 0.89048616]\n",
      "Mean Lasso cross-validation score: 0.890922\n"
     ]
    }
   ],
   "source": [
    "lasso_scores = cross_val_score(lasso, X_train, y_train, cv=5)\n",
    "\n",
    "print(\"Lasso cross-validation score:\", lasso_scores)\n",
    "print(\"Mean Lasso cross-validation score:\", round(np.mean(lasso_scores),6))"
   ]
  },
  {
   "cell_type": "code",
   "execution_count": 29,
   "metadata": {},
   "outputs": [
    {
     "name": "stdout",
     "output_type": "stream",
     "text": [
      "Ridge cross-validation scores: [0.88962812 0.89264875 0.89009334 0.89233328 0.89057875]\n",
      "Mean Ridge cross-validation score: 0.891056\n"
     ]
    }
   ],
   "source": [
    "ridge_scores = cross_val_score(ridge, X_train, y_train, cv=5)\n",
    "\n",
    "print(\"Ridge cross-validation scores:\", ridge_scores)\n",
    "print(\"Mean Ridge cross-validation score:\", round(np.mean(ridge_scores),6))"
   ]
  },
  {
   "cell_type": "markdown",
   "metadata": {},
   "source": [
    "### `ElasticNetCV` - Find optimal value for Elastic Net regression alpha"
   ]
  },
  {
   "cell_type": "code",
   "execution_count": 51,
   "metadata": {},
   "outputs": [
    {
     "name": "stderr",
     "output_type": "stream",
     "text": [
      "[Parallel(n_jobs=1)]: Using backend SequentialBackend with 1 concurrent workers.\n"
     ]
    },
    {
     "name": "stderr",
     "output_type": "stream",
     "text": [
      "....................................................................................................................................................................................................................................................................................................................................................................................................................................................................................................................................................................................................................................................................................................................................................................................................................................................................................................................................................................................................................................................................................................................................................................................................................................................................................................................................................................................................................................................................................................................................................................................................................................................................................................................................................................................................................................................................................................................................................................................................................................................................................................................................................................................................................................................................................................................................................................................................................................................................................................................................................................................................................................................................................................................................................................................................................................................................................................................................................................................................................................................................................................................................................................................................................................................................................................................................................................................................................................................................................................................................................................................................................................................................................................................................................................................................................................................................................................................................................................................................................................................................................................................................................................................................................................................................................................................................................................................................................................................................................................................................................................................................................................................................................................................................................................................................................................................................................................................................................................................................................................................................................................................................................................................................................................................................................................................................................................................................................................................................................................................................................................................................................................................................................................................................................................................................................................................................................................................................................................................................................................................................................................................................................................................................................................................................................................................................................................................................................................................................................................................................................................................................................................................................................................................................................................................................................................................................................................................................................................................................................................................................................................................................................................................................................................................................................................................................................................................................................................................................................................................................................................................................................................................................................................................................................................................................................................................................................................................................................................................................................................................................................................................................................................................................................................................................................................................................................................................................................................................................................................................................................................................................................................................................................................................................................................................................................................................................................................................................................................................................................................................................................................................................................................................................................................................................................................................................................................................................................................................................................................................................................................................................................................................................................................................................................................................................................................................................................................................................................................................................................................................................................................................................................................................................................................................................................................................................................................................................................................................................................................................................................................................................................................................................................................................................................................................................................................................................................................................................................................................................................................................................................................................................................................................................................................................................................................................................................................................................................................................................................................................................................................................................................................................................................................................................................................................................................................................................................................................................................................................................................................................................................................................................................................................................................................................................................................................................................................................................................................................................................................................................................................................................................................................................................................................................................................................................................................................................................................................................................................................................................[Parallel(n_jobs=1)]: Done 125 out of 125 | elapsed:  1.5min finished\n"
     ]
    },
    {
     "name": "stdout",
     "output_type": "stream",
     "text": [
      "93.68396660451486\n",
      "1.0\n"
     ]
    }
   ],
   "source": [
    "l1_ratios = np.linspace(0.01, 1.0, 25)\n",
    "\n",
    "optimal_enet = ElasticNetCV(l1_ratio=l1_ratios, n_alphas=100, cv=5,\n",
    "                            verbose=1)\n",
    "optimal_enet.fit(X_train, y_train)\n",
    "\n",
    "print (optimal_enet.alpha_)\n",
    "print (optimal_enet.l1_ratio_)"
   ]
  },
  {
   "cell_type": "markdown",
   "metadata": {},
   "source": [
    "### Cross-validate ElasticNet $R^2$ with the optimal alpha and l1_ratio"
   ]
  },
  {
   "cell_type": "code",
   "execution_count": 52,
   "metadata": {},
   "outputs": [
    {
     "name": "stdout",
     "output_type": "stream",
     "text": [
      "[0.88940711 0.89244466 0.89010637 0.89216623 0.89048616]\n",
      "0.8909221061991704\n"
     ]
    }
   ],
   "source": [
    "enet = ElasticNet(alpha=optimal_enet.alpha_, l1_ratio=optimal_enet.l1_ratio_)\n",
    "\n",
    "enet_scores = cross_val_score(enet, X_train, y_train, cv=5)\n",
    "\n",
    "print (enet_scores)\n",
    "print (np.mean(enet_scores))"
   ]
  },
  {
   "cell_type": "markdown",
   "metadata": {},
   "source": [
    "ElasticNetCV has an L1 ratio of 1.0, meaning it opted to run purely on Lasso regularization. As such, we can disregard the use of this model and simply use our Lasso model."
   ]
  },
  {
   "cell_type": "code",
   "execution_count": 54,
   "metadata": {},
   "outputs": [
    {
     "data": {
      "image/png": "[encoded data removed]",
      "text/plain": [
       "<Figure size 800x800 with 1 Axes>"
      ]
     },
     "metadata": {},
     "output_type": "display_data"
    }
   ],
   "source": [
    "y_preds = ridge.predict(X_test)\n",
    "plt.figure(figsize=(8,8))\n",
    "\n",
    "# Generate a scatterplot of predicted values versus actual values.\n",
    "plt.scatter(y_preds, y_test, s=5, alpha = 0.5)\n",
    "\n",
    "# Plot a line.\n",
    "plt.plot([0, np.max(y_test)],\n",
    "         [0, np.max(y_test)],\n",
    "         color = 'black')\n",
    "\n",
    "# Tweak title and axis labels.\n",
    "plt.xlabel(\"Predicted Values: $\\hat{y}$\")\n",
    "plt.ylabel(\"Actual Values: $y$\")\n",
    "plt.title('Predicted Values vs. Actual Values');"
   ]
  },
  {
   "cell_type": "markdown",
   "metadata": {},
   "source": [
    "Overall, our predictions appear to be reasonably accurate as they align closely with the regression line. However, we may observe that our predictions become more inaccurate as the actual resale price increases. In order to improve the accuracy of our model for higher-priced properties, we would require more data consisting of higher prices (>$800k) to train on."
   ]
  },
  {
   "cell_type": "markdown",
   "metadata": {},
   "source": [
    "### Model results\n",
    "\n",
    "|Model|Train RMSE|Validation RMSE|Kaggle RMSE|\n",
    "|---|---|---|---|\n",
    "|LR|47,274.5|46,900.2|-|\n",
    "|Lasso|47,307.1|46,935.2|64,756.1|\n",
    "|Ridge|47,274.4|46,899.5|63,655.9|"
   ]
  },
  {
   "cell_type": "code",
   "execution_count": 30,
   "metadata": {},
   "outputs": [],
   "source": [
    "test2 = pd.read_csv('../datasets/test2.csv')"
   ]
  },
  {
   "cell_type": "code",
   "execution_count": 31,
   "metadata": {
    "scrolled": false
   },
   "outputs": [
    {
     "data": {
      "text/html": [
       "<div>\n",
       "<style scoped>\n",
       "    .dataframe tbody tr th:only-of-type {\n",
       "        vertical-align: middle;\n",
       "    }\n",
       "\n",
       "    .dataframe tbody tr th {\n",
       "        vertical-align: top;\n",
       "    }\n",
       "\n",
       "    .dataframe thead th {\n",
       "        text-align: right;\n",
       "    }\n",
       "</style>\n",
       "<table border=\"1\" class=\"dataframe\">\n",
       "  <thead>\n",
       "    <tr style=\"text-align: right;\">\n",
       "      <th></th>\n",
       "      <th>0</th>\n",
       "      <th>1</th>\n",
       "      <th>2</th>\n",
       "      <th>3</th>\n",
       "      <th>4</th>\n",
       "    </tr>\n",
       "  </thead>\n",
       "  <tbody>\n",
       "    <tr>\n",
       "      <th>id</th>\n",
       "      <td>114982</td>\n",
       "      <td>95653</td>\n",
       "      <td>40303</td>\n",
       "      <td>109506</td>\n",
       "      <td>100149</td>\n",
       "    </tr>\n",
       "    <tr>\n",
       "      <th>tranc_year</th>\n",
       "      <td>2012</td>\n",
       "      <td>2019</td>\n",
       "      <td>2013</td>\n",
       "      <td>2017</td>\n",
       "      <td>2016</td>\n",
       "    </tr>\n",
       "    <tr>\n",
       "      <th>tranc_month</th>\n",
       "      <td>11</td>\n",
       "      <td>8</td>\n",
       "      <td>10</td>\n",
       "      <td>10</td>\n",
       "      <td>8</td>\n",
       "    </tr>\n",
       "    <tr>\n",
       "      <th>mid_storey</th>\n",
       "      <td>8</td>\n",
       "      <td>5</td>\n",
       "      <td>8</td>\n",
       "      <td>2</td>\n",
       "      <td>17</td>\n",
       "    </tr>\n",
       "    <tr>\n",
       "      <th>floor_area_sqft</th>\n",
       "      <td>904</td>\n",
       "      <td>1206</td>\n",
       "      <td>732</td>\n",
       "      <td>1044</td>\n",
       "      <td>1109</td>\n",
       "    </tr>\n",
       "    <tr>\n",
       "      <th>...</th>\n",
       "      <td>...</td>\n",
       "      <td>...</td>\n",
       "      <td>...</td>\n",
       "      <td>...</td>\n",
       "      <td>...</td>\n",
       "    </tr>\n",
       "    <tr>\n",
       "      <th>tanglin</th>\n",
       "      <td>0</td>\n",
       "      <td>0</td>\n",
       "      <td>0</td>\n",
       "      <td>0</td>\n",
       "      <td>0</td>\n",
       "    </tr>\n",
       "    <tr>\n",
       "      <th>toa_payoh</th>\n",
       "      <td>0</td>\n",
       "      <td>0</td>\n",
       "      <td>0</td>\n",
       "      <td>0</td>\n",
       "      <td>0</td>\n",
       "    </tr>\n",
       "    <tr>\n",
       "      <th>western_water_catchment</th>\n",
       "      <td>0</td>\n",
       "      <td>0</td>\n",
       "      <td>0</td>\n",
       "      <td>0</td>\n",
       "      <td>0</td>\n",
       "    </tr>\n",
       "    <tr>\n",
       "      <th>woodlands</th>\n",
       "      <td>0</td>\n",
       "      <td>0</td>\n",
       "      <td>0</td>\n",
       "      <td>1</td>\n",
       "      <td>0</td>\n",
       "    </tr>\n",
       "    <tr>\n",
       "      <th>yishun</th>\n",
       "      <td>1</td>\n",
       "      <td>0</td>\n",
       "      <td>0</td>\n",
       "      <td>0</td>\n",
       "      <td>0</td>\n",
       "    </tr>\n",
       "  </tbody>\n",
       "</table>\n",
       "<p>116 rows × 5 columns</p>\n",
       "</div>"
      ],
      "text/plain": [
       "                             0     1     2      3      4\n",
       "id                      114982 95653 40303 109506 100149\n",
       "tranc_year                2012  2019  2013   2017   2016\n",
       "tranc_month                 11     8    10     10      8\n",
       "mid_storey                   8     5     8      2     17\n",
       "floor_area_sqft            904  1206   732   1044   1109\n",
       "...                        ...   ...   ...    ...    ...\n",
       "tanglin                      0     0     0      0      0\n",
       "toa_payoh                    0     0     0      0      0\n",
       "western_water_catchment      0     0     0      0      0\n",
       "woodlands                    0     0     0      1      0\n",
       "yishun                       1     0     0      0      0\n",
       "\n",
       "[116 rows x 5 columns]"
      ]
     },
     "execution_count": 31,
     "metadata": {},
     "output_type": "execute_result"
    }
   ],
   "source": [
    "test2.head().T"
   ]
  },
  {
   "cell_type": "code",
   "execution_count": 32,
   "metadata": {},
   "outputs": [],
   "source": [
    "# insert missing columns after column 45\n",
    "test2.insert(loc=44+1, column='2_room_2-room', value=None)\n",
    "test2.insert(loc=44+2, column='2_room_dbss', value=None)"
   ]
  },
  {
   "cell_type": "code",
   "execution_count": 33,
   "metadata": {},
   "outputs": [],
   "source": [
    "# insert missing column after column 69\n",
    "test2.insert(loc=68+1, column='4_room_terrace', value=None)"
   ]
  },
  {
   "cell_type": "code",
   "execution_count": 34,
   "metadata": {},
   "outputs": [],
   "source": [
    "# impute NaN values with 0\n",
    "test2[['2_room_2-room', '2_room_dbss', '4_room_terrace']] = test2[['2_room_2-room', '2_room_dbss', '4_room_terrace']].fillna(0)"
   ]
  },
  {
   "cell_type": "code",
   "execution_count": 35,
   "metadata": {},
   "outputs": [
    {
     "data": {
      "text/plain": [
       "StandardScaler()"
      ]
     },
     "execution_count": 35,
     "metadata": {},
     "output_type": "execute_result"
    }
   ],
   "source": [
    "ss2 = StandardScaler()\n",
    "ss2.fit(test2)"
   ]
  },
  {
   "cell_type": "code",
   "execution_count": 36,
   "metadata": {
    "scrolled": false
   },
   "outputs": [],
   "source": [
    "# Transform the test data\n",
    "X_test2 = ss2.transform(test2)"
   ]
  },
  {
   "cell_type": "code",
   "execution_count": 37,
   "metadata": {},
   "outputs": [
    {
     "data": {
      "text/plain": [
       "Lasso(alpha=93.68396660451486)"
      ]
     },
     "execution_count": 37,
     "metadata": {},
     "output_type": "execute_result"
    }
   ],
   "source": [
    "ridge.fit(X_train, y_train)\n",
    "lasso.fit(X_train, y_train)"
   ]
  },
  {
   "cell_type": "code",
   "execution_count": 38,
   "metadata": {},
   "outputs": [],
   "source": [
    "test_predict_ridge = ridge.predict(X_test2)\n",
    "test_predict_lasso = lasso.predict(X_test2)"
   ]
  },
  {
   "cell_type": "code",
   "execution_count": 39,
   "metadata": {},
   "outputs": [],
   "source": [
    "# Create a submission file for Ridge model\n",
    "submission_ridge = pd.DataFrame({'Id':test2['id'],\n",
    "                             'Predicted': test_predict_ridge})\n",
    "submission_ridge.to_csv('../datasets/submission_ridge.csv',index=False)"
   ]
  },
  {
   "cell_type": "code",
   "execution_count": 40,
   "metadata": {},
   "outputs": [],
   "source": [
    "# Create a submission file for Lasso model\n",
    "submission_lasso = pd.DataFrame({'Id':test2['id'],\n",
    "                             'Predicted': test_predict_lasso})\n",
    "submission_lasso.to_csv('../datasets/submission_lasso.csv', index=False)"
   ]
  },
  {
   "cell_type": "markdown",
   "metadata": {},
   "source": [
    "### Look at the coefficients for variables in Ridge"
   ]
  },
  {
   "cell_type": "code",
   "execution_count": 43,
   "metadata": {},
   "outputs": [
    {
     "data": {
      "text/plain": [
       "RidgeCV(alphas=array([ 0.1,  0.2,  0.3,  0.4,  0.5,  0.6,  0.7,  0.8,  0.9,  1. ,  1.1,\n",
       "        1.2,  1.3,  1.4,  1.5,  1.6,  1.7,  1.8,  1.9,  2. ,  2.1,  2.2,\n",
       "        2.3,  2.4,  2.5,  2.6,  2.7,  2.8,  2.9,  3. ,  3.1,  3.2,  3.3,\n",
       "        3.4,  3.5,  3.6,  3.7,  3.8,  3.9,  4. ,  4.1,  4.2,  4.3,  4.4,\n",
       "        4.5,  4.6,  4.7,  4.8,  4.9,  5. ,  5.1,  5.2,  5.3,  5.4,  5.5,\n",
       "        5.6,  5.7,  5.8,  5.9,  6. ,  6.1,  6.2,  6.3,  6.4,  6.5,  6.6,\n",
       "        6.7,  6.8,  6.9,  7. ,  7.1,  7.2,  7.3,  7.4,  7.5,  7.6,  7.7,\n",
       "        7.8,  7.9,  8. ,  8.1,  8.2,  8.3,  8.4,  8.5,  8.6,  8.7,  8.8,\n",
       "        8.9,  9. ,  9.1,  9.2,  9.3,  9.4,  9.5,  9.6,  9.7,  9.8,  9.9,\n",
       "       10. ]),\n",
       "        cv=5, scoring='r2')"
      ]
     },
     "execution_count": 43,
     "metadata": {},
     "output_type": "execute_result"
    }
   ],
   "source": [
    "ridge.fit(X_train, y_train)"
   ]
  },
  {
   "cell_type": "code",
   "execution_count": 44,
   "metadata": {},
   "outputs": [
    {
     "data": {
      "text/html": [
       "<div>\n",
       "<style scoped>\n",
       "    .dataframe tbody tr th:only-of-type {\n",
       "        vertical-align: middle;\n",
       "    }\n",
       "\n",
       "    .dataframe tbody tr th {\n",
       "        vertical-align: top;\n",
       "    }\n",
       "\n",
       "    .dataframe thead th {\n",
       "        text-align: right;\n",
       "    }\n",
       "</style>\n",
       "<table border=\"1\" class=\"dataframe\">\n",
       "  <thead>\n",
       "    <tr style=\"text-align: right;\">\n",
       "      <th></th>\n",
       "      <th>variable</th>\n",
       "      <th>coef</th>\n",
       "      <th>abs_coef</th>\n",
       "    </tr>\n",
       "  </thead>\n",
       "  <tbody>\n",
       "    <tr>\n",
       "      <th>4</th>\n",
       "      <td>floor_area_sqft</td>\n",
       "      <td>79265</td>\n",
       "      <td>79265</td>\n",
       "    </tr>\n",
       "    <tr>\n",
       "      <th>5</th>\n",
       "      <td>hdb_age</td>\n",
       "      <td>-46680</td>\n",
       "      <td>46680</td>\n",
       "    </tr>\n",
       "    <tr>\n",
       "      <th>31</th>\n",
       "      <td>hawker_within_2km</td>\n",
       "      <td>24724</td>\n",
       "      <td>24724</td>\n",
       "    </tr>\n",
       "    <tr>\n",
       "      <th>34</th>\n",
       "      <td>mrt_nearest_distance</td>\n",
       "      <td>-24419</td>\n",
       "      <td>24419</td>\n",
       "    </tr>\n",
       "    <tr>\n",
       "      <th>117</th>\n",
       "      <td>woodlands</td>\n",
       "      <td>-20416</td>\n",
       "      <td>20416</td>\n",
       "    </tr>\n",
       "    <tr>\n",
       "      <th>6</th>\n",
       "      <td>max_floor_lvl</td>\n",
       "      <td>19457</td>\n",
       "      <td>19457</td>\n",
       "    </tr>\n",
       "    <tr>\n",
       "      <th>103</th>\n",
       "      <td>marine_parade</td>\n",
       "      <td>19159</td>\n",
       "      <td>19159</td>\n",
       "    </tr>\n",
       "    <tr>\n",
       "      <th>3</th>\n",
       "      <td>mid_storey</td>\n",
       "      <td>18671</td>\n",
       "      <td>18671</td>\n",
       "    </tr>\n",
       "    <tr>\n",
       "      <th>1</th>\n",
       "      <td>tranc_year</td>\n",
       "      <td>-16723</td>\n",
       "      <td>16723</td>\n",
       "    </tr>\n",
       "    <tr>\n",
       "      <th>83</th>\n",
       "      <td>executive_maisonette</td>\n",
       "      <td>16118</td>\n",
       "      <td>16118</td>\n",
       "    </tr>\n",
       "    <tr>\n",
       "      <th>108</th>\n",
       "      <td>queenstown</td>\n",
       "      <td>14394</td>\n",
       "      <td>14394</td>\n",
       "    </tr>\n",
       "    <tr>\n",
       "      <th>89</th>\n",
       "      <td>bishan</td>\n",
       "      <td>14107</td>\n",
       "      <td>14107</td>\n",
       "    </tr>\n",
       "    <tr>\n",
       "      <th>110</th>\n",
       "      <td>sembawang</td>\n",
       "      <td>-13921</td>\n",
       "      <td>13921</td>\n",
       "    </tr>\n",
       "    <tr>\n",
       "      <th>101</th>\n",
       "      <td>jurong_west</td>\n",
       "      <td>-13250</td>\n",
       "      <td>13250</td>\n",
       "    </tr>\n",
       "    <tr>\n",
       "      <th>82</th>\n",
       "      <td>executive_apartment</td>\n",
       "      <td>12587</td>\n",
       "      <td>12587</td>\n",
       "    </tr>\n",
       "    <tr>\n",
       "      <th>72</th>\n",
       "      <td>5_room_dbss</td>\n",
       "      <td>11771</td>\n",
       "      <td>11771</td>\n",
       "    </tr>\n",
       "    <tr>\n",
       "      <th>95</th>\n",
       "      <td>choa_chu_kang</td>\n",
       "      <td>-11312</td>\n",
       "      <td>11312</td>\n",
       "    </tr>\n",
       "    <tr>\n",
       "      <th>28</th>\n",
       "      <td>hawker_nearest_distance</td>\n",
       "      <td>-10840</td>\n",
       "      <td>10840</td>\n",
       "    </tr>\n",
       "    <tr>\n",
       "      <th>112</th>\n",
       "      <td>serangoon</td>\n",
       "      <td>10689</td>\n",
       "      <td>10689</td>\n",
       "    </tr>\n",
       "    <tr>\n",
       "      <th>91</th>\n",
       "      <td>bukit_merah</td>\n",
       "      <td>10683</td>\n",
       "      <td>10683</td>\n",
       "    </tr>\n",
       "  </tbody>\n",
       "</table>\n",
       "</div>"
      ],
      "text/plain": [
       "                    variable   coef  abs_coef\n",
       "4            floor_area_sqft  79265     79265\n",
       "5                    hdb_age -46680     46680\n",
       "31         hawker_within_2km  24724     24724\n",
       "34      mrt_nearest_distance -24419     24419\n",
       "117                woodlands -20416     20416\n",
       "6              max_floor_lvl  19457     19457\n",
       "103            marine_parade  19159     19159\n",
       "3                 mid_storey  18671     18671\n",
       "1                 tranc_year -16723     16723\n",
       "83      executive_maisonette  16118     16118\n",
       "108               queenstown  14394     14394\n",
       "89                    bishan  14107     14107\n",
       "110                sembawang -13921     13921\n",
       "101              jurong_west -13250     13250\n",
       "82       executive_apartment  12587     12587\n",
       "72               5_room_dbss  11771     11771\n",
       "95             choa_chu_kang -11312     11312\n",
       "28   hawker_nearest_distance -10840     10840\n",
       "112                serangoon  10689     10689\n",
       "91               bukit_merah  10683     10683"
      ]
     },
     "execution_count": 44,
     "metadata": {},
     "output_type": "execute_result"
    }
   ],
   "source": [
    "ridge_coefs = pd.DataFrame({'variable':X.columns,\n",
    "                            'coef':ridge.coef_,\n",
    "                            'abs_coef':np.abs(ridge.coef_)})\n",
    "\n",
    "ridge_coefs.sort_values('abs_coef', inplace=True, ascending=False)\n",
    "ridge_coefs.head(20)"
   ]
  },
  {
   "cell_type": "code",
   "execution_count": 45,
   "metadata": {},
   "outputs": [],
   "source": [
    "X_train = pd.DataFrame(X_train, columns=X.columns)"
   ]
  },
  {
   "cell_type": "code",
   "execution_count": 46,
   "metadata": {},
   "outputs": [],
   "source": [
    "ridge_coefs = pd.DataFrame({'variable':X_train.columns,\n",
    "                            'coef':ridge.coef_,\n",
    "                            'abs_coef':np.abs(ridge.coef_)})\n",
    "\n",
    "ridge_coefs.sort_values('abs_coef', inplace=True, ascending=False)"
   ]
  },
  {
   "cell_type": "code",
   "execution_count": 47,
   "metadata": {},
   "outputs": [
    {
     "data": {
      "image/png": "[encoded data removed]",
      "text/plain": [
       "<Figure size 800x1200 with 1 Axes>"
      ]
     },
     "metadata": {},
     "output_type": "display_data"
    }
   ],
   "source": [
    "top_20 = ridge_coefs.sort_values(by='abs_coef', ascending=False).head(20)['variable'].index\n",
    "fig, ax = plt.subplots(figsize=(8,12))\n",
    "predictors = sns.barplot(data = ridge_coefs.loc[top_20], \n",
    "                x='abs_coef', y='variable', ax=ax, palette='inferno')\n",
    "predictors.set_title('Coefficients of Top 20 Predictors')\n",
    "predictors.set_xlabel('Absolute coefficient')\n",
    "predictors.set_ylabel('Predictor');"
   ]
  },
  {
   "cell_type": "markdown",
   "metadata": {},
   "source": [
    "The top 20 coefficients above for variables in our Ridge regression model tells us that for a unit increase in our predictor, the resale price will increase by that value of the coefficient.\n",
    "\n",
    "Ridge regularization can introduce some bias in the estimated coefficients, but this bias is usually small compared to the reduction in variance that is achieved by shrinking the magnitude of the coefficients. The bias is introduced because the Ridge penalty constrains the magnitude of the coefficients towards 0, which means that they may be smaller than the true coefficients in some cases. It is generally not possible to infer the true coefficients from the Ridge coefficients, since the regularization introduces some bias and the true coefficients are unknown. However, the Ridge coefficients can still be used to make predictions about the dependent variable based on the values of the independent variables.\n",
    "\n",
    "Ridge regression can provide a measure of the relative importance of each independent variable, but its significance should be interpreted with caution. The coefficients reflect the importance of each independent variable after taking into account the effects of multicollinearity and the Ridge penalty. However, the significance may still be affected by confounding variables or other sources of bias, and should be validated using appropriate statistical tests or validation techniques."
   ]
  },
  {
   "cell_type": "markdown",
   "metadata": {},
   "source": [
    "### Conclusion"
   ]
  },
  {
   "cell_type": "markdown",
   "metadata": {},
   "source": [
    "Ridge regularization performs slightly better, but very similarly to the other 2 methods. Generally, as the number of features increases, Ridge regression tends to perform better than Lasso regression. This is due to the regularization term being multiplied by the square of the coefficient estimates in Ridge, whereas in Lasso regression, it is multiplied by the absolute value of the coefficient estimates. Thus, an increase in features will increase the value of the regularization term, and consequently the alpha parameter as well. However, the alpha in Lasso increases at a faster rate as the number of features increase."
   ]
  },
  {
   "cell_type": "markdown",
   "metadata": {},
   "source": [
    "The optimal model to use is the Ridge regression model. Apart from having the lowest root mean squared error, the Ridge regression model mitigates multicollinearity and avoids overfitting the model. It also adds a regularization term to the linear regression model's cost function, which shrinks the coefficient estimates of highly correlated independent variables and improves the model's accuracy and generalization ability as a result. Therefore, we recommend using the Ridge model for our HDB resale price prediction model."
   ]
  },
  {
   "cell_type": "markdown",
   "metadata": {},
   "source": [
    "When the number of features are small are there is no significant correlation between them, multi-linear regression can perform equally well compared to Ridge and Lasso regression. Since there are a large number of features in our dataset, it is unsurprising that ridge regression performed slightly better than Lasso, which works better when the data has less features."
   ]
  },
  {
   "cell_type": "markdown",
   "metadata": {},
   "source": [
    "### Recommendations"
   ]
  },
  {
   "cell_type": "markdown",
   "metadata": {},
   "source": [
    "Based on the top 20 predictors above, resale prices are mainly impacted by the size of the flat and which planning area (location) the flat is at. For HDB buyers who are on a budget, they may consider opting for smaller sized flats in areas like Woodlands, Sembawang & Jurong West. Vehicle owners who have the means to commute freely may also consider choosing flats that are farther from the MRT and hawker centres, as there is a high chance that they will save even more by choosing these units."
   ]
  },
  {
   "cell_type": "markdown",
   "metadata": {},
   "source": [
    "### Limitations"
   ]
  },
  {
   "cell_type": "markdown",
   "metadata": {},
   "source": [
    "One of the main limitations of this project is that it is not feasible to fully explore all the interaction effects between the variables due to computational constraints. A more thorough exploration would require a substantial amount of time and resources that may not be readily available to all. As a result, we opted for a model with relatively lower complexity, but there may still be room for further optimization if we are willing to accept an increase in model complexity."
   ]
  },
  {
   "cell_type": "markdown",
   "metadata": {},
   "source": [
    "There is also a need to retrain the model occasionally to keep abreast of new trends in the property market."
   ]
  }
 ],
 "metadata": {
  "anaconda-cloud": {},
  "celltoolbar": "Raw Cell Format",
  "kernelspec": {
   "display_name": "Python 3 (ipykernel)",
   "language": "python",
   "name": "python3"
  },
  "language_info": {
   "codemirror_mode": {
    "name": "ipython",
    "version": 3
   },
   "file_extension": ".py",
   "mimetype": "text/x-python",
   "name": "python",
   "nbconvert_exporter": "python",
   "pygments_lexer": "ipython3",
   "version": "3.9.13"
  },
  "vscode": {
   "interpreter": {
    "hash": "72a51f30bf8c483e1fc0abe989f81cc66824b206d24365642f1a7e7f70f5a428"
   }
  }
 },
 "nbformat": 4,
 "nbformat_minor": 4
}
