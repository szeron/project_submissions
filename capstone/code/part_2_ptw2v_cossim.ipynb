{
 "cells": [
  {
   "attachments": {},
   "cell_type": "markdown",
   "metadata": {},
   "source": [
    "<img src=\"http://imgur.com/1ZcRyrc.png\" style=\"float: left; margin: 20px; height: 55px\">\n",
    "\n",
    "# Capstone Project - Wine Recommender System <br> [Part 2 of 3]"
   ]
  },
  {
   "attachments": {},
   "cell_type": "markdown",
   "metadata": {
    "id": "4oQlBkKIzq5F"
   },
   "source": [
    "## Contents:\n",
    "- [Overview](##Overview)"
   ]
  },
  {
   "cell_type": "markdown",
   "metadata": {
    "id": "gDgLbO48JwJX"
   },
   "source": [
    "---\n",
    "## Overview\n",
    "---"
   ]
  },
  {
   "cell_type": "code",
   "execution_count": 1,
   "metadata": {},
   "outputs": [],
   "source": [
    "# Importing Libraries\n",
    "\n",
    "import pandas as pd\n",
    "import numpy as np\n",
    "import nltk\n",
    "from nltk.corpus import stopwords as nltk_stopwords\n",
    "from sklearn.feature_extraction.text import TfidfVectorizer, CountVectorizer\n",
    "from sklearn.metrics.pairwise import linear_kernel\n",
    "import gensim.downloader as api\n",
    "from sklearn.metrics.pairwise import cosine_similarity\n",
    "from sklearn.preprocessing import normalize\n",
    "from sklearn.decomposition import LatentDirichletAllocation"
   ]
  },
  {
   "cell_type": "code",
   "execution_count": 2,
   "metadata": {
    "id": "iaRZZCcTKq5s"
   },
   "outputs": [],
   "source": [
    "df = pd.read_csv('../data/wine_reviews_clean.csv')"
   ]
  },
  {
   "cell_type": "code",
   "execution_count": 3,
   "metadata": {},
   "outputs": [
    {
     "data": {
      "text/html": [
       "<div>\n",
       "<style scoped>\n",
       "    .dataframe tbody tr th:only-of-type {\n",
       "        vertical-align: middle;\n",
       "    }\n",
       "\n",
       "    .dataframe tbody tr th {\n",
       "        vertical-align: top;\n",
       "    }\n",
       "\n",
       "    .dataframe thead th {\n",
       "        text-align: right;\n",
       "    }\n",
       "</style>\n",
       "<table border=\"1\" class=\"dataframe\">\n",
       "  <thead>\n",
       "    <tr style=\"text-align: right;\">\n",
       "      <th></th>\n",
       "      <th>country</th>\n",
       "      <th>description</th>\n",
       "      <th>points</th>\n",
       "      <th>price</th>\n",
       "      <th>province</th>\n",
       "      <th>region_1</th>\n",
       "      <th>taster_name</th>\n",
       "      <th>title</th>\n",
       "      <th>variety</th>\n",
       "      <th>winery</th>\n",
       "      <th>vintage</th>\n",
       "      <th>tokens</th>\n",
       "    </tr>\n",
       "  </thead>\n",
       "  <tbody>\n",
       "    <tr>\n",
       "      <th>0</th>\n",
       "      <td>France</td>\n",
       "      <td>Medium-gold in color. Complex and inviting nos...</td>\n",
       "      <td>92</td>\n",
       "      <td>80</td>\n",
       "      <td>Alsace</td>\n",
       "      <td>Alsace</td>\n",
       "      <td>Anne Krebiehl MW</td>\n",
       "      <td>Dopff &amp; Irion 2004 Schoenenbourg Grand Cru Ven...</td>\n",
       "      <td>Riesling</td>\n",
       "      <td>Dopff &amp; Irion</td>\n",
       "      <td>2004</td>\n",
       "      <td>['medium-gold', 'color', 'complex', 'inviting'...</td>\n",
       "    </tr>\n",
       "    <tr>\n",
       "      <th>1</th>\n",
       "      <td>Italy</td>\n",
       "      <td>Slightly backward, particularly given the vint...</td>\n",
       "      <td>92</td>\n",
       "      <td>70</td>\n",
       "      <td>Piedmont</td>\n",
       "      <td>Barolo</td>\n",
       "      <td>Kerin O’Keefe</td>\n",
       "      <td>Ceretto 2003 Bricco Rocche Prapó  (Barolo)</td>\n",
       "      <td>Nebbiolo</td>\n",
       "      <td>Ceretto</td>\n",
       "      <td>2003</td>\n",
       "      <td>['slightly', 'backward', 'particularly', 'give...</td>\n",
       "    </tr>\n",
       "    <tr>\n",
       "      <th>2</th>\n",
       "      <td>US</td>\n",
       "      <td>The vineyard is one of the better Chardonnay s...</td>\n",
       "      <td>92</td>\n",
       "      <td>36</td>\n",
       "      <td>California</td>\n",
       "      <td>Alexander Valley</td>\n",
       "      <td>Virginie Boone</td>\n",
       "      <td>Matrix 2007 Stuhlmuller Vineyard Chardonnay (A...</td>\n",
       "      <td>Chardonnay</td>\n",
       "      <td>Matrix</td>\n",
       "      <td>2007</td>\n",
       "      <td>['vineyard', 'one', 'better', 'chardonnay', 's...</td>\n",
       "    </tr>\n",
       "    <tr>\n",
       "      <th>3</th>\n",
       "      <td>US</td>\n",
       "      <td>Defines Rockpile Zinfandel in intensity of fru...</td>\n",
       "      <td>92</td>\n",
       "      <td>39</td>\n",
       "      <td>California</td>\n",
       "      <td>Rockpile</td>\n",
       "      <td>Virginie Boone</td>\n",
       "      <td>Mauritson 2007 Rockpile Cemetary Vineyard Zinf...</td>\n",
       "      <td>Zinfandel</td>\n",
       "      <td>Mauritson</td>\n",
       "      <td>2007</td>\n",
       "      <td>['defines', 'rockpile', 'zinfandel', 'intensit...</td>\n",
       "    </tr>\n",
       "    <tr>\n",
       "      <th>4</th>\n",
       "      <td>US</td>\n",
       "      <td>This sophisticated wine is mostly Cabernet Sau...</td>\n",
       "      <td>92</td>\n",
       "      <td>45</td>\n",
       "      <td>California</td>\n",
       "      <td>Napa Valley</td>\n",
       "      <td>Virginie Boone</td>\n",
       "      <td>Silverado 2006 Cabernet Sauvignon (Napa Valley)</td>\n",
       "      <td>Cabernet Sauvignon</td>\n",
       "      <td>Silverado</td>\n",
       "      <td>2006</td>\n",
       "      <td>['sophisticated', 'mostly', 'cabernet', 'sauvi...</td>\n",
       "    </tr>\n",
       "  </tbody>\n",
       "</table>\n",
       "</div>"
      ],
      "text/plain": [
       "  country                                        description  points  price  \\\n",
       "0  France  Medium-gold in color. Complex and inviting nos...      92     80   \n",
       "1   Italy  Slightly backward, particularly given the vint...      92     70   \n",
       "2      US  The vineyard is one of the better Chardonnay s...      92     36   \n",
       "3      US  Defines Rockpile Zinfandel in intensity of fru...      92     39   \n",
       "4      US  This sophisticated wine is mostly Cabernet Sau...      92     45   \n",
       "\n",
       "     province          region_1       taster_name  \\\n",
       "0      Alsace            Alsace  Anne Krebiehl MW   \n",
       "1    Piedmont            Barolo     Kerin O’Keefe   \n",
       "2  California  Alexander Valley    Virginie Boone   \n",
       "3  California          Rockpile    Virginie Boone   \n",
       "4  California       Napa Valley    Virginie Boone   \n",
       "\n",
       "                                               title             variety  \\\n",
       "0  Dopff & Irion 2004 Schoenenbourg Grand Cru Ven...            Riesling   \n",
       "1         Ceretto 2003 Bricco Rocche Prapó  (Barolo)            Nebbiolo   \n",
       "2  Matrix 2007 Stuhlmuller Vineyard Chardonnay (A...          Chardonnay   \n",
       "3  Mauritson 2007 Rockpile Cemetary Vineyard Zinf...           Zinfandel   \n",
       "4    Silverado 2006 Cabernet Sauvignon (Napa Valley)  Cabernet Sauvignon   \n",
       "\n",
       "          winery vintage                                             tokens  \n",
       "0  Dopff & Irion    2004  ['medium-gold', 'color', 'complex', 'inviting'...  \n",
       "1        Ceretto    2003  ['slightly', 'backward', 'particularly', 'give...  \n",
       "2         Matrix    2007  ['vineyard', 'one', 'better', 'chardonnay', 's...  \n",
       "3      Mauritson    2007  ['defines', 'rockpile', 'zinfandel', 'intensit...  \n",
       "4      Silverado    2006  ['sophisticated', 'mostly', 'cabernet', 'sauvi...  "
      ]
     },
     "execution_count": 3,
     "metadata": {},
     "output_type": "execute_result"
    }
   ],
   "source": [
    "df.head()"
   ]
  },
  {
   "cell_type": "code",
   "execution_count": 4,
   "metadata": {},
   "outputs": [],
   "source": [
    "# Add custom words to the list of stop words\n",
    "stopwords = set(nltk_stopwords.words('english'))\n",
    "stopwords_to_add = ['wine', 'drink', 'offers', 'now', 'give', 'alongside', 'well', 'ready', 'show', 'shows', 'made', 'come', 'plus', 'much', 'like', 'still']\n",
    "\n",
    "for word in stopwords_to_add:\n",
    "    stopwords.add(word)"
   ]
  },
  {
   "attachments": {},
   "cell_type": "markdown",
   "metadata": {},
   "source": [
    "#### TFIDF & COSINE SIMILARITY"
   ]
  },
  {
   "cell_type": "code",
   "execution_count": 6,
   "metadata": {},
   "outputs": [
    {
     "ename": "",
     "evalue": "",
     "output_type": "error",
     "traceback": [
      "\u001b[1;31mThe Kernel crashed while executing code in the the current cell or a previous cell. Please review the code in the cell(s) to identify a possible cause of the failure. Click <a href='https://aka.ms/vscodeJupyterKernelCrash'>here</a> for more info. View Jupyter <a href='command:jupyter.viewOutput'>log</a> for further details."
     ]
    },
    {
     "ename": "",
     "evalue": "",
     "output_type": "error",
     "traceback": [
      "\u001b[1;31mCanceled future for execute_request message before replies were done"
     ]
    }
   ],
   "source": [
    "# Load the pre-trained Word2Vec model\n",
    "word2vec_model = api.load('word2vec-google-news-300')\n",
    "\n",
    "def get_sentence_vector(sentence, model):\n",
    "    words = sentence.split()\n",
    "    word_vectors = [model[word] for word in words if word in model]\n",
    "    if not word_vectors:\n",
    "        return np.zeros(model.vector_size)\n",
    "    return np.mean(word_vectors, axis=0)\n",
    "\n",
    "word2vec_matrix = np.array([get_sentence_vector(text, word2vec_model) for text in df['tokens']])\n",
    "word2vec_matrix_normalized = normalize(word2vec_matrix)\n",
    "cosine_sim_word2vec = word2vec_matrix_normalized.dot(word2vec_matrix_normalized.T)"
   ]
  },
  {
   "cell_type": "code",
   "execution_count": null,
   "metadata": {},
   "outputs": [],
   "source": [
    "def recommend_wines(user_input, df, cosine_sim, n=10):\n",
    "    # Preprocess the user input\n",
    "    user_input = preprocess(user_input)\n",
    "\n",
    "    # Calculate the similarity between user input and wine descriptions\n",
    "    input_vector = vectorizer.transform([user_input])\n",
    "    input_cosine_sim = cosine_similarity(input_vector, tfidf_matrix)\n",
    "\n",
    "    # Calculate the similarity between user input and wine descriptions (Word2Vec)\n",
    "    input_word2vec_vector = get_sentence_vector(user_input, word2vec_model).reshape(1, -1)\n",
    "    input_word2vec_vector_normalized = normalize(input_word2vec_vector)\n",
    "    input_cosine_sim_word2vec = input_word2vec_vector_normalized.dot(word2vec_matrix_normalized.T)\n",
    "\n",
    "    # Calculate the similarity between user input and wine descriptions (LDA)\n",
    "    input_count_vector = count_vectorizer.transform([user_input])\n",
    "    input_lda_vector = lda.transform(input_count_vector)\n",
    "    input_cosine_sim_lda = cosine_similarity(input_lda_vector, lda_matrix)\n",
    "\n",
    "    # Get the top n recommended wines\n",
    "    top_n_indices = np.argsort(input_cosine_sim.ravel())[-n:][::-1]\n",
    "    top_n_wines = df.iloc[top_n_indices]\n",
    "\n",
    "    return top_n_wines"
   ]
  },
  {
   "cell_type": "code",
   "execution_count": null,
   "metadata": {},
   "outputs": [],
   "source": []
  },
  {
   "cell_type": "code",
   "execution_count": null,
   "metadata": {},
   "outputs": [],
   "source": []
  },
  {
   "cell_type": "code",
   "execution_count": null,
   "metadata": {},
   "outputs": [],
   "source": []
  },
  {
   "cell_type": "code",
   "execution_count": null,
   "metadata": {},
   "outputs": [],
   "source": []
  },
  {
   "cell_type": "code",
   "execution_count": null,
   "metadata": {},
   "outputs": [],
   "source": []
  }
 ],
 "metadata": {
  "colab": {
   "provenance": []
  },
  "kernelspec": {
   "display_name": "base",
   "language": "python",
   "name": "python3"
  },
  "language_info": {
   "codemirror_mode": {
    "name": "ipython",
    "version": 3
   },
   "file_extension": ".py",
   "mimetype": "text/x-python",
   "name": "python",
   "nbconvert_exporter": "python",
   "pygments_lexer": "ipython3",
   "version": "3.9.16 (main, Mar  8 2023, 04:29:44) \n[Clang 14.0.6 ]"
  },
  "vscode": {
   "interpreter": {
    "hash": "72a51f30bf8c483e1fc0abe989f81cc66824b206d24365642f1a7e7f70f5a428"
   }
  }
 },
 "nbformat": 4,
 "nbformat_minor": 1
}
