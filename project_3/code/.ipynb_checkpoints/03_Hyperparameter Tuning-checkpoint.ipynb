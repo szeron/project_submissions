{
 "cells": [
  {
   "cell_type": "markdown",
   "metadata": {},
   "source": [
    "<img src=\"http://imgur.com/1ZcRyrc.png\" style=\"float: left; margin: 20px; height: 55px\">\n",
    "\n",
    "# Project 3: Web APIs & NLP"
   ]
  },
  {
   "cell_type": "markdown",
   "metadata": {},
   "source": [
    "## Part 3: Hyperparameter Tuning & Evaluation"
   ]
  },
  {
   "cell_type": "code",
   "execution_count": 1,
   "metadata": {},
   "outputs": [],
   "source": [
    "# Importing Libraries\n",
    "\n",
    "import numpy as np\n",
    "import pandas as pd\n",
    "import matplotlib.pyplot as plt\n",
    "import seaborn as sns\n",
    "\n",
    "from sklearn.feature_extraction.text import ENGLISH_STOP_WORDS, CountVectorizer, TfidfVectorizer\n",
    "from sklearn.naive_bayes import MultinomialNB\n",
    "from sklearn.model_selection import train_test_split, cross_val_score\n",
    "from sklearn.metrics import precision_score, recall_score, accuracy_score, f1_score, confusion_matrix, plot_roc_curve\n",
    "from sklearn.linear_model import LogisticRegression\n",
    "from sklearn.neighbors import KNeighborsClassifier\n",
    "from sklearn.ensemble import RandomForestClassifier"
   ]
  },
  {
   "cell_type": "code",
   "execution_count": 5,
   "metadata": {},
   "outputs": [],
   "source": [
    "hbo_netflix = pd.read_csv('../data/hbo_netflix.csv')"
   ]
  },
  {
   "cell_type": "code",
   "execution_count": 7,
   "metadata": {},
   "outputs": [
    {
     "data": {
      "text/html": [
       "<div>\n",
       "<style scoped>\n",
       "    .dataframe tbody tr th:only-of-type {\n",
       "        vertical-align: middle;\n",
       "    }\n",
       "\n",
       "    .dataframe tbody tr th {\n",
       "        vertical-align: top;\n",
       "    }\n",
       "\n",
       "    .dataframe thead th {\n",
       "        text-align: right;\n",
       "    }\n",
       "</style>\n",
       "<table border=\"1\" class=\"dataframe\">\n",
       "  <thead>\n",
       "    <tr style=\"text-align: right;\">\n",
       "      <th></th>\n",
       "      <th>Unnamed: 0</th>\n",
       "      <th>subreddit</th>\n",
       "      <th>title</th>\n",
       "      <th>selftext</th>\n",
       "      <th>is_robot_indexable</th>\n",
       "      <th>created_utc</th>\n",
       "      <th>combined</th>\n",
       "      <th>post_length</th>\n",
       "      <th>tokens_lem</th>\n",
       "    </tr>\n",
       "  </thead>\n",
       "  <tbody>\n",
       "    <tr>\n",
       "      <th>0</th>\n",
       "      <td>0</td>\n",
       "      <td>0</td>\n",
       "      <td>Monthly Subscription Tracker</td>\n",
       "      <td>[removed]</td>\n",
       "      <td>False</td>\n",
       "      <td>1678714081</td>\n",
       "      <td>Monthly Subscription Tracker</td>\n",
       "      <td>29</td>\n",
       "      <td>monthly subscription tracker</td>\n",
       "    </tr>\n",
       "    <tr>\n",
       "      <th>1</th>\n",
       "      <td>1</td>\n",
       "      <td>0</td>\n",
       "      <td>Last of Us Hospital Kill Count ☠️ | Episode 9 ...</td>\n",
       "      <td>NaN</td>\n",
       "      <td>True</td>\n",
       "      <td>1678678289</td>\n",
       "      <td>Last of Us Hospital Kill Count  | Episode  Fin...</td>\n",
       "      <td>54</td>\n",
       "      <td>last u hospital kill count episode finale</td>\n",
       "    </tr>\n",
       "    <tr>\n",
       "      <th>2</th>\n",
       "      <td>2</td>\n",
       "      <td>0</td>\n",
       "      <td>After the finale of The Last Of Us…</td>\n",
       "      <td>After the success of The Last Of Us HBO series...</td>\n",
       "      <td>True</td>\n",
       "      <td>1678671911</td>\n",
       "      <td>After the finale of The Last Of Us After the s...</td>\n",
       "      <td>261</td>\n",
       "      <td>finale last u success last u series safe say v...</td>\n",
       "    </tr>\n",
       "    <tr>\n",
       "      <th>3</th>\n",
       "      <td>3</td>\n",
       "      <td>0</td>\n",
       "      <td>how can I watch the oscars on HBO max?</td>\n",
       "      <td>NaN</td>\n",
       "      <td>True</td>\n",
       "      <td>1678661848</td>\n",
       "      <td>how can I watch the oscars on HBO max?</td>\n",
       "      <td>39</td>\n",
       "      <td>watch oscar max</td>\n",
       "    </tr>\n",
       "    <tr>\n",
       "      <th>4</th>\n",
       "      <td>4</td>\n",
       "      <td>0</td>\n",
       "      <td>Watchmen TV memorabilia up for auction. 5D Pop...</td>\n",
       "      <td>NaN</td>\n",
       "      <td>True</td>\n",
       "      <td>1678646483</td>\n",
       "      <td>Watchmen TV memorabilia up for auction. D Pop ...</td>\n",
       "      <td>62</td>\n",
       "      <td>watchman tv memorabilia auction d pop culture ...</td>\n",
       "    </tr>\n",
       "  </tbody>\n",
       "</table>\n",
       "</div>"
      ],
      "text/plain": [
       "   Unnamed: 0  subreddit                                              title  \\\n",
       "0           0          0                       Monthly Subscription Tracker   \n",
       "1           1          0  Last of Us Hospital Kill Count ☠️ | Episode 9 ...   \n",
       "2           2          0                After the finale of The Last Of Us…   \n",
       "3           3          0             how can I watch the oscars on HBO max?   \n",
       "4           4          0  Watchmen TV memorabilia up for auction. 5D Pop...   \n",
       "\n",
       "                                            selftext is_robot_indexable  \\\n",
       "0                                          [removed]              False   \n",
       "1                                                NaN               True   \n",
       "2  After the success of The Last Of Us HBO series...               True   \n",
       "3                                                NaN               True   \n",
       "4                                                NaN               True   \n",
       "\n",
       "   created_utc                                           combined  \\\n",
       "0   1678714081                      Monthly Subscription Tracker    \n",
       "1   1678678289  Last of Us Hospital Kill Count  | Episode  Fin...   \n",
       "2   1678671911  After the finale of The Last Of Us After the s...   \n",
       "3   1678661848            how can I watch the oscars on HBO max?    \n",
       "4   1678646483  Watchmen TV memorabilia up for auction. D Pop ...   \n",
       "\n",
       "   post_length                                         tokens_lem  \n",
       "0           29                       monthly subscription tracker  \n",
       "1           54          last u hospital kill count episode finale  \n",
       "2          261  finale last u success last u series safe say v...  \n",
       "3           39                                    watch oscar max  \n",
       "4           62  watchman tv memorabilia auction d pop culture ...  "
      ]
     },
     "execution_count": 7,
     "metadata": {},
     "output_type": "execute_result"
    }
   ],
   "source": [
    "hbo_netflix.head()"
   ]
  },
  {
   "cell_type": "code",
   "execution_count": 10,
   "metadata": {},
   "outputs": [],
   "source": [
    "X = hbo_netflix['tokens_lem']\n",
    "y = hbo_netflix['subreddit']"
   ]
  },
  {
   "cell_type": "code",
   "execution_count": 11,
   "metadata": {},
   "outputs": [],
   "source": [
    "X_train, X_test, y_train, y_test = train_test_split(X, y, stratify= y, random_state= 42)"
   ]
  },
  {
   "cell_type": "code",
   "execution_count": null,
   "metadata": {},
   "outputs": [],
   "source": []
  },
  {
   "cell_type": "code",
   "execution_count": null,
   "metadata": {},
   "outputs": [],
   "source": []
  },
  {
   "cell_type": "code",
   "execution_count": null,
   "metadata": {},
   "outputs": [],
   "source": []
  },
  {
   "cell_type": "code",
   "execution_count": null,
   "metadata": {},
   "outputs": [],
   "source": []
  },
  {
   "cell_type": "code",
   "execution_count": null,
   "metadata": {},
   "outputs": [],
   "source": []
  },
  {
   "cell_type": "code",
   "execution_count": null,
   "metadata": {},
   "outputs": [],
   "source": []
  },
  {
   "cell_type": "code",
   "execution_count": null,
   "metadata": {},
   "outputs": [],
   "source": []
  },
  {
   "cell_type": "code",
   "execution_count": null,
   "metadata": {},
   "outputs": [],
   "source": []
  },
  {
   "cell_type": "code",
   "execution_count": null,
   "metadata": {},
   "outputs": [],
   "source": []
  },
  {
   "cell_type": "markdown",
   "metadata": {},
   "source": [
    "### Model results (in %)\n",
    "\n",
    "|Model|Cross-Val Score|Model Score|Accuracy|Recall|Precision|F1|AUC|\n",
    "|---|---|---|---|---|---|---|---|\n",
    "|Multinomial NB CV|72.6|84.4|78.3|71.8|82.4|76.7|86|\n",
    "|Multinomial NB CV (n-grams)|66.0|70.5|69.2|47.3|83.8|60.5|79|\n",
    "|Multinomial TF-IDF|75.6|94.5|81.4|82.2|80.8|81.5|89|\n",
    "|Logistic Regression CV|73.4|94.2|79.1|84.6|76.1|80.2|86|\n",
    "|Logistic Regression CV (n-grams)|67.6|73.3|68.0|92.1|62.0|74.1|78|\n",
    "|Logistic Regression TF-IDF|76.0|94.7|81.4|87.6|77.9|82.4|89|\n",
    "|K-Nearest Neighbors CV|60.1|87.2|68.0|55.6|73.6|63.4|72|\n",
    "|K-Nearest Neighbors CV (n-grams)|59.4|71.6|62.8|96.7|57.5|72.1|72|\n",
    "|K-Nearest Neighbors TF-IDF|53.6|60.3|54.3|99.6|52.2|68.5|60|\n",
    "|Random Forest CV|73.9|98.6|77.1|82.2|74.4|78.1|86|\n",
    "|Random Forest CV (n-grams)|66.0|75.6|67.8|92.5|61.8|74.1|78|\n",
    "|Random Forest TF-IDF|73.3|99.9|76.2|92.5|69.7|79.5|82|"
   ]
  },
  {
   "cell_type": "markdown",
   "metadata": {},
   "source": [
    "# Setup pipeline with CountVectorizer and Naive Bayes\n",
    "pipe = Pipeline([\n",
    "    ('cvec', CountVectorizer()),\n",
    "    ('nb', MultinomialNB())\n",
    "])"
   ]
  },
  {
   "cell_type": "markdown",
   "metadata": {},
   "source": [
    "pipe_params = {\n",
    "    'cvec__max_features': [400, 800, 1_200, 1_600],\n",
    "    'cvec__min_df': [1, 2],\n",
    "    'cvec__max_df': [0.9, 0.95],\n",
    "    'cvec__ngram_range': [(1,1), (2,2), (3,3)]\n",
    "}"
   ]
  },
  {
   "cell_type": "markdown",
   "metadata": {},
   "source": [
    "# Instantiate GridSearchCV.\n",
    "gs = GridSearchCV(pipe,\n",
    "                  param_grid=pipe_params,\n",
    "                  cv=5)"
   ]
  },
  {
   "cell_type": "markdown",
   "metadata": {},
   "source": [
    "# Fit GridSearch to training data.\n",
    "gs.fit(X_train_cvec, y_train_cvec)"
   ]
  },
  {
   "cell_type": "markdown",
   "metadata": {},
   "source": [
    "write a function which takes in url.\n",
    "timestamp of 1st and last past, supposed to be more or less recent, so that for next iteration of scrape, also set a param for that timestamp. make sure post we scrape do not overlap\n",
    "at least 3, naive bayes, logistic regression, last (random forest/gradient boosting)"
   ]
  }
 ],
 "metadata": {
  "anaconda-cloud": {},
  "celltoolbar": "Raw Cell Format",
  "kernelspec": {
   "display_name": "Python 3 (ipykernel)",
   "language": "python",
   "name": "python3"
  },
  "language_info": {
   "codemirror_mode": {
    "name": "ipython",
    "version": 3
   },
   "file_extension": ".py",
   "mimetype": "text/x-python",
   "name": "python",
   "nbconvert_exporter": "python",
   "pygments_lexer": "ipython3",
   "version": "3.9.13"
  },
  "vscode": {
   "interpreter": {
    "hash": "72a51f30bf8c483e1fc0abe989f81cc66824b206d24365642f1a7e7f70f5a428"
   }
  }
 },
 "nbformat": 4,
 "nbformat_minor": 4
}
