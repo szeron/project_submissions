{
 "cells": [
  {
   "cell_type": "markdown",
   "metadata": {
    "id": "iFzmT1B-0dqX"
   },
   "source": [
    "<img src=\"http://imgur.com/1ZcRyrc.png\" style=\"float: left; margin: 20px; height: 55px\">\n",
    "\n",
    "# Project 4 - West Nile Virus Prediction (Kaggle) <br> [Part 3 of 4]\n",
    "\n",
    "_Prepared by: Kho Guan Guo, Soh Sze Ron, Timothy Chan, 3 Apr 2023_"
   ]
  },
  {
   "cell_type": "markdown",
   "metadata": {
    "id": "MmA1NLVh0dqa"
   },
   "source": [
    "## Contents:\n",
    "- [Feature Selection](#Feature-Selection)\n",
    "- [Modelling](#Modelling)\n",
    "- [Summary](#Summary)"
   ]
  },
  {
   "cell_type": "markdown",
   "metadata": {
    "id": "BtcxV_oS0dqa"
   },
   "source": [
    "**Part 3** consists of Feature Selection and Modelling."
   ]
  },
  {
   "cell_type": "markdown",
   "metadata": {
    "id": "Vf6EoTaA0dqb"
   },
   "source": [
    "### Data Dictionary\n",
    "\n",
    "Data dictionary (selected features only).\n",
    "\n",
    "|Features|Type|Description|\n",
    "|:---|:---|:---|\n",
    "|wnv_present|boolean|1 if West Nile Virus was present in these mosquitos when tested; 0 if it is not|\n",
    "|wet_bulb|int|average wet bulb temperature in degrees fahrenheit|\n",
    "|result_speed|float|vector sum of wind speed and direction in mph|\n",
    "|minutes_between|int|daylight duration between sunrise and sunset in minutes|\n",
    "|species_culex_xx|boolean|1 if it is that species of mosquitos; 0 if it is not|\n",
    "|cluster_label_xx|boolean|1 if it is located in that cluster; 0 if it is not|"
   ]
  },
  {
   "cell_type": "code",
   "execution_count": 1,
   "metadata": {
    "id": "-exz0xplQ2-y"
   },
   "outputs": [],
   "source": [
    "# Importing Libraries\n",
    "\n",
    "import numpy as np\n",
    "import pandas as pd\n",
    "import matplotlib.pyplot as plt\n",
    "import seaborn as sns\n",
    "\n",
    "from sklearn.cluster import DBSCAN\n",
    "from sklearn.preprocessing import StandardScaler, MinMaxScaler\n",
    "from sklearn import metrics\n",
    "from sklearn.metrics import ConfusionMatrixDisplay, confusion_matrix, classification_report\n",
    "from sklearn.metrics import roc_auc_score, roc_curve, RocCurveDisplay \n",
    "from sklearn.metrics import accuracy_score, roc_auc_score, precision_score, recall_score\n",
    "from sklearn.linear_model import LogisticRegression\n",
    "from sklearn.naive_bayes import MultinomialNB\n",
    "from sklearn.svm import LinearSVC, SVC\n",
    "from sklearn.ensemble import RandomForestClassifier, GradientBoostingClassifier\n",
    "from sklearn.model_selection import GridSearchCV, train_test_split\n",
    "\n",
    "from xgboost import XGBClassifier\n",
    "\n",
    "from imblearn.pipeline import Pipeline\n",
    "from imblearn.over_sampling import SMOTE"
   ]
  },
  {
   "cell_type": "code",
   "execution_count": 2,
   "metadata": {
    "id": "CqNn2Wz6Q3Fm"
   },
   "outputs": [],
   "source": [
    "# Import cleaned data\n",
    "df_train = pd.read_csv('../data/data_cleaned/train_clean.csv', parse_dates=True)\n",
    "df_test = pd.read_csv('../data/data_cleaned/test_clean.csv', parse_dates=True)\n",
    "df_kaggle = pd.read_csv('../data/test.csv')"
   ]
  },
  {
   "cell_type": "markdown",
   "metadata": {
    "id": "LlI3NF9mRBZc"
   },
   "source": [
    "---\n",
    "## Feature Selection\n",
    "---"
   ]
  },
  {
   "cell_type": "markdown",
   "metadata": {
    "id": "NYFJsu2Y0dqc"
   },
   "source": [
    "Based on EDA done, the key features with strongest correlation or relationship with WNV cases are:\n",
    "- daylight duration (to use \"minutes_between\")\n",
    "- period of the year (to use \"week_number\")\n",
    "- temperature (to use \"wet_bulb\" since correlation is higher)\n",
    "- species (specifically culex_pipiens and culex_restuans)\n",
    "- wind speed (to use \"result_speed\" since correlation is higher)\n",
    "- location (represented by trap, address or coordinates)\n",
    "\n",
    "We will stick to using these few features and use only one of each nature to reduce overfitting."
   ]
  },
  {
   "cell_type": "markdown",
   "metadata": {
    "id": "yqDYuzXhRL-T"
   },
   "source": [
    "**Clustering**"
   ]
  },
  {
   "cell_type": "markdown",
   "metadata": {
    "id": "yOs6_Miv0dqd"
   },
   "source": [
    "Since there seems be certain locations which have more WNV cases, we will use clustering to create a location feature, then perform one-hot encode. This will simplify and keep the number of potential location features small.\n",
    "\n",
    "For the train data, we use DBSCAN clustering to group clusters by coordinates in proximity to each other. Then we map this to the test data by address and street number."
   ]
  },
  {
   "cell_type": "code",
   "execution_count": 3,
   "metadata": {
    "colab": {
     "base_uri": "https://localhost:8080/"
    },
    "id": "Omsz89VKRQvk",
    "outputId": "0de27dc1-c751-4cbd-c677-3dad79706b58"
   },
   "outputs": [
    {
     "name": "stdout",
     "output_type": "stream",
     "text": [
      "Number of clusters: 43\n",
      "Cluster sizes: [ 542 1578  318 1037  136   43   28  205   79  189  181  147  139  102\n",
      "  121  241  125  113  219  166   88  101   79  191  171   77   99  155\n",
      "   77  266   41  126  100  194  209  119   92   69  154   96   84   54\n",
      "   61]\n"
     ]
    }
   ],
   "source": [
    "# Perform DBSCAN clustering on train dataset with eps=0.01 and min_samples=5\n",
    "dbscan = DBSCAN(eps=0.02, min_samples=20)\n",
    "coords = df_train[['latitude', 'longitude']].values\n",
    "labels = dbscan.fit_predict(coords)\n",
    "\n",
    "# Add the cluster labels to the DataFrame\n",
    "df_train['cluster_label'] = labels\n",
    "\n",
    "# Print the number of clusters and their sizes\n",
    "n_clusters = len(set(labels)) - (1 if -1 in labels else 0)\n",
    "cluster_sizes = np.bincount(labels[labels!=-1])\n",
    "print(f'Number of clusters: {n_clusters}')\n",
    "print(f'Cluster sizes: {cluster_sizes}')"
   ]
  },
  {
   "cell_type": "code",
   "execution_count": 4,
   "metadata": {
    "colab": {
     "base_uri": "https://localhost:8080/"
    },
    "id": "I-7sOrIXRUMN",
    "outputId": "3b894f36-2b83-4243-d54c-6a78a79b07f6"
   },
   "outputs": [
    {
     "data": {
      "text/plain": [
       "44"
      ]
     },
     "execution_count": 4,
     "metadata": {},
     "output_type": "execute_result"
    }
   ],
   "source": [
    "# Create a dictionary mapping address_number_and_street to cluster label\n",
    "train_dict = dict(zip(df_train['address_number_and_street'], df_train['cluster_label']))\n",
    "\n",
    "# Apply the same mapping to the test dataset. -1 if mapping not available\n",
    "test_labels = [train_dict.get(addr, -1) for addr in df_test['address_number_and_street']]\n",
    "df_test['cluster_label'] = test_labels\n",
    "\n",
    "df_test['cluster_label'].nunique()"
   ]
  },
  {
   "cell_type": "markdown",
   "metadata": {
    "id": "K68UA9vw0dqf"
   },
   "source": [
    "We created 43 clusters for the train data. Test data will have one more cluster than train data, being those with no mapping available. This will be labelled \"-1\" and will be removed later.\n",
    "\n",
    "We will explore the correlation between each cluster with wnv_present:"
   ]
  },
  {
   "cell_type": "code",
   "execution_count": 5,
   "metadata": {
    "id": "jpmAGuyySLuO"
   },
   "outputs": [],
   "source": [
    "# Perform get dummies to see correlation of each cluster to wnv_present \n",
    "df_train_cluster = df_train[['wnv_present','num_mosquitos','cluster_label']]\n",
    "df_train_cluster = pd.get_dummies(df_train_cluster, columns=['cluster_label'], drop_first=False)"
   ]
  },
  {
   "cell_type": "code",
   "execution_count": 6,
   "metadata": {
    "colab": {
     "base_uri": "https://localhost:8080/",
     "height": 865
    },
    "id": "d5B0IJfcRUzn",
    "outputId": "d5ba0c2c-e5de-4e76-c644-60b655c0d8b9"
   },
   "outputs": [
    {
     "data": {
      "text/html": [
       "<div>\n",
       "<style scoped>\n",
       "    .dataframe tbody tr th:only-of-type {\n",
       "        vertical-align: middle;\n",
       "    }\n",
       "\n",
       "    .dataframe tbody tr th {\n",
       "        vertical-align: top;\n",
       "    }\n",
       "\n",
       "    .dataframe thead th {\n",
       "        text-align: right;\n",
       "    }\n",
       "</style>\n",
       "<table border=\"1\" class=\"dataframe\">\n",
       "  <thead>\n",
       "    <tr style=\"text-align: right;\">\n",
       "      <th></th>\n",
       "      <th>wnv_present</th>\n",
       "      <th>num_mosquitos</th>\n",
       "    </tr>\n",
       "  </thead>\n",
       "  <tbody>\n",
       "    <tr>\n",
       "      <th>wnv_present</th>\n",
       "      <td>1.0</td>\n",
       "      <td>0.26</td>\n",
       "    </tr>\n",
       "    <tr>\n",
       "      <th>num_mosquitos</th>\n",
       "      <td>0.26</td>\n",
       "      <td>1.0</td>\n",
       "    </tr>\n",
       "    <tr>\n",
       "      <th>cluster_label_38</th>\n",
       "      <td>0.08</td>\n",
       "      <td>0.15</td>\n",
       "    </tr>\n",
       "    <tr>\n",
       "      <th>cluster_label_1</th>\n",
       "      <td>0.05</td>\n",
       "      <td>0.03</td>\n",
       "    </tr>\n",
       "    <tr>\n",
       "      <th>cluster_label_5</th>\n",
       "      <td>0.03</td>\n",
       "      <td>low corr</td>\n",
       "    </tr>\n",
       "    <tr>\n",
       "      <th>cluster_label_19</th>\n",
       "      <td>0.03</td>\n",
       "      <td>0.05</td>\n",
       "    </tr>\n",
       "    <tr>\n",
       "      <th>cluster_label_40</th>\n",
       "      <td>0.03</td>\n",
       "      <td>0.04</td>\n",
       "    </tr>\n",
       "    <tr>\n",
       "      <th>cluster_label_3</th>\n",
       "      <td>-0.03</td>\n",
       "      <td>-0.09</td>\n",
       "    </tr>\n",
       "    <tr>\n",
       "      <th>cluster_label_9</th>\n",
       "      <td>-0.03</td>\n",
       "      <td>-0.06</td>\n",
       "    </tr>\n",
       "    <tr>\n",
       "      <th>cluster_label_33</th>\n",
       "      <td>-0.03</td>\n",
       "      <td>low corr</td>\n",
       "    </tr>\n",
       "    <tr>\n",
       "      <th>cluster_label_39</th>\n",
       "      <td>low corr</td>\n",
       "      <td>0.06</td>\n",
       "    </tr>\n",
       "    <tr>\n",
       "      <th>cluster_label_14</th>\n",
       "      <td>low corr</td>\n",
       "      <td>0.05</td>\n",
       "    </tr>\n",
       "    <tr>\n",
       "      <th>cluster_label_11</th>\n",
       "      <td>low corr</td>\n",
       "      <td>0.04</td>\n",
       "    </tr>\n",
       "    <tr>\n",
       "      <th>cluster_label_34</th>\n",
       "      <td>low corr</td>\n",
       "      <td>0.04</td>\n",
       "    </tr>\n",
       "    <tr>\n",
       "      <th>cluster_label_2</th>\n",
       "      <td>low corr</td>\n",
       "      <td>0.04</td>\n",
       "    </tr>\n",
       "    <tr>\n",
       "      <th>cluster_label_15</th>\n",
       "      <td>low corr</td>\n",
       "      <td>0.03</td>\n",
       "    </tr>\n",
       "    <tr>\n",
       "      <th>cluster_label_31</th>\n",
       "      <td>low corr</td>\n",
       "      <td>0.03</td>\n",
       "    </tr>\n",
       "    <tr>\n",
       "      <th>cluster_label_37</th>\n",
       "      <td>low corr</td>\n",
       "      <td>0.03</td>\n",
       "    </tr>\n",
       "    <tr>\n",
       "      <th>cluster_label_26</th>\n",
       "      <td>low corr</td>\n",
       "      <td>-0.03</td>\n",
       "    </tr>\n",
       "    <tr>\n",
       "      <th>cluster_label_30</th>\n",
       "      <td>low corr</td>\n",
       "      <td>-0.03</td>\n",
       "    </tr>\n",
       "    <tr>\n",
       "      <th>cluster_label_13</th>\n",
       "      <td>low corr</td>\n",
       "      <td>-0.04</td>\n",
       "    </tr>\n",
       "    <tr>\n",
       "      <th>cluster_label_6</th>\n",
       "      <td>low corr</td>\n",
       "      <td>-0.04</td>\n",
       "    </tr>\n",
       "    <tr>\n",
       "      <th>cluster_label_28</th>\n",
       "      <td>low corr</td>\n",
       "      <td>-0.04</td>\n",
       "    </tr>\n",
       "    <tr>\n",
       "      <th>cluster_label_29</th>\n",
       "      <td>low corr</td>\n",
       "      <td>-0.04</td>\n",
       "    </tr>\n",
       "    <tr>\n",
       "      <th>cluster_label_18</th>\n",
       "      <td>low corr</td>\n",
       "      <td>-0.05</td>\n",
       "    </tr>\n",
       "    <tr>\n",
       "      <th>cluster_label_7</th>\n",
       "      <td>low corr</td>\n",
       "      <td>-0.1</td>\n",
       "    </tr>\n",
       "  </tbody>\n",
       "</table>\n",
       "</div>"
      ],
      "text/plain": [
       "                 wnv_present num_mosquitos\n",
       "wnv_present              1.0          0.26\n",
       "num_mosquitos           0.26           1.0\n",
       "cluster_label_38        0.08          0.15\n",
       "cluster_label_1         0.05          0.03\n",
       "cluster_label_5         0.03      low corr\n",
       "cluster_label_19        0.03          0.05\n",
       "cluster_label_40        0.03          0.04\n",
       "cluster_label_3        -0.03         -0.09\n",
       "cluster_label_9        -0.03         -0.06\n",
       "cluster_label_33       -0.03      low corr\n",
       "cluster_label_39    low corr          0.06\n",
       "cluster_label_14    low corr          0.05\n",
       "cluster_label_11    low corr          0.04\n",
       "cluster_label_34    low corr          0.04\n",
       "cluster_label_2     low corr          0.04\n",
       "cluster_label_15    low corr          0.03\n",
       "cluster_label_31    low corr          0.03\n",
       "cluster_label_37    low corr          0.03\n",
       "cluster_label_26    low corr         -0.03\n",
       "cluster_label_30    low corr         -0.03\n",
       "cluster_label_13    low corr         -0.04\n",
       "cluster_label_6     low corr         -0.04\n",
       "cluster_label_28    low corr         -0.04\n",
       "cluster_label_29    low corr         -0.04\n",
       "cluster_label_18    low corr         -0.05\n",
       "cluster_label_7     low corr          -0.1"
      ]
     },
     "execution_count": 6,
     "metadata": {},
     "output_type": "execute_result"
    }
   ],
   "source": [
    "# Spearman Correlation to 'wnv_present', 'num_mosquitos'; filter to exclude those with low correlation\n",
    "corr_wnv_present = round(df_train_cluster.corr(method='spearman')['wnv_present'], 2)\n",
    "filtered_corr_wnv_present = corr_wnv_present[(corr_wnv_present >= 0.03) | (corr_wnv_present <= -0.03)].sort_values(ascending=False)\n",
    "\n",
    "corr_num_mosquitos = round(df_train_cluster.corr(method='spearman')['num_mosquitos'], 2)\n",
    "filtered_num_mosquitos = corr_num_mosquitos[(corr_num_mosquitos >= 0.03) | (corr_num_mosquitos <= -0.03)].sort_values(ascending=False)\n",
    "\n",
    "# Join into table\n",
    "corr_comb = pd.concat([filtered_corr_wnv_present, filtered_num_mosquitos], axis=1)\n",
    "corr_comb.replace(np.nan, 'low corr', inplace=True)\n",
    "corr_comb"
   ]
  },
  {
   "cell_type": "code",
   "execution_count": 7,
   "metadata": {
    "colab": {
     "base_uri": "https://localhost:8080/"
    },
    "id": "R_t32yz0RhkO",
    "outputId": "d42a6d9b-86dc-4c21-e220-52d225ab590e",
    "scrolled": true
   },
   "outputs": [
    {
     "data": {
      "text/plain": [
       "1000  W OHARE AIRPORT, Chicago, IL    154\n",
       "Name: address_number_and_street, dtype: int64"
      ]
     },
     "execution_count": 7,
     "metadata": {},
     "output_type": "execute_result"
    }
   ],
   "source": [
    "df_train[df_train['cluster_label'] == 38]['address_number_and_street'].value_counts()"
   ]
  },
  {
   "cell_type": "markdown",
   "metadata": {
    "id": "jOND-XIZTIa1"
   },
   "source": [
    "Cluster 38 with highest correlation only has 1 address: Ohare Airport. This is consistent with findings from EDA earlier that Ohare Airport is the location with most WNV cases."
   ]
  },
  {
   "cell_type": "code",
   "execution_count": 8,
   "metadata": {
    "colab": {
     "base_uri": "https://localhost:8080/"
    },
    "id": "Ct38EdctRjef",
    "outputId": "1489d7fa-7f26-4dc9-f4fd-ebb5f7d2c61f",
    "scrolled": false
   },
   "outputs": [
    {
     "data": {
      "text/plain": [
       "4100  N OAK PARK AVE, Chicago, IL        147\n",
       "7000   W ARMITAGE AVENUE, Chicago, IL    143\n",
       "7000  N MOSELL AVE, Chicago, IL          113\n",
       "4600  N MILWAUKEE AVE, Chicago, IL       113\n",
       "6100  W FULLERTON AVE, Chicago, IL        98\n",
       "6100  N LEMONT AVE, Chicago, IL           97\n",
       "5800  N PULASKI RD, Chicago, IL           90\n",
       "6000  W MONTROSE DR, Chicago, IL          77\n",
       "5100  N MONT CLARE AVE, Chicago, IL       75\n",
       "3700  N KEDVALE AVE, Chicago, IL          72\n",
       "3300  N RUTHERFORD AVE, Chicago, IL       69\n",
       "3900  N SPRINGFIELD AVE, Chicago, IL      59\n",
       "7200  N OKETO AVE, Chicago, IL            56\n",
       "7100  N HARLEM AVE, Chicago, IL           46\n",
       "6200  N MCCLELLAN AVE, Chicago, IL        32\n",
       "7900  W FOSTER AVE, Chicago, IL           32\n",
       "6500  N OAK PARK AVE, Chicago, IL         28\n",
       "6400  W STRONG ST, Chicago, IL            28\n",
       "6800  W BELDEN AVE, Chicago, IL           27\n",
       "9100  W HIGGINS AVE, Chicago, IL          27\n",
       "6000  N AVONDALE AVE, Chicago, IL         24\n",
       "4900  W BALMORAL AVE, Chicago, IL         24\n",
       "6200  N MANDELL AVE, Chicago, IL          23\n",
       "5300  W AGATITE AVE, Chicago, IL          21\n",
       "4000  N AUSTIN AVE, Chicago, IL           17\n",
       "6000  W ROSCOE ST, Chicago, IL            14\n",
       "4000  N TRIPP AVE, Chicago, IL            14\n",
       "4900  W SUNNYSIDE AVE, Chicago, IL        12\n",
       "Name: address_number_and_street, dtype: int64"
      ]
     },
     "execution_count": 8,
     "metadata": {},
     "output_type": "execute_result"
    }
   ],
   "source": [
    "df_train[df_train['cluster_label'] == 1]['address_number_and_street'].value_counts()"
   ]
  },
  {
   "cell_type": "markdown",
   "metadata": {
    "id": "CF6Xyb-OTQdm"
   },
   "source": [
    "Cluster 1 with second most correlation. Many of the address in Cluster 1 are in the top 20 infected locations (from earlier EDA) such as:\n",
    "- Oak Park Ave\n",
    "- Avondale Ave\n",
    "- Roscoe St\n",
    "- Strong St\n",
    "- Harlem Ave"
   ]
  },
  {
   "cell_type": "code",
   "execution_count": 9,
   "metadata": {
    "colab": {
     "base_uri": "https://localhost:8080/"
    },
    "id": "tO5OtahURmLS",
    "outputId": "0fddc248-84fc-46e8-8be5-2708e24eaa33",
    "scrolled": true
   },
   "outputs": [
    {
     "data": {
      "text/plain": [
       "19    143\n",
       "Name: cluster_label, dtype: int64"
      ]
     },
     "execution_count": 9,
     "metadata": {},
     "output_type": "execute_result"
    }
   ],
   "source": [
    "df_train[df_train['trap'] == 'T115']['cluster_label'].value_counts()"
   ]
  },
  {
   "cell_type": "code",
   "execution_count": 10,
   "metadata": {
    "colab": {
     "base_uri": "https://localhost:8080/"
    },
    "id": "U1FavtDFRmqX",
    "outputId": "76fd3b5c-9abd-449d-91f0-b6d6f093cf2a"
   },
   "outputs": [
    {
     "data": {
      "text/plain": [
       "1    147\n",
       "Name: cluster_label, dtype: int64"
      ]
     },
     "execution_count": 10,
     "metadata": {},
     "output_type": "execute_result"
    }
   ],
   "source": [
    "df_train[df_train['trap'] == 'T002']['cluster_label'].value_counts()"
   ]
  },
  {
   "cell_type": "markdown",
   "metadata": {
    "id": "Zdfvict_TXGz"
   },
   "source": [
    "In EDA earlier, we idenfied that Trap T115 and T002 had highest number of WNV cases. We note here that they are within the top few clusters (cluster 19 and 1). This gives some assurance that the clustering is correct."
   ]
  },
  {
   "cell_type": "markdown",
   "metadata": {
    "id": "FxVV9GMFVFZm"
   },
   "source": [
    "**One-hot encoding**"
   ]
  },
  {
   "cell_type": "markdown",
   "metadata": {
    "id": "cv_2Cim60dqg"
   },
   "source": [
    "We perform one-hot encoding on species and cluster."
   ]
  },
  {
   "cell_type": "code",
   "execution_count": 11,
   "metadata": {
    "id": "Kq4TMV-nWJM2"
   },
   "outputs": [],
   "source": [
    "# Lower and replace spaces to prepare column names for species\n",
    "df_train['species'] = df_train['species'].str.lower().str.replace(' ', '_')\n",
    "df_test['species'] = df_test['species'].str.lower().str.replace(' ', '_')"
   ]
  },
  {
   "cell_type": "code",
   "execution_count": 12,
   "metadata": {
    "id": "kXT3fUHUVETH"
   },
   "outputs": [],
   "source": [
    "# One-hot encode\n",
    "df_train = pd.get_dummies(df_train, columns=['species', 'cluster_label'], drop_first=False) # drop in next step\n",
    "df_test = pd.get_dummies(df_test, columns=['species', 'cluster_label'], drop_first=False) # drop in next step"
   ]
  },
  {
   "cell_type": "markdown",
   "metadata": {
    "id": "LdU6jjVnVvOE"
   },
   "source": [
    "**Drop unnecessary columns**"
   ]
  },
  {
   "cell_type": "markdown",
   "metadata": {
    "id": "Wa6W4E0D0dqg"
   },
   "source": [
    "As mentioned, we will only keep a few selected features. For clusters, we will only keep those with most correlation to wnv_present."
   ]
  },
  {
   "cell_type": "code",
   "execution_count": 13,
   "metadata": {
    "colab": {
     "base_uri": "https://localhost:8080/"
    },
    "id": "zzXZ6g65Wq8r",
    "outputId": "efaa3e8a-53eb-4c63-990d-76b5e8bb4204",
    "scrolled": false
   },
   "outputs": [
    {
     "data": {
      "text/plain": [
       "Index(['date', 'trap', 'address_number_and_street', 'latitude', 'longitude',\n",
       "       'num_mosquitos', 'wnv_present', 'station', 'tmax', 'tmin', 'tavg',\n",
       "       'depart', 'dew_point', 'wet_bulb', 'sunrise', 'sunset', 'precip_total',\n",
       "       'stn_pressure', 'sea_level', 'result_speed', 'result_dir', 'avg_speed',\n",
       "       'relative_humidity', 'minutes_between', 'week_number', 'month', 'year',\n",
       "       'coords', 'species_culex_erraticus', 'species_culex_pipiens',\n",
       "       'species_culex_pipiens/restuans', 'species_culex_restuans',\n",
       "       'species_culex_salinarius', 'species_culex_tarsalis',\n",
       "       'species_culex_territans', 'cluster_label_-1', 'cluster_label_0',\n",
       "       'cluster_label_1', 'cluster_label_2', 'cluster_label_3',\n",
       "       'cluster_label_4', 'cluster_label_5', 'cluster_label_6',\n",
       "       'cluster_label_7', 'cluster_label_8', 'cluster_label_9',\n",
       "       'cluster_label_10', 'cluster_label_11', 'cluster_label_12',\n",
       "       'cluster_label_13', 'cluster_label_14', 'cluster_label_15',\n",
       "       'cluster_label_16', 'cluster_label_17', 'cluster_label_18',\n",
       "       'cluster_label_19', 'cluster_label_20', 'cluster_label_21',\n",
       "       'cluster_label_22', 'cluster_label_23', 'cluster_label_24',\n",
       "       'cluster_label_25', 'cluster_label_26', 'cluster_label_27',\n",
       "       'cluster_label_28', 'cluster_label_29', 'cluster_label_30',\n",
       "       'cluster_label_31', 'cluster_label_32', 'cluster_label_33',\n",
       "       'cluster_label_34', 'cluster_label_35', 'cluster_label_36',\n",
       "       'cluster_label_37', 'cluster_label_38', 'cluster_label_39',\n",
       "       'cluster_label_40', 'cluster_label_41', 'cluster_label_42'],\n",
       "      dtype='object')"
      ]
     },
     "execution_count": 13,
     "metadata": {},
     "output_type": "execute_result"
    }
   ],
   "source": [
    "# View columns\n",
    "df_train.columns"
   ]
  },
  {
   "cell_type": "code",
   "execution_count": 14,
   "metadata": {
    "id": "FcOJzNT4VoAx"
   },
   "outputs": [],
   "source": [
    "# Keep only features wanted\n",
    "columns_to_drop = [\n",
    "       'date', 'trap', 'address_number_and_street', 'latitude', 'longitude',\n",
    "       'station', 'tmax', 'tmin', 'tavg',\n",
    "       'depart', 'dew_point', 'sunrise', 'sunset', 'precip_total',\n",
    "       'stn_pressure', 'sea_level', 'result_dir', 'avg_speed',\n",
    "       'relative_humidity', 'month', 'year', 'coords', \n",
    "       'species_culex_erraticus', 'species_culex_salinarius', 'species_culex_tarsalis', 'species_culex_territans', \n",
    "       'cluster_label_-1', 'cluster_label_0',\n",
    "       'cluster_label_2', \n",
    "       'cluster_label_4', 'cluster_label_6',\n",
    "       'cluster_label_7', 'cluster_label_8', \n",
    "       'cluster_label_10', 'cluster_label_11', 'cluster_label_12',\n",
    "       'cluster_label_13', 'cluster_label_14', 'cluster_label_15',\n",
    "       'cluster_label_16', 'cluster_label_17', 'cluster_label_18',\n",
    "       'cluster_label_20', 'cluster_label_21',\n",
    "       'cluster_label_22', 'cluster_label_23', 'cluster_label_24',\n",
    "       'cluster_label_25', 'cluster_label_26', 'cluster_label_27',\n",
    "       'cluster_label_28', 'cluster_label_29', 'cluster_label_30',\n",
    "       'cluster_label_31', 'cluster_label_32', \n",
    "       'cluster_label_34', 'cluster_label_35', 'cluster_label_36',\n",
    "       'cluster_label_37', 'cluster_label_39',\n",
    "       'cluster_label_41', 'cluster_label_42'\n",
    "]\n",
    "\n",
    "df_train.drop(['num_mosquitos'], axis=1, inplace=True) # additional column to drop as this is not in test dataset\n",
    "df_train.drop(columns_to_drop, axis=1, inplace=True)\n",
    "df_test.drop(['id', 'species_unspecified_culex'], axis=1, inplace=True) # additional column to drop as this is not in test dataset\n",
    "df_test.drop(columns_to_drop, axis=1, inplace=True)"
   ]
  },
  {
   "cell_type": "code",
   "execution_count": 15,
   "metadata": {
    "colab": {
     "base_uri": "https://localhost:8080/"
    },
    "id": "p0NFXmDvYhU7",
    "outputId": "388d9502-4552-4d33-bca1-3e9e50d49115"
   },
   "outputs": [
    {
     "name": "stdout",
     "output_type": "stream",
     "text": [
      "<class 'pandas.core.frame.DataFrame'>\n",
      "RangeIndex: 8475 entries, 0 to 8474\n",
      "Data columns (total 16 columns):\n",
      " #   Column                          Non-Null Count  Dtype  \n",
      "---  ------                          --------------  -----  \n",
      " 0   wnv_present                     8475 non-null   int64  \n",
      " 1   wet_bulb                        8475 non-null   int64  \n",
      " 2   result_speed                    8475 non-null   float64\n",
      " 3   minutes_between                 8475 non-null   int64  \n",
      " 4   week_number                     8475 non-null   int64  \n",
      " 5   species_culex_pipiens           8475 non-null   uint8  \n",
      " 6   species_culex_pipiens/restuans  8475 non-null   uint8  \n",
      " 7   species_culex_restuans          8475 non-null   uint8  \n",
      " 8   cluster_label_1                 8475 non-null   uint8  \n",
      " 9   cluster_label_3                 8475 non-null   uint8  \n",
      " 10  cluster_label_5                 8475 non-null   uint8  \n",
      " 11  cluster_label_9                 8475 non-null   uint8  \n",
      " 12  cluster_label_19                8475 non-null   uint8  \n",
      " 13  cluster_label_33                8475 non-null   uint8  \n",
      " 14  cluster_label_38                8475 non-null   uint8  \n",
      " 15  cluster_label_40                8475 non-null   uint8  \n",
      "dtypes: float64(1), int64(4), uint8(11)\n",
      "memory usage: 422.2 KB\n"
     ]
    }
   ],
   "source": [
    "# View train columns for modelling\n",
    "df_train.info()"
   ]
  },
  {
   "cell_type": "code",
   "execution_count": 16,
   "metadata": {
    "colab": {
     "base_uri": "https://localhost:8080/"
    },
    "id": "7o-v5k2MYnYS",
    "outputId": "ff6189c8-2d16-4b18-a7d4-3eb89236b257",
    "scrolled": false
   },
   "outputs": [
    {
     "name": "stdout",
     "output_type": "stream",
     "text": [
      "<class 'pandas.core.frame.DataFrame'>\n",
      "RangeIndex: 116293 entries, 0 to 116292\n",
      "Data columns (total 15 columns):\n",
      " #   Column                          Non-Null Count   Dtype  \n",
      "---  ------                          --------------   -----  \n",
      " 0   wet_bulb                        116293 non-null  int64  \n",
      " 1   result_speed                    116293 non-null  float64\n",
      " 2   minutes_between                 116293 non-null  int64  \n",
      " 3   week_number                     116293 non-null  int64  \n",
      " 4   species_culex_pipiens           116293 non-null  uint8  \n",
      " 5   species_culex_pipiens/restuans  116293 non-null  uint8  \n",
      " 6   species_culex_restuans          116293 non-null  uint8  \n",
      " 7   cluster_label_1                 116293 non-null  uint8  \n",
      " 8   cluster_label_3                 116293 non-null  uint8  \n",
      " 9   cluster_label_5                 116293 non-null  uint8  \n",
      " 10  cluster_label_9                 116293 non-null  uint8  \n",
      " 11  cluster_label_19                116293 non-null  uint8  \n",
      " 12  cluster_label_33                116293 non-null  uint8  \n",
      " 13  cluster_label_38                116293 non-null  uint8  \n",
      " 14  cluster_label_40                116293 non-null  uint8  \n",
      "dtypes: float64(1), int64(3), uint8(11)\n",
      "memory usage: 4.8 MB\n"
     ]
    }
   ],
   "source": [
    "# View test columns for modelling, and if consistent with train columns\n",
    "df_test.info()"
   ]
  },
  {
   "cell_type": "markdown",
   "metadata": {
    "id": "ytmrmrbL0dqh"
   },
   "source": [
    "We have 15 features and may reduce them further depending on the train/validation score and kaggle score."
   ]
  },
  {
   "cell_type": "markdown",
   "metadata": {
    "id": "GRPk6NOxY-Fh"
   },
   "source": [
    "---\n",
    "## Modelling\n",
    "---"
   ]
  },
  {
   "cell_type": "markdown",
   "metadata": {
    "id": "eHaRHZsc0dqh"
   },
   "source": [
    "**Evaluation Metrics** <br>\n",
    "We will use area under the curve (AUC) to evaluate our models. A score of 0.5 will be a completely ineffective classifier while a score of 1 means a perfect classification. AUC captures the trade-off between the true positive rate (TPR) and false positive rate (FPR), or sensitivity/recall vs (1 - specificity)/precision. As the trade-off can be fine-tuned, it is more suitable than accuracy as a metrics. Furthermore since there is class imbalance in the dataset, it is more reliable than accuracy (in accuracy, we might just predict all as majority class to get a good score).\n",
    "\n",
    "*Recall-Precision trade off:* <br>\n",
    "Higher recall (TPR) reduces the chances of more false negatives at the expense of more false positives. Precision has the opposite effect. False negative could mean that we under-spray areas with high number of WNV present, which leads to more infections than the city can handle. False positives could mean that we might over-spray areas with low number of WNV present, which means higher expenses of spraying. As the cost of false negatives and under-spraying is higher, recall should have a higher weight than precision. After optimizing AUC score, we will check if validation recall score is above 0.70 and adjust if necessary.\n",
    "\n",
    "**Models used** <br>\n",
    "We will use Logistic Regresssion, Multinomial Naive Bayes, Random Forest and XGBoost Models and see which perform better. We will also try reducing the number of features to see if this improves performance. Then we will finetune the selected model to try improve the Kaggle test score further."
   ]
  },
  {
   "cell_type": "code",
   "execution_count": 17,
   "metadata": {
    "id": "19m9fZgKazE9"
   },
   "outputs": [],
   "source": [
    "# Train test split\n",
    "y = df_train['wnv_present']\n",
    "X = df_train.drop('wnv_present', axis=1)\n",
    "\n",
    "X_train, X_val, y_train, y_val = train_test_split(X, y, random_state = 42, stratify =y)"
   ]
  },
  {
   "cell_type": "code",
   "execution_count": 18,
   "metadata": {
    "id": "HDmgmWOv0dqi"
   },
   "outputs": [],
   "source": [
    "# Function to find best hyperparameters for each model, and to compare each model result\n",
    "def evaluate_models(models, X_train, X_val, y_train, y_val):\n",
    "    results = ''\n",
    "    best_est = []\n",
    "    for model in models:\n",
    "        classifier = model['classifier']\n",
    "        params = model['params']\n",
    "        \n",
    "        # Create pipeline\n",
    "        if model['name'] == 'LogisticRegression':\n",
    "            pipeline = Pipeline([\n",
    "                ('scale', StandardScaler()),\n",
    "                ('sampling', SMOTE(random_state=42)),\n",
    "                ('classifier', classifier)\n",
    "            ])\n",
    "        else:\n",
    "            pipeline = Pipeline([\n",
    "                ('scale', MinMaxScaler()),\n",
    "                ('sampling', SMOTE(random_state=42)),\n",
    "                ('classifier', classifier)\n",
    "            ])\n",
    "        \n",
    "        # Gridsearch\n",
    "        grid_search = GridSearchCV(pipeline, params, cv=5, scoring='roc_auc', n_jobs=-1) # 5 folds CV, use all processors\n",
    "        grid_search.fit(X_train, y_train)\n",
    "\n",
    "        # Get best estimator\n",
    "        best_estimator = grid_search.best_estimator_\n",
    "\n",
    "        # Score\n",
    "        train_score = roc_auc_score(y_train, best_estimator.predict_proba(X_train)[:, 1])\n",
    "        val_score = roc_auc_score(y_val, best_estimator.predict_proba(X_val)[:, 1])\n",
    "\n",
    "        # Get confusion matrix values\n",
    "        preds = best_estimator.predict(X_val)\n",
    "        tn, fp, fn, tp = confusion_matrix(y_val, preds).ravel()\n",
    "\n",
    "        # Score\n",
    "        precision = precision_score(y_val, preds)\n",
    "        recall = recall_score(y_val, preds)\n",
    "        \n",
    "        # Store best estimator\n",
    "        best_est.append(best_estimator)      \n",
    "\n",
    "        # Store results\n",
    "        results += f\"{model['name']}:\\n\"\n",
    "        results += f\"Best CV Params: {grid_search.best_params_}\\n\"\n",
    "        results += f\"Best CV AUC Score: {round(grid_search.best_score_, 3)}\\n\"\n",
    "        results += f\"Train AUC Score: {round(train_score, 3)}\\n\"\n",
    "        results += f\"Val AUC Score: {round(val_score, 3)} | TN: {tn} | FP: {fp} | FN: {fn} | TP: {tp}\\n\"\n",
    "        results += f\"Precision: {round(precision, 3)} | Recall: {round(recall, 3)} | Precision-Recall Ratio: {round(precision / recall, 3)}\\n\" \n",
    "        results += f\"Overfitted (val minus train): {round(val_score - train_score, 3)}\\n\\n\"\n",
    "        \n",
    "    return results, best_est"
   ]
  },
  {
   "cell_type": "code",
   "execution_count": 19,
   "metadata": {
    "id": "OFZjpNMr0dqi"
   },
   "outputs": [],
   "source": [
    "def selected_model_input(output, model_name, best_est, X_train, X_val, y_train, y_val):\n",
    "    # Get best estimator for the selected model\n",
    "    for estimator in best_est:\n",
    "        if type(estimator.named_steps['classifier']) == model_name:\n",
    "            selected_est = estimator\n",
    "\n",
    "    # Fit the model and get predictions\n",
    "    pipeline_1 = selected_est\n",
    "    pipeline_1.fit(X_train, y_train)\n",
    "    preds = pipeline_1.predict(X_val)\n",
    "\n",
    "    # Calculate scores\n",
    "    train_score = metrics.roc_auc_score(y_train, pipeline_1.predict_proba(X_train)[:, 1])\n",
    "    val_score = metrics.roc_auc_score(y_val, pipeline_1.predict_proba(X_val)[:, 1])\n",
    "    tn, fp, fn, tp = confusion_matrix(y_val, preds).ravel()\n",
    "\n",
    "    # Get feature importance for models that have it\n",
    "    feat_imp = None\n",
    "    if model_name == LogisticRegression:\n",
    "        # Get absolute values of coefficients\n",
    "        lr_coef = pipeline_1.named_steps['classifier'].coef_[0]\n",
    "\n",
    "        # Sort features by absolute coefficient values\n",
    "        feat_imp = pd.DataFrame({'feature': X_train.columns, 'importance': lr_coef}).sort_values('importance', ascending=False)\n",
    "\n",
    "    elif hasattr(selected_est.named_steps['classifier'], 'feature_importances_'):\n",
    "        feat_imp = selected_est.named_steps['classifier'].feature_importances_\n",
    "        # Convert feat_imp numpy array to pandas dataframe\n",
    "        feat_imp = pd.DataFrame({'feature': X_train.columns, 'importance': feat_imp}).sort_values('importance', ascending=False)\n",
    "\n",
    "    if output == 'score':\n",
    "        print(f\"Train Score: {round(train_score, 3)}\")\n",
    "        print(f\"Val Score: {round(val_score, 3)} | TN: {tn} | FP: {fp} | FN: {fn} | TP: {tp}\\n\")\n",
    "\n",
    "    elif output == 'confusion_matrix':\n",
    "        # Plot confusion matrix\n",
    "        cm = confusion_matrix(y_val, preds)\n",
    "        disp = ConfusionMatrixDisplay(cm)\n",
    "        disp.plot(cmap='Reds');\n",
    "        \n",
    "    elif output == 'roc_curve':\n",
    "        # Plot ROC curve\n",
    "        roc_display = RocCurveDisplay.from_estimator(pipeline_1, X_val, y_val)\n",
    "        plt.plot([0, 1], [0, 1], 'k--', label='Random')\n",
    "        plt.plot([roc_display.fpr[roc_display.tpr.argmax()]], [roc_display.tpr.max()], 'ro', markersize=10, label=f'Val AUC = {roc_display.roc_auc:.3f}')\n",
    "        plt.legend()\n",
    "\n",
    "    elif output == 'feature_importance':\n",
    "        # Plot feature importance\n",
    "        if feat_imp is None:\n",
    "            print(\"Model does not have feature importance\")\n",
    "        else:\n",
    "            plt.figure(figsize=(6, 6))\n",
    "            sns.barplot(x='importance', y='feature', data=feat_imp)\n",
    "            plt.title('Feature Importance')\n",
    "            plt.xlabel('Importance')\n",
    "            plt.ylabel('Feature')\n",
    "            plt.show()"
   ]
  },
  {
   "cell_type": "code",
   "execution_count": 20,
   "metadata": {
    "id": "lkSDrlvK0dqi",
    "outputId": "1dde954f-f728-4dfd-dc25-b1b802719636"
   },
   "outputs": [
    {
     "name": "stdout",
     "output_type": "stream",
     "text": [
      "(6356, 15)\n",
      "(116293, 15)\n"
     ]
    }
   ],
   "source": [
    "# Compare Kaggle test shape to train data\n",
    "print(X_train.shape)\n",
    "print(df_test.shape)"
   ]
  },
  {
   "cell_type": "markdown",
   "metadata": {
    "id": "VBMD3A790dqi"
   },
   "source": [
    "**Logistic Regression model**"
   ]
  },
  {
   "cell_type": "code",
   "execution_count": 21,
   "metadata": {
    "id": "_z3Wnex20dqj"
   },
   "outputs": [],
   "source": [
    "# Define models with hyperparameters\n",
    "classifier_lr_params = {\n",
    "    'classifier__C': [0.1, 1, 10], # inverse of regularization strength; smaller values specify stronger regularization\n",
    "    'classifier__max_iter': [100, 1_000]\n",
    "}\n",
    "\n",
    "lr_models = [\n",
    "    {'name': 'LogisticRegression', \n",
    "         'classifier': LogisticRegression(), \n",
    "         'params': {**classifier_lr_params}}\n",
    "    ]"
   ]
  },
  {
   "cell_type": "code",
   "execution_count": 22,
   "metadata": {
    "id": "b08cDyV40dqj",
    "outputId": "ac369fec-ee0d-4696-f86d-5d77b66c559d",
    "scrolled": true
   },
   "outputs": [
    {
     "name": "stdout",
     "output_type": "stream",
     "text": [
      "LogisticRegression:\n",
      "Best CV Params: {'classifier__C': 10, 'classifier__max_iter': 100}\n",
      "Best CV AUC Score: 0.786\n",
      "Train AUC Score: 0.798\n",
      "Val AUC Score: 0.791 | TN: 1360 | FP: 645 | FN: 25 | TP: 89\n",
      "Precision: 0.121 | Recall: 0.781 | Precision-Recall Ratio: 0.155\n",
      "Overfitted (val minus train): -0.007\n",
      "\n",
      "\n"
     ]
    }
   ],
   "source": [
    "lr_compare_results, lr_best_est = evaluate_models(lr_models, X_train, X_val, y_train, y_val)\n",
    "print(lr_compare_results)"
   ]
  },
  {
   "cell_type": "code",
   "execution_count": 23,
   "metadata": {
    "id": "lsnbs1YO0dqj"
   },
   "outputs": [],
   "source": [
    "# # Use best estimator to make predictions on test set\n",
    "# pred_test_lr = lr_best_est[0].predict(df_test)\n",
    "\n",
    "# # Convert predictions to dataframe and save to CSV\n",
    "# df_kaggle_lr = pd.DataFrame({'Id' : df_kaggle['Id'], 'WnvPresent' : pred_test_lr})\n",
    "# df_kaggle_lr.to_csv('data/data_submission/kaggle_lr01f.csv', index=False)"
   ]
  },
  {
   "cell_type": "markdown",
   "metadata": {
    "id": "00X5LY6x0dqj"
   },
   "source": [
    "Kaggle private score for Logistic Regression: 0.65611 <br>\n",
    "Model is heavily overfitted. To see if reduced features can improve test score. We will set this as our baseline score."
   ]
  },
  {
   "cell_type": "code",
   "execution_count": 24,
   "metadata": {
    "id": "lpsix7sK0dqj",
    "outputId": "70f3bf51-0218-41fb-a93b-fc72311f3a37"
   },
   "outputs": [
    {
     "data": {
      "image/png": "[encoded data removed]",
      "text/plain": [
       "<Figure size 600x600 with 1 Axes>"
      ]
     },
     "metadata": {},
     "output_type": "display_data"
    }
   ],
   "source": [
    "# Identify feature importance for selected model\n",
    "selected_model_input('feature_importance', LogisticRegression, lr_best_est, X_train, X_val, y_train, y_val)"
   ]
  },
  {
   "cell_type": "markdown",
   "metadata": {
    "id": "YARaf7pH0dqj"
   },
   "source": [
    "Species is the most important feature followed by temperature (wet_bulb) and then daylight duration (minutes_between). The direction of each coefficient is aligned to earlier findings in EDA. For example, longer daylight duration would lead to less cases of WNV present.\n",
    "\n",
    "As expected, cluster 38 and 1 are the clusters with highest positive coefficients. Clusters 9 and 33 have highest negative coefficients."
   ]
  },
  {
   "cell_type": "markdown",
   "metadata": {
    "id": "idxKRvfd0dqj"
   },
   "source": [
    "**Logistic Regression model (Reduced features)**"
   ]
  },
  {
   "cell_type": "code",
   "execution_count": 25,
   "metadata": {
    "id": "2oWc-m3P0dqj"
   },
   "outputs": [],
   "source": [
    "columns_to_keep_02 = [\n",
    "    'minutes_between', 'wet_bulb', 'week_number', \n",
    "    'species_culex_pipiens', 'species_culex_pipiens/restuans', 'species_culex_restuans', 'result_speed'\n",
    "]"
   ]
  },
  {
   "cell_type": "code",
   "execution_count": 26,
   "metadata": {
    "id": "c4Hxh3Ov0dqj"
   },
   "outputs": [],
   "source": [
    "# Create new set of data for reduced features and perform train set split\n",
    "y_02 = df_train['wnv_present']\n",
    "X_02 = df_train[columns_to_keep_02].copy()\n",
    "df_test_02 = df_test[columns_to_keep_02].copy()\n",
    "\n",
    "X_train_02, X_val_02, y_train_02, y_val_02 = train_test_split(X_02, y_02, random_state = 42, stratify = y)"
   ]
  },
  {
   "cell_type": "code",
   "execution_count": 27,
   "metadata": {
    "id": "EUIcmpOX0dqj",
    "outputId": "723f5986-46e3-4758-9350-5236d5df6779"
   },
   "outputs": [
    {
     "name": "stdout",
     "output_type": "stream",
     "text": [
      "LogisticRegression:\n",
      "Best CV Params: {'classifier__C': 1, 'classifier__max_iter': 100}\n",
      "Best CV AUC Score: 0.76\n",
      "Train AUC Score: 0.768\n",
      "Val AUC Score: 0.748 | TN: 1217 | FP: 788 | FN: 26 | TP: 88\n",
      "Precision: 0.1 | Recall: 0.772 | Precision-Recall Ratio: 0.13\n",
      "Overfitted (val minus train): -0.02\n",
      "\n",
      "\n"
     ]
    }
   ],
   "source": [
    "lr_compare_results_02, lr_best_est_02 = evaluate_models(lr_models, X_train_02, X_val_02, y_train_02, y_val_02)\n",
    "print(lr_compare_results_02)"
   ]
  },
  {
   "cell_type": "code",
   "execution_count": 28,
   "metadata": {
    "id": "Sz_ka1Sb0dqj",
    "outputId": "9fa5a987-4459-48f5-e9e3-16b24b6c61f0"
   },
   "outputs": [
    {
     "data": {
      "image/png": "[encoded data removed]",
      "text/plain": [
       "<Figure size 600x600 with 1 Axes>"
      ]
     },
     "metadata": {},
     "output_type": "display_data"
    }
   ],
   "source": [
    "# Identify feature importance for Logistic Regression model\n",
    "selected_model_input('feature_importance', LogisticRegression, lr_best_est_02, X_train_02, X_val_02, y_train_02, y_val_02)"
   ]
  },
  {
   "cell_type": "code",
   "execution_count": 29,
   "metadata": {
    "id": "Vo_AbMep0dqj"
   },
   "outputs": [],
   "source": [
    "# # Use best estimator to make predictions on test set\n",
    "# pred_test_lr02 = lr_best_est_02[0].predict(df_test_02)\n",
    "\n",
    "# # Convert predictions to dataframe and save to CSV\n",
    "# df_kaggle_lr02 = pd.DataFrame({'Id' : df_kaggle['Id'], 'WnvPresent' : pred_test_lr02})\n",
    "# df_kaggle_lr02.to_csv('data/data_submission/kaggle_lr02f.csv', index=False)"
   ]
  },
  {
   "cell_type": "markdown",
   "metadata": {
    "id": "5V2wUYGW0dqj"
   },
   "source": [
    "Kaggle private score for Logistic Regression (reduced features): 0.58218 <br>\n",
    "Model does considerably worse with reduced features. Since there is too wide a gap to improve Logistic Regression model, we will not finetune parameters or features further."
   ]
  },
  {
   "cell_type": "markdown",
   "metadata": {
    "id": "538tduPT0dqk"
   },
   "source": [
    "**Multinomial Naive Bayes Model**"
   ]
  },
  {
   "cell_type": "code",
   "execution_count": 30,
   "metadata": {
    "id": "RRk_CcCU0dqk"
   },
   "outputs": [],
   "source": [
    "# Define models with hyperparameters\n",
    "classifier_nb_params = {\n",
    "    'classifier__alpha': [0.1, 0.5, 1], # smoothing parameter; larger values means more smoothing\n",
    "}\n",
    "\n",
    "nb_models = [\n",
    "    {'name': 'MultinomialNB', \n",
    "         'classifier': MultinomialNB(), \n",
    "         'params': {**classifier_nb_params}}   \n",
    "    ]"
   ]
  },
  {
   "cell_type": "code",
   "execution_count": 31,
   "metadata": {
    "id": "3BZVZN_b0dqk",
    "outputId": "a8d84a81-18d6-45c4-96af-88a035dd34b5"
   },
   "outputs": [
    {
     "name": "stdout",
     "output_type": "stream",
     "text": [
      "MultinomialNB:\n",
      "Best CV Params: {'classifier__alpha': 1}\n",
      "Best CV AUC Score: 0.705\n",
      "Train AUC Score: 0.716\n",
      "Val AUC Score: 0.708 | TN: 1130 | FP: 875 | FN: 30 | TP: 84\n",
      "Precision: 0.088 | Recall: 0.737 | Precision-Recall Ratio: 0.119\n",
      "Overfitted (val minus train): -0.007\n",
      "\n",
      "\n"
     ]
    }
   ],
   "source": [
    "nb_compare_results, nb_best_est = evaluate_models(nb_models, X_train, X_val, y_train, y_val)\n",
    "print(nb_compare_results)"
   ]
  },
  {
   "cell_type": "markdown",
   "metadata": {
    "id": "P1U7jnDn0dqk"
   },
   "source": [
    "As Multinomial Naive Bayes val score (0.713) does considerably worse than Logistic Regression (0.765), we will not check the Kaggle score or finetune this model further."
   ]
  },
  {
   "cell_type": "markdown",
   "metadata": {
    "id": "eKlvO-nS0dqk"
   },
   "source": [
    "**Random Forest Model**"
   ]
  },
  {
   "cell_type": "code",
   "execution_count": 32,
   "metadata": {
    "id": "9YK9hI0N0dqk"
   },
   "outputs": [],
   "source": [
    "# Define models with hyperparameters\n",
    "classifier_rf_params = {\n",
    "    'classifier__n_estimators': [100, 150, 200], # number of trees in the forest\n",
    "    'classifier__max_depth': [7, 9, 11] # maximum depth of the tree\n",
    "}\n",
    "\n",
    "rf_models = [\n",
    "    {'name': 'RandomForest', \n",
    "         'classifier': RandomForestClassifier(random_state=42), \n",
    "         'params': {**classifier_rf_params}},\n",
    "]"
   ]
  },
  {
   "cell_type": "code",
   "execution_count": 33,
   "metadata": {
    "id": "-bCIQ_E90dqk",
    "outputId": "239e638b-2fab-483b-9f2a-087394ce2683"
   },
   "outputs": [
    {
     "name": "stdout",
     "output_type": "stream",
     "text": [
      "RandomForest:\n",
      "Best CV Params: {'classifier__max_depth': 11, 'classifier__n_estimators': 200}\n",
      "Best CV AUC Score: 0.82\n",
      "Train AUC Score: 0.885\n",
      "Val AUC Score: 0.838 | TN: 1632 | FP: 373 | FN: 34 | TP: 80\n",
      "Precision: 0.177 | Recall: 0.702 | Precision-Recall Ratio: 0.252\n",
      "Overfitted (val minus train): -0.047\n",
      "\n",
      "\n"
     ]
    }
   ],
   "source": [
    "# Evaluate random forest model\n",
    "rf_compare_results, rf_best_est = evaluate_models(rf_models, X_train, X_val, y_train, y_val)\n",
    "print(rf_compare_results)"
   ]
  },
  {
   "cell_type": "code",
   "execution_count": 34,
   "metadata": {
    "id": "pX3h51K30dqk"
   },
   "outputs": [],
   "source": [
    "# # Use best estimator to make predictions on test set\n",
    "# pred_test = rf_best_est[0].predict(df_test)\n",
    "\n",
    "# # Convert predictions to dataframe and save to CSV\n",
    "# df_kaggle_rf = pd.DataFrame({'Id' : df_kaggle['Id'], 'WnvPresent' : pred_test})\n",
    "# df_kaggle_rf.to_csv('data/data_submission/kaggle_rf01f.csv', index=False)"
   ]
  },
  {
   "cell_type": "markdown",
   "metadata": {
    "id": "tGbc7NuR0dqk"
   },
   "source": [
    "Kaggle private score for Random Forest: 0.60943 <br>\n",
    "Model is heavily overfitted. To see if reduced features can improve test score."
   ]
  },
  {
   "cell_type": "code",
   "execution_count": 35,
   "metadata": {
    "id": "0qOo6kVE0dqk",
    "outputId": "d08472dd-51b6-4eb0-dca6-7ff4871c59f9"
   },
   "outputs": [
    {
     "data": {
      "image/png": "[encoded data removed]",
      "text/plain": [
       "<Figure size 600x600 with 1 Axes>"
      ]
     },
     "metadata": {},
     "output_type": "display_data"
    }
   ],
   "source": [
    "# Identify feature importance for Random Forest Model\n",
    "selected_model_input('feature_importance', RandomForestClassifier, rf_best_est, X_train, X_val, y_train, y_val)"
   ]
  },
  {
   "cell_type": "markdown",
   "metadata": {
    "id": "gO6b8uHy0dqk"
   },
   "source": [
    "Feature importance shown for Random Forest are absolute values.\n",
    "\n",
    "Since clusters are least important, will remove these features."
   ]
  },
  {
   "cell_type": "code",
   "execution_count": 36,
   "metadata": {
    "id": "sGpN6kmg0dqk",
    "outputId": "bb6c79ce-98ec-455e-b329-77f0808e172c"
   },
   "outputs": [
    {
     "name": "stdout",
     "output_type": "stream",
     "text": [
      "RandomForest:\n",
      "Best CV Params: {'classifier__max_depth': 11, 'classifier__n_estimators': 100}\n",
      "Best CV AUC Score: 0.821\n",
      "Train AUC Score: 0.867\n",
      "Val AUC Score: 0.822 | TN: 1573 | FP: 432 | FN: 35 | TP: 79\n",
      "Precision: 0.155 | Recall: 0.693 | Precision-Recall Ratio: 0.223\n",
      "Overfitted (val minus train): -0.045\n",
      "\n",
      "\n"
     ]
    }
   ],
   "source": [
    "# Evaluate random forest model\n",
    "rf_compare_results_02, rf_best_est_02 = evaluate_models(rf_models, X_train_02, X_val_02, y_train_02, y_val_02)\n",
    "print(rf_compare_results_02)"
   ]
  },
  {
   "cell_type": "code",
   "execution_count": 37,
   "metadata": {
    "id": "p8spO1jY0dqk"
   },
   "outputs": [],
   "source": [
    "# # Use best estimator to make predictions on test set\n",
    "# pred_test_02 = rf_best_est_02[0].predict(df_test_02)\n",
    "\n",
    "# # Convert predictions to dataframe and save to CSV\n",
    "# df_kaggle_rf_02 = pd.DataFrame({'Id' : df_kaggle['Id'], 'WnvPresent' : pred_test_02})\n",
    "# df_kaggle_rf_02.to_csv('data/data_submission/kaggle_rf02f.csv', index=False)"
   ]
  },
  {
   "cell_type": "markdown",
   "metadata": {
    "id": "blYI86ib0dqk"
   },
   "source": [
    "Kaggle private score for Random Forest: 0.68027 <br>\n",
    "Reduced features improved the test score significantly. To finetune and explore if this model is chosen."
   ]
  },
  {
   "cell_type": "markdown",
   "metadata": {
    "id": "VuqE_FuN0dqk"
   },
   "source": [
    "**XGBoost Model**"
   ]
  },
  {
   "cell_type": "code",
   "execution_count": 38,
   "metadata": {
    "id": "Gq8NK6VG0dqk"
   },
   "outputs": [],
   "source": [
    "# Define models with hyperparameters\n",
    "classifier_xgb_params = {\n",
    "    \"classifier__learning_rate\": [0.10, 0.12, 0.14],\n",
    "    \"classifier__max_depth\": [3, 4],\n",
    "    \"classifier__n_estimators\": [100, 125, 150],\n",
    "}\n",
    "\n",
    "\n",
    "xgb_models = [\n",
    "    {'name': 'XGBoost', \n",
    "         'classifier': XGBClassifier(random_state=42), \n",
    "         'params': {**classifier_xgb_params}}\n",
    "]"
   ]
  },
  {
   "cell_type": "code",
   "execution_count": 39,
   "metadata": {
    "id": "FYftro3_0dql",
    "outputId": "17322768-9a49-4d32-d9de-f3ee0b8afb1a"
   },
   "outputs": [
    {
     "name": "stdout",
     "output_type": "stream",
     "text": [
      "XGBoost:\n",
      "Best CV Params: {'classifier__learning_rate': 0.14, 'classifier__max_depth': 4, 'classifier__n_estimators': 150}\n",
      "Best CV AUC Score: 0.832\n",
      "Train AUC Score: 0.882\n",
      "Val AUC Score: 0.844 | TN: 1783 | FP: 222 | FN: 52 | TP: 62\n",
      "Precision: 0.218 | Recall: 0.544 | Precision-Recall Ratio: 0.401\n",
      "Overfitted (val minus train): -0.038\n",
      "\n",
      "\n"
     ]
    }
   ],
   "source": [
    "# Original features\n",
    "xgb_compare_results, xgb_best_est = evaluate_models(xgb_models, X_train, X_val, y_train, y_val)\n",
    "print(xgb_compare_results)"
   ]
  },
  {
   "cell_type": "code",
   "execution_count": 40,
   "metadata": {
    "id": "4bWKjGpW0dql"
   },
   "outputs": [],
   "source": [
    "# # Use best estimator to make predictions on test set\n",
    "# pred_test = xgb_best_est[0].predict(df_test)\n",
    "\n",
    "# # Convert predictions to dataframe and save to CSV\n",
    "# df_kaggle_xgb = pd.DataFrame({'Id' : df_kaggle['Id'], 'WnvPresent' : pred_test})\n",
    "# df_kaggle_xgb.to_csv('data/data_submission/kaggle_xgb01f.csv', index=False)"
   ]
  },
  {
   "cell_type": "code",
   "execution_count": 41,
   "metadata": {
    "id": "TzXfDwF20dql",
    "outputId": "831bb725-79bb-4356-a594-a1976a39ba4a"
   },
   "outputs": [
    {
     "name": "stdout",
     "output_type": "stream",
     "text": [
      "XGBoost:\n",
      "Best CV Params: {'classifier__learning_rate': 0.14, 'classifier__max_depth': 3, 'classifier__n_estimators': 125}\n",
      "Best CV AUC Score: 0.825\n",
      "Train AUC Score: 0.855\n",
      "Val AUC Score: 0.832 | TN: 1561 | FP: 444 | FN: 35 | TP: 79\n",
      "Precision: 0.151 | Recall: 0.693 | Precision-Recall Ratio: 0.218\n",
      "Overfitted (val minus train): -0.023\n",
      "\n",
      "\n"
     ]
    }
   ],
   "source": [
    "# Reduced features\n",
    "xgb_compare_results_02, xgb_best_est_02 = evaluate_models(xgb_models, X_train_02, X_val_02, y_train_02, y_val_02)\n",
    "print(xgb_compare_results_02)"
   ]
  },
  {
   "cell_type": "code",
   "execution_count": 42,
   "metadata": {
    "id": "t0J4Aejd0dql"
   },
   "outputs": [],
   "source": [
    "# # Use best estimator to make predictions on test set\n",
    "# pred_test_02 = xgb_best_est_02[0].predict(df_test_02)\n",
    "\n",
    "# # Convert predictions to dataframe and save to CSV\n",
    "# df_kaggle_xgb_02 = pd.DataFrame({'Id' : df_kaggle['Id'], 'WnvPresent' : pred_test_02})\n",
    "# df_kaggle_xgb_02.to_csv('data/data_submission/kaggle_xgb02f.csv', index=False)"
   ]
  },
  {
   "cell_type": "markdown",
   "metadata": {
    "id": "CRD5Er1A0dql"
   },
   "source": [
    "Kaggle private score for XGBoost: 0.57886 <br>\n",
    "Kaggle private score for XGBoost (reduced features): 0.60019 <br>\n",
    "Reduced features improved the test score significantly. However as Random Forest performed the best by a substantial amount, we will focus on improving the score for random forest."
   ]
  },
  {
   "cell_type": "markdown",
   "metadata": {
    "id": "30gHpzb40dql"
   },
   "source": [
    "**Finetune selected model (Random Forest)**"
   ]
  },
  {
   "cell_type": "markdown",
   "metadata": {
    "id": "0qgAeZBl0dql"
   },
   "source": [
    "For best kaggle score, val score is 0.822 and overfitting between train and val score is -0.04. From earlier tries, reducing the overfitting has the biggest impact to the Kaggle score. We will try to reduce overfitting to less than 0.04 while keeping val score above 0.80."
   ]
  },
  {
   "cell_type": "code",
   "execution_count": 43,
   "metadata": {
    "id": "yN7RvDFR0dql"
   },
   "outputs": [],
   "source": [
    "# Define models with hyperparameters\n",
    "smote_params = {\n",
    "    'sampling__sampling_strategy': ['minority', 'not majority'],\n",
    "    'sampling__k_neighbors': [3, 5, 7],\n",
    "}\n",
    "\n",
    "classifier_rf_params = {\n",
    "    'classifier__n_estimators': [80, 100, 120], # number of trees in the forest\n",
    "    'classifier__max_depth': [6, 7, 8], # maximum depth of the tree\n",
    "    'classifier__min_samples_split': [10, 11, 12, 13], # minimum samples required to split an internal node. Higher number can reduce overfitting\n",
    "    'classifier__min_samples_leaf': [2, 4, 6] # minimum samples required at a leaf node. Higher number can reduce overfitting\n",
    "}\n",
    "\n",
    "rf_models_finetune = [\n",
    "    {'name': 'RandomForest', \n",
    "         'classifier': RandomForestClassifier(random_state=42), \n",
    "         'params': {**classifier_rf_params, **smote_params}},\n",
    "]"
   ]
  },
  {
   "cell_type": "code",
   "execution_count": null,
   "metadata": {
    "id": "5rm-Gsmv0dql",
    "outputId": "31788e5c-0cc3-4b7b-f4e0-1b432316e165",
    "scrolled": true
   },
   "outputs": [],
   "source": [
    "# Evaluate random forest model\n",
    "rf_compare_results_finetune, rf_best_est_finetune = evaluate_models(rf_models_finetune, X_train_02, X_val_02, y_train_02, y_val_02)\n",
    "print(rf_compare_results_finetune)"
   ]
  },
  {
   "cell_type": "code",
   "execution_count": null,
   "metadata": {
    "id": "Za1NPAOa0dql"
   },
   "outputs": [],
   "source": [
    "# # Use best estimator to make predictions on test set\n",
    "# pred_test_finetune = rf_best_est_finetune[0].predict(df_test_02)\n",
    "\n",
    "# # Convert predictions to dataframe and save to CSV\n",
    "# df_kaggle_rf_finetune = pd.DataFrame({'Id' : df_kaggle['Id'], 'WnvPresent' : pred_test_finetune})\n",
    "# df_kaggle_rf_finetune.to_csv('data/data_submission/kaggle_rf03f.csv', index=False)"
   ]
  },
  {
   "cell_type": "markdown",
   "metadata": {
    "id": "P3bB3Vfg0dql"
   },
   "source": [
    "Kaggle private score for Finetuned Random Forest: **0.70135 (final score)**."
   ]
  },
  {
   "cell_type": "code",
   "execution_count": null,
   "metadata": {
    "id": "Vn23PvwM0dql",
    "outputId": "12f99364-9da8-4326-8885-6c561c21753e",
    "scrolled": false
   },
   "outputs": [],
   "source": [
    "# Plot confusion matrix for selected model\n",
    "selected_model_input('confusion_matrix', RandomForestClassifier, rf_best_est_finetune, X_train_02, X_val_02, y_train_02, y_val_02)"
   ]
  },
  {
   "cell_type": "code",
   "execution_count": null,
   "metadata": {
    "id": "FyUptGZ80dql",
    "outputId": "6aa8cb56-3938-4bec-cd0e-aa19d0c85dc4",
    "scrolled": false
   },
   "outputs": [],
   "source": [
    "# Plot ROC curve for selected model\n",
    "selected_model_input('roc_curve', RandomForestClassifier, rf_best_est_finetune, X_train_02, X_val_02, y_train_02, y_val_02)"
   ]
  },
  {
   "cell_type": "markdown",
   "metadata": {
    "id": "nLX7I9dK0dql"
   },
   "source": [
    "The model heavily emphasises recall over precision.\n",
    "- from the confusion matrix, there are 506 false positives and 29 false negatives\n",
    "- this is also seen in the ROC curve where the TPR is high on the curve\n",
    "- precision to recall ratio is 0.193 (recall weighed 3.9 times of precision)\n",
    "- recall score is reasonable at 0.746\n",
    "\n",
    "This is acceptable because we prefer to have more cases of over-spraying than under-spraying."
   ]
  },
  {
   "cell_type": "code",
   "execution_count": null,
   "metadata": {
    "id": "7Y-g7SkK0dqm",
    "outputId": "69e5957d-dba5-4cdf-e411-e34f9e7a39b6"
   },
   "outputs": [],
   "source": [
    "# Identify feature importance for selected model\n",
    "selected_model_input('feature_importance', RandomForestClassifier, rf_best_est_finetune, X_train_02, X_val_02, y_train_02, y_val_02)"
   ]
  },
  {
   "cell_type": "markdown",
   "metadata": {
    "id": "XG-PiYs00dqm"
   },
   "source": [
    "For the selected random forest model, daylight duration is the most important factor by far, followed by week number, temperature and then wind speed."
   ]
  },
  {
   "cell_type": "markdown",
   "metadata": {
    "id": "mPdCrQ6o0dqm"
   },
   "source": [
    "---\n",
    "## Summary\n",
    "---"
   ]
  },
  {
   "cell_type": "markdown",
   "metadata": {
    "id": "KioTwEl90dqm"
   },
   "source": [
    "**Summary of results**\n",
    "\n",
    "|Model|Classifier|AUC (CV)|AUC (Train)|AUC (Val)|AUC (Kaggle)|Recall (Val)|Pros|Cons|\n",
    "|:---|:---|:---|:---|:---|:---|:---|:---|:---|\n",
    "|1|Logistic Regression|0.786|0.798|0.791|0.656|0.781|fast; easy to interpret|may not capture complex/non-lineaer relationship|\n",
    "|2|Logistic Regression (less features)|0.760|0.768|0.748|0.582|0.772|fast; easy to interpret|may not capture complex/non-lineaer relationship|\n",
    "|3|Multinomial Naive Bayes|0.705|0.716|0.708|N/A|0.737|fast and simple|may not capture complex/non-linear relationship|\n",
    "|5|Random Forest|0.820|0.885|0.838|0.609|0.702|robust to noise; can capture complex/non-linear relationship|slower|\n",
    "|6|Random Forest (less features)|0.821|0.867|0.822|0.680|0.693|robust to noise; can capture complex/non-linear relationship|slower|\n",
    "|7|XGBoost|0.832|0.882|0.844|0.579|0.544|robust to noise; can capture complex/non-linear relationship|slower|\n",
    "|8|XGBoost|0.825|0.855|0.832|0.600|0.693|robust to noise; can capture complex/non-linear relationship|slower|\n",
    "|9|**Random Forest (less Features) finetuned**|0.823|0.859|0.822|**0.701**|0.746|robust to noise; can capture complex/non-linear relationship|slower|\n",
    "\n",
    "Random Forest had the least amount of overfitting when tested using the Kaggle dataset. It also has a reasonable recall score of 0.746. \n",
    "\n",
    "Location was dropped as a feature because it caused overfitting for the selected Random Forest model. This could be because big cluster areas vary in location from year to year, as explored in the EDA earlier.\n",
    "<br>\n",
    "<br>\n",
    "<br>\n",
    "**Hindsight** <br>\n",
    "It was quite challenging to get a good score. This could be because of how the Kaggle datasets were designed: train (2007, 2009, 2011, 2013) and test data (2008, 2010, 2012, 2014) were split in alternate years. We have to use data from some years to predict results for other years. While not exactly a time-series problem, this makes it more unpredictable as there could be other factors such as time element or year specific elements which could not be identified and trained (without looking at the test data).\n",
    "\n",
    "Even though there is very little overfitting when doing train-test split and validating, it was heavily overfitted on the test data. In hindsight. we could further explore techniques in designing validation to overcome this issue. For example, we could do train-test split by years, and perform training and validation on different years. This might make the model more robust to year sensitive elements."
   ]
  }
 ],
 "metadata": {
  "colab": {
   "provenance": []
  },
  "kernelspec": {
   "display_name": "Python 3 (ipykernel)",
   "language": "python",
   "name": "python3"
  },
  "language_info": {
   "codemirror_mode": {
    "name": "ipython",
    "version": 3
   },
   "file_extension": ".py",
   "mimetype": "text/x-python",
   "name": "python",
   "nbconvert_exporter": "python",
   "pygments_lexer": "ipython3",
   "version": "3.9.16"
  }
 },
 "nbformat": 4,
 "nbformat_minor": 1
}
