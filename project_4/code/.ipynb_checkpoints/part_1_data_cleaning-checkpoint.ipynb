{
 "cells": [
  {
   "cell_type": "markdown",
   "metadata": {
    "id": "3w2l8x-0much"
   },
   "source": [
    "<img src=\"http://imgur.com/1ZcRyrc.png\" style=\"float: left; margin: 20px; height: 55px\">\n",
    "\n",
    "# Project 4 - West Nile Virus Prediction (Kaggle) <br> [Part 1 of 4]\n",
    "\n",
    "_Prepared by: Kho Guan Guo, Soh Sze Ron, Timothy Chan, 3 Apr 2023_"
   ]
  },
  {
   "cell_type": "markdown",
   "metadata": {
    "id": "4oQlBkKIzq5F"
   },
   "source": [
    "## Contents:\n",
    "- [Overview](#Overview)\n",
    "- [Data Dictionary](#Data-Dictionary)\n",
    "- [Data Cleaning](#Data-Cleaning)"
   ]
  },
  {
   "cell_type": "markdown",
   "metadata": {
    "id": "gDgLbO48JwJX"
   },
   "source": [
    "---\n",
    "## Overview\n",
    "---"
   ]
  },
  {
   "cell_type": "markdown",
   "metadata": {
    "id": "-dzCx3axzq5G"
   },
   "source": [
    "#### Background\n",
    "\n",
    "In 2002, the first human cases of West Nile virus were reported in Chicago. By 2004 the City of Chicago and the Chicago Department of Public Health (CDPH) had established a comprehensive surveillance and control program that is still in effect today.\n",
    "\n",
    "Every week from late spring through the fall, mosquitos in traps across the city are tested for the virus. The results of these tests influence when and where the city will spray airborne pesticides to control adult mosquito populations.\n",
    "\n",
    "West Nile virus, is typically spread by mosquitoes. In about 80% of infections people have few or no symptoms. About 20% of people develop a fever, headache, vomiting, or a rash. In less than 1% of people, encephalitis or meningitis occurs, with associated neck stiffness, confusion, or seizures. Recovery may take weeks to months. The risk of death among those in whom the nervous system is affected is about 10 percent. People can reduce their risk of WNV by using insect repellent and wearing long-sleeved shirts and long pants to prevent mosquito bites.\n",
    "\n",
    "The cost of treatment for severe symtoms developed from WNV can be staggeringly high. Preventative measures like spraying of pesticides, can also be costly and potentially harmful to the environment. It is thus essential to manage the spread of WNV efficiently and effectively."
   ]
  },
  {
   "cell_type": "markdown",
   "metadata": {
    "id": "PuIogndOzq5G"
   },
   "source": [
    "#### Problem Statement\n",
    "\n",
    "We are employees of the Disease And Treatment Agency, division of Societal Cures In Epidemiology and New Creative Engineering (DATA-SCIENCE). Due to the recent epidemic of West Nile Virus in the Windy City, we've had the Department of Public Health set up a surveillance and control system. \n",
    "\n",
    "Our role is to derive an effective plan to deploy pesticides throughout the city:\n",
    "1. create a model to predict the presence of WNV throughout various locations in the city of Chicago\n",
    "2. do a cost benefit analysis to weigh cost of spraying pesticides against potential benefits\n",
    "\n",
    "The model and the analysis should serve to help the city better manage resources when dealing with WNV."
   ]
  },
  {
   "cell_type": "markdown",
   "metadata": {
    "id": "6vGX7mAoJ1nz"
   },
   "source": [
    "---\n",
    "## Data Dictionary\n",
    "---"
   ]
  },
  {
   "cell_type": "markdown",
   "metadata": {
    "id": "NB-Cq4h4J7lX"
   },
   "source": [
    "#### **train.csv , test.csv**\n",
    "\n",
    "  1. The train set consists of data from 2007, 2009, 2011, and 2013\n",
    "  2. The test set consists of data from 2008, 2010, 2012 and 2014 (without data on NumMosquitos and WnvPresent)"
   ]
  },
  {
   "cell_type": "markdown",
   "metadata": {
    "id": "IHcNgT5-rsUX"
   },
   "source": [
    "| Feature                | Data Type | Description                                                                                              |\n",
    "|------------------------|-----------|----------------------------------------------------------------------------------------------------------|\n",
    "| Date                   | object    | Date that the WNV test is performed                                                                      |\n",
    "| Species                | object    | The species of mosquitos                                                                       \n",
    "| Trap                   | object    | Id of the trap                                                                            \n",
    "| Latitude               | float     | Latitude returned from GeoCoder                                                                          |\n",
    "| Longitude              | float     | Longitude returned from GeoCoder                                                                         |\n",
    "| AddressAccuracy        | int       | Accuracy returned from GeoCoder                                                                          |\n",
    "| NumMosquitos           | int       | Number of mosquitoes caught in this trap                                                                 |\n",
    "| WnvPresent             | int       | Whether West Nile Virus was present in these mosquitos. 1 means WNV is present, and 0 means not present. |"
   ]
  },
  {
   "cell_type": "markdown",
   "metadata": {
    "id": "ooJxH9x6KZ7j"
   },
   "source": [
    "#### **spray.csv** - GIS data of spraying efforts in 2011 and 2013"
   ]
  },
  {
   "cell_type": "markdown",
   "metadata": {
    "id": "oeSowgWOKhYm"
   },
   "source": [
    "| Feature   | Data Type | Description            |\n",
    "|-----------|-----------|------------------------|\n",
    "| Date      | object    | The date of the spray  |\n",
    "| Time      | object    | The time of the spray  |\n",
    "| Latitude  | float     | Latitude of the spray  |\n",
    "| Longitude | float     | Longitude of the spray |"
   ]
  },
  {
   "cell_type": "code",
   "execution_count": 1,
   "metadata": {
    "executionInfo": {
     "elapsed": 5,
     "status": "ok",
     "timestamp": 1680071019975,
     "user": {
      "displayName": "Kho Guan Guo",
      "userId": "18440818566893095422"
     },
     "user_tz": -480
    },
    "id": "6oy6gJ5wMYHJ",
    "outputId": "406f6639-c6ab-4098-f53f-57587e642bfa",
    "scrolled": false
   },
   "outputs": [],
   "source": [
    "# Importing Libraries\n",
    "\n",
    "import numpy as np\n",
    "import pandas as pd\n",
    "import re"
   ]
  },
  {
   "cell_type": "markdown",
   "metadata": {
    "id": "1XZ22h5QKqkK"
   },
   "source": [
    "---\n",
    "## Data Cleaning\n",
    "---"
   ]
  },
  {
   "cell_type": "markdown",
   "metadata": {
    "id": "ppkO7z70Kq1h"
   },
   "source": [
    "### Import our training data"
   ]
  },
  {
   "cell_type": "code",
   "execution_count": 2,
   "metadata": {
    "id": "iaRZZCcTKq5s"
   },
   "outputs": [],
   "source": [
    "train = pd.read_csv('../data/train.csv', parse_dates=True)\n",
    "test = pd.read_csv('../data/test.csv', parse_dates=True)\n",
    "weather = pd.read_csv('../data/weather.csv', parse_dates=True)\n",
    "spray = pd.read_csv('../data/spray.csv', parse_dates=True)"
   ]
  },
  {
   "cell_type": "code",
   "execution_count": 3,
   "metadata": {
    "id": "TPgypTzmKq-5"
   },
   "outputs": [
    {
     "name": "stdout",
     "output_type": "stream",
     "text": [
      "Date                      0\n",
      "Address                   0\n",
      "Species                   0\n",
      "Block                     0\n",
      "Street                    0\n",
      "Trap                      0\n",
      "AddressNumberAndStreet    0\n",
      "Latitude                  0\n",
      "Longitude                 0\n",
      "AddressAccuracy           0\n",
      "NumMosquitos              0\n",
      "WnvPresent                0\n",
      "dtype: int64\n",
      "\n",
      "Id                        0\n",
      "Date                      0\n",
      "Address                   0\n",
      "Species                   0\n",
      "Block                     0\n",
      "Street                    0\n",
      "Trap                      0\n",
      "AddressNumberAndStreet    0\n",
      "Latitude                  0\n",
      "Longitude                 0\n",
      "AddressAccuracy           0\n",
      "dtype: int64\n"
     ]
    }
   ],
   "source": [
    "print(train.isnull().sum())\n",
    "print()\n",
    "print(test.isnull().sum())"
   ]
  },
  {
   "cell_type": "code",
   "execution_count": 4,
   "metadata": {
    "id": "2vrjJswYKrD1"
   },
   "outputs": [
    {
     "name": "stdout",
     "output_type": "stream",
     "text": [
      "Station        0\n",
      "Date           0\n",
      "Tmax           0\n",
      "Tmin           0\n",
      "Tavg           0\n",
      "Depart         0\n",
      "DewPoint       0\n",
      "WetBulb        0\n",
      "Heat           0\n",
      "Cool           0\n",
      "Sunrise        0\n",
      "Sunset         0\n",
      "CodeSum        0\n",
      "Depth          0\n",
      "Water1         0\n",
      "SnowFall       0\n",
      "PrecipTotal    0\n",
      "StnPressure    0\n",
      "SeaLevel       0\n",
      "ResultSpeed    0\n",
      "ResultDir      0\n",
      "AvgSpeed       0\n",
      "dtype: int64\n",
      "\n",
      "Date           0\n",
      "Time         584\n",
      "Latitude       0\n",
      "Longitude      0\n",
      "dtype: int64\n"
     ]
    }
   ],
   "source": [
    "print(weather.isnull().sum())\n",
    "print()\n",
    "print(spray.isnull().sum())"
   ]
  },
  {
   "cell_type": "code",
   "execution_count": 5,
   "metadata": {
    "id": "58xBLJQTKrHh"
   },
   "outputs": [],
   "source": [
    "dataframes = [train, test, weather, spray]\n",
    "\n",
    "# Converting column names to snake case\n",
    "def camel_to_snake(name):\n",
    "    name = re.sub('(.)([A-Z][a-z]+)', r'\\1_\\2', name)\n",
    "    return re.sub('([a-z0-9])([A-Z])', r'\\1_\\2', name).lower()\n",
    "\n",
    "for df in dataframes:\n",
    "    df.columns = [camel_to_snake(col) for col in df.columns]"
   ]
  },
  {
   "cell_type": "markdown",
   "metadata": {
    "id": "gEpA1dBmKrMC"
   },
   "source": [
    "### Train and Test Data"
   ]
  },
  {
   "cell_type": "code",
   "execution_count": 6,
   "metadata": {
    "id": "qf2UfVkqKrPh"
   },
   "outputs": [
    {
     "data": {
      "text/html": [
       "<div>\n",
       "<style scoped>\n",
       "    .dataframe tbody tr th:only-of-type {\n",
       "        vertical-align: middle;\n",
       "    }\n",
       "\n",
       "    .dataframe tbody tr th {\n",
       "        vertical-align: top;\n",
       "    }\n",
       "\n",
       "    .dataframe thead th {\n",
       "        text-align: right;\n",
       "    }\n",
       "</style>\n",
       "<table border=\"1\" class=\"dataframe\">\n",
       "  <thead>\n",
       "    <tr style=\"text-align: right;\">\n",
       "      <th></th>\n",
       "      <th>date</th>\n",
       "      <th>address</th>\n",
       "      <th>species</th>\n",
       "      <th>block</th>\n",
       "      <th>street</th>\n",
       "      <th>trap</th>\n",
       "      <th>address_number_and_street</th>\n",
       "      <th>latitude</th>\n",
       "      <th>longitude</th>\n",
       "      <th>address_accuracy</th>\n",
       "      <th>num_mosquitos</th>\n",
       "      <th>wnv_present</th>\n",
       "    </tr>\n",
       "  </thead>\n",
       "  <tbody>\n",
       "    <tr>\n",
       "      <th>0</th>\n",
       "      <td>2007-05-29</td>\n",
       "      <td>4100 North Oak Park Avenue, Chicago, IL 60634,...</td>\n",
       "      <td>CULEX PIPIENS/RESTUANS</td>\n",
       "      <td>41</td>\n",
       "      <td>N OAK PARK AVE</td>\n",
       "      <td>T002</td>\n",
       "      <td>4100  N OAK PARK AVE, Chicago, IL</td>\n",
       "      <td>41.954690</td>\n",
       "      <td>-87.800991</td>\n",
       "      <td>9</td>\n",
       "      <td>1</td>\n",
       "      <td>0</td>\n",
       "    </tr>\n",
       "    <tr>\n",
       "      <th>1</th>\n",
       "      <td>2007-05-29</td>\n",
       "      <td>4100 North Oak Park Avenue, Chicago, IL 60634,...</td>\n",
       "      <td>CULEX RESTUANS</td>\n",
       "      <td>41</td>\n",
       "      <td>N OAK PARK AVE</td>\n",
       "      <td>T002</td>\n",
       "      <td>4100  N OAK PARK AVE, Chicago, IL</td>\n",
       "      <td>41.954690</td>\n",
       "      <td>-87.800991</td>\n",
       "      <td>9</td>\n",
       "      <td>1</td>\n",
       "      <td>0</td>\n",
       "    </tr>\n",
       "    <tr>\n",
       "      <th>2</th>\n",
       "      <td>2007-05-29</td>\n",
       "      <td>6200 North Mandell Avenue, Chicago, IL 60646, USA</td>\n",
       "      <td>CULEX RESTUANS</td>\n",
       "      <td>62</td>\n",
       "      <td>N MANDELL AVE</td>\n",
       "      <td>T007</td>\n",
       "      <td>6200  N MANDELL AVE, Chicago, IL</td>\n",
       "      <td>41.994991</td>\n",
       "      <td>-87.769279</td>\n",
       "      <td>9</td>\n",
       "      <td>1</td>\n",
       "      <td>0</td>\n",
       "    </tr>\n",
       "    <tr>\n",
       "      <th>3</th>\n",
       "      <td>2007-05-29</td>\n",
       "      <td>7900 West Foster Avenue, Chicago, IL 60656, USA</td>\n",
       "      <td>CULEX PIPIENS/RESTUANS</td>\n",
       "      <td>79</td>\n",
       "      <td>W FOSTER AVE</td>\n",
       "      <td>T015</td>\n",
       "      <td>7900  W FOSTER AVE, Chicago, IL</td>\n",
       "      <td>41.974089</td>\n",
       "      <td>-87.824812</td>\n",
       "      <td>8</td>\n",
       "      <td>1</td>\n",
       "      <td>0</td>\n",
       "    </tr>\n",
       "    <tr>\n",
       "      <th>4</th>\n",
       "      <td>2007-05-29</td>\n",
       "      <td>7900 West Foster Avenue, Chicago, IL 60656, USA</td>\n",
       "      <td>CULEX RESTUANS</td>\n",
       "      <td>79</td>\n",
       "      <td>W FOSTER AVE</td>\n",
       "      <td>T015</td>\n",
       "      <td>7900  W FOSTER AVE, Chicago, IL</td>\n",
       "      <td>41.974089</td>\n",
       "      <td>-87.824812</td>\n",
       "      <td>8</td>\n",
       "      <td>4</td>\n",
       "      <td>0</td>\n",
       "    </tr>\n",
       "  </tbody>\n",
       "</table>\n",
       "</div>"
      ],
      "text/plain": [
       "         date                                            address  \\\n",
       "0  2007-05-29  4100 North Oak Park Avenue, Chicago, IL 60634,...   \n",
       "1  2007-05-29  4100 North Oak Park Avenue, Chicago, IL 60634,...   \n",
       "2  2007-05-29  6200 North Mandell Avenue, Chicago, IL 60646, USA   \n",
       "3  2007-05-29    7900 West Foster Avenue, Chicago, IL 60656, USA   \n",
       "4  2007-05-29    7900 West Foster Avenue, Chicago, IL 60656, USA   \n",
       "\n",
       "                  species  block           street  trap  \\\n",
       "0  CULEX PIPIENS/RESTUANS     41   N OAK PARK AVE  T002   \n",
       "1          CULEX RESTUANS     41   N OAK PARK AVE  T002   \n",
       "2          CULEX RESTUANS     62    N MANDELL AVE  T007   \n",
       "3  CULEX PIPIENS/RESTUANS     79     W FOSTER AVE  T015   \n",
       "4          CULEX RESTUANS     79     W FOSTER AVE  T015   \n",
       "\n",
       "           address_number_and_street   latitude  longitude  address_accuracy  \\\n",
       "0  4100  N OAK PARK AVE, Chicago, IL  41.954690 -87.800991                 9   \n",
       "1  4100  N OAK PARK AVE, Chicago, IL  41.954690 -87.800991                 9   \n",
       "2   6200  N MANDELL AVE, Chicago, IL  41.994991 -87.769279                 9   \n",
       "3    7900  W FOSTER AVE, Chicago, IL  41.974089 -87.824812                 8   \n",
       "4    7900  W FOSTER AVE, Chicago, IL  41.974089 -87.824812                 8   \n",
       "\n",
       "   num_mosquitos  wnv_present  \n",
       "0              1            0  \n",
       "1              1            0  \n",
       "2              1            0  \n",
       "3              1            0  \n",
       "4              4            0  "
      ]
     },
     "execution_count": 6,
     "metadata": {},
     "output_type": "execute_result"
    }
   ],
   "source": [
    "train.head()"
   ]
  },
  {
   "cell_type": "code",
   "execution_count": 7,
   "metadata": {
    "id": "ceqcrvcQK9Mq"
   },
   "outputs": [
    {
     "data": {
      "text/html": [
       "<div>\n",
       "<style scoped>\n",
       "    .dataframe tbody tr th:only-of-type {\n",
       "        vertical-align: middle;\n",
       "    }\n",
       "\n",
       "    .dataframe tbody tr th {\n",
       "        vertical-align: top;\n",
       "    }\n",
       "\n",
       "    .dataframe thead th {\n",
       "        text-align: right;\n",
       "    }\n",
       "</style>\n",
       "<table border=\"1\" class=\"dataframe\">\n",
       "  <thead>\n",
       "    <tr style=\"text-align: right;\">\n",
       "      <th></th>\n",
       "      <th>id</th>\n",
       "      <th>date</th>\n",
       "      <th>address</th>\n",
       "      <th>species</th>\n",
       "      <th>block</th>\n",
       "      <th>street</th>\n",
       "      <th>trap</th>\n",
       "      <th>address_number_and_street</th>\n",
       "      <th>latitude</th>\n",
       "      <th>longitude</th>\n",
       "      <th>address_accuracy</th>\n",
       "    </tr>\n",
       "  </thead>\n",
       "  <tbody>\n",
       "    <tr>\n",
       "      <th>0</th>\n",
       "      <td>1</td>\n",
       "      <td>2008-06-11</td>\n",
       "      <td>4100 North Oak Park Avenue, Chicago, IL 60634,...</td>\n",
       "      <td>CULEX PIPIENS/RESTUANS</td>\n",
       "      <td>41</td>\n",
       "      <td>N OAK PARK AVE</td>\n",
       "      <td>T002</td>\n",
       "      <td>4100  N OAK PARK AVE, Chicago, IL</td>\n",
       "      <td>41.95469</td>\n",
       "      <td>-87.800991</td>\n",
       "      <td>9</td>\n",
       "    </tr>\n",
       "    <tr>\n",
       "      <th>1</th>\n",
       "      <td>2</td>\n",
       "      <td>2008-06-11</td>\n",
       "      <td>4100 North Oak Park Avenue, Chicago, IL 60634,...</td>\n",
       "      <td>CULEX RESTUANS</td>\n",
       "      <td>41</td>\n",
       "      <td>N OAK PARK AVE</td>\n",
       "      <td>T002</td>\n",
       "      <td>4100  N OAK PARK AVE, Chicago, IL</td>\n",
       "      <td>41.95469</td>\n",
       "      <td>-87.800991</td>\n",
       "      <td>9</td>\n",
       "    </tr>\n",
       "    <tr>\n",
       "      <th>2</th>\n",
       "      <td>3</td>\n",
       "      <td>2008-06-11</td>\n",
       "      <td>4100 North Oak Park Avenue, Chicago, IL 60634,...</td>\n",
       "      <td>CULEX PIPIENS</td>\n",
       "      <td>41</td>\n",
       "      <td>N OAK PARK AVE</td>\n",
       "      <td>T002</td>\n",
       "      <td>4100  N OAK PARK AVE, Chicago, IL</td>\n",
       "      <td>41.95469</td>\n",
       "      <td>-87.800991</td>\n",
       "      <td>9</td>\n",
       "    </tr>\n",
       "    <tr>\n",
       "      <th>3</th>\n",
       "      <td>4</td>\n",
       "      <td>2008-06-11</td>\n",
       "      <td>4100 North Oak Park Avenue, Chicago, IL 60634,...</td>\n",
       "      <td>CULEX SALINARIUS</td>\n",
       "      <td>41</td>\n",
       "      <td>N OAK PARK AVE</td>\n",
       "      <td>T002</td>\n",
       "      <td>4100  N OAK PARK AVE, Chicago, IL</td>\n",
       "      <td>41.95469</td>\n",
       "      <td>-87.800991</td>\n",
       "      <td>9</td>\n",
       "    </tr>\n",
       "    <tr>\n",
       "      <th>4</th>\n",
       "      <td>5</td>\n",
       "      <td>2008-06-11</td>\n",
       "      <td>4100 North Oak Park Avenue, Chicago, IL 60634,...</td>\n",
       "      <td>CULEX TERRITANS</td>\n",
       "      <td>41</td>\n",
       "      <td>N OAK PARK AVE</td>\n",
       "      <td>T002</td>\n",
       "      <td>4100  N OAK PARK AVE, Chicago, IL</td>\n",
       "      <td>41.95469</td>\n",
       "      <td>-87.800991</td>\n",
       "      <td>9</td>\n",
       "    </tr>\n",
       "  </tbody>\n",
       "</table>\n",
       "</div>"
      ],
      "text/plain": [
       "   id        date                                            address  \\\n",
       "0   1  2008-06-11  4100 North Oak Park Avenue, Chicago, IL 60634,...   \n",
       "1   2  2008-06-11  4100 North Oak Park Avenue, Chicago, IL 60634,...   \n",
       "2   3  2008-06-11  4100 North Oak Park Avenue, Chicago, IL 60634,...   \n",
       "3   4  2008-06-11  4100 North Oak Park Avenue, Chicago, IL 60634,...   \n",
       "4   5  2008-06-11  4100 North Oak Park Avenue, Chicago, IL 60634,...   \n",
       "\n",
       "                  species  block           street  trap  \\\n",
       "0  CULEX PIPIENS/RESTUANS     41   N OAK PARK AVE  T002   \n",
       "1          CULEX RESTUANS     41   N OAK PARK AVE  T002   \n",
       "2           CULEX PIPIENS     41   N OAK PARK AVE  T002   \n",
       "3        CULEX SALINARIUS     41   N OAK PARK AVE  T002   \n",
       "4         CULEX TERRITANS     41   N OAK PARK AVE  T002   \n",
       "\n",
       "           address_number_and_street  latitude  longitude  address_accuracy  \n",
       "0  4100  N OAK PARK AVE, Chicago, IL  41.95469 -87.800991                 9  \n",
       "1  4100  N OAK PARK AVE, Chicago, IL  41.95469 -87.800991                 9  \n",
       "2  4100  N OAK PARK AVE, Chicago, IL  41.95469 -87.800991                 9  \n",
       "3  4100  N OAK PARK AVE, Chicago, IL  41.95469 -87.800991                 9  \n",
       "4  4100  N OAK PARK AVE, Chicago, IL  41.95469 -87.800991                 9  "
      ]
     },
     "execution_count": 7,
     "metadata": {},
     "output_type": "execute_result"
    }
   ],
   "source": [
    "test.head()"
   ]
  },
  {
   "cell_type": "code",
   "execution_count": 8,
   "metadata": {
    "id": "1wwXpYq_K9Rk"
   },
   "outputs": [],
   "source": [
    "columns_to_drop = ['address', 'block', 'street', 'address_accuracy']\n",
    "train = train.drop(columns=columns_to_drop)\n",
    "test = test.drop(columns=columns_to_drop)"
   ]
  },
  {
   "cell_type": "code",
   "execution_count": 9,
   "metadata": {
    "id": "j4jy15mt2Tip"
   },
   "outputs": [
    {
     "data": {
      "text/plain": [
       "False    9693\n",
       "True      813\n",
       "dtype: int64"
      ]
     },
     "execution_count": 9,
     "metadata": {},
     "output_type": "execute_result"
    }
   ],
   "source": [
    "# check for duplicates for train dataset\n",
    "train.duplicated().value_counts()"
   ]
  },
  {
   "cell_type": "markdown",
   "metadata": {
    "id": "llD9oIZK-faq"
   },
   "source": [
    "Per Kaggle instructions:\n",
    "*\"These test results are organized in such a way that when the number of mosquitos exceed 50, they are split into another record (another row in the dataset), such that the number of mosquitos are capped at 50.\"*\n",
    "\n",
    "We only dedupe for those with number of mosquitoes not equals to 50 (106 rows). The remaining were aggregated."
   ]
  },
  {
   "cell_type": "code",
   "execution_count": 10,
   "metadata": {
    "id": "G7CBNjIQ7lvY"
   },
   "outputs": [
    {
     "name": "stdout",
     "output_type": "stream",
     "text": [
      "Number of mosquitoes in now not equals to 50: (106, 8)\n",
      "Number of mosquitoes in row equals to 50: (707, 8)\n"
     ]
    }
   ],
   "source": [
    "#Extracting the duplicated rows\n",
    "train_dup = train[train.duplicated(keep='first')]\n",
    "\n",
    "print(f\"Number of mosquitoes in now not equals to 50: {train_dup[train_dup['num_mosquitos'] != 50].shape}\")\n",
    "print(f\"Number of mosquitoes in row equals to 50: {train_dup[train_dup['num_mosquitos'] == 50].shape}\")"
   ]
  },
  {
   "cell_type": "code",
   "execution_count": 11,
   "metadata": {
    "id": "uIAELN1g7-kU"
   },
   "outputs": [],
   "source": [
    "#Masking for only those that has 'NumMosquitos' less than 50\n",
    "train_dup_less = train_dup[train_dup['num_mosquitos'] != 50]\n",
    "\n",
    "#Dropping the duplicated rows by row index\n",
    "train.drop(list(train_dup_less.index), axis = 0, inplace=True)\n",
    "\n",
    "#Resetting index\n",
    "train.reset_index(inplace=True, drop = True)"
   ]
  },
  {
   "cell_type": "code",
   "execution_count": 12,
   "metadata": {
    "id": "8NaGVYyD83Bh"
   },
   "outputs": [
    {
     "data": {
      "text/plain": [
       "False    9693\n",
       "True      707\n",
       "dtype: int64"
      ]
     },
     "execution_count": 12,
     "metadata": {},
     "output_type": "execute_result"
    }
   ],
   "source": [
    "# check for duplicates again\n",
    "train.duplicated().value_counts()"
   ]
  },
  {
   "cell_type": "code",
   "execution_count": 13,
   "metadata": {
    "id": "AFFQ7-_FYGnh"
   },
   "outputs": [
    {
     "name": "stdout",
     "output_type": "stream",
     "text": [
      "<class 'pandas.core.frame.DataFrame'>\n",
      "RangeIndex: 10400 entries, 0 to 10399\n",
      "Data columns (total 8 columns):\n",
      " #   Column                     Non-Null Count  Dtype  \n",
      "---  ------                     --------------  -----  \n",
      " 0   date                       10400 non-null  object \n",
      " 1   species                    10400 non-null  object \n",
      " 2   trap                       10400 non-null  object \n",
      " 3   address_number_and_street  10400 non-null  object \n",
      " 4   latitude                   10400 non-null  float64\n",
      " 5   longitude                  10400 non-null  float64\n",
      " 6   num_mosquitos              10400 non-null  int64  \n",
      " 7   wnv_present                10400 non-null  int64  \n",
      "dtypes: float64(2), int64(2), object(4)\n",
      "memory usage: 650.1+ KB\n"
     ]
    }
   ],
   "source": [
    "train.info()"
   ]
  },
  {
   "cell_type": "code",
   "execution_count": 14,
   "metadata": {
    "id": "_YT839Kw9VTX"
   },
   "outputs": [],
   "source": [
    "# aggregate the num_mosquitos and wnv_present\n",
    "train = train.groupby(['date', 'species', 'trap', 'address_number_and_street', 'latitude', 'longitude']).sum().reset_index()\n",
    "\n",
    "# reset wnv_present as binary\n",
    "train['wnv_present'] = train['wnv_present'].apply(lambda x: 1 if x > 0 else 0)"
   ]
  },
  {
   "cell_type": "code",
   "execution_count": 15,
   "metadata": {
    "id": "QGCtpEDN9hyK"
   },
   "outputs": [
    {
     "data": {
      "text/plain": [
       "False    8475\n",
       "dtype: int64"
      ]
     },
     "execution_count": 15,
     "metadata": {},
     "output_type": "execute_result"
    }
   ],
   "source": [
    "# check for duplicates again\n",
    "train.duplicated().value_counts()"
   ]
  },
  {
   "cell_type": "code",
   "execution_count": 16,
   "metadata": {
    "id": "dZ37URgJ2s1C"
   },
   "outputs": [
    {
     "data": {
      "text/plain": [
       "False    116293\n",
       "dtype: int64"
      ]
     },
     "execution_count": 16,
     "metadata": {},
     "output_type": "execute_result"
    }
   ],
   "source": [
    "# check for duplicates for test dataset\n",
    "test.duplicated().value_counts()"
   ]
  },
  {
   "cell_type": "code",
   "execution_count": 17,
   "metadata": {
    "id": "Qdc9_OnDG_Qd"
   },
   "outputs": [],
   "source": [
    "# change date column dtype\n",
    "train['date'] = pd.to_datetime(train['date'])\n",
    "test['date'] = pd.to_datetime(test['date'])"
   ]
  },
  {
   "cell_type": "markdown",
   "metadata": {
    "id": "rEjHiZeoK9We"
   },
   "source": [
    "### Weather Data"
   ]
  },
  {
   "cell_type": "code",
   "execution_count": 18,
   "metadata": {
    "id": "jz8DGQLtK9Zv"
   },
   "outputs": [
    {
     "data": {
      "text/html": [
       "<div>\n",
       "<style scoped>\n",
       "    .dataframe tbody tr th:only-of-type {\n",
       "        vertical-align: middle;\n",
       "    }\n",
       "\n",
       "    .dataframe tbody tr th {\n",
       "        vertical-align: top;\n",
       "    }\n",
       "\n",
       "    .dataframe thead th {\n",
       "        text-align: right;\n",
       "    }\n",
       "</style>\n",
       "<table border=\"1\" class=\"dataframe\">\n",
       "  <thead>\n",
       "    <tr style=\"text-align: right;\">\n",
       "      <th></th>\n",
       "      <th>station</th>\n",
       "      <th>date</th>\n",
       "      <th>tmax</th>\n",
       "      <th>tmin</th>\n",
       "      <th>tavg</th>\n",
       "      <th>depart</th>\n",
       "      <th>dew_point</th>\n",
       "      <th>wet_bulb</th>\n",
       "      <th>heat</th>\n",
       "      <th>cool</th>\n",
       "      <th>...</th>\n",
       "      <th>code_sum</th>\n",
       "      <th>depth</th>\n",
       "      <th>water1</th>\n",
       "      <th>snow_fall</th>\n",
       "      <th>precip_total</th>\n",
       "      <th>stn_pressure</th>\n",
       "      <th>sea_level</th>\n",
       "      <th>result_speed</th>\n",
       "      <th>result_dir</th>\n",
       "      <th>avg_speed</th>\n",
       "    </tr>\n",
       "  </thead>\n",
       "  <tbody>\n",
       "    <tr>\n",
       "      <th>0</th>\n",
       "      <td>1</td>\n",
       "      <td>2007-05-01</td>\n",
       "      <td>83</td>\n",
       "      <td>50</td>\n",
       "      <td>67</td>\n",
       "      <td>14</td>\n",
       "      <td>51</td>\n",
       "      <td>56</td>\n",
       "      <td>0</td>\n",
       "      <td>2</td>\n",
       "      <td>...</td>\n",
       "      <td></td>\n",
       "      <td>0</td>\n",
       "      <td>M</td>\n",
       "      <td>0.0</td>\n",
       "      <td>0.00</td>\n",
       "      <td>29.10</td>\n",
       "      <td>29.82</td>\n",
       "      <td>1.7</td>\n",
       "      <td>27</td>\n",
       "      <td>9.2</td>\n",
       "    </tr>\n",
       "    <tr>\n",
       "      <th>1</th>\n",
       "      <td>2</td>\n",
       "      <td>2007-05-01</td>\n",
       "      <td>84</td>\n",
       "      <td>52</td>\n",
       "      <td>68</td>\n",
       "      <td>M</td>\n",
       "      <td>51</td>\n",
       "      <td>57</td>\n",
       "      <td>0</td>\n",
       "      <td>3</td>\n",
       "      <td>...</td>\n",
       "      <td></td>\n",
       "      <td>M</td>\n",
       "      <td>M</td>\n",
       "      <td>M</td>\n",
       "      <td>0.00</td>\n",
       "      <td>29.18</td>\n",
       "      <td>29.82</td>\n",
       "      <td>2.7</td>\n",
       "      <td>25</td>\n",
       "      <td>9.6</td>\n",
       "    </tr>\n",
       "    <tr>\n",
       "      <th>2</th>\n",
       "      <td>1</td>\n",
       "      <td>2007-05-02</td>\n",
       "      <td>59</td>\n",
       "      <td>42</td>\n",
       "      <td>51</td>\n",
       "      <td>-3</td>\n",
       "      <td>42</td>\n",
       "      <td>47</td>\n",
       "      <td>14</td>\n",
       "      <td>0</td>\n",
       "      <td>...</td>\n",
       "      <td>BR</td>\n",
       "      <td>0</td>\n",
       "      <td>M</td>\n",
       "      <td>0.0</td>\n",
       "      <td>0.00</td>\n",
       "      <td>29.38</td>\n",
       "      <td>30.09</td>\n",
       "      <td>13.0</td>\n",
       "      <td>4</td>\n",
       "      <td>13.4</td>\n",
       "    </tr>\n",
       "    <tr>\n",
       "      <th>3</th>\n",
       "      <td>2</td>\n",
       "      <td>2007-05-02</td>\n",
       "      <td>60</td>\n",
       "      <td>43</td>\n",
       "      <td>52</td>\n",
       "      <td>M</td>\n",
       "      <td>42</td>\n",
       "      <td>47</td>\n",
       "      <td>13</td>\n",
       "      <td>0</td>\n",
       "      <td>...</td>\n",
       "      <td>BR HZ</td>\n",
       "      <td>M</td>\n",
       "      <td>M</td>\n",
       "      <td>M</td>\n",
       "      <td>0.00</td>\n",
       "      <td>29.44</td>\n",
       "      <td>30.08</td>\n",
       "      <td>13.3</td>\n",
       "      <td>2</td>\n",
       "      <td>13.4</td>\n",
       "    </tr>\n",
       "    <tr>\n",
       "      <th>4</th>\n",
       "      <td>1</td>\n",
       "      <td>2007-05-03</td>\n",
       "      <td>66</td>\n",
       "      <td>46</td>\n",
       "      <td>56</td>\n",
       "      <td>2</td>\n",
       "      <td>40</td>\n",
       "      <td>48</td>\n",
       "      <td>9</td>\n",
       "      <td>0</td>\n",
       "      <td>...</td>\n",
       "      <td></td>\n",
       "      <td>0</td>\n",
       "      <td>M</td>\n",
       "      <td>0.0</td>\n",
       "      <td>0.00</td>\n",
       "      <td>29.39</td>\n",
       "      <td>30.12</td>\n",
       "      <td>11.7</td>\n",
       "      <td>7</td>\n",
       "      <td>11.9</td>\n",
       "    </tr>\n",
       "  </tbody>\n",
       "</table>\n",
       "<p>5 rows × 22 columns</p>\n",
       "</div>"
      ],
      "text/plain": [
       "   station        date  tmax  tmin tavg depart  dew_point wet_bulb heat cool  \\\n",
       "0        1  2007-05-01    83    50   67     14         51       56    0    2   \n",
       "1        2  2007-05-01    84    52   68      M         51       57    0    3   \n",
       "2        1  2007-05-02    59    42   51     -3         42       47   14    0   \n",
       "3        2  2007-05-02    60    43   52      M         42       47   13    0   \n",
       "4        1  2007-05-03    66    46   56      2         40       48    9    0   \n",
       "\n",
       "   ... code_sum depth water1 snow_fall precip_total stn_pressure sea_level  \\\n",
       "0  ...              0      M       0.0         0.00        29.10     29.82   \n",
       "1  ...              M      M         M         0.00        29.18     29.82   \n",
       "2  ...       BR     0      M       0.0         0.00        29.38     30.09   \n",
       "3  ...    BR HZ     M      M         M         0.00        29.44     30.08   \n",
       "4  ...              0      M       0.0         0.00        29.39     30.12   \n",
       "\n",
       "  result_speed result_dir  avg_speed  \n",
       "0          1.7         27        9.2  \n",
       "1          2.7         25        9.6  \n",
       "2         13.0          4       13.4  \n",
       "3         13.3          2       13.4  \n",
       "4         11.7          7       11.9  \n",
       "\n",
       "[5 rows x 22 columns]"
      ]
     },
     "execution_count": 18,
     "metadata": {},
     "output_type": "execute_result"
    }
   ],
   "source": [
    "weather.head()"
   ]
  },
  {
   "cell_type": "markdown",
   "metadata": {
    "id": "mVJJkxHCK9dg"
   },
   "source": [
    "According to the weather data documentation, cells with 'M' indicate that the data is missing or not normally recorded by the station. We will replace these with null values to illustrate the sparsity of the data."
   ]
  },
  {
   "cell_type": "code",
   "execution_count": 19,
   "metadata": {
    "id": "6tIQyahmK9iP"
   },
   "outputs": [],
   "source": [
    "# Replace 'M' and '-' with NaN\n",
    "weather = weather.replace('-', np.nan)\n",
    "weather = weather.replace('M', np.nan)"
   ]
  },
  {
   "cell_type": "code",
   "execution_count": 20,
   "metadata": {
    "id": "hqmSJid-uYVc"
   },
   "outputs": [
    {
     "data": {
      "text/plain": [
       "water1          2944\n",
       "sunset          1472\n",
       "depth           1472\n",
       "depart          1472\n",
       "snow_fall       1472\n",
       "sunrise         1472\n",
       "tavg              11\n",
       "heat              11\n",
       "cool              11\n",
       "sea_level          9\n",
       "stn_pressure       4\n",
       "wet_bulb           4\n",
       "avg_speed          3\n",
       "precip_total       2\n",
       "code_sum           0\n",
       "date               0\n",
       "dew_point          0\n",
       "tmin               0\n",
       "tmax               0\n",
       "result_speed       0\n",
       "result_dir         0\n",
       "station            0\n",
       "dtype: int64"
      ]
     },
     "execution_count": 20,
     "metadata": {},
     "output_type": "execute_result"
    }
   ],
   "source": [
    "weather.isnull().sum().sort_values(ascending=False)"
   ]
  },
  {
   "cell_type": "markdown",
   "metadata": {
    "id": "tuFtJucYK9lf"
   },
   "source": [
    "'Water1' will be dropped as 100% of its values are missing. 'SnowFall' and 'Depth' will be dropped as data collected in train and test sets are from May - October, and these features are only recorded during the winter months. \n",
    "Missing values from 'Tavg' will be calculated using average of 'Tmax' and 'Tmin'. All other missing values will be forward filled with most recently observed value in the same column. This way, we can maintain continuity in data and avoid distortion in our analysis. "
   ]
  },
  {
   "cell_type": "code",
   "execution_count": 21,
   "metadata": {
    "id": "U6qZR0dlK9pQ"
   },
   "outputs": [],
   "source": [
    "# Drop Water1, SnowFall, Depth, CodeSum\n",
    "weather.drop(['water1', 'snow_fall', 'depth', 'code_sum', 'heat', 'cool'], axis=1, inplace=True)"
   ]
  },
  {
   "cell_type": "code",
   "execution_count": 22,
   "metadata": {
    "id": "yJgF4I_lK9sy"
   },
   "outputs": [],
   "source": [
    "# Fill missing values with forward fill\n",
    "weather[['depart', 'sunrise', 'sunset', 'sea_level', 'wet_bulb', 'stn_pressure', 'avg_speed', 'precip_total']] \\\n",
    "= weather[['depart', 'sunrise', 'sunset', 'sea_level', 'wet_bulb', 'stn_pressure', 'avg_speed', 'precip_total']].fillna(method='ffill')"
   ]
  },
  {
   "cell_type": "code",
   "execution_count": 23,
   "metadata": {
    "id": "8Rmi35JhK9wC"
   },
   "outputs": [],
   "source": [
    "def replace_missing_Tavg(weather):\n",
    "    # calculate the average of Tmax and Tmin\n",
    "    avg_temp = round((weather['tmax'] + weather['tmin']) / 2,0)\n",
    "    \n",
    "    # replace missing values in Tavg with the calculated average\n",
    "    weather['tavg'] = np.where(weather['tavg'].isnull(), avg_temp, weather['tavg'])\n",
    "    \n",
    "    # convert Tavg to integer data type\n",
    "    weather['tavg'] = weather['tavg'].astype(int)\n",
    "    \n",
    "    return weather"
   ]
  },
  {
   "cell_type": "code",
   "execution_count": 24,
   "metadata": {
    "id": "xjFoEpI-K9y1"
   },
   "outputs": [],
   "source": [
    "weather = replace_missing_Tavg(weather)"
   ]
  },
  {
   "cell_type": "code",
   "execution_count": 25,
   "metadata": {
    "id": "c7PkaSYsK-x6"
   },
   "outputs": [],
   "source": [
    "# replace values which contain 'T' in 'PrecipTotal' with 0\n",
    "weather['precip_total'] = weather['precip_total'].apply(lambda x: 0 if 'T' in str(x) else x)"
   ]
  },
  {
   "cell_type": "code",
   "execution_count": 26,
   "metadata": {
    "id": "CUZKeyKsLh1t"
   },
   "outputs": [],
   "source": [
    "# convert columns to integer dtype\n",
    "weather[['tavg', 'wet_bulb']] = weather[['tavg', 'wet_bulb']].astype(int)"
   ]
  },
  {
   "cell_type": "code",
   "execution_count": 27,
   "metadata": {
    "id": "ma2XioJ_Lh5a"
   },
   "outputs": [],
   "source": [
    "# convert columns to float dtype\n",
    "weather[['precip_total', 'stn_pressure', 'sea_level', 'avg_speed']] = weather[['precip_total', 'stn_pressure', 'sea_level', 'avg_speed']].astype(float)"
   ]
  },
  {
   "cell_type": "code",
   "execution_count": 28,
   "metadata": {
    "id": "VRlsk6-hHVEn"
   },
   "outputs": [],
   "source": [
    "# convert date column to datetime dtype\n",
    "weather['date'] = pd.to_datetime(weather['date'])"
   ]
  },
  {
   "cell_type": "code",
   "execution_count": 29,
   "metadata": {
    "id": "U_76aWI025m_"
   },
   "outputs": [
    {
     "data": {
      "text/plain": [
       "False    2944\n",
       "dtype: int64"
      ]
     },
     "execution_count": 29,
     "metadata": {},
     "output_type": "execute_result"
    }
   ],
   "source": [
    "weather.duplicated().value_counts()"
   ]
  },
  {
   "cell_type": "code",
   "execution_count": 30,
   "metadata": {
    "id": "6aU78KUIkMBc"
   },
   "outputs": [
    {
     "data": {
      "text/plain": [
       "station\n",
       "1    66.606658\n",
       "2    67.872283\n",
       "Name: tavg, dtype: float64"
      ]
     },
     "execution_count": 30,
     "metadata": {},
     "output_type": "execute_result"
    }
   ],
   "source": [
    "# find mean of avg temperature of each station\n",
    "weather.groupby('station')['tavg'].mean()"
   ]
  },
  {
   "cell_type": "code",
   "execution_count": 31,
   "metadata": {
    "id": "z6NFQBBjwpKo"
   },
   "outputs": [
    {
     "data": {
      "text/plain": [
       "station\n",
       "1    75.978940\n",
       "2    76.353261\n",
       "Name: tmax, dtype: float64"
      ]
     },
     "execution_count": 31,
     "metadata": {},
     "output_type": "execute_result"
    }
   ],
   "source": [
    "# find mean of highest temperature of each station\n",
    "weather.groupby('station')['tmax'].mean()"
   ]
  },
  {
   "cell_type": "code",
   "execution_count": 32,
   "metadata": {
    "id": "a5uxCeFUwshz"
   },
   "outputs": [
    {
     "data": {
      "text/plain": [
       "station\n",
       "1    53.377717\n",
       "2    53.538043\n",
       "Name: dew_point, dtype: float64"
      ]
     },
     "execution_count": 32,
     "metadata": {},
     "output_type": "execute_result"
    }
   ],
   "source": [
    "# find mean of highest temperature of each station\n",
    "weather.groupby('station')['dew_point'].mean()"
   ]
  },
  {
   "cell_type": "code",
   "execution_count": 33,
   "metadata": {
    "id": "iKK1_ek_sqem"
   },
   "outputs": [
    {
     "data": {
      "text/plain": [
       "station\n",
       "1    8.570788\n",
       "2    8.587364\n",
       "Name: avg_speed, dtype: float64"
      ]
     },
     "execution_count": 33,
     "metadata": {},
     "output_type": "execute_result"
    }
   ],
   "source": [
    "# find mean of average wind speed of each station\n",
    "weather.groupby('station')['avg_speed'].mean()"
   ]
  },
  {
   "cell_type": "markdown",
   "metadata": {
    "id": "aeofwEy6pYI8"
   },
   "source": [
    "Since there is not much difference between Station 1 and Station 2, and Station 2 has missing data which needs to be imputed, we will just use Station 1 data which is more complete."
   ]
  },
  {
   "cell_type": "code",
   "execution_count": 34,
   "metadata": {
    "id": "oUAFASDEt7KL"
   },
   "outputs": [],
   "source": [
    "weather = weather[weather['station'] != 2]"
   ]
  },
  {
   "cell_type": "code",
   "execution_count": 35,
   "metadata": {
    "id": "X2PZNh0jrYsJ"
   },
   "outputs": [],
   "source": [
    "def relative_humidity(tavg, wet_bulb):\n",
    "    rh = 100 - (25/9)*(tavg - wet_bulb)\n",
    "    return round(rh, 1)"
   ]
  },
  {
   "cell_type": "code",
   "execution_count": 36,
   "metadata": {
    "id": "3JKhO8Y1jlR7"
   },
   "outputs": [],
   "source": [
    "weather['relative_humidity'] = weather.apply(lambda x: relative_humidity(x['tavg'], x['wet_bulb']), axis=1)"
   ]
  },
  {
   "cell_type": "code",
   "execution_count": 37,
   "metadata": {
    "id": "2poYBoY47J1-"
   },
   "outputs": [],
   "source": [
    "# Extract the hour and minute values from the 'sunrise' and 'sunset' columns\n",
    "weather_temp = pd.DataFrame()\n",
    "weather_temp['sunrise_hour'] = weather['sunrise'].astype(str).str[:-2].astype(int)\n",
    "weather_temp['sunrise_minute'] = weather['sunrise'].astype(str).str[-2:].astype(int)\n",
    "weather_temp['sunset_hour'] = weather['sunset'].astype(str).str[:-2].astype(int)\n",
    "weather_temp['sunset_minute'] = weather['sunset'].astype(str).str[-2:].astype(int)\n",
    "\n",
    "# Calculate the difference in minutes between sunrise and sunset\n",
    "weather['minutes_between'] = (weather_temp['sunset_hour'] * 60 + weather_temp['sunset_minute']) - (weather_temp['sunrise_hour'] * 60 + weather_temp['sunrise_minute'])"
   ]
  },
  {
   "cell_type": "code",
   "execution_count": 38,
   "metadata": {
    "id": "9opCkY3NjlIU"
   },
   "outputs": [
    {
     "data": {
      "text/html": [
       "<div>\n",
       "<style scoped>\n",
       "    .dataframe tbody tr th:only-of-type {\n",
       "        vertical-align: middle;\n",
       "    }\n",
       "\n",
       "    .dataframe tbody tr th {\n",
       "        vertical-align: top;\n",
       "    }\n",
       "\n",
       "    .dataframe thead th {\n",
       "        text-align: right;\n",
       "    }\n",
       "</style>\n",
       "<table border=\"1\" class=\"dataframe\">\n",
       "  <thead>\n",
       "    <tr style=\"text-align: right;\">\n",
       "      <th></th>\n",
       "      <th>station</th>\n",
       "      <th>date</th>\n",
       "      <th>tmax</th>\n",
       "      <th>tmin</th>\n",
       "      <th>tavg</th>\n",
       "      <th>depart</th>\n",
       "      <th>dew_point</th>\n",
       "      <th>wet_bulb</th>\n",
       "      <th>sunrise</th>\n",
       "      <th>sunset</th>\n",
       "      <th>precip_total</th>\n",
       "      <th>stn_pressure</th>\n",
       "      <th>sea_level</th>\n",
       "      <th>result_speed</th>\n",
       "      <th>result_dir</th>\n",
       "      <th>avg_speed</th>\n",
       "      <th>relative_humidity</th>\n",
       "      <th>minutes_between</th>\n",
       "    </tr>\n",
       "  </thead>\n",
       "  <tbody>\n",
       "    <tr>\n",
       "      <th>0</th>\n",
       "      <td>1</td>\n",
       "      <td>2007-05-01</td>\n",
       "      <td>83</td>\n",
       "      <td>50</td>\n",
       "      <td>67</td>\n",
       "      <td>14</td>\n",
       "      <td>51</td>\n",
       "      <td>56</td>\n",
       "      <td>0448</td>\n",
       "      <td>1849</td>\n",
       "      <td>0.0</td>\n",
       "      <td>29.10</td>\n",
       "      <td>29.82</td>\n",
       "      <td>1.7</td>\n",
       "      <td>27</td>\n",
       "      <td>9.2</td>\n",
       "      <td>69.4</td>\n",
       "      <td>841</td>\n",
       "    </tr>\n",
       "    <tr>\n",
       "      <th>2</th>\n",
       "      <td>1</td>\n",
       "      <td>2007-05-02</td>\n",
       "      <td>59</td>\n",
       "      <td>42</td>\n",
       "      <td>51</td>\n",
       "      <td>-3</td>\n",
       "      <td>42</td>\n",
       "      <td>47</td>\n",
       "      <td>0447</td>\n",
       "      <td>1850</td>\n",
       "      <td>0.0</td>\n",
       "      <td>29.38</td>\n",
       "      <td>30.09</td>\n",
       "      <td>13.0</td>\n",
       "      <td>4</td>\n",
       "      <td>13.4</td>\n",
       "      <td>88.9</td>\n",
       "      <td>843</td>\n",
       "    </tr>\n",
       "    <tr>\n",
       "      <th>4</th>\n",
       "      <td>1</td>\n",
       "      <td>2007-05-03</td>\n",
       "      <td>66</td>\n",
       "      <td>46</td>\n",
       "      <td>56</td>\n",
       "      <td>2</td>\n",
       "      <td>40</td>\n",
       "      <td>48</td>\n",
       "      <td>0446</td>\n",
       "      <td>1851</td>\n",
       "      <td>0.0</td>\n",
       "      <td>29.39</td>\n",
       "      <td>30.12</td>\n",
       "      <td>11.7</td>\n",
       "      <td>7</td>\n",
       "      <td>11.9</td>\n",
       "      <td>77.8</td>\n",
       "      <td>845</td>\n",
       "    </tr>\n",
       "    <tr>\n",
       "      <th>6</th>\n",
       "      <td>1</td>\n",
       "      <td>2007-05-04</td>\n",
       "      <td>66</td>\n",
       "      <td>49</td>\n",
       "      <td>58</td>\n",
       "      <td>4</td>\n",
       "      <td>41</td>\n",
       "      <td>50</td>\n",
       "      <td>0444</td>\n",
       "      <td>1852</td>\n",
       "      <td>0.0</td>\n",
       "      <td>29.31</td>\n",
       "      <td>30.05</td>\n",
       "      <td>10.4</td>\n",
       "      <td>8</td>\n",
       "      <td>10.8</td>\n",
       "      <td>77.8</td>\n",
       "      <td>848</td>\n",
       "    </tr>\n",
       "    <tr>\n",
       "      <th>8</th>\n",
       "      <td>1</td>\n",
       "      <td>2007-05-05</td>\n",
       "      <td>66</td>\n",
       "      <td>53</td>\n",
       "      <td>60</td>\n",
       "      <td>5</td>\n",
       "      <td>38</td>\n",
       "      <td>49</td>\n",
       "      <td>0443</td>\n",
       "      <td>1853</td>\n",
       "      <td>0.0</td>\n",
       "      <td>29.40</td>\n",
       "      <td>30.10</td>\n",
       "      <td>11.7</td>\n",
       "      <td>7</td>\n",
       "      <td>12.0</td>\n",
       "      <td>69.4</td>\n",
       "      <td>850</td>\n",
       "    </tr>\n",
       "  </tbody>\n",
       "</table>\n",
       "</div>"
      ],
      "text/plain": [
       "   station       date  tmax  tmin  tavg depart  dew_point  wet_bulb sunrise  \\\n",
       "0        1 2007-05-01    83    50    67     14         51        56    0448   \n",
       "2        1 2007-05-02    59    42    51     -3         42        47    0447   \n",
       "4        1 2007-05-03    66    46    56      2         40        48    0446   \n",
       "6        1 2007-05-04    66    49    58      4         41        50    0444   \n",
       "8        1 2007-05-05    66    53    60      5         38        49    0443   \n",
       "\n",
       "  sunset  precip_total  stn_pressure  sea_level  result_speed  result_dir  \\\n",
       "0   1849           0.0         29.10      29.82           1.7          27   \n",
       "2   1850           0.0         29.38      30.09          13.0           4   \n",
       "4   1851           0.0         29.39      30.12          11.7           7   \n",
       "6   1852           0.0         29.31      30.05          10.4           8   \n",
       "8   1853           0.0         29.40      30.10          11.7           7   \n",
       "\n",
       "   avg_speed  relative_humidity  minutes_between  \n",
       "0        9.2               69.4              841  \n",
       "2       13.4               88.9              843  \n",
       "4       11.9               77.8              845  \n",
       "6       10.8               77.8              848  \n",
       "8       12.0               69.4              850  "
      ]
     },
     "execution_count": 38,
     "metadata": {},
     "output_type": "execute_result"
    }
   ],
   "source": [
    "weather.head()"
   ]
  },
  {
   "cell_type": "code",
   "execution_count": 39,
   "metadata": {
    "id": "ng4ktSChLLRc"
   },
   "outputs": [
    {
     "data": {
      "text/plain": [
       "station              0\n",
       "date                 0\n",
       "relative_humidity    0\n",
       "avg_speed            0\n",
       "result_dir           0\n",
       "result_speed         0\n",
       "sea_level            0\n",
       "stn_pressure         0\n",
       "precip_total         0\n",
       "sunset               0\n",
       "sunrise              0\n",
       "wet_bulb             0\n",
       "dew_point            0\n",
       "depart               0\n",
       "tavg                 0\n",
       "tmin                 0\n",
       "tmax                 0\n",
       "minutes_between      0\n",
       "dtype: int64"
      ]
     },
     "execution_count": 39,
     "metadata": {},
     "output_type": "execute_result"
    }
   ],
   "source": [
    "weather.isnull().sum().sort_values(ascending=False)"
   ]
  },
  {
   "cell_type": "code",
   "execution_count": 40,
   "metadata": {
    "id": "_yq_tGzMLh8r"
   },
   "outputs": [
    {
     "data": {
      "text/plain": [
       "station                       int64\n",
       "date                 datetime64[ns]\n",
       "tmax                          int64\n",
       "tmin                          int64\n",
       "tavg                          int64\n",
       "depart                       object\n",
       "dew_point                     int64\n",
       "wet_bulb                      int64\n",
       "sunrise                      object\n",
       "sunset                       object\n",
       "precip_total                float64\n",
       "stn_pressure                float64\n",
       "sea_level                   float64\n",
       "result_speed                float64\n",
       "result_dir                    int64\n",
       "avg_speed                   float64\n",
       "relative_humidity           float64\n",
       "minutes_between               int64\n",
       "dtype: object"
      ]
     },
     "execution_count": 40,
     "metadata": {},
     "output_type": "execute_result"
    }
   ],
   "source": [
    "weather.dtypes"
   ]
  },
  {
   "cell_type": "markdown",
   "metadata": {
    "id": "Pj-sDRY4LiAJ"
   },
   "source": [
    "### Spray Data"
   ]
  },
  {
   "cell_type": "code",
   "execution_count": 41,
   "metadata": {
    "id": "XnbL_DFKLiDE"
   },
   "outputs": [
    {
     "data": {
      "text/html": [
       "<div>\n",
       "<style scoped>\n",
       "    .dataframe tbody tr th:only-of-type {\n",
       "        vertical-align: middle;\n",
       "    }\n",
       "\n",
       "    .dataframe tbody tr th {\n",
       "        vertical-align: top;\n",
       "    }\n",
       "\n",
       "    .dataframe thead th {\n",
       "        text-align: right;\n",
       "    }\n",
       "</style>\n",
       "<table border=\"1\" class=\"dataframe\">\n",
       "  <thead>\n",
       "    <tr style=\"text-align: right;\">\n",
       "      <th></th>\n",
       "      <th>date</th>\n",
       "      <th>time</th>\n",
       "      <th>latitude</th>\n",
       "      <th>longitude</th>\n",
       "    </tr>\n",
       "  </thead>\n",
       "  <tbody>\n",
       "    <tr>\n",
       "      <th>0</th>\n",
       "      <td>2011-08-29</td>\n",
       "      <td>6:56:58 PM</td>\n",
       "      <td>42.391623</td>\n",
       "      <td>-88.089163</td>\n",
       "    </tr>\n",
       "    <tr>\n",
       "      <th>1</th>\n",
       "      <td>2011-08-29</td>\n",
       "      <td>6:57:08 PM</td>\n",
       "      <td>42.391348</td>\n",
       "      <td>-88.089163</td>\n",
       "    </tr>\n",
       "    <tr>\n",
       "      <th>2</th>\n",
       "      <td>2011-08-29</td>\n",
       "      <td>6:57:18 PM</td>\n",
       "      <td>42.391022</td>\n",
       "      <td>-88.089157</td>\n",
       "    </tr>\n",
       "    <tr>\n",
       "      <th>3</th>\n",
       "      <td>2011-08-29</td>\n",
       "      <td>6:57:28 PM</td>\n",
       "      <td>42.390637</td>\n",
       "      <td>-88.089158</td>\n",
       "    </tr>\n",
       "    <tr>\n",
       "      <th>4</th>\n",
       "      <td>2011-08-29</td>\n",
       "      <td>6:57:38 PM</td>\n",
       "      <td>42.390410</td>\n",
       "      <td>-88.088858</td>\n",
       "    </tr>\n",
       "  </tbody>\n",
       "</table>\n",
       "</div>"
      ],
      "text/plain": [
       "         date        time   latitude  longitude\n",
       "0  2011-08-29  6:56:58 PM  42.391623 -88.089163\n",
       "1  2011-08-29  6:57:08 PM  42.391348 -88.089163\n",
       "2  2011-08-29  6:57:18 PM  42.391022 -88.089157\n",
       "3  2011-08-29  6:57:28 PM  42.390637 -88.089158\n",
       "4  2011-08-29  6:57:38 PM  42.390410 -88.088858"
      ]
     },
     "execution_count": 41,
     "metadata": {},
     "output_type": "execute_result"
    }
   ],
   "source": [
    "spray.head()"
   ]
  },
  {
   "cell_type": "code",
   "execution_count": 42,
   "metadata": {
    "id": "wZtnI1QQLiGE"
   },
   "outputs": [
    {
     "data": {
      "text/plain": [
       "date           0\n",
       "time         584\n",
       "latitude       0\n",
       "longitude      0\n",
       "dtype: int64"
      ]
     },
     "execution_count": 42,
     "metadata": {},
     "output_type": "execute_result"
    }
   ],
   "source": [
    "spray.isnull().sum()"
   ]
  },
  {
   "cell_type": "markdown",
   "metadata": {
    "id": "hvJDbDyfLiJN"
   },
   "source": [
    "As the 584 missing values all fall between 7:44:32pm and 7:46:30pm on 7 Sep 2011, they will be filled with a time that falls in between, ie. 7:45:00pm"
   ]
  },
  {
   "cell_type": "code",
   "execution_count": 43,
   "metadata": {
    "id": "MIaS7mX9LiMZ"
   },
   "outputs": [],
   "source": [
    "# fill NA values with '7:45:00 PM'\n",
    "spray['time'].fillna('7:45:00 PM', inplace=True)"
   ]
  },
  {
   "cell_type": "code",
   "execution_count": 44,
   "metadata": {
    "id": "j5vu1fHALiOy"
   },
   "outputs": [
    {
     "data": {
      "text/plain": [
       "2013-08-15    2668\n",
       "2013-08-29    2302\n",
       "2013-07-17    2202\n",
       "2011-09-07    2114\n",
       "2013-07-25    1607\n",
       "2013-08-22    1587\n",
       "2013-08-08    1195\n",
       "2013-09-05     924\n",
       "2013-08-16     141\n",
       "2011-08-29      95\n",
       "Name: date, dtype: int64"
      ]
     },
     "execution_count": 44,
     "metadata": {},
     "output_type": "execute_result"
    }
   ],
   "source": [
    "# Display counts for each date\n",
    "spray['date'].value_counts()"
   ]
  },
  {
   "cell_type": "code",
   "execution_count": 45,
   "metadata": {
    "id": "FuuRUio129Tx"
   },
   "outputs": [
    {
     "data": {
      "text/plain": [
       "False    14294\n",
       "True       541\n",
       "dtype: int64"
      ]
     },
     "execution_count": 45,
     "metadata": {},
     "output_type": "execute_result"
    }
   ],
   "source": [
    "# check for duplicates\n",
    "spray.duplicated().value_counts()"
   ]
  },
  {
   "cell_type": "code",
   "execution_count": 46,
   "metadata": {
    "id": "RnP7v9NN98vH"
   },
   "outputs": [],
   "source": [
    "# drop duplicates\n",
    "spray.drop_duplicates(inplace = True)"
   ]
  },
  {
   "cell_type": "code",
   "execution_count": 47,
   "metadata": {
    "id": "_rH2rAYG-Brg"
   },
   "outputs": [
    {
     "data": {
      "text/plain": [
       "False    14294\n",
       "dtype: int64"
      ]
     },
     "execution_count": 47,
     "metadata": {},
     "output_type": "execute_result"
    }
   ],
   "source": [
    "# check for duplicates again\n",
    "spray.duplicated().value_counts()"
   ]
  },
  {
   "cell_type": "markdown",
   "metadata": {
    "id": "wOhi0jTgL7bw"
   },
   "source": [
    "As Spray only occurs in 2011 and 2013 from July to September, it may not be representative of the entire dataset and is not suitable for model training."
   ]
  },
  {
   "cell_type": "markdown",
   "metadata": {
    "id": "m-J42r7GHlmt"
   },
   "source": [
    "### Merge 'Train' and 'Weather' datasets"
   ]
  },
  {
   "cell_type": "code",
   "execution_count": 48,
   "metadata": {
    "id": "bZ6p6WQ1HpRX"
   },
   "outputs": [],
   "source": [
    "train_clean = pd.merge(train, weather, on='date')"
   ]
  },
  {
   "cell_type": "code",
   "execution_count": 49,
   "metadata": {
    "id": "1qaLs_9MovVI"
   },
   "outputs": [],
   "source": [
    "import datetime\n",
    "\n",
    "# Define a function to extract the week number from a date string\n",
    "def get_week_number(date):\n",
    "    date_str = date.strftime('%Y-%m-%d')\n",
    "    date_obj = datetime.datetime.strptime(date_str, '%Y-%m-%d')\n",
    "    return date_obj.isocalendar()[1]\n",
    "    \n",
    "# Apply the function to the date column of the DataFrame\n",
    "train_clean['week_number'] = train_clean['date'].apply(get_week_number)"
   ]
  },
  {
   "cell_type": "code",
   "execution_count": 50,
   "metadata": {
    "id": "vbzGBBGIHrJ0"
   },
   "outputs": [],
   "source": [
    "# split month and year from date\n",
    "train_clean['month'] = train_clean['date'].dt.month\n",
    "train_clean['year'] = train_clean['date'].dt.year"
   ]
  },
  {
   "cell_type": "code",
   "execution_count": 51,
   "metadata": {
    "id": "4tz-hyo_Hrrj"
   },
   "outputs": [],
   "source": [
    "# concatenate columns 'latitude' and 'longitude' to create a new column 'coords'\n",
    "train_clean['coords'] = train_clean['latitude'].astype(str) + ',' + train_clean['longitude'].astype(str)"
   ]
  },
  {
   "cell_type": "code",
   "execution_count": 52,
   "metadata": {
    "id": "EguKmMbIHsGc"
   },
   "outputs": [
    {
     "data": {
      "text/html": [
       "<div>\n",
       "<style scoped>\n",
       "    .dataframe tbody tr th:only-of-type {\n",
       "        vertical-align: middle;\n",
       "    }\n",
       "\n",
       "    .dataframe tbody tr th {\n",
       "        vertical-align: top;\n",
       "    }\n",
       "\n",
       "    .dataframe thead th {\n",
       "        text-align: right;\n",
       "    }\n",
       "</style>\n",
       "<table border=\"1\" class=\"dataframe\">\n",
       "  <thead>\n",
       "    <tr style=\"text-align: right;\">\n",
       "      <th></th>\n",
       "      <th>date</th>\n",
       "      <th>species</th>\n",
       "      <th>trap</th>\n",
       "      <th>address_number_and_street</th>\n",
       "      <th>latitude</th>\n",
       "      <th>longitude</th>\n",
       "      <th>num_mosquitos</th>\n",
       "      <th>wnv_present</th>\n",
       "      <th>station</th>\n",
       "      <th>tmax</th>\n",
       "      <th>...</th>\n",
       "      <th>sea_level</th>\n",
       "      <th>result_speed</th>\n",
       "      <th>result_dir</th>\n",
       "      <th>avg_speed</th>\n",
       "      <th>relative_humidity</th>\n",
       "      <th>minutes_between</th>\n",
       "      <th>week_number</th>\n",
       "      <th>month</th>\n",
       "      <th>year</th>\n",
       "      <th>coords</th>\n",
       "    </tr>\n",
       "  </thead>\n",
       "  <tbody>\n",
       "    <tr>\n",
       "      <th>0</th>\n",
       "      <td>2007-05-29</td>\n",
       "      <td>CULEX PIPIENS</td>\n",
       "      <td>T096</td>\n",
       "      <td>2200  W 89TH ST, Chicago, IL</td>\n",
       "      <td>41.731922</td>\n",
       "      <td>-87.677512</td>\n",
       "      <td>1</td>\n",
       "      <td>0</td>\n",
       "      <td>1</td>\n",
       "      <td>88</td>\n",
       "      <td>...</td>\n",
       "      <td>30.11</td>\n",
       "      <td>5.8</td>\n",
       "      <td>18</td>\n",
       "      <td>6.5</td>\n",
       "      <td>75.0</td>\n",
       "      <td>896</td>\n",
       "      <td>22</td>\n",
       "      <td>5</td>\n",
       "      <td>2007</td>\n",
       "      <td>41.731922,-87.677512</td>\n",
       "    </tr>\n",
       "    <tr>\n",
       "      <th>1</th>\n",
       "      <td>2007-05-29</td>\n",
       "      <td>CULEX PIPIENS/RESTUANS</td>\n",
       "      <td>T002</td>\n",
       "      <td>4100  N OAK PARK AVE, Chicago, IL</td>\n",
       "      <td>41.954690</td>\n",
       "      <td>-87.800991</td>\n",
       "      <td>1</td>\n",
       "      <td>0</td>\n",
       "      <td>1</td>\n",
       "      <td>88</td>\n",
       "      <td>...</td>\n",
       "      <td>30.11</td>\n",
       "      <td>5.8</td>\n",
       "      <td>18</td>\n",
       "      <td>6.5</td>\n",
       "      <td>75.0</td>\n",
       "      <td>896</td>\n",
       "      <td>22</td>\n",
       "      <td>5</td>\n",
       "      <td>2007</td>\n",
       "      <td>41.95469,-87.800991</td>\n",
       "    </tr>\n",
       "    <tr>\n",
       "      <th>2</th>\n",
       "      <td>2007-05-29</td>\n",
       "      <td>CULEX PIPIENS/RESTUANS</td>\n",
       "      <td>T015</td>\n",
       "      <td>7900  W FOSTER AVE, Chicago, IL</td>\n",
       "      <td>41.974089</td>\n",
       "      <td>-87.824812</td>\n",
       "      <td>1</td>\n",
       "      <td>0</td>\n",
       "      <td>1</td>\n",
       "      <td>88</td>\n",
       "      <td>...</td>\n",
       "      <td>30.11</td>\n",
       "      <td>5.8</td>\n",
       "      <td>18</td>\n",
       "      <td>6.5</td>\n",
       "      <td>75.0</td>\n",
       "      <td>896</td>\n",
       "      <td>22</td>\n",
       "      <td>5</td>\n",
       "      <td>2007</td>\n",
       "      <td>41.974089,-87.824812</td>\n",
       "    </tr>\n",
       "    <tr>\n",
       "      <th>3</th>\n",
       "      <td>2007-05-29</td>\n",
       "      <td>CULEX PIPIENS/RESTUANS</td>\n",
       "      <td>T048</td>\n",
       "      <td>1100  W ROOSEVELT, Chicago, IL</td>\n",
       "      <td>41.867108</td>\n",
       "      <td>-87.654224</td>\n",
       "      <td>1</td>\n",
       "      <td>0</td>\n",
       "      <td>1</td>\n",
       "      <td>88</td>\n",
       "      <td>...</td>\n",
       "      <td>30.11</td>\n",
       "      <td>5.8</td>\n",
       "      <td>18</td>\n",
       "      <td>6.5</td>\n",
       "      <td>75.0</td>\n",
       "      <td>896</td>\n",
       "      <td>22</td>\n",
       "      <td>5</td>\n",
       "      <td>2007</td>\n",
       "      <td>41.867108,-87.654224</td>\n",
       "    </tr>\n",
       "    <tr>\n",
       "      <th>4</th>\n",
       "      <td>2007-05-29</td>\n",
       "      <td>CULEX PIPIENS/RESTUANS</td>\n",
       "      <td>T050</td>\n",
       "      <td>2100  N STAVE ST, Chicago, IL</td>\n",
       "      <td>41.919343</td>\n",
       "      <td>-87.694259</td>\n",
       "      <td>1</td>\n",
       "      <td>0</td>\n",
       "      <td>1</td>\n",
       "      <td>88</td>\n",
       "      <td>...</td>\n",
       "      <td>30.11</td>\n",
       "      <td>5.8</td>\n",
       "      <td>18</td>\n",
       "      <td>6.5</td>\n",
       "      <td>75.0</td>\n",
       "      <td>896</td>\n",
       "      <td>22</td>\n",
       "      <td>5</td>\n",
       "      <td>2007</td>\n",
       "      <td>41.919343,-87.694259</td>\n",
       "    </tr>\n",
       "  </tbody>\n",
       "</table>\n",
       "<p>5 rows × 29 columns</p>\n",
       "</div>"
      ],
      "text/plain": [
       "        date                 species  trap          address_number_and_street  \\\n",
       "0 2007-05-29           CULEX PIPIENS  T096       2200  W 89TH ST, Chicago, IL   \n",
       "1 2007-05-29  CULEX PIPIENS/RESTUANS  T002  4100  N OAK PARK AVE, Chicago, IL   \n",
       "2 2007-05-29  CULEX PIPIENS/RESTUANS  T015    7900  W FOSTER AVE, Chicago, IL   \n",
       "3 2007-05-29  CULEX PIPIENS/RESTUANS  T048     1100  W ROOSEVELT, Chicago, IL   \n",
       "4 2007-05-29  CULEX PIPIENS/RESTUANS  T050      2100  N STAVE ST, Chicago, IL   \n",
       "\n",
       "    latitude  longitude  num_mosquitos  wnv_present  station  tmax  ...  \\\n",
       "0  41.731922 -87.677512              1            0        1    88  ...   \n",
       "1  41.954690 -87.800991              1            0        1    88  ...   \n",
       "2  41.974089 -87.824812              1            0        1    88  ...   \n",
       "3  41.867108 -87.654224              1            0        1    88  ...   \n",
       "4  41.919343 -87.694259              1            0        1    88  ...   \n",
       "\n",
       "   sea_level  result_speed result_dir  avg_speed  relative_humidity  \\\n",
       "0      30.11           5.8         18        6.5               75.0   \n",
       "1      30.11           5.8         18        6.5               75.0   \n",
       "2      30.11           5.8         18        6.5               75.0   \n",
       "3      30.11           5.8         18        6.5               75.0   \n",
       "4      30.11           5.8         18        6.5               75.0   \n",
       "\n",
       "  minutes_between week_number  month  year                coords  \n",
       "0             896          22      5  2007  41.731922,-87.677512  \n",
       "1             896          22      5  2007   41.95469,-87.800991  \n",
       "2             896          22      5  2007  41.974089,-87.824812  \n",
       "3             896          22      5  2007  41.867108,-87.654224  \n",
       "4             896          22      5  2007  41.919343,-87.694259  \n",
       "\n",
       "[5 rows x 29 columns]"
      ]
     },
     "execution_count": 52,
     "metadata": {},
     "output_type": "execute_result"
    }
   ],
   "source": [
    "train_clean.head()"
   ]
  },
  {
   "cell_type": "markdown",
   "metadata": {
    "id": "3syPYdfcKzSQ"
   },
   "source": [
    "### Merge 'Test' and 'Weather' datasets"
   ]
  },
  {
   "cell_type": "code",
   "execution_count": 53,
   "metadata": {
    "id": "6_25LSc7K01l"
   },
   "outputs": [],
   "source": [
    "test_clean = pd.merge(test, weather, on='date')"
   ]
  },
  {
   "cell_type": "code",
   "execution_count": 54,
   "metadata": {
    "id": "vPH9-muOpsy4"
   },
   "outputs": [],
   "source": [
    "# Apply the function to the date column of the DataFrame\n",
    "test_clean['week_number'] = test_clean['date'].apply(get_week_number)"
   ]
  },
  {
   "cell_type": "code",
   "execution_count": 55,
   "metadata": {
    "id": "AjucbchWK0bp"
   },
   "outputs": [],
   "source": [
    "# split month and year from date\n",
    "test_clean['month'] = test_clean['date'].dt.month\n",
    "test_clean['year'] = test_clean['date'].dt.year"
   ]
  },
  {
   "cell_type": "code",
   "execution_count": 56,
   "metadata": {
    "id": "clD4lejfK0V4"
   },
   "outputs": [],
   "source": [
    "# concatenate columns 'latitude' and 'longitude' to create a new column 'coords'\n",
    "test_clean['coords'] = test_clean['latitude'].astype(str) + ',' + test_clean['longitude'].astype(str)"
   ]
  },
  {
   "cell_type": "code",
   "execution_count": 57,
   "metadata": {
    "id": "YwPOWn4CLzQn"
   },
   "outputs": [
    {
     "data": {
      "text/html": [
       "<div>\n",
       "<style scoped>\n",
       "    .dataframe tbody tr th:only-of-type {\n",
       "        vertical-align: middle;\n",
       "    }\n",
       "\n",
       "    .dataframe tbody tr th {\n",
       "        vertical-align: top;\n",
       "    }\n",
       "\n",
       "    .dataframe thead th {\n",
       "        text-align: right;\n",
       "    }\n",
       "</style>\n",
       "<table border=\"1\" class=\"dataframe\">\n",
       "  <thead>\n",
       "    <tr style=\"text-align: right;\">\n",
       "      <th></th>\n",
       "      <th>id</th>\n",
       "      <th>date</th>\n",
       "      <th>species</th>\n",
       "      <th>trap</th>\n",
       "      <th>address_number_and_street</th>\n",
       "      <th>latitude</th>\n",
       "      <th>longitude</th>\n",
       "      <th>station</th>\n",
       "      <th>tmax</th>\n",
       "      <th>tmin</th>\n",
       "      <th>...</th>\n",
       "      <th>sea_level</th>\n",
       "      <th>result_speed</th>\n",
       "      <th>result_dir</th>\n",
       "      <th>avg_speed</th>\n",
       "      <th>relative_humidity</th>\n",
       "      <th>minutes_between</th>\n",
       "      <th>week_number</th>\n",
       "      <th>month</th>\n",
       "      <th>year</th>\n",
       "      <th>coords</th>\n",
       "    </tr>\n",
       "  </thead>\n",
       "  <tbody>\n",
       "    <tr>\n",
       "      <th>0</th>\n",
       "      <td>1</td>\n",
       "      <td>2008-06-11</td>\n",
       "      <td>CULEX PIPIENS/RESTUANS</td>\n",
       "      <td>T002</td>\n",
       "      <td>4100  N OAK PARK AVE, Chicago, IL</td>\n",
       "      <td>41.95469</td>\n",
       "      <td>-87.800991</td>\n",
       "      <td>1</td>\n",
       "      <td>86</td>\n",
       "      <td>61</td>\n",
       "      <td>...</td>\n",
       "      <td>29.99</td>\n",
       "      <td>8.9</td>\n",
       "      <td>18</td>\n",
       "      <td>10.0</td>\n",
       "      <td>72.2</td>\n",
       "      <td>910</td>\n",
       "      <td>24</td>\n",
       "      <td>6</td>\n",
       "      <td>2008</td>\n",
       "      <td>41.95469,-87.800991</td>\n",
       "    </tr>\n",
       "    <tr>\n",
       "      <th>1</th>\n",
       "      <td>2</td>\n",
       "      <td>2008-06-11</td>\n",
       "      <td>CULEX RESTUANS</td>\n",
       "      <td>T002</td>\n",
       "      <td>4100  N OAK PARK AVE, Chicago, IL</td>\n",
       "      <td>41.95469</td>\n",
       "      <td>-87.800991</td>\n",
       "      <td>1</td>\n",
       "      <td>86</td>\n",
       "      <td>61</td>\n",
       "      <td>...</td>\n",
       "      <td>29.99</td>\n",
       "      <td>8.9</td>\n",
       "      <td>18</td>\n",
       "      <td>10.0</td>\n",
       "      <td>72.2</td>\n",
       "      <td>910</td>\n",
       "      <td>24</td>\n",
       "      <td>6</td>\n",
       "      <td>2008</td>\n",
       "      <td>41.95469,-87.800991</td>\n",
       "    </tr>\n",
       "    <tr>\n",
       "      <th>2</th>\n",
       "      <td>3</td>\n",
       "      <td>2008-06-11</td>\n",
       "      <td>CULEX PIPIENS</td>\n",
       "      <td>T002</td>\n",
       "      <td>4100  N OAK PARK AVE, Chicago, IL</td>\n",
       "      <td>41.95469</td>\n",
       "      <td>-87.800991</td>\n",
       "      <td>1</td>\n",
       "      <td>86</td>\n",
       "      <td>61</td>\n",
       "      <td>...</td>\n",
       "      <td>29.99</td>\n",
       "      <td>8.9</td>\n",
       "      <td>18</td>\n",
       "      <td>10.0</td>\n",
       "      <td>72.2</td>\n",
       "      <td>910</td>\n",
       "      <td>24</td>\n",
       "      <td>6</td>\n",
       "      <td>2008</td>\n",
       "      <td>41.95469,-87.800991</td>\n",
       "    </tr>\n",
       "    <tr>\n",
       "      <th>3</th>\n",
       "      <td>4</td>\n",
       "      <td>2008-06-11</td>\n",
       "      <td>CULEX SALINARIUS</td>\n",
       "      <td>T002</td>\n",
       "      <td>4100  N OAK PARK AVE, Chicago, IL</td>\n",
       "      <td>41.95469</td>\n",
       "      <td>-87.800991</td>\n",
       "      <td>1</td>\n",
       "      <td>86</td>\n",
       "      <td>61</td>\n",
       "      <td>...</td>\n",
       "      <td>29.99</td>\n",
       "      <td>8.9</td>\n",
       "      <td>18</td>\n",
       "      <td>10.0</td>\n",
       "      <td>72.2</td>\n",
       "      <td>910</td>\n",
       "      <td>24</td>\n",
       "      <td>6</td>\n",
       "      <td>2008</td>\n",
       "      <td>41.95469,-87.800991</td>\n",
       "    </tr>\n",
       "    <tr>\n",
       "      <th>4</th>\n",
       "      <td>5</td>\n",
       "      <td>2008-06-11</td>\n",
       "      <td>CULEX TERRITANS</td>\n",
       "      <td>T002</td>\n",
       "      <td>4100  N OAK PARK AVE, Chicago, IL</td>\n",
       "      <td>41.95469</td>\n",
       "      <td>-87.800991</td>\n",
       "      <td>1</td>\n",
       "      <td>86</td>\n",
       "      <td>61</td>\n",
       "      <td>...</td>\n",
       "      <td>29.99</td>\n",
       "      <td>8.9</td>\n",
       "      <td>18</td>\n",
       "      <td>10.0</td>\n",
       "      <td>72.2</td>\n",
       "      <td>910</td>\n",
       "      <td>24</td>\n",
       "      <td>6</td>\n",
       "      <td>2008</td>\n",
       "      <td>41.95469,-87.800991</td>\n",
       "    </tr>\n",
       "  </tbody>\n",
       "</table>\n",
       "<p>5 rows × 28 columns</p>\n",
       "</div>"
      ],
      "text/plain": [
       "   id       date                 species  trap  \\\n",
       "0   1 2008-06-11  CULEX PIPIENS/RESTUANS  T002   \n",
       "1   2 2008-06-11          CULEX RESTUANS  T002   \n",
       "2   3 2008-06-11           CULEX PIPIENS  T002   \n",
       "3   4 2008-06-11        CULEX SALINARIUS  T002   \n",
       "4   5 2008-06-11         CULEX TERRITANS  T002   \n",
       "\n",
       "           address_number_and_street  latitude  longitude  station  tmax  \\\n",
       "0  4100  N OAK PARK AVE, Chicago, IL  41.95469 -87.800991        1    86   \n",
       "1  4100  N OAK PARK AVE, Chicago, IL  41.95469 -87.800991        1    86   \n",
       "2  4100  N OAK PARK AVE, Chicago, IL  41.95469 -87.800991        1    86   \n",
       "3  4100  N OAK PARK AVE, Chicago, IL  41.95469 -87.800991        1    86   \n",
       "4  4100  N OAK PARK AVE, Chicago, IL  41.95469 -87.800991        1    86   \n",
       "\n",
       "   tmin  ...  sea_level result_speed  result_dir  avg_speed relative_humidity  \\\n",
       "0    61  ...      29.99          8.9          18       10.0              72.2   \n",
       "1    61  ...      29.99          8.9          18       10.0              72.2   \n",
       "2    61  ...      29.99          8.9          18       10.0              72.2   \n",
       "3    61  ...      29.99          8.9          18       10.0              72.2   \n",
       "4    61  ...      29.99          8.9          18       10.0              72.2   \n",
       "\n",
       "  minutes_between  week_number  month  year               coords  \n",
       "0             910           24      6  2008  41.95469,-87.800991  \n",
       "1             910           24      6  2008  41.95469,-87.800991  \n",
       "2             910           24      6  2008  41.95469,-87.800991  \n",
       "3             910           24      6  2008  41.95469,-87.800991  \n",
       "4             910           24      6  2008  41.95469,-87.800991  \n",
       "\n",
       "[5 rows x 28 columns]"
      ]
     },
     "execution_count": 57,
     "metadata": {},
     "output_type": "execute_result"
    }
   ],
   "source": [
    "test_clean.head()"
   ]
  },
  {
   "cell_type": "markdown",
   "metadata": {
    "id": "g7y1TfuBL7rd"
   },
   "source": [
    "### Save cleaned data"
   ]
  },
  {
   "cell_type": "code",
   "execution_count": 59,
   "metadata": {
    "id": "5lwPWNgZL7u6"
   },
   "outputs": [],
   "source": [
    "train_clean.to_csv('../data/data_cleaned/train_clean.csv', index=False)"
   ]
  },
  {
   "cell_type": "code",
   "execution_count": 60,
   "metadata": {
    "id": "9KNEcAkuwisi"
   },
   "outputs": [],
   "source": [
    "test_clean.to_csv('../data/data_cleaned/test_clean.csv', index=False)"
   ]
  },
  {
   "cell_type": "code",
   "execution_count": 61,
   "metadata": {
    "id": "kBoGSwRcNbyx"
   },
   "outputs": [],
   "source": [
    "spray.to_csv('../data/data_cleaned/spray_clean.csv', index=False)"
   ]
  },
  {
   "cell_type": "code",
   "execution_count": 62,
   "metadata": {
    "id": "mqrc9aqDAf0V"
   },
   "outputs": [
    {
     "data": {
      "text/html": [
       "<div>\n",
       "<style scoped>\n",
       "    .dataframe tbody tr th:only-of-type {\n",
       "        vertical-align: middle;\n",
       "    }\n",
       "\n",
       "    .dataframe tbody tr th {\n",
       "        vertical-align: top;\n",
       "    }\n",
       "\n",
       "    .dataframe thead th {\n",
       "        text-align: right;\n",
       "    }\n",
       "</style>\n",
       "<table border=\"1\" class=\"dataframe\">\n",
       "  <thead>\n",
       "    <tr style=\"text-align: right;\">\n",
       "      <th></th>\n",
       "      <th>date</th>\n",
       "      <th>species</th>\n",
       "      <th>trap</th>\n",
       "      <th>address_number_and_street</th>\n",
       "      <th>latitude</th>\n",
       "      <th>longitude</th>\n",
       "      <th>num_mosquitos</th>\n",
       "      <th>wnv_present</th>\n",
       "      <th>station</th>\n",
       "      <th>tmax</th>\n",
       "      <th>...</th>\n",
       "      <th>sea_level</th>\n",
       "      <th>result_speed</th>\n",
       "      <th>result_dir</th>\n",
       "      <th>avg_speed</th>\n",
       "      <th>relative_humidity</th>\n",
       "      <th>minutes_between</th>\n",
       "      <th>week_number</th>\n",
       "      <th>month</th>\n",
       "      <th>year</th>\n",
       "      <th>coords</th>\n",
       "    </tr>\n",
       "  </thead>\n",
       "  <tbody>\n",
       "    <tr>\n",
       "      <th>0</th>\n",
       "      <td>2007-05-29</td>\n",
       "      <td>CULEX PIPIENS</td>\n",
       "      <td>T096</td>\n",
       "      <td>2200  W 89TH ST, Chicago, IL</td>\n",
       "      <td>41.731922</td>\n",
       "      <td>-87.677512</td>\n",
       "      <td>1</td>\n",
       "      <td>0</td>\n",
       "      <td>1</td>\n",
       "      <td>88</td>\n",
       "      <td>...</td>\n",
       "      <td>30.11</td>\n",
       "      <td>5.8</td>\n",
       "      <td>18</td>\n",
       "      <td>6.5</td>\n",
       "      <td>75.0</td>\n",
       "      <td>896</td>\n",
       "      <td>22</td>\n",
       "      <td>5</td>\n",
       "      <td>2007</td>\n",
       "      <td>41.731922,-87.677512</td>\n",
       "    </tr>\n",
       "    <tr>\n",
       "      <th>1</th>\n",
       "      <td>2007-05-29</td>\n",
       "      <td>CULEX PIPIENS/RESTUANS</td>\n",
       "      <td>T002</td>\n",
       "      <td>4100  N OAK PARK AVE, Chicago, IL</td>\n",
       "      <td>41.954690</td>\n",
       "      <td>-87.800991</td>\n",
       "      <td>1</td>\n",
       "      <td>0</td>\n",
       "      <td>1</td>\n",
       "      <td>88</td>\n",
       "      <td>...</td>\n",
       "      <td>30.11</td>\n",
       "      <td>5.8</td>\n",
       "      <td>18</td>\n",
       "      <td>6.5</td>\n",
       "      <td>75.0</td>\n",
       "      <td>896</td>\n",
       "      <td>22</td>\n",
       "      <td>5</td>\n",
       "      <td>2007</td>\n",
       "      <td>41.95469,-87.800991</td>\n",
       "    </tr>\n",
       "    <tr>\n",
       "      <th>2</th>\n",
       "      <td>2007-05-29</td>\n",
       "      <td>CULEX PIPIENS/RESTUANS</td>\n",
       "      <td>T015</td>\n",
       "      <td>7900  W FOSTER AVE, Chicago, IL</td>\n",
       "      <td>41.974089</td>\n",
       "      <td>-87.824812</td>\n",
       "      <td>1</td>\n",
       "      <td>0</td>\n",
       "      <td>1</td>\n",
       "      <td>88</td>\n",
       "      <td>...</td>\n",
       "      <td>30.11</td>\n",
       "      <td>5.8</td>\n",
       "      <td>18</td>\n",
       "      <td>6.5</td>\n",
       "      <td>75.0</td>\n",
       "      <td>896</td>\n",
       "      <td>22</td>\n",
       "      <td>5</td>\n",
       "      <td>2007</td>\n",
       "      <td>41.974089,-87.824812</td>\n",
       "    </tr>\n",
       "    <tr>\n",
       "      <th>3</th>\n",
       "      <td>2007-05-29</td>\n",
       "      <td>CULEX PIPIENS/RESTUANS</td>\n",
       "      <td>T048</td>\n",
       "      <td>1100  W ROOSEVELT, Chicago, IL</td>\n",
       "      <td>41.867108</td>\n",
       "      <td>-87.654224</td>\n",
       "      <td>1</td>\n",
       "      <td>0</td>\n",
       "      <td>1</td>\n",
       "      <td>88</td>\n",
       "      <td>...</td>\n",
       "      <td>30.11</td>\n",
       "      <td>5.8</td>\n",
       "      <td>18</td>\n",
       "      <td>6.5</td>\n",
       "      <td>75.0</td>\n",
       "      <td>896</td>\n",
       "      <td>22</td>\n",
       "      <td>5</td>\n",
       "      <td>2007</td>\n",
       "      <td>41.867108,-87.654224</td>\n",
       "    </tr>\n",
       "    <tr>\n",
       "      <th>4</th>\n",
       "      <td>2007-05-29</td>\n",
       "      <td>CULEX PIPIENS/RESTUANS</td>\n",
       "      <td>T050</td>\n",
       "      <td>2100  N STAVE ST, Chicago, IL</td>\n",
       "      <td>41.919343</td>\n",
       "      <td>-87.694259</td>\n",
       "      <td>1</td>\n",
       "      <td>0</td>\n",
       "      <td>1</td>\n",
       "      <td>88</td>\n",
       "      <td>...</td>\n",
       "      <td>30.11</td>\n",
       "      <td>5.8</td>\n",
       "      <td>18</td>\n",
       "      <td>6.5</td>\n",
       "      <td>75.0</td>\n",
       "      <td>896</td>\n",
       "      <td>22</td>\n",
       "      <td>5</td>\n",
       "      <td>2007</td>\n",
       "      <td>41.919343,-87.694259</td>\n",
       "    </tr>\n",
       "  </tbody>\n",
       "</table>\n",
       "<p>5 rows × 29 columns</p>\n",
       "</div>"
      ],
      "text/plain": [
       "        date                 species  trap          address_number_and_street  \\\n",
       "0 2007-05-29           CULEX PIPIENS  T096       2200  W 89TH ST, Chicago, IL   \n",
       "1 2007-05-29  CULEX PIPIENS/RESTUANS  T002  4100  N OAK PARK AVE, Chicago, IL   \n",
       "2 2007-05-29  CULEX PIPIENS/RESTUANS  T015    7900  W FOSTER AVE, Chicago, IL   \n",
       "3 2007-05-29  CULEX PIPIENS/RESTUANS  T048     1100  W ROOSEVELT, Chicago, IL   \n",
       "4 2007-05-29  CULEX PIPIENS/RESTUANS  T050      2100  N STAVE ST, Chicago, IL   \n",
       "\n",
       "    latitude  longitude  num_mosquitos  wnv_present  station  tmax  ...  \\\n",
       "0  41.731922 -87.677512              1            0        1    88  ...   \n",
       "1  41.954690 -87.800991              1            0        1    88  ...   \n",
       "2  41.974089 -87.824812              1            0        1    88  ...   \n",
       "3  41.867108 -87.654224              1            0        1    88  ...   \n",
       "4  41.919343 -87.694259              1            0        1    88  ...   \n",
       "\n",
       "   sea_level  result_speed result_dir  avg_speed  relative_humidity  \\\n",
       "0      30.11           5.8         18        6.5               75.0   \n",
       "1      30.11           5.8         18        6.5               75.0   \n",
       "2      30.11           5.8         18        6.5               75.0   \n",
       "3      30.11           5.8         18        6.5               75.0   \n",
       "4      30.11           5.8         18        6.5               75.0   \n",
       "\n",
       "  minutes_between week_number  month  year                coords  \n",
       "0             896          22      5  2007  41.731922,-87.677512  \n",
       "1             896          22      5  2007   41.95469,-87.800991  \n",
       "2             896          22      5  2007  41.974089,-87.824812  \n",
       "3             896          22      5  2007  41.867108,-87.654224  \n",
       "4             896          22      5  2007  41.919343,-87.694259  \n",
       "\n",
       "[5 rows x 29 columns]"
      ]
     },
     "execution_count": 62,
     "metadata": {},
     "output_type": "execute_result"
    }
   ],
   "source": [
    "train_clean.head()"
   ]
  }
 ],
 "metadata": {
  "colab": {
   "provenance": []
  },
  "kernelspec": {
   "display_name": "Python 3 (ipykernel)",
   "language": "python",
   "name": "python3"
  },
  "language_info": {
   "codemirror_mode": {
    "name": "ipython",
    "version": 3
   },
   "file_extension": ".py",
   "mimetype": "text/x-python",
   "name": "python",
   "nbconvert_exporter": "python",
   "pygments_lexer": "ipython3",
   "version": "3.9.16"
  }
 },
 "nbformat": 4,
 "nbformat_minor": 1
}
