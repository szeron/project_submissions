{
 "cells": [
  {
   "cell_type": "markdown",
   "metadata": {},
   "source": [
    "<img src=\"http://imgur.com/1ZcRyrc.png\" style=\"float: left; margin: 20px; height: 55px\">\n",
    "\n",
    "# Project 1: Data Analysis of Singapore Rainfall"
   ]
  },
  {
   "cell_type": "markdown",
   "metadata": {},
   "source": [
    "<div style=\"border: 1px solid thistle; padding: 5px 20px 10px 20px;\">\n",
    "    <h2><font color = \"77658f\" style=\";\"> Feedback </font></h2><br>\n",
    "            <font color = \"77658f\"> \n",
    "                <br>Project Organisation - Project is well organised, complete with README.md, code and data folders well arranged. Good use of markdown formatting. Notebook was tidy and easy to navigate.\n",
    "                <br> Clarity of Message - Strong narrative runs through the project with appropriate context to connect individual steps back to the overall project. It is also clear how the final conclusion and recommendations were reached\n",
    "                <br> Python Syntax and Control Flow - Pandas masking and sorting mastery shown. Codes were also optimal\n",
    "                <br> Data Cleaning and EDA - Data Cleaning and EDA were carried out effectively. \n",
    "                <br> Visualisations - Visualisations were properly labeled, well presented and interpreted \n",
    "                <br>Research and Conceptual Understanding - There was ample outside research with citations supporting the project. \n",
    "                <br> Presentation - Visualisation slides can be better refined with annotations on the graphs itself also, visualisations can be spread over a few slides rather than combined in one slide. \n",
    "                <br><br>\n",
    "        <h2>Scores</h2> <br>\n",
    "        • Project Organisation: <b>3</b> <br>\n",
    "        • Clarity of Message: <b>3</b> <br>\n",
    "        • Python Syntax and Control Flow: <b>3</b><br>\n",
    "        • Data Cleaning and EDA: <b>3</b><br>\n",
    "        • Visualisations: <b>3</b><br>\n",
    "        • Research and Conceptual Understanding: <b>3</b><br> \n",
    "        • Presentation: \n",
    "                <b>2</b><br><br>\n",
    "<h2>Overall comments</h2> <br>\n",
    "Great effort! It was interesting to read about your analysis on the impact of weather features on Singapore's tourism. Notebook was well curated. Looking forward to your next submission!\n",
    "    </font>\n",
    "</div>"
   ]
  },
  {
   "cell_type": "markdown",
   "metadata": {},
   "source": [
    "--- \n",
    "# Part 1\n",
    "\n",
    "Part 1 requires knowledge of basic Python.\n",
    "\n",
    "---"
   ]
  },
  {
   "cell_type": "markdown",
   "metadata": {},
   "source": [
    "### Contents:\n",
    "- [Background](#Background)\n",
    "- [Data Import & Cleaning](#Data-Import-and-Cleaning)\n",
    "- [Exploratory Data Analysis](#Exploratory-Data-Analysis)\n",
    "- [Data Visualization](#Visualize-the-Data)\n",
    "- [Conclusions and Recommendations](#Conclusions-and-Recommendations)"
   ]
  },
  {
   "cell_type": "markdown",
   "metadata": {},
   "source": [
    "## Background"
   ]
  },
  {
   "cell_type": "markdown",
   "metadata": {},
   "source": [
    "According to the [Meteorological Services Singapore](http://www.weather.gov.sg/climate-climate-of-singapore/#:~:text=Singapore%20is%20situated%20near%20the,month%2Dto%2Dmonth%20variation.), Singapore has typical tropical climate with adundant rainfall, high and uniform temperatures and high humidity all year round, since its situated near the equator. There are many factors that help us understand the climate of a country and in this project we are going to look into a few, especially rainfall.\n",
    "\n",
    "Singapore’s climate is characterised by two main monsoon seasons separated by inter-monsoonal periods.  The **Northeast Monsoon** occurs from December to early March, and the **Southwest Monsoon** from June to September.\n",
    "\n",
    "The major weather systems affecting Singapore that can lead to heavy rainfall are:\n",
    "\n",
    "-Monsoon surges, or strong wind episodes in the Northeast Monsoon flow bringing about major rainfall events;\n",
    "\n",
    "-Sumatra squalls, an organised line of thunderstorms travelling eastward across Singapore, having developed over the island of Sumatra or Straits of Malacca west of us;\n",
    "\n",
    "-Afternoon and evening thunderstorms caused by strong surface heating and by the sea breeze circulation that develops in the afternoon.\n",
    "\n",
    "Singapore’s climate station has been located at several different sites in the past 140 years. The station had been decommissioned at various points in the past due to changes to local land use in the site’s vicinity, and had to be relocated. Since 1984, the climate station has been located at **Changi**.\n",
    "\n",
    "There are other metrics of climate such as temperature, humidity, sun shine duration, wind speed, cloud cover etc. All the dataset used in the project comes from [data.gov.sg](data.gov.sg), as recorded at the Changi climate station \n"
   ]
  },
  {
   "cell_type": "markdown",
   "metadata": {},
   "source": [
    "### Choose your Data\n",
    "\n",
    "There are 2 datasets included in the [`data`](./data/) folder for this project. These correponds to rainfall information. \n",
    "\n",
    "* [`rainfall-monthly-number-of-rain-days.csv`](./data/rainfall-monthly-number-of-rain-days.csv): Monthly number of rain days from 1982 to 2022. A day is considered to have “rained” if the total rainfall for that day is 0.2mm or more.\n",
    "* [`rainfall-monthly-total.csv`](./data/rainfall-monthly-total.csv): Monthly number of rain days from 1982 to 2022. A day is considered to have “rained” if the total rainfall for that day is 0.2mm or more.\n",
    "\n",
    "Other relevant weather datasets from [data.gov.sg](data.gov.sg) that you can download and use are as follows:\n",
    "\n",
    "* [Relative Humidity](https://data.gov.sg/dataset/relative-humidity-monthly-mean)\n",
    "* [Monthly Maximum Daily Rainfall](https://data.gov.sg/dataset/rainfall-monthly-maximum-daily-total)\n",
    "* [Hourly wet bulb temperature](https://data.gov.sg/dataset/wet-bulb-temperature-hourly)\n",
    "* [Monthly mean sunshine hours](https://data.gov.sg/dataset/sunshine-duration-monthly-mean-daily-duration)\n",
    "* [Surface Air Temperature](https://data.gov.sg/dataset/surface-air-temperature-mean-daily-minimum)\n",
    "\n",
    "You can also use other datasets for your analysis, make sure to cite the source when you are using them"
   ]
  },
  {
   "cell_type": "markdown",
   "metadata": {},
   "source": [
    "#### Selected datasets:\n",
    "  1. [`rainfall-monthly-number-of-rain-days.csv`]: Monthly number of rain days from 1982 to 2022. A day is considered to have “rained” if the total rainfall for that day is 0.2mm or more.\n",
    "  2. [`rainfall-monthly-total.csv`]: Monthly number of rain days from 1982 to 2022. A day is considered to have “rained” if the total rainfall for that day is 0.2mm or more.\n",
    "  3. [`rainfall-monthly-highest-daily-total`]: The highest daily rainfall in the month recorded from 1982 to 2022 (in mm)\n",
    "  4. [`relative-humidity-monthly-mean.csv`]: The monthly mean relative humidity recorded from 1982 to 2022 (in %)\n",
    "  5. [`sunshine-duration-monthly-mean-daily-duration.csv`]: The monthly mean daily sunshine duration from 1982 to 2022 (in hrs)\n",
    "  6. [Visitors To Selected Places Of Interest](https://tablebuilder.singstat.gov.sg/table/TS/M891071): Visitor numbers from 1990 to 2022"
   ]
  },
  {
   "cell_type": "markdown",
   "metadata": {},
   "source": [
    "## Problem Statement"
   ]
  },
  {
   "cell_type": "markdown",
   "metadata": {},
   "source": [
    "As Singapore opens up its borders to the world following the Covid-19 pandemic, I have been hired by Singapore Tourism Board (STB) to advise tourists and outdoor-lovers on how they can be prepared based on their travel months. \n",
    "\n",
    "Given the unpredictability of weather in Singapore, tourists who are unfamiliar with local weather conditions may be caught off guard, causing their plans to be disrupted. This project aims to analyse trends in Singapore weather to identify adverse conditions for tourists who enjoy being outdoors. This analysis can help tourists plan travel periods and itineraries better, bringing home a pleasant experience."
   ]
  },
  {
   "cell_type": "markdown",
   "metadata": {},
   "source": [
    "Rainfall affects daily activities of Singapore population, hence it is worth analysing rainfall data to identify trends "
   ]
  },
  {
   "cell_type": "markdown",
   "metadata": {},
   "source": [
    "### Outside Research"
   ]
  },
  {
   "cell_type": "markdown",
   "metadata": {},
   "source": [
    "Based on your problem statement and your chosen datasets, spend some time doing outside research on how climate change is affecting different industries or additional information that might be relevant. Summarize your findings below. If you bring in any outside tables or charts, make sure you are explicit about having borrowed them. If you quote any text, make sure that it renders as being quoted. **Make sure that you cite your sources.**"
   ]
  },
  {
   "cell_type": "markdown",
   "metadata": {},
   "source": [
    " + https://www.straitstimes.com/opinion/hot-and-bothered-climate-challenges-for-asean-tourism"
   ]
  },
  {
   "cell_type": "markdown",
   "metadata": {},
   "source": [
    "Based on the above article, it is increasingly necessary to embed climate projections and environmental policies in tourism planning as countries reopen. Climate change is a long-term issue that poses significant problems for tourism especially in the ASEAN region, affecting beaches, coral reefs, cultural heritage sites, and creating displacement of tourism flows due to extreme weather events. An example of this is Indonesia, one of the countries most vulnerable to climate change based on latest studies: every 1% increase in temperature and relative humidity is associated with a decrease in the number of international tourists by 1.37% and 0.59%, respectively.\n",
    "\n",
    "Singapore and the ASEAN region must quickly develop standard regional guidelines on environmental protection and climate change adaptation for its tourism industry. Failing to do so might mean that South-east Asia's tourist attractions might be lost forever to rising seas and powerful storms."
   ]
  },
  {
   "cell_type": "markdown",
   "metadata": {},
   "source": [
    "### Coding Challenges\n",
    "\n",
    "1. Manually calculate mean:\n",
    "\n",
    "    Write a function that takes in values and returns the mean of the values. Create a list of numbers that you test on your function to check to make sure your function works!\n",
    "    \n",
    "    *Note*: Do not use any mean methods built-in to any Python libraries to do this! This should be done without importing any additional libraries."
   ]
  },
  {
   "cell_type": "code",
   "execution_count": 78,
   "metadata": {},
   "outputs": [
    {
     "name": "stdout",
     "output_type": "stream",
     "text": [
      "The mean of the numbers is: 5.5\n"
     ]
    }
   ],
   "source": [
    "def calculate_mean(numbers):\n",
    "    total = 0\n",
    "    for num in numbers:\n",
    "        total += num\n",
    "    return total / len(numbers)\n",
    "\n",
    "numbers = [1, 2, 3, 4, 5, 6, 7, 8, 9, 10]\n",
    "mean = calculate_mean(numbers)\n",
    "print(\"The mean of the numbers is:\", mean)"
   ]
  },
  {
   "cell_type": "markdown",
   "metadata": {},
   "source": [
    "2. Manually calculate standard deviation:\n",
    "\n",
    "    The formula for standard deviation is below:\n",
    "\n",
    "    $$\\sigma = \\sqrt{\\frac{1}{n}\\sum_{i=1}^n(x_i - \\mu)^2}$$\n",
    "\n",
    "    Where $x_i$ represents each value in the dataset, $\\mu$ represents the mean of all values in the dataset and $n$ represents the number of values in the dataset.\n",
    "\n",
    "    Write a function that takes in values and returns the standard deviation of the values using the formula above. Hint: use the function you wrote above to calculate the mean! Use the list of numbers you created above to test on your function.\n",
    "    \n",
    "    *Note*: Do not use any standard deviation methods built-in to any Python libraries to do this! This should be done without importing any additional libraries."
   ]
  },
  {
   "cell_type": "code",
   "execution_count": 79,
   "metadata": {},
   "outputs": [
    {
     "name": "stdout",
     "output_type": "stream",
     "text": [
      "The standard deviation of the numbers is: 2.87\n"
     ]
    }
   ],
   "source": [
    "def calculate_std_dev(numbers):\n",
    "    mean = calculate_mean(numbers)\n",
    "    dev = 0\n",
    "    for num in numbers:\n",
    "        dev += (num - mean) ** 2\n",
    "    dev = (dev / len(numbers))**0.5\n",
    "    return round(dev,2)\n",
    "\n",
    "numbers = [1, 2, 3, 4, 5, 6, 7, 8, 9, 10]\n",
    "std_dev = round(calculate_std_dev(numbers),2)\n",
    "print(\"The standard deviation of the numbers is:\", std_dev)"
   ]
  },
  {
   "cell_type": "markdown",
   "metadata": {},
   "source": [
    "--- \n",
    "# Part 2\n",
    "\n",
    "Part 2 requires knowledge of Pandas, EDA, data cleaning, and data visualization.\n",
    "\n",
    "---"
   ]
  },
  {
   "cell_type": "markdown",
   "metadata": {},
   "source": [
    "*All libraries used should be added here*"
   ]
  },
  {
   "cell_type": "code",
   "execution_count": 3,
   "metadata": {},
   "outputs": [],
   "source": [
    "# Imports:\n",
    "import numpy as np\n",
    "import pandas as pd\n",
    "import matplotlib.pyplot as plt\n",
    "import seaborn as sns\n",
    "\n",
    "%matplotlib inline\n",
    "sns.set()"
   ]
  },
  {
   "cell_type": "markdown",
   "metadata": {},
   "source": [
    "## Data Import and Cleaning"
   ]
  },
  {
   "cell_type": "markdown",
   "metadata": {},
   "source": [
    "### Data Import & Cleaning\n",
    "\n",
    "Import all the datasets that you selected for this project and go through the following steps at a minimum. You are welcome to do further cleaning as you feel necessary. Make sure to comment your code to showcase the intent behind the data processing step.\n",
    "1. Display the data: print the first 5 rows of each dataframe to your Jupyter notebook.\n",
    "2. Check for missing values and datatype.\n",
    "3. Check for any obvious issues with the observations.\n",
    "4. Fix any errors you identified in steps 2-3.\n",
    "6. Fix any incorrect data types found in step 5.\n",
    "    - Fix any individual values preventing other columns from being the appropriate type.\n",
    "    - If the month column data is better analyzed as month and year, create new columns for the same\n",
    "7. Rename Columns.\n",
    "    - Column names should be all lowercase.\n",
    "    - Column names should not contain spaces (underscores will suffice--this allows for using the `df.column_name` method to access columns in addition to `df['column_name']`).\n",
    "    - Column names should be unique and informative.\n",
    "8. Drop unnecessary rows (if needed).\n",
    "9. Merge dataframes that can be merged.\n",
    "    - Since different climate metrics are in month format, you can merge them into one single dataframe for easier analysis\n",
    "10. Perform any additional cleaning that you feel is necessary.\n",
    "11. Save your cleaned and merged dataframes as csv files."
   ]
  },
  {
   "cell_type": "markdown",
   "metadata": {},
   "source": [
    "#### 1. Display data"
   ]
  },
  {
   "cell_type": "code",
   "execution_count": 4,
   "metadata": {},
   "outputs": [],
   "source": [
    "# Import all datasets:"
   ]
  },
  {
   "cell_type": "code",
   "execution_count": 5,
   "metadata": {
    "scrolled": true
   },
   "outputs": [
    {
     "data": {
      "text/html": [
       "<div>\n",
       "<style scoped>\n",
       "    .dataframe tbody tr th:only-of-type {\n",
       "        vertical-align: middle;\n",
       "    }\n",
       "\n",
       "    .dataframe tbody tr th {\n",
       "        vertical-align: top;\n",
       "    }\n",
       "\n",
       "    .dataframe thead th {\n",
       "        text-align: right;\n",
       "    }\n",
       "</style>\n",
       "<table border=\"1\" class=\"dataframe\">\n",
       "  <thead>\n",
       "    <tr style=\"text-align: right;\">\n",
       "      <th></th>\n",
       "      <th>month</th>\n",
       "      <th>no_of_rainy_days</th>\n",
       "    </tr>\n",
       "  </thead>\n",
       "  <tbody>\n",
       "    <tr>\n",
       "      <th>0</th>\n",
       "      <td>1982-01</td>\n",
       "      <td>10</td>\n",
       "    </tr>\n",
       "    <tr>\n",
       "      <th>1</th>\n",
       "      <td>1982-02</td>\n",
       "      <td>5</td>\n",
       "    </tr>\n",
       "    <tr>\n",
       "      <th>2</th>\n",
       "      <td>1982-03</td>\n",
       "      <td>11</td>\n",
       "    </tr>\n",
       "    <tr>\n",
       "      <th>3</th>\n",
       "      <td>1982-04</td>\n",
       "      <td>14</td>\n",
       "    </tr>\n",
       "    <tr>\n",
       "      <th>4</th>\n",
       "      <td>1982-05</td>\n",
       "      <td>10</td>\n",
       "    </tr>\n",
       "  </tbody>\n",
       "</table>\n",
       "</div>"
      ],
      "text/plain": [
       "     month  no_of_rainy_days\n",
       "0  1982-01                10\n",
       "1  1982-02                 5\n",
       "2  1982-03                11\n",
       "3  1982-04                14\n",
       "4  1982-05                10"
      ]
     },
     "execution_count": 5,
     "metadata": {},
     "output_type": "execute_result"
    }
   ],
   "source": [
    "mthly_rain_days = pd.read_csv(\"../data/rainfall-monthly-number-of-rain-days.csv\")\n",
    "mthly_rain_days.head()"
   ]
  },
  {
   "cell_type": "code",
   "execution_count": 6,
   "metadata": {
    "scrolled": true
   },
   "outputs": [
    {
     "data": {
      "text/html": [
       "<div>\n",
       "<style scoped>\n",
       "    .dataframe tbody tr th:only-of-type {\n",
       "        vertical-align: middle;\n",
       "    }\n",
       "\n",
       "    .dataframe tbody tr th {\n",
       "        vertical-align: top;\n",
       "    }\n",
       "\n",
       "    .dataframe thead th {\n",
       "        text-align: right;\n",
       "    }\n",
       "</style>\n",
       "<table border=\"1\" class=\"dataframe\">\n",
       "  <thead>\n",
       "    <tr style=\"text-align: right;\">\n",
       "      <th></th>\n",
       "      <th>month</th>\n",
       "      <th>total_rainfall</th>\n",
       "    </tr>\n",
       "  </thead>\n",
       "  <tbody>\n",
       "    <tr>\n",
       "      <th>0</th>\n",
       "      <td>1982-01</td>\n",
       "      <td>107.1</td>\n",
       "    </tr>\n",
       "    <tr>\n",
       "      <th>1</th>\n",
       "      <td>1982-02</td>\n",
       "      <td>27.8</td>\n",
       "    </tr>\n",
       "    <tr>\n",
       "      <th>2</th>\n",
       "      <td>1982-03</td>\n",
       "      <td>160.8</td>\n",
       "    </tr>\n",
       "    <tr>\n",
       "      <th>3</th>\n",
       "      <td>1982-04</td>\n",
       "      <td>157.0</td>\n",
       "    </tr>\n",
       "    <tr>\n",
       "      <th>4</th>\n",
       "      <td>1982-05</td>\n",
       "      <td>102.2</td>\n",
       "    </tr>\n",
       "  </tbody>\n",
       "</table>\n",
       "</div>"
      ],
      "text/plain": [
       "     month  total_rainfall\n",
       "0  1982-01           107.1\n",
       "1  1982-02            27.8\n",
       "2  1982-03           160.8\n",
       "3  1982-04           157.0\n",
       "4  1982-05           102.2"
      ]
     },
     "execution_count": 6,
     "metadata": {},
     "output_type": "execute_result"
    }
   ],
   "source": [
    "mthly_total_rain = pd.read_csv(\"../data/rainfall-monthly-total.csv\")\n",
    "mthly_total_rain.head()"
   ]
  },
  {
   "cell_type": "code",
   "execution_count": 7,
   "metadata": {
    "scrolled": true
   },
   "outputs": [
    {
     "data": {
      "text/html": [
       "<div>\n",
       "<style scoped>\n",
       "    .dataframe tbody tr th:only-of-type {\n",
       "        vertical-align: middle;\n",
       "    }\n",
       "\n",
       "    .dataframe tbody tr th {\n",
       "        vertical-align: top;\n",
       "    }\n",
       "\n",
       "    .dataframe thead th {\n",
       "        text-align: right;\n",
       "    }\n",
       "</style>\n",
       "<table border=\"1\" class=\"dataframe\">\n",
       "  <thead>\n",
       "    <tr style=\"text-align: right;\">\n",
       "      <th></th>\n",
       "      <th>month</th>\n",
       "      <th>maximum_rainfall_in_a_day</th>\n",
       "    </tr>\n",
       "  </thead>\n",
       "  <tbody>\n",
       "    <tr>\n",
       "      <th>0</th>\n",
       "      <td>1982-01</td>\n",
       "      <td>36.5</td>\n",
       "    </tr>\n",
       "    <tr>\n",
       "      <th>1</th>\n",
       "      <td>1982-02</td>\n",
       "      <td>9.4</td>\n",
       "    </tr>\n",
       "    <tr>\n",
       "      <th>2</th>\n",
       "      <td>1982-03</td>\n",
       "      <td>61.7</td>\n",
       "    </tr>\n",
       "    <tr>\n",
       "      <th>3</th>\n",
       "      <td>1982-04</td>\n",
       "      <td>45.1</td>\n",
       "    </tr>\n",
       "    <tr>\n",
       "      <th>4</th>\n",
       "      <td>1982-05</td>\n",
       "      <td>33.0</td>\n",
       "    </tr>\n",
       "  </tbody>\n",
       "</table>\n",
       "</div>"
      ],
      "text/plain": [
       "     month  maximum_rainfall_in_a_day\n",
       "0  1982-01                       36.5\n",
       "1  1982-02                        9.4\n",
       "2  1982-03                       61.7\n",
       "3  1982-04                       45.1\n",
       "4  1982-05                       33.0"
      ]
     },
     "execution_count": 7,
     "metadata": {},
     "output_type": "execute_result"
    }
   ],
   "source": [
    "mthly_max_rain = pd.read_csv(\"../data/rainfall-monthly-highest-daily-total.csv\")\n",
    "mthly_max_rain.head()"
   ]
  },
  {
   "cell_type": "code",
   "execution_count": 8,
   "metadata": {
    "scrolled": true
   },
   "outputs": [
    {
     "data": {
      "text/html": [
       "<div>\n",
       "<style scoped>\n",
       "    .dataframe tbody tr th:only-of-type {\n",
       "        vertical-align: middle;\n",
       "    }\n",
       "\n",
       "    .dataframe tbody tr th {\n",
       "        vertical-align: top;\n",
       "    }\n",
       "\n",
       "    .dataframe thead th {\n",
       "        text-align: right;\n",
       "    }\n",
       "</style>\n",
       "<table border=\"1\" class=\"dataframe\">\n",
       "  <thead>\n",
       "    <tr style=\"text-align: right;\">\n",
       "      <th></th>\n",
       "      <th>month</th>\n",
       "      <th>mean_rh</th>\n",
       "    </tr>\n",
       "  </thead>\n",
       "  <tbody>\n",
       "    <tr>\n",
       "      <th>0</th>\n",
       "      <td>1982-01</td>\n",
       "      <td>81.2</td>\n",
       "    </tr>\n",
       "    <tr>\n",
       "      <th>1</th>\n",
       "      <td>1982-02</td>\n",
       "      <td>79.5</td>\n",
       "    </tr>\n",
       "    <tr>\n",
       "      <th>2</th>\n",
       "      <td>1982-03</td>\n",
       "      <td>82.3</td>\n",
       "    </tr>\n",
       "    <tr>\n",
       "      <th>3</th>\n",
       "      <td>1982-04</td>\n",
       "      <td>85.9</td>\n",
       "    </tr>\n",
       "    <tr>\n",
       "      <th>4</th>\n",
       "      <td>1982-05</td>\n",
       "      <td>83.2</td>\n",
       "    </tr>\n",
       "  </tbody>\n",
       "</table>\n",
       "</div>"
      ],
      "text/plain": [
       "     month  mean_rh\n",
       "0  1982-01     81.2\n",
       "1  1982-02     79.5\n",
       "2  1982-03     82.3\n",
       "3  1982-04     85.9\n",
       "4  1982-05     83.2"
      ]
     },
     "execution_count": 8,
     "metadata": {},
     "output_type": "execute_result"
    }
   ],
   "source": [
    "mthly_mean_rh = pd.read_csv(\"../data/relative-humidity-monthly-mean.csv\")\n",
    "mthly_mean_rh.head()"
   ]
  },
  {
   "cell_type": "code",
   "execution_count": 9,
   "metadata": {
    "scrolled": true
   },
   "outputs": [
    {
     "data": {
      "text/html": [
       "<div>\n",
       "<style scoped>\n",
       "    .dataframe tbody tr th:only-of-type {\n",
       "        vertical-align: middle;\n",
       "    }\n",
       "\n",
       "    .dataframe tbody tr th {\n",
       "        vertical-align: top;\n",
       "    }\n",
       "\n",
       "    .dataframe thead th {\n",
       "        text-align: right;\n",
       "    }\n",
       "</style>\n",
       "<table border=\"1\" class=\"dataframe\">\n",
       "  <thead>\n",
       "    <tr style=\"text-align: right;\">\n",
       "      <th></th>\n",
       "      <th>month</th>\n",
       "      <th>mean_sunshine_hrs</th>\n",
       "    </tr>\n",
       "  </thead>\n",
       "  <tbody>\n",
       "    <tr>\n",
       "      <th>486</th>\n",
       "      <td>2022-07</td>\n",
       "      <td>6.2</td>\n",
       "    </tr>\n",
       "    <tr>\n",
       "      <th>487</th>\n",
       "      <td>2022-08</td>\n",
       "      <td>5.5</td>\n",
       "    </tr>\n",
       "    <tr>\n",
       "      <th>488</th>\n",
       "      <td>2022-09</td>\n",
       "      <td>3.8</td>\n",
       "    </tr>\n",
       "    <tr>\n",
       "      <th>489</th>\n",
       "      <td>2022-10</td>\n",
       "      <td>3.5</td>\n",
       "    </tr>\n",
       "    <tr>\n",
       "      <th>490</th>\n",
       "      <td>2022-11</td>\n",
       "      <td>3.8</td>\n",
       "    </tr>\n",
       "  </tbody>\n",
       "</table>\n",
       "</div>"
      ],
      "text/plain": [
       "       month  mean_sunshine_hrs\n",
       "486  2022-07                6.2\n",
       "487  2022-08                5.5\n",
       "488  2022-09                3.8\n",
       "489  2022-10                3.5\n",
       "490  2022-11                3.8"
      ]
     },
     "execution_count": 9,
     "metadata": {},
     "output_type": "execute_result"
    }
   ],
   "source": [
    "mthly_mean_daily_sun = pd.read_csv(\"../data/sunshine-duration-monthly-mean-daily-duration.csv\")\n",
    "mthly_mean_daily_sun.tail()"
   ]
  },
  {
   "cell_type": "code",
   "execution_count": 10,
   "metadata": {
    "scrolled": true
   },
   "outputs": [
    {
     "data": {
      "text/html": [
       "<div>\n",
       "<style scoped>\n",
       "    .dataframe tbody tr th:only-of-type {\n",
       "        vertical-align: middle;\n",
       "    }\n",
       "\n",
       "    .dataframe tbody tr th {\n",
       "        vertical-align: top;\n",
       "    }\n",
       "\n",
       "    .dataframe thead th {\n",
       "        text-align: right;\n",
       "    }\n",
       "</style>\n",
       "<table border=\"1\" class=\"dataframe\">\n",
       "  <thead>\n",
       "    <tr style=\"text-align: right;\">\n",
       "      <th></th>\n",
       "      <th>Data Series</th>\n",
       "      <th>Asian Civilisations Museum (Thousand)</th>\n",
       "      <th>National Museum Of Singapore (Thousand)</th>\n",
       "      <th>Science Centre Singapore (Thousand)</th>\n",
       "      <th>Jurong Birdpark (Thousand)</th>\n",
       "      <th>Night Safari (Thousand)</th>\n",
       "      <th>River Wonders (Thousand)</th>\n",
       "      <th>Singapore Zoological Gardens (Thousand)</th>\n",
       "      <th>Sun Yat Sen Nanyang Memorial Hall (Thousand)</th>\n",
       "      <th>Indian Heritage Centre (Thousand)</th>\n",
       "    </tr>\n",
       "  </thead>\n",
       "  <tbody>\n",
       "    <tr>\n",
       "      <th>0</th>\n",
       "      <td>2022 Dec</td>\n",
       "      <td>27</td>\n",
       "      <td>73</td>\n",
       "      <td>50</td>\n",
       "      <td>109</td>\n",
       "      <td>71</td>\n",
       "      <td>80</td>\n",
       "      <td>131</td>\n",
       "      <td>3</td>\n",
       "      <td>6</td>\n",
       "    </tr>\n",
       "    <tr>\n",
       "      <th>1</th>\n",
       "      <td>2022 Nov</td>\n",
       "      <td>33</td>\n",
       "      <td>73</td>\n",
       "      <td>30</td>\n",
       "      <td>44</td>\n",
       "      <td>45</td>\n",
       "      <td>57</td>\n",
       "      <td>88</td>\n",
       "      <td>3</td>\n",
       "      <td>10</td>\n",
       "    </tr>\n",
       "    <tr>\n",
       "      <th>2</th>\n",
       "      <td>2022 Oct</td>\n",
       "      <td>39</td>\n",
       "      <td>82</td>\n",
       "      <td>34</td>\n",
       "      <td>28</td>\n",
       "      <td>57</td>\n",
       "      <td>60</td>\n",
       "      <td>111</td>\n",
       "      <td>4</td>\n",
       "      <td>33</td>\n",
       "    </tr>\n",
       "    <tr>\n",
       "      <th>3</th>\n",
       "      <td>2022 Sep</td>\n",
       "      <td>32</td>\n",
       "      <td>63</td>\n",
       "      <td>35</td>\n",
       "      <td>24</td>\n",
       "      <td>52</td>\n",
       "      <td>61</td>\n",
       "      <td>94</td>\n",
       "      <td>12</td>\n",
       "      <td>12</td>\n",
       "    </tr>\n",
       "    <tr>\n",
       "      <th>4</th>\n",
       "      <td>2022 Aug</td>\n",
       "      <td>32</td>\n",
       "      <td>100</td>\n",
       "      <td>26</td>\n",
       "      <td>18</td>\n",
       "      <td>53</td>\n",
       "      <td>64</td>\n",
       "      <td>89</td>\n",
       "      <td>6</td>\n",
       "      <td>9</td>\n",
       "    </tr>\n",
       "  </tbody>\n",
       "</table>\n",
       "</div>"
      ],
      "text/plain": [
       "  Data Series Asian Civilisations Museum (Thousand)  \\\n",
       "0    2022 Dec                                    27   \n",
       "1    2022 Nov                                    33   \n",
       "2    2022 Oct                                    39   \n",
       "3    2022 Sep                                    32   \n",
       "4    2022 Aug                                    32   \n",
       "\n",
       "  National Museum Of Singapore (Thousand)  \\\n",
       "0                                      73   \n",
       "1                                      73   \n",
       "2                                      82   \n",
       "3                                      63   \n",
       "4                                     100   \n",
       "\n",
       "   Science Centre Singapore (Thousand) Jurong Birdpark (Thousand)  \\\n",
       "0                                   50                        109   \n",
       "1                                   30                         44   \n",
       "2                                   34                         28   \n",
       "3                                   35                         24   \n",
       "4                                   26                         18   \n",
       "\n",
       "  Night Safari (Thousand) River Wonders (Thousand)  \\\n",
       "0                      71                       80   \n",
       "1                      45                       57   \n",
       "2                      57                       60   \n",
       "3                      52                       61   \n",
       "4                      53                       64   \n",
       "\n",
       "   Singapore Zoological Gardens (Thousand)  \\\n",
       "0                                      131   \n",
       "1                                       88   \n",
       "2                                      111   \n",
       "3                                       94   \n",
       "4                                       89   \n",
       "\n",
       "  Sun Yat Sen Nanyang Memorial Hall (Thousand)  \\\n",
       "0                                            3   \n",
       "1                                            3   \n",
       "2                                            4   \n",
       "3                                           12   \n",
       "4                                            6   \n",
       "\n",
       "  Indian Heritage Centre (Thousand)  \n",
       "0                                 6  \n",
       "1                                10  \n",
       "2                                33  \n",
       "3                                12  \n",
       "4                                 9  "
      ]
     },
     "execution_count": 10,
     "metadata": {},
     "output_type": "execute_result"
    }
   ],
   "source": [
    "attractions_visitors = pd.read_csv(\"../data/attractions_visitors.csv\")\n",
    "attractions_visitors.head()"
   ]
  },
  {
   "cell_type": "markdown",
   "metadata": {},
   "source": [
    "#### 2. Check for missing values and datatypes"
   ]
  },
  {
   "cell_type": "code",
   "execution_count": 84,
   "metadata": {
    "scrolled": true
   },
   "outputs": [
    {
     "name": "stdout",
     "output_type": "stream",
     "text": [
      "DataFrame 1\n",
      "month               0\n",
      "no_of_rainy_days    0\n",
      "dtype: int64\n",
      "<class 'pandas.core.frame.DataFrame'>\n",
      "RangeIndex: 488 entries, 0 to 487\n",
      "Data columns (total 2 columns):\n",
      " #   Column            Non-Null Count  Dtype \n",
      "---  ------            --------------  ----- \n",
      " 0   month             488 non-null    object\n",
      " 1   no_of_rainy_days  488 non-null    int64 \n",
      "dtypes: int64(1), object(1)\n",
      "memory usage: 7.8+ KB\n",
      "None\n",
      "\n",
      "\n",
      "DataFrame 2\n",
      "month             0\n",
      "total_rainfall    0\n",
      "dtype: int64\n",
      "<class 'pandas.core.frame.DataFrame'>\n",
      "RangeIndex: 488 entries, 0 to 487\n",
      "Data columns (total 2 columns):\n",
      " #   Column          Non-Null Count  Dtype  \n",
      "---  ------          --------------  -----  \n",
      " 0   month           488 non-null    object \n",
      " 1   total_rainfall  488 non-null    float64\n",
      "dtypes: float64(1), object(1)\n",
      "memory usage: 7.8+ KB\n",
      "None\n",
      "\n",
      "\n",
      "DataFrame 3\n",
      "month                        0\n",
      "maximum_rainfall_in_a_day    0\n",
      "dtype: int64\n",
      "<class 'pandas.core.frame.DataFrame'>\n",
      "RangeIndex: 488 entries, 0 to 487\n",
      "Data columns (total 2 columns):\n",
      " #   Column                     Non-Null Count  Dtype  \n",
      "---  ------                     --------------  -----  \n",
      " 0   month                      488 non-null    object \n",
      " 1   maximum_rainfall_in_a_day  488 non-null    float64\n",
      "dtypes: float64(1), object(1)\n",
      "memory usage: 7.8+ KB\n",
      "None\n",
      "\n",
      "\n",
      "DataFrame 4\n",
      "month      0\n",
      "mean_rh    0\n",
      "dtype: int64\n",
      "<class 'pandas.core.frame.DataFrame'>\n",
      "RangeIndex: 488 entries, 0 to 487\n",
      "Data columns (total 2 columns):\n",
      " #   Column   Non-Null Count  Dtype  \n",
      "---  ------   --------------  -----  \n",
      " 0   month    488 non-null    object \n",
      " 1   mean_rh  488 non-null    float64\n",
      "dtypes: float64(1), object(1)\n",
      "memory usage: 7.8+ KB\n",
      "None\n",
      "\n",
      "\n",
      "DataFrame 5\n",
      "month                0\n",
      "mean_sunshine_hrs    0\n",
      "dtype: int64\n",
      "<class 'pandas.core.frame.DataFrame'>\n",
      "RangeIndex: 488 entries, 0 to 487\n",
      "Data columns (total 2 columns):\n",
      " #   Column             Non-Null Count  Dtype  \n",
      "---  ------             --------------  -----  \n",
      " 0   month              488 non-null    object \n",
      " 1   mean_sunshine_hrs  488 non-null    float64\n",
      "dtypes: float64(1), object(1)\n",
      "memory usage: 7.8+ KB\n",
      "None\n",
      "\n",
      "\n",
      "DataFrame 6\n",
      "month                                0\n",
      "asian_civilisations_museum           0\n",
      "national_museum_of_singapore         0\n",
      "science_centre_singapore             0\n",
      "jurong_birdpark                      0\n",
      "night_safari                         0\n",
      "river_wonders                        0\n",
      "singapore_zoological_gardens         0\n",
      "sun_yat_sen_nanyang_memorial_hall    0\n",
      "indian_heritage_centre               0\n",
      "dtype: int64\n",
      "<class 'pandas.core.frame.DataFrame'>\n",
      "RangeIndex: 393 entries, 0 to 392\n",
      "Data columns (total 10 columns):\n",
      " #   Column                             Non-Null Count  Dtype \n",
      "---  ------                             --------------  ----- \n",
      " 0   month                              393 non-null    object\n",
      " 1   asian_civilisations_museum         393 non-null    int64 \n",
      " 2   national_museum_of_singapore       393 non-null    int64 \n",
      " 3   science_centre_singapore           393 non-null    int64 \n",
      " 4   jurong_birdpark                    393 non-null    int64 \n",
      " 5   night_safari                       393 non-null    int64 \n",
      " 6   river_wonders                      393 non-null    int64 \n",
      " 7   singapore_zoological_gardens       393 non-null    int64 \n",
      " 8   sun_yat_sen_nanyang_memorial_hall  393 non-null    int64 \n",
      " 9   indian_heritage_centre             393 non-null    int64 \n",
      "dtypes: int64(9), object(1)\n",
      "memory usage: 30.8+ KB\n",
      "None\n",
      "\n",
      "\n"
     ]
    }
   ],
   "source": [
    "# calculate no. of missing values for each dataset in all_data\n",
    "\n",
    "all_data = [mthly_rain_days, mthly_total_rain, mthly_max_rain, mthly_mean_rh, mthly_mean_daily_sun, attractions_visitors]\n",
    "\n",
    "for i, data in enumerate(all_data):\n",
    "    print(f\"DataFrame {i+1}\")\n",
    "    print(data.isna().sum())\n",
    "    print(data.info())\n",
    "    print(\"\\n\")"
   ]
  },
  {
   "cell_type": "markdown",
   "metadata": {},
   "source": [
    "There are no missing values found in the datasets. All observations with result 'na' in dataset 6 indicate that the attraction has not commenced operations yet or there is no data available."
   ]
  },
  {
   "cell_type": "markdown",
   "metadata": {},
   "source": [
    "#### 3. Check for any obvious issues with the observations.\n",
    "\n"
   ]
  },
  {
   "cell_type": "code",
   "execution_count": 12,
   "metadata": {
    "scrolled": false
   },
   "outputs": [
    {
     "name": "stdout",
     "output_type": "stream",
     "text": [
      "DataFrame 1\n",
      "       no_of_rainy_days\n",
      "count             488.0\n",
      "mean               14.1\n",
      "std                 4.9\n",
      "min                 1.0\n",
      "25%                11.0\n",
      "50%                14.0\n",
      "75%                18.0\n",
      "max                27.0\n",
      "\n",
      "\n",
      "DataFrame 2\n",
      "       total_rainfall\n",
      "count           488.0\n",
      "mean            177.2\n",
      "std             113.9\n",
      "min               0.2\n",
      "25%              93.8\n",
      "50%             159.4\n",
      "75%             238.1\n",
      "max             765.9\n",
      "\n",
      "\n",
      "DataFrame 3\n",
      "       maximum_rainfall_in_a_day\n",
      "count                      491.0\n",
      "mean                        52.3\n",
      "std                         35.6\n",
      "min                          0.2\n",
      "25%                         30.8\n",
      "50%                         43.8\n",
      "75%                         62.8\n",
      "max                        216.2\n",
      "\n",
      "\n",
      "DataFrame 4\n",
      "       mean_rh\n",
      "count    491.0\n",
      "mean      82.2\n",
      "std        3.4\n",
      "min       72.0\n",
      "25%       79.9\n",
      "50%       82.6\n",
      "75%       84.6\n",
      "max       90.7\n",
      "\n",
      "\n",
      "DataFrame 5\n",
      "       mean_sunshine_hrs\n",
      "count              491.0\n",
      "mean                 5.7\n",
      "std                  1.2\n",
      "min                  2.7\n",
      "25%                  4.8\n",
      "50%                  5.6\n",
      "75%                  6.4\n",
      "max                  9.3\n",
      "\n",
      "\n",
      "DataFrame 6\n",
      "       Science Centre Singapore (Thousand)  \\\n",
      "count                                393.0   \n",
      "mean                                  59.5   \n",
      "std                                   30.8   \n",
      "min                                    0.0   \n",
      "25%                                   37.0   \n",
      "50%                                   55.0   \n",
      "75%                                   79.0   \n",
      "max                                  191.0   \n",
      "\n",
      "       Singapore Zoological Gardens (Thousand)  \n",
      "count                                    393.0  \n",
      "mean                                     123.1  \n",
      "std                                       35.6  \n",
      "min                                        0.0  \n",
      "25%                                      101.0  \n",
      "50%                                      124.0  \n",
      "75%                                      144.0  \n",
      "max                                      250.0  \n",
      "\n",
      "\n"
     ]
    }
   ],
   "source": [
    "# generate summary statistics of each dataset in all_data\n",
    "\n",
    "for i, data in enumerate(all_data):\n",
    "    print(f\"DataFrame {i+1}\")\n",
    "    print(round(data.describe(),1))\n",
    "    print(\"\\n\")"
   ]
  },
  {
   "cell_type": "markdown",
   "metadata": {},
   "source": [
    "Datasets 3-5 have 3 more observations (Sep'22 - Nov'22) than 1 & 2. No questionable values have been found in the datasets as they fall within acceptable ranges. eg. max rainy days <= 31, max rh <= 100%\n",
    "\n",
    "Dataset 6 (attractions_visitors) only has data from Apr 1990 onwards. The month-year column has 'string' datatype and is to be amended to align with all other datasets. It also has 2 spaces at the front for all observations. Only 2 out of 9 of the attractions (Science Centre Singapore & Singapore Zoo) have 'integer' datatype."
   ]
  },
  {
   "cell_type": "markdown",
   "metadata": {},
   "source": [
    "#### 4. Fix any errors you identified in steps 2-3."
   ]
  },
  {
   "cell_type": "code",
   "execution_count": 13,
   "metadata": {},
   "outputs": [
    {
     "data": {
      "text/html": [
       "<div>\n",
       "<style scoped>\n",
       "    .dataframe tbody tr th:only-of-type {\n",
       "        vertical-align: middle;\n",
       "    }\n",
       "\n",
       "    .dataframe tbody tr th {\n",
       "        vertical-align: top;\n",
       "    }\n",
       "\n",
       "    .dataframe thead th {\n",
       "        text-align: right;\n",
       "    }\n",
       "</style>\n",
       "<table border=\"1\" class=\"dataframe\">\n",
       "  <thead>\n",
       "    <tr style=\"text-align: right;\">\n",
       "      <th></th>\n",
       "      <th>month</th>\n",
       "      <th>Asian Civilisations Museum (Thousand)</th>\n",
       "      <th>National Museum Of Singapore (Thousand)</th>\n",
       "      <th>Science Centre Singapore (Thousand)</th>\n",
       "      <th>Jurong Birdpark (Thousand)</th>\n",
       "      <th>Night Safari (Thousand)</th>\n",
       "      <th>River Wonders (Thousand)</th>\n",
       "      <th>Singapore Zoological Gardens (Thousand)</th>\n",
       "      <th>Sun Yat Sen Nanyang Memorial Hall (Thousand)</th>\n",
       "      <th>Indian Heritage Centre (Thousand)</th>\n",
       "    </tr>\n",
       "  </thead>\n",
       "  <tbody>\n",
       "    <tr>\n",
       "      <th>0</th>\n",
       "      <td>2022 Dec</td>\n",
       "      <td>27</td>\n",
       "      <td>73</td>\n",
       "      <td>50</td>\n",
       "      <td>109</td>\n",
       "      <td>71</td>\n",
       "      <td>80</td>\n",
       "      <td>131</td>\n",
       "      <td>3</td>\n",
       "      <td>6</td>\n",
       "    </tr>\n",
       "    <tr>\n",
       "      <th>1</th>\n",
       "      <td>2022 Nov</td>\n",
       "      <td>33</td>\n",
       "      <td>73</td>\n",
       "      <td>30</td>\n",
       "      <td>44</td>\n",
       "      <td>45</td>\n",
       "      <td>57</td>\n",
       "      <td>88</td>\n",
       "      <td>3</td>\n",
       "      <td>10</td>\n",
       "    </tr>\n",
       "    <tr>\n",
       "      <th>2</th>\n",
       "      <td>2022 Oct</td>\n",
       "      <td>39</td>\n",
       "      <td>82</td>\n",
       "      <td>34</td>\n",
       "      <td>28</td>\n",
       "      <td>57</td>\n",
       "      <td>60</td>\n",
       "      <td>111</td>\n",
       "      <td>4</td>\n",
       "      <td>33</td>\n",
       "    </tr>\n",
       "    <tr>\n",
       "      <th>3</th>\n",
       "      <td>2022 Sep</td>\n",
       "      <td>32</td>\n",
       "      <td>63</td>\n",
       "      <td>35</td>\n",
       "      <td>24</td>\n",
       "      <td>52</td>\n",
       "      <td>61</td>\n",
       "      <td>94</td>\n",
       "      <td>12</td>\n",
       "      <td>12</td>\n",
       "    </tr>\n",
       "    <tr>\n",
       "      <th>4</th>\n",
       "      <td>2022 Aug</td>\n",
       "      <td>32</td>\n",
       "      <td>100</td>\n",
       "      <td>26</td>\n",
       "      <td>18</td>\n",
       "      <td>53</td>\n",
       "      <td>64</td>\n",
       "      <td>89</td>\n",
       "      <td>6</td>\n",
       "      <td>9</td>\n",
       "    </tr>\n",
       "  </tbody>\n",
       "</table>\n",
       "</div>"
      ],
      "text/plain": [
       "      month Asian Civilisations Museum (Thousand)  \\\n",
       "0  2022 Dec                                    27   \n",
       "1  2022 Nov                                    33   \n",
       "2  2022 Oct                                    39   \n",
       "3  2022 Sep                                    32   \n",
       "4  2022 Aug                                    32   \n",
       "\n",
       "  National Museum Of Singapore (Thousand)  \\\n",
       "0                                      73   \n",
       "1                                      73   \n",
       "2                                      82   \n",
       "3                                      63   \n",
       "4                                     100   \n",
       "\n",
       "   Science Centre Singapore (Thousand) Jurong Birdpark (Thousand)  \\\n",
       "0                                   50                        109   \n",
       "1                                   30                         44   \n",
       "2                                   34                         28   \n",
       "3                                   35                         24   \n",
       "4                                   26                         18   \n",
       "\n",
       "  Night Safari (Thousand) River Wonders (Thousand)  \\\n",
       "0                      71                       80   \n",
       "1                      45                       57   \n",
       "2                      57                       60   \n",
       "3                      52                       61   \n",
       "4                      53                       64   \n",
       "\n",
       "   Singapore Zoological Gardens (Thousand)  \\\n",
       "0                                      131   \n",
       "1                                       88   \n",
       "2                                      111   \n",
       "3                                       94   \n",
       "4                                       89   \n",
       "\n",
       "  Sun Yat Sen Nanyang Memorial Hall (Thousand)  \\\n",
       "0                                            3   \n",
       "1                                            3   \n",
       "2                                            4   \n",
       "3                                           12   \n",
       "4                                            6   \n",
       "\n",
       "  Indian Heritage Centre (Thousand)  \n",
       "0                                 6  \n",
       "1                                10  \n",
       "2                                33  \n",
       "3                                12  \n",
       "4                                 9  "
      ]
     },
     "execution_count": 13,
     "metadata": {},
     "output_type": "execute_result"
    }
   ],
   "source": [
    "# Remove two blank spaces from the front of each value in the 'Data Series' column\n",
    "attractions_visitors['Data Series'] = attractions_visitors['Data Series'].str.strip()\n",
    "\n",
    "# Rename the 'Data Series' column to 'month'\n",
    "attractions_visitors.rename(columns={'Data Series': 'month'}, inplace=True)\n",
    "\n",
    "attractions_visitors.head()"
   ]
  },
  {
   "cell_type": "code",
   "execution_count": 14,
   "metadata": {},
   "outputs": [
    {
     "data": {
      "text/html": [
       "<div>\n",
       "<style scoped>\n",
       "    .dataframe tbody tr th:only-of-type {\n",
       "        vertical-align: middle;\n",
       "    }\n",
       "\n",
       "    .dataframe tbody tr th {\n",
       "        vertical-align: top;\n",
       "    }\n",
       "\n",
       "    .dataframe thead th {\n",
       "        text-align: right;\n",
       "    }\n",
       "</style>\n",
       "<table border=\"1\" class=\"dataframe\">\n",
       "  <thead>\n",
       "    <tr style=\"text-align: right;\">\n",
       "      <th></th>\n",
       "      <th>month</th>\n",
       "      <th>Asian Civilisations Museum</th>\n",
       "      <th>National Museum Of Singapore</th>\n",
       "      <th>Science Centre Singapore</th>\n",
       "      <th>Jurong Birdpark</th>\n",
       "      <th>Night Safari</th>\n",
       "      <th>River Wonders</th>\n",
       "      <th>Singapore Zoological Gardens</th>\n",
       "      <th>Sun Yat Sen Nanyang Memorial Hall</th>\n",
       "      <th>Indian Heritage Centre</th>\n",
       "    </tr>\n",
       "  </thead>\n",
       "  <tbody>\n",
       "    <tr>\n",
       "      <th>0</th>\n",
       "      <td>2022 Dec</td>\n",
       "      <td>27</td>\n",
       "      <td>73</td>\n",
       "      <td>50</td>\n",
       "      <td>109</td>\n",
       "      <td>71</td>\n",
       "      <td>80</td>\n",
       "      <td>131</td>\n",
       "      <td>3</td>\n",
       "      <td>6</td>\n",
       "    </tr>\n",
       "    <tr>\n",
       "      <th>1</th>\n",
       "      <td>2022 Nov</td>\n",
       "      <td>33</td>\n",
       "      <td>73</td>\n",
       "      <td>30</td>\n",
       "      <td>44</td>\n",
       "      <td>45</td>\n",
       "      <td>57</td>\n",
       "      <td>88</td>\n",
       "      <td>3</td>\n",
       "      <td>10</td>\n",
       "    </tr>\n",
       "    <tr>\n",
       "      <th>2</th>\n",
       "      <td>2022 Oct</td>\n",
       "      <td>39</td>\n",
       "      <td>82</td>\n",
       "      <td>34</td>\n",
       "      <td>28</td>\n",
       "      <td>57</td>\n",
       "      <td>60</td>\n",
       "      <td>111</td>\n",
       "      <td>4</td>\n",
       "      <td>33</td>\n",
       "    </tr>\n",
       "    <tr>\n",
       "      <th>3</th>\n",
       "      <td>2022 Sep</td>\n",
       "      <td>32</td>\n",
       "      <td>63</td>\n",
       "      <td>35</td>\n",
       "      <td>24</td>\n",
       "      <td>52</td>\n",
       "      <td>61</td>\n",
       "      <td>94</td>\n",
       "      <td>12</td>\n",
       "      <td>12</td>\n",
       "    </tr>\n",
       "    <tr>\n",
       "      <th>4</th>\n",
       "      <td>2022 Aug</td>\n",
       "      <td>32</td>\n",
       "      <td>100</td>\n",
       "      <td>26</td>\n",
       "      <td>18</td>\n",
       "      <td>53</td>\n",
       "      <td>64</td>\n",
       "      <td>89</td>\n",
       "      <td>6</td>\n",
       "      <td>9</td>\n",
       "    </tr>\n",
       "  </tbody>\n",
       "</table>\n",
       "</div>"
      ],
      "text/plain": [
       "      month Asian Civilisations Museum National Museum Of Singapore  \\\n",
       "0  2022 Dec                         27                           73   \n",
       "1  2022 Nov                         33                           73   \n",
       "2  2022 Oct                         39                           82   \n",
       "3  2022 Sep                         32                           63   \n",
       "4  2022 Aug                         32                          100   \n",
       "\n",
       "   Science Centre Singapore Jurong Birdpark Night Safari River Wonders  \\\n",
       "0                        50             109           71            80   \n",
       "1                        30              44           45            57   \n",
       "2                        34              28           57            60   \n",
       "3                        35              24           52            61   \n",
       "4                        26              18           53            64   \n",
       "\n",
       "   Singapore Zoological Gardens Sun Yat Sen Nanyang Memorial Hall  \\\n",
       "0                           131                                 3   \n",
       "1                            88                                 3   \n",
       "2                           111                                 4   \n",
       "3                            94                                12   \n",
       "4                            89                                 6   \n",
       "\n",
       "  Indian Heritage Centre  \n",
       "0                      6  \n",
       "1                     10  \n",
       "2                     33  \n",
       "3                     12  \n",
       "4                      9  "
      ]
     },
     "execution_count": 14,
     "metadata": {},
     "output_type": "execute_result"
    }
   ],
   "source": [
    "# Get a list of column names\n",
    "cols = attractions_visitors.columns\n",
    "\n",
    "# Remove the last 11 characters from each column name, except the first one\n",
    "new_cols = [cols[0]] + [col[:-11] for col in cols[1:]]\n",
    "\n",
    "# Assign the new column names to the DataFrame\n",
    "attractions_visitors.columns = new_cols\n",
    "\n",
    "attractions_visitors.head()"
   ]
  },
  {
   "cell_type": "markdown",
   "metadata": {},
   "source": [
    "#### 5. Fix any incorrect data types found in step 5.\n",
    " + Fix any individual values preventing other columns from being the appropriate type.\n",
    " + If the month column data is better analyzed as month and year, create new columns for the same"
   ]
  },
  {
   "cell_type": "code",
   "execution_count": 15,
   "metadata": {},
   "outputs": [],
   "source": [
    "# Convert the 'month' column to datetime format\n",
    "attractions_visitors['month'] = pd.to_datetime(attractions_visitors['month'], format='%Y %b')\n",
    "\n",
    "# Change the format of the 'Month' column to YYYY-MM\n",
    "attractions_visitors['month'] = attractions_visitors['month'].dt.strftime('%Y-%m')"
   ]
  },
  {
   "cell_type": "code",
   "execution_count": 16,
   "metadata": {
    "scrolled": true
   },
   "outputs": [
    {
     "data": {
      "text/html": [
       "<div>\n",
       "<style scoped>\n",
       "    .dataframe tbody tr th:only-of-type {\n",
       "        vertical-align: middle;\n",
       "    }\n",
       "\n",
       "    .dataframe tbody tr th {\n",
       "        vertical-align: top;\n",
       "    }\n",
       "\n",
       "    .dataframe thead th {\n",
       "        text-align: right;\n",
       "    }\n",
       "</style>\n",
       "<table border=\"1\" class=\"dataframe\">\n",
       "  <thead>\n",
       "    <tr style=\"text-align: right;\">\n",
       "      <th></th>\n",
       "      <th>month</th>\n",
       "      <th>Asian Civilisations Museum</th>\n",
       "      <th>National Museum Of Singapore</th>\n",
       "      <th>Science Centre Singapore</th>\n",
       "      <th>Jurong Birdpark</th>\n",
       "      <th>Night Safari</th>\n",
       "      <th>River Wonders</th>\n",
       "      <th>Singapore Zoological Gardens</th>\n",
       "      <th>Sun Yat Sen Nanyang Memorial Hall</th>\n",
       "      <th>Indian Heritage Centre</th>\n",
       "    </tr>\n",
       "  </thead>\n",
       "  <tbody>\n",
       "    <tr>\n",
       "      <th>0</th>\n",
       "      <td>2022-12</td>\n",
       "      <td>27</td>\n",
       "      <td>73</td>\n",
       "      <td>50</td>\n",
       "      <td>109</td>\n",
       "      <td>71</td>\n",
       "      <td>80</td>\n",
       "      <td>131</td>\n",
       "      <td>3</td>\n",
       "      <td>6</td>\n",
       "    </tr>\n",
       "    <tr>\n",
       "      <th>1</th>\n",
       "      <td>2022-11</td>\n",
       "      <td>33</td>\n",
       "      <td>73</td>\n",
       "      <td>30</td>\n",
       "      <td>44</td>\n",
       "      <td>45</td>\n",
       "      <td>57</td>\n",
       "      <td>88</td>\n",
       "      <td>3</td>\n",
       "      <td>10</td>\n",
       "    </tr>\n",
       "    <tr>\n",
       "      <th>2</th>\n",
       "      <td>2022-10</td>\n",
       "      <td>39</td>\n",
       "      <td>82</td>\n",
       "      <td>34</td>\n",
       "      <td>28</td>\n",
       "      <td>57</td>\n",
       "      <td>60</td>\n",
       "      <td>111</td>\n",
       "      <td>4</td>\n",
       "      <td>33</td>\n",
       "    </tr>\n",
       "    <tr>\n",
       "      <th>3</th>\n",
       "      <td>2022-09</td>\n",
       "      <td>32</td>\n",
       "      <td>63</td>\n",
       "      <td>35</td>\n",
       "      <td>24</td>\n",
       "      <td>52</td>\n",
       "      <td>61</td>\n",
       "      <td>94</td>\n",
       "      <td>12</td>\n",
       "      <td>12</td>\n",
       "    </tr>\n",
       "    <tr>\n",
       "      <th>4</th>\n",
       "      <td>2022-08</td>\n",
       "      <td>32</td>\n",
       "      <td>100</td>\n",
       "      <td>26</td>\n",
       "      <td>18</td>\n",
       "      <td>53</td>\n",
       "      <td>64</td>\n",
       "      <td>89</td>\n",
       "      <td>6</td>\n",
       "      <td>9</td>\n",
       "    </tr>\n",
       "  </tbody>\n",
       "</table>\n",
       "</div>"
      ],
      "text/plain": [
       "     month Asian Civilisations Museum National Museum Of Singapore  \\\n",
       "0  2022-12                         27                           73   \n",
       "1  2022-11                         33                           73   \n",
       "2  2022-10                         39                           82   \n",
       "3  2022-09                         32                           63   \n",
       "4  2022-08                         32                          100   \n",
       "\n",
       "   Science Centre Singapore Jurong Birdpark Night Safari River Wonders  \\\n",
       "0                        50             109           71            80   \n",
       "1                        30              44           45            57   \n",
       "2                        34              28           57            60   \n",
       "3                        35              24           52            61   \n",
       "4                        26              18           53            64   \n",
       "\n",
       "   Singapore Zoological Gardens Sun Yat Sen Nanyang Memorial Hall  \\\n",
       "0                           131                                 3   \n",
       "1                            88                                 3   \n",
       "2                           111                                 4   \n",
       "3                            94                                12   \n",
       "4                            89                                 6   \n",
       "\n",
       "  Indian Heritage Centre  \n",
       "0                      6  \n",
       "1                     10  \n",
       "2                     33  \n",
       "3                     12  \n",
       "4                      9  "
      ]
     },
     "execution_count": 16,
     "metadata": {},
     "output_type": "execute_result"
    }
   ],
   "source": [
    "attractions_visitors.head()"
   ]
  },
  {
   "cell_type": "code",
   "execution_count": 17,
   "metadata": {
    "scrolled": false
   },
   "outputs": [
    {
     "name": "stdout",
     "output_type": "stream",
     "text": [
      "<class 'pandas.core.frame.DataFrame'>\n",
      "RangeIndex: 393 entries, 0 to 392\n",
      "Data columns (total 10 columns):\n",
      " #   Column                             Non-Null Count  Dtype \n",
      "---  ------                             --------------  ----- \n",
      " 0   month                              393 non-null    object\n",
      " 1   Asian Civilisations Museum         393 non-null    int64 \n",
      " 2   National Museum Of Singapore       393 non-null    int64 \n",
      " 3   Science Centre Singapore           393 non-null    int64 \n",
      " 4   Jurong Birdpark                    393 non-null    int64 \n",
      " 5   Night Safari                       393 non-null    int64 \n",
      " 6   River Wonders                      393 non-null    int64 \n",
      " 7   Singapore Zoological Gardens       393 non-null    int64 \n",
      " 8   Sun Yat Sen Nanyang Memorial Hall  393 non-null    int64 \n",
      " 9   Indian Heritage Centre             393 non-null    int64 \n",
      "dtypes: int64(9), object(1)\n",
      "memory usage: 30.8+ KB\n"
     ]
    }
   ],
   "source": [
    "# Replace all 'na' values with 0 in the specified columns and change datatypes of 'object' columns to 'integer'\n",
    "attractions_visitors.iloc[:, 1:] = attractions_visitors.iloc[:, 1:].replace('na', 0).astype(int)\n",
    "\n",
    "attractions_visitors.info()"
   ]
  },
  {
   "cell_type": "markdown",
   "metadata": {},
   "source": [
    "#### 6. Rename Columns.\n",
    " + Column names should be all lowercase.\n",
    " + Column names should not contain spaces (underscores will suffice--this allows for using the \n",
    "   `df['column_name']` method to access columns in addition to `df['column_name']`).\n",
    " + Column names should be unique and informative."
   ]
  },
  {
   "cell_type": "code",
   "execution_count": 18,
   "metadata": {},
   "outputs": [
    {
     "data": {
      "text/html": [
       "<div>\n",
       "<style scoped>\n",
       "    .dataframe tbody tr th:only-of-type {\n",
       "        vertical-align: middle;\n",
       "    }\n",
       "\n",
       "    .dataframe tbody tr th {\n",
       "        vertical-align: top;\n",
       "    }\n",
       "\n",
       "    .dataframe thead th {\n",
       "        text-align: right;\n",
       "    }\n",
       "</style>\n",
       "<table border=\"1\" class=\"dataframe\">\n",
       "  <thead>\n",
       "    <tr style=\"text-align: right;\">\n",
       "      <th></th>\n",
       "      <th>month</th>\n",
       "      <th>asian_civilisations_museum</th>\n",
       "      <th>national_museum_of_singapore</th>\n",
       "      <th>science_centre_singapore</th>\n",
       "      <th>jurong_birdpark</th>\n",
       "      <th>night_safari</th>\n",
       "      <th>river_wonders</th>\n",
       "      <th>singapore_zoological_gardens</th>\n",
       "      <th>sun_yat_sen_nanyang_memorial_hall</th>\n",
       "      <th>indian_heritage_centre</th>\n",
       "    </tr>\n",
       "  </thead>\n",
       "  <tbody>\n",
       "    <tr>\n",
       "      <th>0</th>\n",
       "      <td>2022-12</td>\n",
       "      <td>27</td>\n",
       "      <td>73</td>\n",
       "      <td>50</td>\n",
       "      <td>109</td>\n",
       "      <td>71</td>\n",
       "      <td>80</td>\n",
       "      <td>131</td>\n",
       "      <td>3</td>\n",
       "      <td>6</td>\n",
       "    </tr>\n",
       "    <tr>\n",
       "      <th>1</th>\n",
       "      <td>2022-11</td>\n",
       "      <td>33</td>\n",
       "      <td>73</td>\n",
       "      <td>30</td>\n",
       "      <td>44</td>\n",
       "      <td>45</td>\n",
       "      <td>57</td>\n",
       "      <td>88</td>\n",
       "      <td>3</td>\n",
       "      <td>10</td>\n",
       "    </tr>\n",
       "    <tr>\n",
       "      <th>2</th>\n",
       "      <td>2022-10</td>\n",
       "      <td>39</td>\n",
       "      <td>82</td>\n",
       "      <td>34</td>\n",
       "      <td>28</td>\n",
       "      <td>57</td>\n",
       "      <td>60</td>\n",
       "      <td>111</td>\n",
       "      <td>4</td>\n",
       "      <td>33</td>\n",
       "    </tr>\n",
       "    <tr>\n",
       "      <th>3</th>\n",
       "      <td>2022-09</td>\n",
       "      <td>32</td>\n",
       "      <td>63</td>\n",
       "      <td>35</td>\n",
       "      <td>24</td>\n",
       "      <td>52</td>\n",
       "      <td>61</td>\n",
       "      <td>94</td>\n",
       "      <td>12</td>\n",
       "      <td>12</td>\n",
       "    </tr>\n",
       "    <tr>\n",
       "      <th>4</th>\n",
       "      <td>2022-08</td>\n",
       "      <td>32</td>\n",
       "      <td>100</td>\n",
       "      <td>26</td>\n",
       "      <td>18</td>\n",
       "      <td>53</td>\n",
       "      <td>64</td>\n",
       "      <td>89</td>\n",
       "      <td>6</td>\n",
       "      <td>9</td>\n",
       "    </tr>\n",
       "  </tbody>\n",
       "</table>\n",
       "</div>"
      ],
      "text/plain": [
       "     month  asian_civilisations_museum  national_museum_of_singapore  \\\n",
       "0  2022-12                          27                            73   \n",
       "1  2022-11                          33                            73   \n",
       "2  2022-10                          39                            82   \n",
       "3  2022-09                          32                            63   \n",
       "4  2022-08                          32                           100   \n",
       "\n",
       "   science_centre_singapore  jurong_birdpark  night_safari  river_wonders  \\\n",
       "0                        50              109            71             80   \n",
       "1                        30               44            45             57   \n",
       "2                        34               28            57             60   \n",
       "3                        35               24            52             61   \n",
       "4                        26               18            53             64   \n",
       "\n",
       "   singapore_zoological_gardens  sun_yat_sen_nanyang_memorial_hall  \\\n",
       "0                           131                                  3   \n",
       "1                            88                                  3   \n",
       "2                           111                                  4   \n",
       "3                            94                                 12   \n",
       "4                            89                                  6   \n",
       "\n",
       "   indian_heritage_centre  \n",
       "0                       6  \n",
       "1                      10  \n",
       "2                      33  \n",
       "3                      12  \n",
       "4                       9  "
      ]
     },
     "execution_count": 18,
     "metadata": {},
     "output_type": "execute_result"
    }
   ],
   "source": [
    "# Change the column names to lowercase\n",
    "attractions_visitors.columns = attractions_visitors.columns.str.lower()\n",
    "\n",
    "# Change the column names to snake case format\n",
    "attractions_visitors.columns = attractions_visitors.columns.str.replace(' ', '_')\n",
    "\n",
    "attractions_visitors.head()"
   ]
  },
  {
   "cell_type": "markdown",
   "metadata": {},
   "source": [
    "#### 7. Drop unnecessary rows (if needed).\n"
   ]
  },
  {
   "cell_type": "code",
   "execution_count": 19,
   "metadata": {},
   "outputs": [],
   "source": [
    "# drop 3 rows in datasets 3-5 to align all observations ending in Aug'22\n",
    "\n",
    "weather_datasets = [mthly_rain_days, mthly_total_rain, mthly_max_rain, mthly_mean_rh, mthly_mean_daily_sun]\n",
    "\n",
    "def drop_last_rows(data, rows_to_drop):\n",
    "    data.drop(data.tail(rows_to_drop).index, inplace=True)\n",
    "    return data\n",
    "\n",
    "for i, data in enumerate(weather_datasets[2:]):\n",
    "    weather_datasets[i+2] = drop_last_rows(data, 3)"
   ]
  },
  {
   "cell_type": "code",
   "execution_count": 20,
   "metadata": {
    "scrolled": false
   },
   "outputs": [
    {
     "name": "stdout",
     "output_type": "stream",
     "text": [
      "DataFrame 1\n",
      "<class 'pandas.core.frame.DataFrame'>\n",
      "RangeIndex: 488 entries, 0 to 487\n",
      "Data columns (total 2 columns):\n",
      " #   Column            Non-Null Count  Dtype \n",
      "---  ------            --------------  ----- \n",
      " 0   month             488 non-null    object\n",
      " 1   no_of_rainy_days  488 non-null    int64 \n",
      "dtypes: int64(1), object(1)\n",
      "memory usage: 7.8+ KB\n",
      "None\n",
      "\n",
      "\n",
      "DataFrame 2\n",
      "<class 'pandas.core.frame.DataFrame'>\n",
      "RangeIndex: 488 entries, 0 to 487\n",
      "Data columns (total 2 columns):\n",
      " #   Column          Non-Null Count  Dtype  \n",
      "---  ------          --------------  -----  \n",
      " 0   month           488 non-null    object \n",
      " 1   total_rainfall  488 non-null    float64\n",
      "dtypes: float64(1), object(1)\n",
      "memory usage: 7.8+ KB\n",
      "None\n",
      "\n",
      "\n",
      "DataFrame 3\n",
      "<class 'pandas.core.frame.DataFrame'>\n",
      "RangeIndex: 488 entries, 0 to 487\n",
      "Data columns (total 2 columns):\n",
      " #   Column                     Non-Null Count  Dtype  \n",
      "---  ------                     --------------  -----  \n",
      " 0   month                      488 non-null    object \n",
      " 1   maximum_rainfall_in_a_day  488 non-null    float64\n",
      "dtypes: float64(1), object(1)\n",
      "memory usage: 7.8+ KB\n",
      "None\n",
      "\n",
      "\n",
      "DataFrame 4\n",
      "<class 'pandas.core.frame.DataFrame'>\n",
      "RangeIndex: 488 entries, 0 to 487\n",
      "Data columns (total 2 columns):\n",
      " #   Column   Non-Null Count  Dtype  \n",
      "---  ------   --------------  -----  \n",
      " 0   month    488 non-null    object \n",
      " 1   mean_rh  488 non-null    float64\n",
      "dtypes: float64(1), object(1)\n",
      "memory usage: 7.8+ KB\n",
      "None\n",
      "\n",
      "\n",
      "DataFrame 5\n",
      "<class 'pandas.core.frame.DataFrame'>\n",
      "RangeIndex: 488 entries, 0 to 487\n",
      "Data columns (total 2 columns):\n",
      " #   Column             Non-Null Count  Dtype  \n",
      "---  ------             --------------  -----  \n",
      " 0   month              488 non-null    object \n",
      " 1   mean_sunshine_hrs  488 non-null    float64\n",
      "dtypes: float64(1), object(1)\n",
      "memory usage: 7.8+ KB\n",
      "None\n",
      "\n",
      "\n"
     ]
    }
   ],
   "source": [
    "for i, data in enumerate(weather_datasets):\n",
    "    print(f\"DataFrame {i+1}\")\n",
    "    print(data.info())\n",
    "    print(\"\\n\")"
   ]
  },
  {
   "cell_type": "markdown",
   "metadata": {},
   "source": [
    "All 5 weather datasets now have 488 observations for equal comparison."
   ]
  },
  {
   "cell_type": "markdown",
   "metadata": {},
   "source": [
    "#### 8. Merge dataframes that can be merged.\n",
    "+ Since different climate metrics are in month format, you can merge them into one single dataframe for easier   analysis"
   ]
  },
  {
   "cell_type": "code",
   "execution_count": 21,
   "metadata": {},
   "outputs": [],
   "source": [
    "# merge weather datasets & visitor attractions dataset\n",
    "\n",
    "merged_data = weather_datasets[0].merge(attractions_visitors, on='month', how='outer')\n",
    "for i in range(1, len(weather_datasets)):\n",
    "    merged_data = merged_data.merge(weather_datasets[i], on='month', how='outer')"
   ]
  },
  {
   "cell_type": "code",
   "execution_count": 22,
   "metadata": {
    "scrolled": true
   },
   "outputs": [
    {
     "data": {
      "text/html": [
       "<div>\n",
       "<style scoped>\n",
       "    .dataframe tbody tr th:only-of-type {\n",
       "        vertical-align: middle;\n",
       "    }\n",
       "\n",
       "    .dataframe tbody tr th {\n",
       "        vertical-align: top;\n",
       "    }\n",
       "\n",
       "    .dataframe thead th {\n",
       "        text-align: right;\n",
       "    }\n",
       "</style>\n",
       "<table border=\"1\" class=\"dataframe\">\n",
       "  <thead>\n",
       "    <tr style=\"text-align: right;\">\n",
       "      <th></th>\n",
       "      <th>month</th>\n",
       "      <th>no_of_rainy_days</th>\n",
       "      <th>asian_civilisations_museum</th>\n",
       "      <th>national_museum_of_singapore</th>\n",
       "      <th>science_centre_singapore</th>\n",
       "      <th>jurong_birdpark</th>\n",
       "      <th>night_safari</th>\n",
       "      <th>river_wonders</th>\n",
       "      <th>singapore_zoological_gardens</th>\n",
       "      <th>sun_yat_sen_nanyang_memorial_hall</th>\n",
       "      <th>indian_heritage_centre</th>\n",
       "      <th>total_rainfall</th>\n",
       "      <th>maximum_rainfall_in_a_day</th>\n",
       "      <th>mean_rh</th>\n",
       "      <th>mean_sunshine_hrs</th>\n",
       "    </tr>\n",
       "  </thead>\n",
       "  <tbody>\n",
       "    <tr>\n",
       "      <th>0</th>\n",
       "      <td>1982-01</td>\n",
       "      <td>10.0</td>\n",
       "      <td>NaN</td>\n",
       "      <td>NaN</td>\n",
       "      <td>NaN</td>\n",
       "      <td>NaN</td>\n",
       "      <td>NaN</td>\n",
       "      <td>NaN</td>\n",
       "      <td>NaN</td>\n",
       "      <td>NaN</td>\n",
       "      <td>NaN</td>\n",
       "      <td>107.1</td>\n",
       "      <td>36.5</td>\n",
       "      <td>81.2</td>\n",
       "      <td>5.6</td>\n",
       "    </tr>\n",
       "    <tr>\n",
       "      <th>1</th>\n",
       "      <td>1982-02</td>\n",
       "      <td>5.0</td>\n",
       "      <td>NaN</td>\n",
       "      <td>NaN</td>\n",
       "      <td>NaN</td>\n",
       "      <td>NaN</td>\n",
       "      <td>NaN</td>\n",
       "      <td>NaN</td>\n",
       "      <td>NaN</td>\n",
       "      <td>NaN</td>\n",
       "      <td>NaN</td>\n",
       "      <td>27.8</td>\n",
       "      <td>9.4</td>\n",
       "      <td>79.5</td>\n",
       "      <td>7.6</td>\n",
       "    </tr>\n",
       "    <tr>\n",
       "      <th>2</th>\n",
       "      <td>1982-03</td>\n",
       "      <td>11.0</td>\n",
       "      <td>NaN</td>\n",
       "      <td>NaN</td>\n",
       "      <td>NaN</td>\n",
       "      <td>NaN</td>\n",
       "      <td>NaN</td>\n",
       "      <td>NaN</td>\n",
       "      <td>NaN</td>\n",
       "      <td>NaN</td>\n",
       "      <td>NaN</td>\n",
       "      <td>160.8</td>\n",
       "      <td>61.7</td>\n",
       "      <td>82.3</td>\n",
       "      <td>5.1</td>\n",
       "    </tr>\n",
       "    <tr>\n",
       "      <th>3</th>\n",
       "      <td>1982-04</td>\n",
       "      <td>14.0</td>\n",
       "      <td>NaN</td>\n",
       "      <td>NaN</td>\n",
       "      <td>NaN</td>\n",
       "      <td>NaN</td>\n",
       "      <td>NaN</td>\n",
       "      <td>NaN</td>\n",
       "      <td>NaN</td>\n",
       "      <td>NaN</td>\n",
       "      <td>NaN</td>\n",
       "      <td>157.0</td>\n",
       "      <td>45.1</td>\n",
       "      <td>85.9</td>\n",
       "      <td>4.7</td>\n",
       "    </tr>\n",
       "    <tr>\n",
       "      <th>4</th>\n",
       "      <td>1982-05</td>\n",
       "      <td>10.0</td>\n",
       "      <td>NaN</td>\n",
       "      <td>NaN</td>\n",
       "      <td>NaN</td>\n",
       "      <td>NaN</td>\n",
       "      <td>NaN</td>\n",
       "      <td>NaN</td>\n",
       "      <td>NaN</td>\n",
       "      <td>NaN</td>\n",
       "      <td>NaN</td>\n",
       "      <td>102.2</td>\n",
       "      <td>33.0</td>\n",
       "      <td>83.2</td>\n",
       "      <td>5.8</td>\n",
       "    </tr>\n",
       "  </tbody>\n",
       "</table>\n",
       "</div>"
      ],
      "text/plain": [
       "     month  no_of_rainy_days  asian_civilisations_museum  \\\n",
       "0  1982-01              10.0                         NaN   \n",
       "1  1982-02               5.0                         NaN   \n",
       "2  1982-03              11.0                         NaN   \n",
       "3  1982-04              14.0                         NaN   \n",
       "4  1982-05              10.0                         NaN   \n",
       "\n",
       "   national_museum_of_singapore  science_centre_singapore  jurong_birdpark  \\\n",
       "0                           NaN                       NaN              NaN   \n",
       "1                           NaN                       NaN              NaN   \n",
       "2                           NaN                       NaN              NaN   \n",
       "3                           NaN                       NaN              NaN   \n",
       "4                           NaN                       NaN              NaN   \n",
       "\n",
       "   night_safari  river_wonders  singapore_zoological_gardens  \\\n",
       "0           NaN            NaN                           NaN   \n",
       "1           NaN            NaN                           NaN   \n",
       "2           NaN            NaN                           NaN   \n",
       "3           NaN            NaN                           NaN   \n",
       "4           NaN            NaN                           NaN   \n",
       "\n",
       "   sun_yat_sen_nanyang_memorial_hall  indian_heritage_centre  total_rainfall  \\\n",
       "0                                NaN                     NaN           107.1   \n",
       "1                                NaN                     NaN            27.8   \n",
       "2                                NaN                     NaN           160.8   \n",
       "3                                NaN                     NaN           157.0   \n",
       "4                                NaN                     NaN           102.2   \n",
       "\n",
       "   maximum_rainfall_in_a_day  mean_rh  mean_sunshine_hrs  \n",
       "0                       36.5     81.2                5.6  \n",
       "1                        9.4     79.5                7.6  \n",
       "2                       61.7     82.3                5.1  \n",
       "3                       45.1     85.9                4.7  \n",
       "4                       33.0     83.2                5.8  "
      ]
     },
     "execution_count": 22,
     "metadata": {},
     "output_type": "execute_result"
    }
   ],
   "source": [
    "merged_data.head()"
   ]
  },
  {
   "cell_type": "code",
   "execution_count": 23,
   "metadata": {
    "scrolled": true
   },
   "outputs": [
    {
     "data": {
      "text/html": [
       "<div>\n",
       "<style scoped>\n",
       "    .dataframe tbody tr th:only-of-type {\n",
       "        vertical-align: middle;\n",
       "    }\n",
       "\n",
       "    .dataframe tbody tr th {\n",
       "        vertical-align: top;\n",
       "    }\n",
       "\n",
       "    .dataframe thead th {\n",
       "        text-align: right;\n",
       "    }\n",
       "</style>\n",
       "<table border=\"1\" class=\"dataframe\">\n",
       "  <thead>\n",
       "    <tr style=\"text-align: right;\">\n",
       "      <th></th>\n",
       "      <th>month</th>\n",
       "      <th>no_of_rainy_days</th>\n",
       "      <th>total_rainfall</th>\n",
       "      <th>maximum_rainfall_in_a_day</th>\n",
       "      <th>mean_rh</th>\n",
       "      <th>mean_sunshine_hrs</th>\n",
       "      <th>asian_civilisations_museum</th>\n",
       "      <th>national_museum_of_singapore</th>\n",
       "      <th>science_centre_singapore</th>\n",
       "      <th>jurong_birdpark</th>\n",
       "      <th>night_safari</th>\n",
       "      <th>river_wonders</th>\n",
       "      <th>singapore_zoological_gardens</th>\n",
       "      <th>sun_yat_sen_nanyang_memorial_hall</th>\n",
       "      <th>indian_heritage_centre</th>\n",
       "    </tr>\n",
       "  </thead>\n",
       "  <tbody>\n",
       "    <tr>\n",
       "      <th>0</th>\n",
       "      <td>1982-01</td>\n",
       "      <td>10.0</td>\n",
       "      <td>107.1</td>\n",
       "      <td>36.5</td>\n",
       "      <td>81.2</td>\n",
       "      <td>5.6</td>\n",
       "      <td>NaN</td>\n",
       "      <td>NaN</td>\n",
       "      <td>NaN</td>\n",
       "      <td>NaN</td>\n",
       "      <td>NaN</td>\n",
       "      <td>NaN</td>\n",
       "      <td>NaN</td>\n",
       "      <td>NaN</td>\n",
       "      <td>NaN</td>\n",
       "    </tr>\n",
       "    <tr>\n",
       "      <th>1</th>\n",
       "      <td>1982-02</td>\n",
       "      <td>5.0</td>\n",
       "      <td>27.8</td>\n",
       "      <td>9.4</td>\n",
       "      <td>79.5</td>\n",
       "      <td>7.6</td>\n",
       "      <td>NaN</td>\n",
       "      <td>NaN</td>\n",
       "      <td>NaN</td>\n",
       "      <td>NaN</td>\n",
       "      <td>NaN</td>\n",
       "      <td>NaN</td>\n",
       "      <td>NaN</td>\n",
       "      <td>NaN</td>\n",
       "      <td>NaN</td>\n",
       "    </tr>\n",
       "    <tr>\n",
       "      <th>2</th>\n",
       "      <td>1982-03</td>\n",
       "      <td>11.0</td>\n",
       "      <td>160.8</td>\n",
       "      <td>61.7</td>\n",
       "      <td>82.3</td>\n",
       "      <td>5.1</td>\n",
       "      <td>NaN</td>\n",
       "      <td>NaN</td>\n",
       "      <td>NaN</td>\n",
       "      <td>NaN</td>\n",
       "      <td>NaN</td>\n",
       "      <td>NaN</td>\n",
       "      <td>NaN</td>\n",
       "      <td>NaN</td>\n",
       "      <td>NaN</td>\n",
       "    </tr>\n",
       "    <tr>\n",
       "      <th>3</th>\n",
       "      <td>1982-04</td>\n",
       "      <td>14.0</td>\n",
       "      <td>157.0</td>\n",
       "      <td>45.1</td>\n",
       "      <td>85.9</td>\n",
       "      <td>4.7</td>\n",
       "      <td>NaN</td>\n",
       "      <td>NaN</td>\n",
       "      <td>NaN</td>\n",
       "      <td>NaN</td>\n",
       "      <td>NaN</td>\n",
       "      <td>NaN</td>\n",
       "      <td>NaN</td>\n",
       "      <td>NaN</td>\n",
       "      <td>NaN</td>\n",
       "    </tr>\n",
       "    <tr>\n",
       "      <th>4</th>\n",
       "      <td>1982-05</td>\n",
       "      <td>10.0</td>\n",
       "      <td>102.2</td>\n",
       "      <td>33.0</td>\n",
       "      <td>83.2</td>\n",
       "      <td>5.8</td>\n",
       "      <td>NaN</td>\n",
       "      <td>NaN</td>\n",
       "      <td>NaN</td>\n",
       "      <td>NaN</td>\n",
       "      <td>NaN</td>\n",
       "      <td>NaN</td>\n",
       "      <td>NaN</td>\n",
       "      <td>NaN</td>\n",
       "      <td>NaN</td>\n",
       "    </tr>\n",
       "  </tbody>\n",
       "</table>\n",
       "</div>"
      ],
      "text/plain": [
       "     month  no_of_rainy_days  total_rainfall  maximum_rainfall_in_a_day  \\\n",
       "0  1982-01              10.0           107.1                       36.5   \n",
       "1  1982-02               5.0            27.8                        9.4   \n",
       "2  1982-03              11.0           160.8                       61.7   \n",
       "3  1982-04              14.0           157.0                       45.1   \n",
       "4  1982-05              10.0           102.2                       33.0   \n",
       "\n",
       "   mean_rh  mean_sunshine_hrs  asian_civilisations_museum  \\\n",
       "0     81.2                5.6                         NaN   \n",
       "1     79.5                7.6                         NaN   \n",
       "2     82.3                5.1                         NaN   \n",
       "3     85.9                4.7                         NaN   \n",
       "4     83.2                5.8                         NaN   \n",
       "\n",
       "   national_museum_of_singapore  science_centre_singapore  jurong_birdpark  \\\n",
       "0                           NaN                       NaN              NaN   \n",
       "1                           NaN                       NaN              NaN   \n",
       "2                           NaN                       NaN              NaN   \n",
       "3                           NaN                       NaN              NaN   \n",
       "4                           NaN                       NaN              NaN   \n",
       "\n",
       "   night_safari  river_wonders  singapore_zoological_gardens  \\\n",
       "0           NaN            NaN                           NaN   \n",
       "1           NaN            NaN                           NaN   \n",
       "2           NaN            NaN                           NaN   \n",
       "3           NaN            NaN                           NaN   \n",
       "4           NaN            NaN                           NaN   \n",
       "\n",
       "   sun_yat_sen_nanyang_memorial_hall  indian_heritage_centre  \n",
       "0                                NaN                     NaN  \n",
       "1                                NaN                     NaN  \n",
       "2                                NaN                     NaN  \n",
       "3                                NaN                     NaN  \n",
       "4                                NaN                     NaN  "
      ]
     },
     "execution_count": 23,
     "metadata": {},
     "output_type": "execute_result"
    }
   ],
   "source": [
    "# move attractions columns to last 9 rows for greater legibility\n",
    "\n",
    "cols = merged_data.columns.tolist()\n",
    "cols = cols[:2] + cols[11:] + cols[2:11]\n",
    "merged_data = merged_data[cols]\n",
    "\n",
    "merged_data.head()"
   ]
  },
  {
   "cell_type": "markdown",
   "metadata": {},
   "source": [
    "#### 9. Perform any additional cleaning that you feel is necessary."
   ]
  },
  {
   "cell_type": "code",
   "execution_count": 24,
   "metadata": {
    "scrolled": true
   },
   "outputs": [],
   "source": [
    "# set month column as index\n",
    "merged_data = merged_data.set_index('month')"
   ]
  },
  {
   "cell_type": "code",
   "execution_count": 25,
   "metadata": {
    "scrolled": true
   },
   "outputs": [],
   "source": [
    "# remove last 4 rows in attractions_visitors to align all observations in merged_data ending in Aug'22\n",
    "merged_data = merged_data.iloc[:-4]"
   ]
  },
  {
   "cell_type": "code",
   "execution_count": 26,
   "metadata": {},
   "outputs": [],
   "source": [
    "cols_to_update = ['no_of_rainy_days', 'asian_civilisations_museum', 'national_museum_of_singapore', 'science_centre_singapore', 'jurong_birdpark', 'night_safari', 'river_wonders', 'singapore_zoological_gardens', 'sun_yat_sen_nanyang_memorial_hall', 'indian_heritage_centre']\n",
    "\n",
    "merged_data[cols_to_update] = merged_data[cols_to_update].fillna(0).astype(int)"
   ]
  },
  {
   "cell_type": "code",
   "execution_count": 27,
   "metadata": {},
   "outputs": [
    {
     "data": {
      "text/html": [
       "<div>\n",
       "<style scoped>\n",
       "    .dataframe tbody tr th:only-of-type {\n",
       "        vertical-align: middle;\n",
       "    }\n",
       "\n",
       "    .dataframe tbody tr th {\n",
       "        vertical-align: top;\n",
       "    }\n",
       "\n",
       "    .dataframe thead th {\n",
       "        text-align: right;\n",
       "    }\n",
       "</style>\n",
       "<table border=\"1\" class=\"dataframe\">\n",
       "  <thead>\n",
       "    <tr style=\"text-align: right;\">\n",
       "      <th></th>\n",
       "      <th>no_of_rainy_days</th>\n",
       "      <th>total_rainfall</th>\n",
       "      <th>maximum_rainfall_in_a_day</th>\n",
       "      <th>mean_rh</th>\n",
       "      <th>mean_sunshine_hrs</th>\n",
       "      <th>asian_civilisations_museum</th>\n",
       "      <th>national_museum_of_singapore</th>\n",
       "      <th>science_centre_singapore</th>\n",
       "      <th>jurong_birdpark</th>\n",
       "      <th>night_safari</th>\n",
       "      <th>river_wonders</th>\n",
       "      <th>singapore_zoological_gardens</th>\n",
       "      <th>sun_yat_sen_nanyang_memorial_hall</th>\n",
       "      <th>indian_heritage_centre</th>\n",
       "    </tr>\n",
       "    <tr>\n",
       "      <th>month</th>\n",
       "      <th></th>\n",
       "      <th></th>\n",
       "      <th></th>\n",
       "      <th></th>\n",
       "      <th></th>\n",
       "      <th></th>\n",
       "      <th></th>\n",
       "      <th></th>\n",
       "      <th></th>\n",
       "      <th></th>\n",
       "      <th></th>\n",
       "      <th></th>\n",
       "      <th></th>\n",
       "      <th></th>\n",
       "    </tr>\n",
       "  </thead>\n",
       "  <tbody>\n",
       "    <tr>\n",
       "      <th>1982-01</th>\n",
       "      <td>10</td>\n",
       "      <td>107.1</td>\n",
       "      <td>36.5</td>\n",
       "      <td>81.2</td>\n",
       "      <td>5.6</td>\n",
       "      <td>0</td>\n",
       "      <td>0</td>\n",
       "      <td>0</td>\n",
       "      <td>0</td>\n",
       "      <td>0</td>\n",
       "      <td>0</td>\n",
       "      <td>0</td>\n",
       "      <td>0</td>\n",
       "      <td>0</td>\n",
       "    </tr>\n",
       "    <tr>\n",
       "      <th>1982-02</th>\n",
       "      <td>5</td>\n",
       "      <td>27.8</td>\n",
       "      <td>9.4</td>\n",
       "      <td>79.5</td>\n",
       "      <td>7.6</td>\n",
       "      <td>0</td>\n",
       "      <td>0</td>\n",
       "      <td>0</td>\n",
       "      <td>0</td>\n",
       "      <td>0</td>\n",
       "      <td>0</td>\n",
       "      <td>0</td>\n",
       "      <td>0</td>\n",
       "      <td>0</td>\n",
       "    </tr>\n",
       "    <tr>\n",
       "      <th>1982-03</th>\n",
       "      <td>11</td>\n",
       "      <td>160.8</td>\n",
       "      <td>61.7</td>\n",
       "      <td>82.3</td>\n",
       "      <td>5.1</td>\n",
       "      <td>0</td>\n",
       "      <td>0</td>\n",
       "      <td>0</td>\n",
       "      <td>0</td>\n",
       "      <td>0</td>\n",
       "      <td>0</td>\n",
       "      <td>0</td>\n",
       "      <td>0</td>\n",
       "      <td>0</td>\n",
       "    </tr>\n",
       "    <tr>\n",
       "      <th>1982-04</th>\n",
       "      <td>14</td>\n",
       "      <td>157.0</td>\n",
       "      <td>45.1</td>\n",
       "      <td>85.9</td>\n",
       "      <td>4.7</td>\n",
       "      <td>0</td>\n",
       "      <td>0</td>\n",
       "      <td>0</td>\n",
       "      <td>0</td>\n",
       "      <td>0</td>\n",
       "      <td>0</td>\n",
       "      <td>0</td>\n",
       "      <td>0</td>\n",
       "      <td>0</td>\n",
       "    </tr>\n",
       "    <tr>\n",
       "      <th>1982-05</th>\n",
       "      <td>10</td>\n",
       "      <td>102.2</td>\n",
       "      <td>33.0</td>\n",
       "      <td>83.2</td>\n",
       "      <td>5.8</td>\n",
       "      <td>0</td>\n",
       "      <td>0</td>\n",
       "      <td>0</td>\n",
       "      <td>0</td>\n",
       "      <td>0</td>\n",
       "      <td>0</td>\n",
       "      <td>0</td>\n",
       "      <td>0</td>\n",
       "      <td>0</td>\n",
       "    </tr>\n",
       "  </tbody>\n",
       "</table>\n",
       "</div>"
      ],
      "text/plain": [
       "         no_of_rainy_days  total_rainfall  maximum_rainfall_in_a_day  mean_rh  \\\n",
       "month                                                                           \n",
       "1982-01                10           107.1                       36.5     81.2   \n",
       "1982-02                 5            27.8                        9.4     79.5   \n",
       "1982-03                11           160.8                       61.7     82.3   \n",
       "1982-04                14           157.0                       45.1     85.9   \n",
       "1982-05                10           102.2                       33.0     83.2   \n",
       "\n",
       "         mean_sunshine_hrs  asian_civilisations_museum  \\\n",
       "month                                                    \n",
       "1982-01                5.6                           0   \n",
       "1982-02                7.6                           0   \n",
       "1982-03                5.1                           0   \n",
       "1982-04                4.7                           0   \n",
       "1982-05                5.8                           0   \n",
       "\n",
       "         national_museum_of_singapore  science_centre_singapore  \\\n",
       "month                                                             \n",
       "1982-01                             0                         0   \n",
       "1982-02                             0                         0   \n",
       "1982-03                             0                         0   \n",
       "1982-04                             0                         0   \n",
       "1982-05                             0                         0   \n",
       "\n",
       "         jurong_birdpark  night_safari  river_wonders  \\\n",
       "month                                                   \n",
       "1982-01                0             0              0   \n",
       "1982-02                0             0              0   \n",
       "1982-03                0             0              0   \n",
       "1982-04                0             0              0   \n",
       "1982-05                0             0              0   \n",
       "\n",
       "         singapore_zoological_gardens  sun_yat_sen_nanyang_memorial_hall  \\\n",
       "month                                                                      \n",
       "1982-01                             0                                  0   \n",
       "1982-02                             0                                  0   \n",
       "1982-03                             0                                  0   \n",
       "1982-04                             0                                  0   \n",
       "1982-05                             0                                  0   \n",
       "\n",
       "         indian_heritage_centre  \n",
       "month                            \n",
       "1982-01                       0  \n",
       "1982-02                       0  \n",
       "1982-03                       0  \n",
       "1982-04                       0  \n",
       "1982-05                       0  "
      ]
     },
     "execution_count": 27,
     "metadata": {},
     "output_type": "execute_result"
    }
   ],
   "source": [
    "merged_data.head()"
   ]
  },
  {
   "cell_type": "markdown",
   "metadata": {},
   "source": [
    "#### 10. Save your cleaned and merged dataframes as csv files."
   ]
  },
  {
   "cell_type": "code",
   "execution_count": 28,
   "metadata": {},
   "outputs": [],
   "source": [
    "merged_data.to_csv('merged_data.csv', index=False)"
   ]
  },
  {
   "cell_type": "markdown",
   "metadata": {},
   "source": [
    "<span style=\"color:red\">Do save it to your data folder instead</span>"
   ]
  },
  {
   "cell_type": "markdown",
   "metadata": {},
   "source": [
    "### Data Dictionary\n",
    "\n",
    "Now that we've fixed our data, and given it appropriate names, let's create a [data dictionary](http://library.ucmerced.edu/node/10249). \n",
    "\n",
    "A data dictionary provides a quick overview of features/variables/columns, alongside data types and descriptions. The more descriptive you can be, the more useful this document is.\n",
    "\n",
    "Example of a Fictional Data Dictionary Entry: \n",
    "\n",
    "|Feature|Type|Dataset|Description|\n",
    "|---|---|---|---|\n",
    "|**county_pop**|*integer*|2010 census|The population of the county (units in thousands, where 2.5 represents 2500 people).| \n",
    "|**per_poverty**|*float*|2010 census|The percent of the county over the age of 18 living below the 200% of official US poverty rate (units percent to two decimal places 98.10 means 98.1%)|\n",
    "\n",
    "[Here's a quick link to a short guide for formatting markdown in Jupyter notebooks](https://jupyter-notebook.readthedocs.io/en/stable/examples/Notebook/Working%20With%20Markdown%20Cells.html).\n",
    "\n",
    "Provided is the skeleton for formatting a markdown table, with columns headers that will help you create a data dictionary to quickly summarize your data, as well as some examples. **This would be a great thing to copy and paste into your custom README for this project.**\n",
    "\n",
    "*Note*: if you are unsure of what a feature is, check the source of the data! This can be found in the README."
   ]
  },
  {
   "cell_type": "code",
   "execution_count": 29,
   "metadata": {
    "scrolled": false
   },
   "outputs": [
    {
     "name": "stdout",
     "output_type": "stream",
     "text": [
      "<class 'pandas.core.frame.DataFrame'>\n",
      "Index: 488 entries, 1982-01 to 2022-08\n",
      "Data columns (total 14 columns):\n",
      " #   Column                             Non-Null Count  Dtype  \n",
      "---  ------                             --------------  -----  \n",
      " 0   no_of_rainy_days                   488 non-null    int64  \n",
      " 1   total_rainfall                     488 non-null    float64\n",
      " 2   maximum_rainfall_in_a_day          488 non-null    float64\n",
      " 3   mean_rh                            488 non-null    float64\n",
      " 4   mean_sunshine_hrs                  488 non-null    float64\n",
      " 5   asian_civilisations_museum         488 non-null    int64  \n",
      " 6   national_museum_of_singapore       488 non-null    int64  \n",
      " 7   science_centre_singapore           488 non-null    int64  \n",
      " 8   jurong_birdpark                    488 non-null    int64  \n",
      " 9   night_safari                       488 non-null    int64  \n",
      " 10  river_wonders                      488 non-null    int64  \n",
      " 11  singapore_zoological_gardens       488 non-null    int64  \n",
      " 12  sun_yat_sen_nanyang_memorial_hall  488 non-null    int64  \n",
      " 13  indian_heritage_centre             488 non-null    int64  \n",
      "dtypes: float64(4), int64(10)\n",
      "memory usage: 57.2+ KB\n"
     ]
    }
   ],
   "source": [
    "merged_data.info()"
   ]
  },
  {
   "cell_type": "markdown",
   "metadata": {},
   "source": [
    "|Feature|Type|Dataset|Description|\n",
    "|---|---|---|---|\n",
    "|**no_of_rainy_days**|*integer*|rainfall-monthly-number-of-rain-days|Monthly number of rain days| \n",
    "|**total_rainfall**|*float*|rainfall-monthly-total|Total rainfall in mm|\n",
    "|**maximum_rainfall_in_a_day**|*float*|rainfall-monthly-highest-daily-total|Highest daily rainfall in the month in mm|\n",
    "|**mean_rh**|*float*|relative-humidity-monthly-mean|Monthly mean relative humidity in %|\n",
    "|**mean_sunshine_hrs**|*float*|sunshine-duration-monthly-mean-daily-duration|Monthly mean daily sunshine duration in hrs|\n",
    "|**asian_civilisations_museum**|*integer*|attractions_visitors|Visitors in thousands|\n",
    "|**national_museum_of_singapore**|*integer*|attractions_visitors|Visitors in thousands|\n",
    "|**science_centre_singapore**|*integer*|attractions_visitors|Visitors in thousands|\n",
    "|**jurong_birdpark**|*integer*|attractions_visitors|Visitors in thousands|\n",
    "|**night_safari**|*integer*|attractions_visitors|Visitors in thousands|\n",
    "|**river_wonders**|*integer*|attractions_visitors|Visitors in thousands|\n",
    "|**singapore_zoological_gardens**|*integer*|attractions_visitors|Visitors in thousands|\n",
    "|**sun_yat_sen_nanyang_memorial_hall**|*integer*|attractions_visitors|Visitors in thousands|\n",
    "|**indian_heritage_centre**|*integer*|attractions_visitors|Visitors in thousands|"
   ]
  },
  {
   "cell_type": "markdown",
   "metadata": {},
   "source": [
    "## Exploratory Data Analysis\n",
    "\n",
    "Complete the following steps to explore your data. You are welcome to do more EDA than the steps outlined here as you feel necessary:\n",
    "1. Summary Statistics.\n",
    "2. Use a **dictionary comprehension** to apply the standard deviation function you create in part 1 to each numeric column in the dataframe.  **No loops**.\n",
    "    - Assign the output to variable `sd` as a dictionary where: \n",
    "        - Each column name is now a key \n",
    "        - That standard deviation of the column is the value \n",
    "        - *Example Output :* `{'rainfall-monthly-total': xxx, 'no_of_rainy_days': xxx, ...}`\n",
    "3. Investigate trends in the data.\n",
    "    - Using sorting and/or masking (along with the `.head()` method to avoid printing our entire dataframe), consider questions relevant to your problem statement. Some examples are provided below (but feel free to change these questions for your specific problem):\n",
    "        - Which month have the highest and lowest total rainfall in 1990, 2000, 2010 and 2020?\n",
    "        - Which year have the highest and lowest total rainfall in the date range of analysis?\n",
    "        - Which month have the highest and lowest number of rainy days in 1990, 2000, 2010 and 2020?\n",
    "        - Which year have the highest and lowest number of rainy days in the date range of analysis?\n",
    "        - Are there any outliers months in the dataset?\n",
    "       \n",
    "    - **The above 5 questions are compulsory. Feel free to explore other trends based on the datasets that you have choosen for analysis. You should comment on your findings at each step in a markdown cell below your code block**. Make sure you include at least one example of sorting your dataframe by a column, and one example of using boolean filtering (i.e., masking) to select a subset of the dataframe."
   ]
  },
  {
   "cell_type": "markdown",
   "metadata": {},
   "source": [
    "#### 1. Summary Statistics"
   ]
  },
  {
   "cell_type": "code",
   "execution_count": 30,
   "metadata": {
    "scrolled": false
   },
   "outputs": [
    {
     "data": {
      "text/html": [
       "<div>\n",
       "<style scoped>\n",
       "    .dataframe tbody tr th:only-of-type {\n",
       "        vertical-align: middle;\n",
       "    }\n",
       "\n",
       "    .dataframe tbody tr th {\n",
       "        vertical-align: top;\n",
       "    }\n",
       "\n",
       "    .dataframe thead th {\n",
       "        text-align: right;\n",
       "    }\n",
       "</style>\n",
       "<table border=\"1\" class=\"dataframe\">\n",
       "  <thead>\n",
       "    <tr style=\"text-align: right;\">\n",
       "      <th></th>\n",
       "      <th>count</th>\n",
       "      <th>mean</th>\n",
       "      <th>std</th>\n",
       "      <th>min</th>\n",
       "      <th>25%</th>\n",
       "      <th>50%</th>\n",
       "      <th>75%</th>\n",
       "      <th>max</th>\n",
       "    </tr>\n",
       "  </thead>\n",
       "  <tbody>\n",
       "    <tr>\n",
       "      <th>no_of_rainy_days</th>\n",
       "      <td>488.0</td>\n",
       "      <td>14.1</td>\n",
       "      <td>4.9</td>\n",
       "      <td>1.0</td>\n",
       "      <td>11.0</td>\n",
       "      <td>14.0</td>\n",
       "      <td>18.0</td>\n",
       "      <td>27.0</td>\n",
       "    </tr>\n",
       "    <tr>\n",
       "      <th>total_rainfall</th>\n",
       "      <td>488.0</td>\n",
       "      <td>177.2</td>\n",
       "      <td>113.9</td>\n",
       "      <td>0.2</td>\n",
       "      <td>93.8</td>\n",
       "      <td>159.4</td>\n",
       "      <td>238.1</td>\n",
       "      <td>765.9</td>\n",
       "    </tr>\n",
       "    <tr>\n",
       "      <th>maximum_rainfall_in_a_day</th>\n",
       "      <td>488.0</td>\n",
       "      <td>52.3</td>\n",
       "      <td>35.7</td>\n",
       "      <td>0.2</td>\n",
       "      <td>30.7</td>\n",
       "      <td>43.9</td>\n",
       "      <td>63.0</td>\n",
       "      <td>216.2</td>\n",
       "    </tr>\n",
       "    <tr>\n",
       "      <th>mean_rh</th>\n",
       "      <td>488.0</td>\n",
       "      <td>82.2</td>\n",
       "      <td>3.4</td>\n",
       "      <td>72.0</td>\n",
       "      <td>80.0</td>\n",
       "      <td>82.6</td>\n",
       "      <td>84.7</td>\n",
       "      <td>90.7</td>\n",
       "    </tr>\n",
       "    <tr>\n",
       "      <th>mean_sunshine_hrs</th>\n",
       "      <td>488.0</td>\n",
       "      <td>5.7</td>\n",
       "      <td>1.2</td>\n",
       "      <td>2.7</td>\n",
       "      <td>4.8</td>\n",
       "      <td>5.7</td>\n",
       "      <td>6.5</td>\n",
       "      <td>9.3</td>\n",
       "    </tr>\n",
       "    <tr>\n",
       "      <th>asian_civilisations_museum</th>\n",
       "      <td>488.0</td>\n",
       "      <td>19.9</td>\n",
       "      <td>23.2</td>\n",
       "      <td>0.0</td>\n",
       "      <td>0.0</td>\n",
       "      <td>8.0</td>\n",
       "      <td>39.2</td>\n",
       "      <td>114.0</td>\n",
       "    </tr>\n",
       "    <tr>\n",
       "      <th>national_museum_of_singapore</th>\n",
       "      <td>488.0</td>\n",
       "      <td>34.1</td>\n",
       "      <td>34.0</td>\n",
       "      <td>0.0</td>\n",
       "      <td>5.0</td>\n",
       "      <td>22.0</td>\n",
       "      <td>61.0</td>\n",
       "      <td>195.0</td>\n",
       "    </tr>\n",
       "    <tr>\n",
       "      <th>science_centre_singapore</th>\n",
       "      <td>488.0</td>\n",
       "      <td>47.6</td>\n",
       "      <td>36.6</td>\n",
       "      <td>0.0</td>\n",
       "      <td>19.0</td>\n",
       "      <td>44.0</td>\n",
       "      <td>70.0</td>\n",
       "      <td>191.0</td>\n",
       "    </tr>\n",
       "    <tr>\n",
       "      <th>jurong_birdpark</th>\n",
       "      <td>488.0</td>\n",
       "      <td>34.0</td>\n",
       "      <td>35.6</td>\n",
       "      <td>0.0</td>\n",
       "      <td>0.0</td>\n",
       "      <td>18.0</td>\n",
       "      <td>68.0</td>\n",
       "      <td>148.0</td>\n",
       "    </tr>\n",
       "    <tr>\n",
       "      <th>night_safari</th>\n",
       "      <td>488.0</td>\n",
       "      <td>44.2</td>\n",
       "      <td>46.6</td>\n",
       "      <td>0.0</td>\n",
       "      <td>0.0</td>\n",
       "      <td>22.0</td>\n",
       "      <td>89.0</td>\n",
       "      <td>158.0</td>\n",
       "    </tr>\n",
       "    <tr>\n",
       "      <th>river_wonders</th>\n",
       "      <td>488.0</td>\n",
       "      <td>16.4</td>\n",
       "      <td>32.3</td>\n",
       "      <td>0.0</td>\n",
       "      <td>0.0</td>\n",
       "      <td>0.0</td>\n",
       "      <td>0.0</td>\n",
       "      <td>169.0</td>\n",
       "    </tr>\n",
       "    <tr>\n",
       "      <th>singapore_zoological_gardens</th>\n",
       "      <td>488.0</td>\n",
       "      <td>98.3</td>\n",
       "      <td>59.0</td>\n",
       "      <td>0.0</td>\n",
       "      <td>71.0</td>\n",
       "      <td>112.0</td>\n",
       "      <td>137.0</td>\n",
       "      <td>250.0</td>\n",
       "    </tr>\n",
       "    <tr>\n",
       "      <th>sun_yat_sen_nanyang_memorial_hall</th>\n",
       "      <td>488.0</td>\n",
       "      <td>2.4</td>\n",
       "      <td>5.7</td>\n",
       "      <td>0.0</td>\n",
       "      <td>0.0</td>\n",
       "      <td>0.0</td>\n",
       "      <td>0.0</td>\n",
       "      <td>36.0</td>\n",
       "    </tr>\n",
       "    <tr>\n",
       "      <th>indian_heritage_centre</th>\n",
       "      <td>488.0</td>\n",
       "      <td>2.3</td>\n",
       "      <td>6.2</td>\n",
       "      <td>0.0</td>\n",
       "      <td>0.0</td>\n",
       "      <td>0.0</td>\n",
       "      <td>0.0</td>\n",
       "      <td>43.0</td>\n",
       "    </tr>\n",
       "  </tbody>\n",
       "</table>\n",
       "</div>"
      ],
      "text/plain": [
       "                                   count   mean    std   min   25%    50%  \\\n",
       "no_of_rainy_days                   488.0   14.1    4.9   1.0  11.0   14.0   \n",
       "total_rainfall                     488.0  177.2  113.9   0.2  93.8  159.4   \n",
       "maximum_rainfall_in_a_day          488.0   52.3   35.7   0.2  30.7   43.9   \n",
       "mean_rh                            488.0   82.2    3.4  72.0  80.0   82.6   \n",
       "mean_sunshine_hrs                  488.0    5.7    1.2   2.7   4.8    5.7   \n",
       "asian_civilisations_museum         488.0   19.9   23.2   0.0   0.0    8.0   \n",
       "national_museum_of_singapore       488.0   34.1   34.0   0.0   5.0   22.0   \n",
       "science_centre_singapore           488.0   47.6   36.6   0.0  19.0   44.0   \n",
       "jurong_birdpark                    488.0   34.0   35.6   0.0   0.0   18.0   \n",
       "night_safari                       488.0   44.2   46.6   0.0   0.0   22.0   \n",
       "river_wonders                      488.0   16.4   32.3   0.0   0.0    0.0   \n",
       "singapore_zoological_gardens       488.0   98.3   59.0   0.0  71.0  112.0   \n",
       "sun_yat_sen_nanyang_memorial_hall  488.0    2.4    5.7   0.0   0.0    0.0   \n",
       "indian_heritage_centre             488.0    2.3    6.2   0.0   0.0    0.0   \n",
       "\n",
       "                                     75%    max  \n",
       "no_of_rainy_days                    18.0   27.0  \n",
       "total_rainfall                     238.1  765.9  \n",
       "maximum_rainfall_in_a_day           63.0  216.2  \n",
       "mean_rh                             84.7   90.7  \n",
       "mean_sunshine_hrs                    6.5    9.3  \n",
       "asian_civilisations_museum          39.2  114.0  \n",
       "national_museum_of_singapore        61.0  195.0  \n",
       "science_centre_singapore            70.0  191.0  \n",
       "jurong_birdpark                     68.0  148.0  \n",
       "night_safari                        89.0  158.0  \n",
       "river_wonders                        0.0  169.0  \n",
       "singapore_zoological_gardens       137.0  250.0  \n",
       "sun_yat_sen_nanyang_memorial_hall    0.0   36.0  \n",
       "indian_heritage_centre               0.0   43.0  "
      ]
     },
     "execution_count": 30,
     "metadata": {},
     "output_type": "execute_result"
    }
   ],
   "source": [
    "merged_data.describe().round(1).T"
   ]
  },
  {
   "cell_type": "markdown",
   "metadata": {},
   "source": [
    "#### 2. Use a dictionary comprehension to apply the standard deviation function created in part 1 "
   ]
  },
  {
   "cell_type": "code",
   "execution_count": 31,
   "metadata": {},
   "outputs": [],
   "source": [
    "all_weather_columns = ['no_of_rainy_days', 'total_rainfall', 'maximum_rainfall_in_a_day', 'mean_rh', 'mean_sunshine_hrs']\n",
    "\n",
    "sd = {col: calculate_std_dev(merged_data[col].tolist()) for col in all_weather_columns}"
   ]
  },
  {
   "cell_type": "code",
   "execution_count": 32,
   "metadata": {
    "scrolled": true
   },
   "outputs": [
    {
     "data": {
      "text/plain": [
       "{'no_of_rainy_days': 4.94,\n",
       " 'total_rainfall': 113.8,\n",
       " 'maximum_rainfall_in_a_day': 35.71,\n",
       " 'mean_rh': 3.41,\n",
       " 'mean_sunshine_hrs': 1.2}"
      ]
     },
     "execution_count": 32,
     "metadata": {},
     "output_type": "execute_result"
    }
   ],
   "source": [
    "sd"
   ]
  },
  {
   "cell_type": "markdown",
   "metadata": {},
   "source": [
    "#### 3. Investigate trends in the data."
   ]
  },
  {
   "cell_type": "markdown",
   "metadata": {},
   "source": [
    "  + Which months have the highest and lowest total rainfall in 1990, 2000, 2010 and 2020?"
   ]
  },
  {
   "cell_type": "code",
   "execution_count": 33,
   "metadata": {
    "scrolled": false
   },
   "outputs": [
    {
     "name": "stdout",
     "output_type": "stream",
     "text": [
      "Highest month of rainfall in 1990: 1990-09 (204.5 mm)\n",
      "Lowest month of rainfall in 1990: 1990-02 (24.1 mm)\n",
      "\n",
      "\n",
      "Highest month of rainfall in 2000: 2000-11 (385.7 mm)\n",
      "Lowest month of rainfall in 2000: 2000-09 (81.1 mm)\n",
      "\n",
      "\n",
      "Highest month of rainfall in 2010: 2010-07 (298.5 mm)\n",
      "Lowest month of rainfall in 2010: 2010-02 (6.3 mm)\n",
      "\n",
      "\n",
      "Highest month of rainfall in 2020: 2020-05 (255.6 mm)\n",
      "Lowest month of rainfall in 2020: 2020-02 (65.0 mm)\n",
      "\n",
      "\n"
     ]
    }
   ],
   "source": [
    "# Convert the index to datetime\n",
    "merged_data.index = pd.to_datetime(merged_data.index)\n",
    "\n",
    "# Define a list of years\n",
    "years = [1990, 2000, 2010, 2020]\n",
    "\n",
    "# Iterate through the years and get the month with highest and lowest total rainfall\n",
    "for year in years:\n",
    "    # Create a mask to filter the data by year\n",
    "    data_year = merged_data.index.year == year\n",
    "    \n",
    "    # Get the data for the year and sort by total_rainfall\n",
    "    rainfall_year = merged_data[data_year].sort_values(by='total_rainfall', ascending=False)\n",
    "    \n",
    "    # Print the results\n",
    "    highest_month = rainfall_year.head(1).index[0].strftime('%Y-%m')\n",
    "    highest_rainfall = rainfall_year.head(1)['total_rainfall'].values[0]\n",
    "    lowest_month = rainfall_year.tail(1).index[0].strftime('%Y-%m')\n",
    "    lowest_rainfall = rainfall_year.tail(1)['total_rainfall'].values[0]\n",
    "    print(f\"Highest month of rainfall in {year}: {highest_month} ({highest_rainfall} mm)\")\n",
    "    print(f\"Lowest month of rainfall in {year}: {lowest_month} ({lowest_rainfall} mm)\")\n",
    "    print(\"\\n\")"
   ]
  },
  {
   "cell_type": "markdown",
   "metadata": {},
   "source": [
    "There is no clear trend to determine the month with highest rainfall in these 4 years. \n",
    "However, February tends to have the lowest rainfall in the year. "
   ]
  },
  {
   "cell_type": "markdown",
   "metadata": {},
   "source": [
    "  + Which year has the highest and lowest total rainfall in the date range of analysis?"
   ]
  },
  {
   "cell_type": "code",
   "execution_count": 34,
   "metadata": {},
   "outputs": [
    {
     "data": {
      "text/html": [
       "<div>\n",
       "<style scoped>\n",
       "    .dataframe tbody tr th:only-of-type {\n",
       "        vertical-align: middle;\n",
       "    }\n",
       "\n",
       "    .dataframe tbody tr th {\n",
       "        vertical-align: top;\n",
       "    }\n",
       "\n",
       "    .dataframe thead th {\n",
       "        text-align: right;\n",
       "    }\n",
       "</style>\n",
       "<table border=\"1\" class=\"dataframe\">\n",
       "  <thead>\n",
       "    <tr style=\"text-align: right;\">\n",
       "      <th></th>\n",
       "      <th>no_of_rainy_days</th>\n",
       "      <th>total_rainfall</th>\n",
       "      <th>maximum_rainfall_in_a_day</th>\n",
       "      <th>mean_rh</th>\n",
       "      <th>mean_sunshine_hrs</th>\n",
       "      <th>asian_civilisations_museum</th>\n",
       "      <th>national_museum_of_singapore</th>\n",
       "      <th>science_centre_singapore</th>\n",
       "      <th>jurong_birdpark</th>\n",
       "      <th>night_safari</th>\n",
       "      <th>river_wonders</th>\n",
       "      <th>singapore_zoological_gardens</th>\n",
       "      <th>sun_yat_sen_nanyang_memorial_hall</th>\n",
       "      <th>indian_heritage_centre</th>\n",
       "    </tr>\n",
       "    <tr>\n",
       "      <th>month</th>\n",
       "      <th></th>\n",
       "      <th></th>\n",
       "      <th></th>\n",
       "      <th></th>\n",
       "      <th></th>\n",
       "      <th></th>\n",
       "      <th></th>\n",
       "      <th></th>\n",
       "      <th></th>\n",
       "      <th></th>\n",
       "      <th></th>\n",
       "      <th></th>\n",
       "      <th></th>\n",
       "      <th></th>\n",
       "    </tr>\n",
       "  </thead>\n",
       "  <tbody>\n",
       "    <tr>\n",
       "      <th>2022-04-01</th>\n",
       "      <td>18</td>\n",
       "      <td>239.6</td>\n",
       "      <td>58.8</td>\n",
       "      <td>80.0</td>\n",
       "      <td>5.2</td>\n",
       "      <td>19</td>\n",
       "      <td>37</td>\n",
       "      <td>29</td>\n",
       "      <td>18</td>\n",
       "      <td>30</td>\n",
       "      <td>53</td>\n",
       "      <td>66</td>\n",
       "      <td>2</td>\n",
       "      <td>5</td>\n",
       "    </tr>\n",
       "    <tr>\n",
       "      <th>2022-05-01</th>\n",
       "      <td>12</td>\n",
       "      <td>102.0</td>\n",
       "      <td>44.6</td>\n",
       "      <td>76.5</td>\n",
       "      <td>6.7</td>\n",
       "      <td>24</td>\n",
       "      <td>52</td>\n",
       "      <td>39</td>\n",
       "      <td>20</td>\n",
       "      <td>40</td>\n",
       "      <td>68</td>\n",
       "      <td>93</td>\n",
       "      <td>4</td>\n",
       "      <td>9</td>\n",
       "    </tr>\n",
       "    <tr>\n",
       "      <th>2022-06-01</th>\n",
       "      <td>17</td>\n",
       "      <td>211.8</td>\n",
       "      <td>59.4</td>\n",
       "      <td>79.1</td>\n",
       "      <td>4.7</td>\n",
       "      <td>30</td>\n",
       "      <td>85</td>\n",
       "      <td>64</td>\n",
       "      <td>29</td>\n",
       "      <td>55</td>\n",
       "      <td>77</td>\n",
       "      <td>106</td>\n",
       "      <td>3</td>\n",
       "      <td>7</td>\n",
       "    </tr>\n",
       "    <tr>\n",
       "      <th>2022-07-01</th>\n",
       "      <td>16</td>\n",
       "      <td>145.2</td>\n",
       "      <td>27.8</td>\n",
       "      <td>76.8</td>\n",
       "      <td>6.2</td>\n",
       "      <td>32</td>\n",
       "      <td>84</td>\n",
       "      <td>33</td>\n",
       "      <td>23</td>\n",
       "      <td>59</td>\n",
       "      <td>66</td>\n",
       "      <td>101</td>\n",
       "      <td>3</td>\n",
       "      <td>11</td>\n",
       "    </tr>\n",
       "    <tr>\n",
       "      <th>2022-08-01</th>\n",
       "      <td>15</td>\n",
       "      <td>141.4</td>\n",
       "      <td>32.4</td>\n",
       "      <td>77.4</td>\n",
       "      <td>5.5</td>\n",
       "      <td>32</td>\n",
       "      <td>100</td>\n",
       "      <td>26</td>\n",
       "      <td>18</td>\n",
       "      <td>53</td>\n",
       "      <td>64</td>\n",
       "      <td>89</td>\n",
       "      <td>6</td>\n",
       "      <td>9</td>\n",
       "    </tr>\n",
       "  </tbody>\n",
       "</table>\n",
       "</div>"
      ],
      "text/plain": [
       "            no_of_rainy_days  total_rainfall  maximum_rainfall_in_a_day  \\\n",
       "month                                                                     \n",
       "2022-04-01                18           239.6                       58.8   \n",
       "2022-05-01                12           102.0                       44.6   \n",
       "2022-06-01                17           211.8                       59.4   \n",
       "2022-07-01                16           145.2                       27.8   \n",
       "2022-08-01                15           141.4                       32.4   \n",
       "\n",
       "            mean_rh  mean_sunshine_hrs  asian_civilisations_museum  \\\n",
       "month                                                                \n",
       "2022-04-01     80.0                5.2                          19   \n",
       "2022-05-01     76.5                6.7                          24   \n",
       "2022-06-01     79.1                4.7                          30   \n",
       "2022-07-01     76.8                6.2                          32   \n",
       "2022-08-01     77.4                5.5                          32   \n",
       "\n",
       "            national_museum_of_singapore  science_centre_singapore  \\\n",
       "month                                                                \n",
       "2022-04-01                            37                        29   \n",
       "2022-05-01                            52                        39   \n",
       "2022-06-01                            85                        64   \n",
       "2022-07-01                            84                        33   \n",
       "2022-08-01                           100                        26   \n",
       "\n",
       "            jurong_birdpark  night_safari  river_wonders  \\\n",
       "month                                                      \n",
       "2022-04-01               18            30             53   \n",
       "2022-05-01               20            40             68   \n",
       "2022-06-01               29            55             77   \n",
       "2022-07-01               23            59             66   \n",
       "2022-08-01               18            53             64   \n",
       "\n",
       "            singapore_zoological_gardens  sun_yat_sen_nanyang_memorial_hall  \\\n",
       "month                                                                         \n",
       "2022-04-01                            66                                  2   \n",
       "2022-05-01                            93                                  4   \n",
       "2022-06-01                           106                                  3   \n",
       "2022-07-01                           101                                  3   \n",
       "2022-08-01                            89                                  6   \n",
       "\n",
       "            indian_heritage_centre  \n",
       "month                               \n",
       "2022-04-01                       5  \n",
       "2022-05-01                       9  \n",
       "2022-06-01                       7  \n",
       "2022-07-01                      11  \n",
       "2022-08-01                       9  "
      ]
     },
     "execution_count": 34,
     "metadata": {},
     "output_type": "execute_result"
    }
   ],
   "source": [
    "merged_data.tail()"
   ]
  },
  {
   "cell_type": "code",
   "execution_count": 35,
   "metadata": {},
   "outputs": [
    {
     "name": "stdout",
     "output_type": "stream",
     "text": [
      "Year with the highest total rainfall: 2007 (2886.2 mm)\n",
      "Year with the lowest total rainfall: 1997 (1118.9 mm)\n"
     ]
    }
   ],
   "source": [
    "# Group the data by year and sum the rainfall for each year\n",
    "yearly_rainfall = merged_data.groupby(merged_data.index.year)['total_rainfall'].sum()\n",
    "\n",
    "# Sort the data in descending order and extract the first row to get the year with the highest total rainfall\n",
    "year_with_highest_rainfall = yearly_rainfall.sort_values(ascending=False).index[0]\n",
    "\n",
    "# Sort the data in ascending order and extract the first row to get the year with the lowest total rainfall\n",
    "year_with_lowest_rainfall = yearly_rainfall.sort_values().index[0]\n",
    "\n",
    "highest_rainfall = yearly_rainfall[year_with_highest_rainfall]\n",
    "lowest_rainfall = yearly_rainfall[year_with_lowest_rainfall]\n",
    "\n",
    "print(f\"Year with the highest total rainfall: {year_with_highest_rainfall} ({highest_rainfall} mm)\")\n",
    "print(f\"Year with the lowest total rainfall: {year_with_lowest_rainfall} ({lowest_rainfall} mm)\")"
   ]
  },
  {
   "cell_type": "markdown",
   "metadata": {},
   "source": [
    "  + Which months have the highest and lowest number of rainy days in 1990, 2000, 2010 and 2020?"
   ]
  },
  {
   "cell_type": "code",
   "execution_count": 36,
   "metadata": {},
   "outputs": [
    {
     "name": "stdout",
     "output_type": "stream",
     "text": [
      "Highest no of rainy days by month in 1990: 1990-09 (17)\n",
      "Lowest no of rainy days by month in 1990: 1990-03 (4)\n",
      "\n",
      "\n",
      "Highest no of rainy days by month in 2000: 2000-11 (21)\n",
      "Lowest no of rainy days by month in 2000: 2000-05 (10)\n",
      "\n",
      "\n",
      "Highest no of rainy days by month in 2010: 2010-11 (21)\n",
      "Lowest no of rainy days by month in 2010: 2010-02 (4)\n",
      "\n",
      "\n",
      "Highest no of rainy days by month in 2020: 2020-07 (22)\n",
      "Lowest no of rainy days by month in 2020: 2020-01 (6)\n",
      "\n",
      "\n"
     ]
    }
   ],
   "source": [
    "# Iterate through the years and get the month with highest and lowest no of rainy days\n",
    "for year in years:\n",
    "    # Create a mask to filter the data by year\n",
    "    data_year = merged_data.index.year == year\n",
    "    \n",
    "    # Get the data for the year and sort by no of rainy days\n",
    "    no_of_rainy_days_year = merged_data[data_year].sort_values(by='no_of_rainy_days', ascending=False)\n",
    "    \n",
    "    # Print the results\n",
    "    highest_month = no_of_rainy_days_year.head(1).index[0].strftime('%Y-%m')\n",
    "    highest_no_of_rainy_days = no_of_rainy_days_year.head(1)['no_of_rainy_days'].values[0]\n",
    "    lowest_month = no_of_rainy_days_year.tail(1).index[0].strftime('%Y-%m')\n",
    "    lowest_no_of_rainy_days = no_of_rainy_days_year.tail(1)['no_of_rainy_days'].values[0]\n",
    "    print(f\"Highest no of rainy days by month in {year}: {highest_month} ({highest_no_of_rainy_days:.0f})\")\n",
    "    print(f\"Lowest no of rainy days by month in {year}: {lowest_month} ({lowest_no_of_rainy_days:.0f})\")\n",
    "    print(\"\\n\")"
   ]
  },
  {
   "cell_type": "markdown",
   "metadata": {},
   "source": [
    "The highest occurrences of the month with highest number of rainy days from the above data is November. \n",
    "There is no clear trend to determine the month with lowest number of rainy days."
   ]
  },
  {
   "cell_type": "markdown",
   "metadata": {},
   "source": [
    "  + Which year have the highest and lowest total number of rainy days in the date range of analysis?"
   ]
  },
  {
   "cell_type": "code",
   "execution_count": 37,
   "metadata": {},
   "outputs": [
    {
     "name": "stdout",
     "output_type": "stream",
     "text": [
      "Year with the highest total rainy days: 2013 (206)\n",
      "Year with the lowest total rainy days: 1997 (116)\n"
     ]
    }
   ],
   "source": [
    "# Group the data by year and sum the no. of rainy days for each year\n",
    "yearly_rainy_days = merged_data.groupby(merged_data.index.year)['no_of_rainy_days'].sum()\n",
    "\n",
    "# Sort the data in descending order and extract the first row to get the year with the highest total rainfall\n",
    "year_with_highest_rainy_days = yearly_rainy_days.sort_values(ascending=False).index[0]\n",
    "\n",
    "# Extract the last row to get the year with the lowest total rainfall\n",
    "year_with_lowest_rainy_days = yearly_rainy_days.sort_values().index[0]\n",
    "\n",
    "highest_no_of_rainy_days = yearly_rainy_days[year_with_highest_rainy_days]\n",
    "lowest_no_of_rainy_days = yearly_rainy_days[year_with_lowest_rainy_days]\n",
    "\n",
    "print(f\"Year with the highest total rainy days: {year_with_highest_rainy_days} ({highest_no_of_rainy_days:.0f})\")\n",
    "print(f\"Year with the lowest total rainy days: {year_with_lowest_rainy_days} ({lowest_no_of_rainy_days:.0f})\")"
   ]
  },
  {
   "cell_type": "markdown",
   "metadata": {},
   "source": [
    "The lowest total number of rainy days in 1997 is also in line with our data above (1997 also has the lowest rainfall in the last 40 years). According to [Meteorological Service Singapore](http://www.weather.gov.sg/learn_phenomena/#:~:text=Many%20of%20the%20widespread%20and,rainfall%20records%20started%20in%201869.), the occurrence of one of the strongest El Nino events in 1997 led to the lowest annual rainfall in Singapore (1118.9 mm) since rainfall records started in 1869."
   ]
  },
  {
   "cell_type": "markdown",
   "metadata": {},
   "source": [
    "  + Which months have the highest and lowest mean relative humidity in 1990, 2000, 2010 and 2020?"
   ]
  },
  {
   "cell_type": "code",
   "execution_count": 38,
   "metadata": {},
   "outputs": [
    {
     "name": "stdout",
     "output_type": "stream",
     "text": [
      "Highest relative humidity by month in 1990: 1990-12 (86%)\n",
      "Lowest relative humidity by month in 1990: 1990-03 (78%)\n",
      "\n",
      "\n",
      "Highest relative humidity by month in 2000: 2000-12 (88%)\n",
      "Lowest relative humidity by month in 2000: 2000-10 (82%)\n",
      "\n",
      "\n",
      "Highest relative humidity by month in 2010: 2010-11 (86%)\n",
      "Lowest relative humidity by month in 2010: 2010-02 (77%)\n",
      "\n",
      "\n",
      "Highest relative humidity by month in 2020: 2020-11 (82%)\n",
      "Lowest relative humidity by month in 2020: 2020-03 (75%)\n",
      "\n",
      "\n"
     ]
    }
   ],
   "source": [
    "# Iterate through the years and get the month with highest and lowest relative humidity\n",
    "for year in years:\n",
    "    # Create a mask to filter the data by year\n",
    "    data_year = merged_data.index.year == year\n",
    "    \n",
    "    # Get the data for the year and sort by no of rainy days\n",
    "    rh_year = merged_data[data_year].sort_values(by='mean_rh', ascending=False)\n",
    "    \n",
    "    # Print the results\n",
    "    highest_month = rh_year.head(1).index[0].strftime('%Y-%m')\n",
    "    highest_mean_rh = rh_year.head(1)['mean_rh'].values[0]\n",
    "    lowest_month = rh_year.tail(1).index[0].strftime('%Y-%m')\n",
    "    lowest_mean_rh = rh_year.tail(1)['mean_rh'].values[0]\n",
    "    print(f\"Highest relative humidity by month in {year}: {highest_month} ({highest_mean_rh:.0f}%)\")\n",
    "    print(f\"Lowest relative humidity by month in {year}: {lowest_month} ({lowest_mean_rh:.0f}%)\")\n",
    "    print(\"\\n\")"
   ]
  },
  {
   "cell_type": "markdown",
   "metadata": {},
   "source": [
    "The highest occurrences of the month with highest mean relative humidity from the above data is November & December. \n",
    "and the month with lowest mean relative humidity is March."
   ]
  },
  {
   "cell_type": "markdown",
   "metadata": {},
   "source": [
    "  + Which months have the highest and lowest number of mean sunshine hours in 1990, 2000, 2010 and 2020?"
   ]
  },
  {
   "cell_type": "code",
   "execution_count": 39,
   "metadata": {},
   "outputs": [
    {
     "name": "stdout",
     "output_type": "stream",
     "text": [
      "Highest mean sunshine hours by month in 1990: 1990-02 (8.9h)\n",
      "Lowest mean sunshine hours by month in 1990: 1990-11 (4.6h)\n",
      "\n",
      "\n",
      "Highest mean sunshine hours by month in 2000: 2000-05 (6.8h)\n",
      "Lowest mean sunshine hours by month in 2000: 2000-11 (3.7h)\n",
      "\n",
      "\n",
      "Highest mean sunshine hours by month in 2010: 2010-02 (8.8h)\n",
      "Lowest mean sunshine hours by month in 2010: 2010-12 (3.6h)\n",
      "\n",
      "\n",
      "Highest mean sunshine hours by month in 2020: 2020-02 (8.3h)\n",
      "Lowest mean sunshine hours by month in 2020: 2020-11 (4.0h)\n",
      "\n",
      "\n"
     ]
    }
   ],
   "source": [
    "# Iterate through the years and get the month with highest and lowest mean sunshine hours\n",
    "for year in years:\n",
    "    # Create a mask to filter the data by year\n",
    "    data_year = merged_data.index.year == year\n",
    "    \n",
    "    # Get the data for the year and sort by no of rainy days\n",
    "    mean_sunshine_hrs_year = merged_data[data_year].sort_values(by='mean_sunshine_hrs', ascending=False)\n",
    "    \n",
    "    # Print the results\n",
    "    highest_month = mean_sunshine_hrs_year.head(1).index[0].strftime('%Y-%m')\n",
    "    highest_mean_sunshine_hrs = mean_sunshine_hrs_year.head(1)['mean_sunshine_hrs'].values[0]\n",
    "    lowest_month = mean_sunshine_hrs_year.tail(1).index[0].strftime('%Y-%m')\n",
    "    lowest_mean_sunshine_hrs = mean_sunshine_hrs_year.tail(1)['mean_sunshine_hrs'].values[0]\n",
    "    print(f\"Highest mean sunshine hours by month in {year}: {highest_month} ({highest_mean_sunshine_hrs}h)\")\n",
    "    print(f\"Lowest mean sunshine hours by month in {year}: {lowest_month} ({lowest_mean_sunshine_hrs}h)\")\n",
    "    print(\"\\n\")"
   ]
  },
  {
   "cell_type": "markdown",
   "metadata": {},
   "source": [
    "The highest occurrences of the month with highest mean sunshine hours from the above data is February \n",
    "and the month with lowest mean sunshine hours is November."
   ]
  },
  {
   "cell_type": "markdown",
   "metadata": {},
   "source": [
    " + Are there any outliers in the weather datasets?"
   ]
  },
  {
   "cell_type": "code",
   "execution_count": 40,
   "metadata": {
    "scrolled": false
   },
   "outputs": [
    {
     "data": {
      "image/png": "[encoded data removed]",
      "text/plain": [
       "<Figure size 720x432 with 6 Axes>"
      ]
     },
     "metadata": {},
     "output_type": "display_data"
    }
   ],
   "source": [
    "fig, ax = plt.subplots(nrows = 3, ncols = 2, figsize = (10,6))\n",
    "\n",
    "sns.boxplot(x=merged_data['no_of_rainy_days'], ax = ax[0,0], orient=\"h\", color = 'skyblue').set(xlabel='', title='No of Rainy Days')\n",
    "sns.boxplot(x=merged_data['total_rainfall'], ax = ax[0,1], orient=\"h\", color = 'skyblue').set(xlabel='', title='Total Monthly Rainfall (in mm)')\n",
    "sns.boxplot(x=merged_data['maximum_rainfall_in_a_day'], ax = ax[1,0], orient=\"h\", color = 'skyblue').set(xlabel='', title= 'Highest Daily Rainfall in a Month (in mm)')\n",
    "sns.boxplot(x=merged_data['mean_rh'], ax = ax[1,1], orient=\"h\", color = 'skyblue').set(xlabel='', title='Mean Relative Humidity (in %)')\n",
    "sns.boxplot(x=merged_data['mean_sunshine_hrs'], ax = ax[2,0], orient=\"h\", color = 'skyblue').set(xlabel='', title='Monthly Mean Daily Sunshine Duration (in hrs)')\n",
    "\n",
    "plt.tight_layout()"
   ]
  },
  {
   "cell_type": "code",
   "execution_count": 41,
   "metadata": {},
   "outputs": [
    {
     "name": "stdout",
     "output_type": "stream",
     "text": [
      "454.4\n"
     ]
    }
   ],
   "source": [
    "# finding outlier data for Total Monthly Rainfall (in mm)\n",
    "\n",
    "# finding the 1st quartile\n",
    "q1_1 = merged_data['total_rainfall'].quantile(0.25)\n",
    "\n",
    "# finding the 3rd quartile\n",
    "q3_1 = merged_data['total_rainfall'].quantile(0.75)\n",
    "\n",
    "iqr_1 = q3_1 - q1_1\n",
    "\n",
    "# finding upper and lower whiskers\n",
    "upper_whisker1 = round(q3_1+(1.5*iqr_1),1)\n",
    "lower_whisker1 = round(q1_1-(1.5*iqr_1),1)\n",
    "print(upper_whisker1)"
   ]
  },
  {
   "cell_type": "code",
   "execution_count": 42,
   "metadata": {
    "scrolled": false
   },
   "outputs": [
    {
     "data": {
      "text/plain": [
       "month\n",
       "2006-12-01    765.9\n",
       "2021-01-01    692.8\n",
       "2001-12-01    609.0\n",
       "2004-01-01    600.9\n",
       "1987-01-01    568.6\n",
       "2011-01-01    513.2\n",
       "1989-11-01    508.4\n",
       "1992-12-01    502.7\n",
       "1982-12-01    494.1\n",
       "1991-12-01    492.3\n",
       "1992-11-01    474.3\n",
       "1984-02-01    470.4\n",
       "2007-12-01    468.6\n",
       "1998-12-01    463.4\n",
       "Name: total_rainfall, dtype: float64"
      ]
     },
     "execution_count": 42,
     "metadata": {},
     "output_type": "execute_result"
    }
   ],
   "source": [
    "outliers1 = merged_data[merged_data['total_rainfall'] > 454.4]['total_rainfall']\n",
    "outliers1.sort_values(ascending=False)"
   ]
  },
  {
   "cell_type": "markdown",
   "metadata": {},
   "source": [
    "As expected, the outlier months with unusually high total rainfall are mainly in December & January, which is in line with the Northeast Monsoon season in Singapore. It can be seen from the NEA site [National Environmental Agency](https://www.nea.gov.sg/media/news/advisories/index/less-wet-weather-expected-for-second-half-of-december) that 765.9mm in Dec 2006 is the highest monthly rainfall ever recorded in Singapore's history."
   ]
  },
  {
   "cell_type": "code",
   "execution_count": 43,
   "metadata": {
    "scrolled": false
   },
   "outputs": [
    {
     "name": "stdout",
     "output_type": "stream",
     "text": [
      "111.6\n"
     ]
    }
   ],
   "source": [
    "# finding outlier data for Highest Daily Rainfall in a Month (in mm)\n",
    "\n",
    "# finding the 1st quartile\n",
    "q1_2 = merged_data['maximum_rainfall_in_a_day'].quantile(0.25)\n",
    "\n",
    "# finding the 3rd quartile\n",
    "q3_2 = merged_data['maximum_rainfall_in_a_day'].quantile(0.75)\n",
    "\n",
    "iqr_2 = q3_2 - q1_2\n",
    "\n",
    "# finding upper and lower whiskers\n",
    "upper_whisker2 = round(q3_2+(1.5*iqr_2),1)\n",
    "lower_whisker2 = round(q1_2-(1.5*iqr_2),1)\n",
    "print(upper_whisker2)"
   ]
  },
  {
   "cell_type": "code",
   "execution_count": 44,
   "metadata": {
    "scrolled": false
   },
   "outputs": [
    {
     "data": {
      "text/plain": [
       "month\n",
       "2011-01-01    216.2\n",
       "2001-12-01    211.1\n",
       "2021-01-01    210.6\n",
       "1995-11-01    198.6\n",
       "2006-12-01    198.0\n",
       "2003-01-01    194.4\n",
       "1988-09-01    187.3\n",
       "1983-08-01    181.8\n",
       "1994-11-01    178.3\n",
       "2004-01-01    177.8\n",
       "1983-12-01    164.4\n",
       "1995-02-01    159.3\n",
       "2007-12-01    159.0\n",
       "1984-02-01    154.4\n",
       "1990-05-01    153.7\n",
       "1989-11-01    148.6\n",
       "2007-01-01    143.8\n",
       "2013-10-01    139.8\n",
       "2008-08-01    133.9\n",
       "1994-12-01    133.8\n",
       "2005-11-01    133.8\n",
       "2006-01-01    131.7\n",
       "1986-12-01    131.7\n",
       "1991-08-01    129.9\n",
       "2000-01-01    127.6\n",
       "1987-01-01    127.4\n",
       "2001-01-01    125.4\n",
       "2008-01-01    123.1\n",
       "2004-03-01    122.8\n",
       "1984-06-01    121.1\n",
       "2010-07-01    121.1\n",
       "1992-11-01    120.6\n",
       "2013-12-01    119.8\n",
       "1984-03-01    119.4\n",
       "1988-11-01    111.9\n",
       "Name: maximum_rainfall_in_a_day, dtype: float64"
      ]
     },
     "execution_count": 44,
     "metadata": {},
     "output_type": "execute_result"
    }
   ],
   "source": [
    "outliers2 = merged_data[merged_data['maximum_rainfall_in_a_day'] > 111.6]['maximum_rainfall_in_a_day']\n",
    "outliers2.sort_values(ascending=False)"
   ]
  },
  {
   "cell_type": "markdown",
   "metadata": {},
   "source": [
    "It can be observed that the outlier months with unusually high total rainfall are mainly in December & January, which is in line with the Northeast Monsoon season in Singapore. [National Environmental Agency](https://www.nea.gov.sg/corporate-functions/resources/publications/annual-reports/annual-weather-review-2011) also states that 216.2mm in Jan 2011 was the highest ever rainfall in a day for the month of January since records began in 1869 due to a monsoon surge."
   ]
  },
  {
   "cell_type": "code",
   "execution_count": 45,
   "metadata": {},
   "outputs": [
    {
     "name": "stdout",
     "output_type": "stream",
     "text": [
      "72.9\n"
     ]
    }
   ],
   "source": [
    "# finding outlier data for mean relative humidity in a Month (in %)\n",
    "\n",
    "# finding the 1st quartile\n",
    "q1_3 = merged_data['mean_rh'].quantile(0.25)\n",
    "\n",
    "# finding the 3rd quartile\n",
    "q3_3 = merged_data['mean_rh'].quantile(0.75)\n",
    "\n",
    "iqr_3 = q3_3 - q1_3\n",
    "\n",
    "# finding upper and lower whiskers\n",
    "upper_whisker3 = round(q3_3+(1.5*iqr_3),1)\n",
    "lower_whisker3 = round(q1_3-(1.5*iqr_3),1)\n",
    "print(lower_whisker3)"
   ]
  },
  {
   "cell_type": "code",
   "execution_count": 46,
   "metadata": {
    "scrolled": false
   },
   "outputs": [
    {
     "data": {
      "text/plain": [
       "month\n",
       "2016-10-01    72.0\n",
       "2019-08-01    72.1\n",
       "2019-03-01    72.3\n",
       "2016-12-01    72.8\n",
       "Name: mean_rh, dtype: float64"
      ]
     },
     "execution_count": 46,
     "metadata": {},
     "output_type": "execute_result"
    }
   ],
   "source": [
    "outliers3 = merged_data[merged_data['mean_rh'] < 72.9]['mean_rh']\n",
    "outliers3.sort_values()"
   ]
  },
  {
   "cell_type": "markdown",
   "metadata": {},
   "source": [
    "There is no observable trend for these 4 outliers in relative humidity."
   ]
  },
  {
   "cell_type": "code",
   "execution_count": 47,
   "metadata": {},
   "outputs": [
    {
     "name": "stdout",
     "output_type": "stream",
     "text": [
      "9.0\n"
     ]
    }
   ],
   "source": [
    "# finding outlier data for mean sunshine hours in a month\n",
    "\n",
    "# finding the 1st quartile\n",
    "q1 = merged_data['mean_sunshine_hrs'].quantile(0.25)\n",
    "\n",
    "# finding the 3rd quartile\n",
    "q3 = merged_data['mean_sunshine_hrs'].quantile(0.75)\n",
    "\n",
    "iqr = q3 - q1\n",
    "\n",
    "# finding upper and lower whiskers\n",
    "upper_whisker = round(q3+(1.5*iqr),1)\n",
    "lower_whisker = round(q1-(1.5*iqr),1)\n",
    "print(upper_whisker)"
   ]
  },
  {
   "cell_type": "code",
   "execution_count": 48,
   "metadata": {
    "scrolled": true
   },
   "outputs": [
    {
     "data": {
      "text/plain": [
       "month\n",
       "1983-02-01    9.3\n",
       "1987-02-01    9.2\n",
       "2019-02-01    9.2\n",
       "2005-02-01    9.1\n",
       "Name: mean_sunshine_hrs, dtype: float64"
      ]
     },
     "execution_count": 48,
     "metadata": {},
     "output_type": "execute_result"
    }
   ],
   "source": [
    "outliers4 = merged_data[merged_data['mean_sunshine_hrs'] > 9]['mean_sunshine_hrs']\n",
    "outliers4.sort_values(ascending=False)"
   ]
  },
  {
   "cell_type": "markdown",
   "metadata": {},
   "source": [
    "It is evident from these outliers that February tends to be the sunniest month of the year."
   ]
  },
  {
   "cell_type": "markdown",
   "metadata": {},
   "source": [
    "## Visualize the Data\n",
    "\n",
    "There's not a magic bullet recommendation for the right number of plots to understand a given dataset, but visualizing your data is *always* a good idea. Not only does it allow you to quickly convey your findings (even if you have a non-technical audience), it will often reveal trends in your data that escaped you when you were looking only at numbers. It is important to not only create visualizations, but to **interpret your visualizations** as well.\n",
    "\n",
    "**Every plot should**:\n",
    "- Have a title\n",
    "- Have axis labels\n",
    "- Have appropriate tick labels\n",
    "- Text is legible in a plot\n",
    "- Plots demonstrate meaningful and valid relationships\n",
    "- Have an interpretation to aid understanding\n",
    "\n",
    "Here is an example of what your plots should look like following the above guidelines. Note that while the content of this example is unrelated, the principles of visualization hold:\n",
    "\n",
    "![](https://snag.gy/hCBR1U.jpg)\n",
    "*Interpretation: The above image shows that as we increase our spending on advertising, our sales numbers also tend to increase. There is a positive correlation between advertising spending and sales.*\n",
    "\n",
    "---\n",
    "\n",
    "Here are some prompts to get you started with visualizations. Feel free to add additional visualizations as you see fit:\n",
    "1. Use Seaborn's heatmap with pandas `.corr()` to visualize correlations between all numeric features.\n",
    "    - Heatmaps are generally not appropriate for presentations, and should often be excluded from reports as they can be visually overwhelming. **However**, they can be extremely useful in identify relationships of potential interest (as well as identifying potential collinearity before modeling).\n",
    "    - Please take time to format your output, adding a title. Look through some of the additional arguments and options. (Axis labels aren't really necessary, as long as the title is informative).\n",
    "2. Visualize distributions using histograms. If you have a lot, consider writing a custom function and use subplots.\n",
    "    - *OPTIONAL*: Summarize the underlying distributions of your features (in words & statistics)\n",
    "         - Be thorough in your verbal description of these distributions.\n",
    "         - Be sure to back up these summaries with statistics.\n",
    "         - We generally assume that data we sample from a population will be normally distributed. Do we observe this trend? Explain your answers for each distribution and how you think this will affect estimates made from these data.\n",
    "3. Plot and interpret boxplots. \n",
    "    - Boxplots demonstrate central tendency and spread in variables. In a certain sense, these are somewhat redundant with histograms, but you may be better able to identify clear outliers or differences in IQR, etc.\n",
    "    - Multiple values can be plotted to a single boxplot as long as they are of the same relative scale (meaning they have similar min/max values).\n",
    "    - Each boxplot should:\n",
    "        - Only include variables of a similar scale\n",
    "        - Have clear labels for each variable\n",
    "        - Have appropriate titles and labels\n",
    "4. Plot and interpret scatter plots to view relationships between features. Feel free to write a custom function, and subplot if you'd like. Functions save both time and space.\n",
    "    - Your plots should have:\n",
    "        - Two clearly labeled axes\n",
    "        - A proper title\n",
    "        - Colors and symbols that are clear and unmistakable\n",
    "5. Additional plots of your choosing.\n",
    "    - Are there any additional trends or relationships you haven't explored? Was there something interesting you saw that you'd like to dive further into? It's likely that there are a few more plots you might want to generate to support your narrative and recommendations that you are building toward. **As always, make sure you're interpreting your plots as you go**."
   ]
  },
  {
   "cell_type": "markdown",
   "metadata": {},
   "source": [
    "Some ideas for plots that can be generated:\n",
    "\n",
    "- Plot the histogram of the rainfall data with various bins and comment on the distribution of the data - is it centered, skewed?\n",
    "- Plot the box-and-whiskers plot. Comment on the different quartiles and identify any outliers in the dataset. \n",
    "- Is there a correlation between the number of rainy days and total rainfall in the month? What kind of correlation do your suspect? Does the graph show the same?\n"
   ]
  },
  {
   "cell_type": "markdown",
   "metadata": {},
   "source": [
    "#### 1. Use Seaborn's heatmap with pandas .corr() to visualize correlations between all numeric features."
   ]
  },
  {
   "cell_type": "code",
   "execution_count": 49,
   "metadata": {
    "scrolled": false
   },
   "outputs": [
    {
     "data": {
      "text/html": [
       "<div>\n",
       "<style scoped>\n",
       "    .dataframe tbody tr th:only-of-type {\n",
       "        vertical-align: middle;\n",
       "    }\n",
       "\n",
       "    .dataframe tbody tr th {\n",
       "        vertical-align: top;\n",
       "    }\n",
       "\n",
       "    .dataframe thead th {\n",
       "        text-align: right;\n",
       "    }\n",
       "</style>\n",
       "<table border=\"1\" class=\"dataframe\">\n",
       "  <thead>\n",
       "    <tr style=\"text-align: right;\">\n",
       "      <th></th>\n",
       "      <th>no_of_rainy_days</th>\n",
       "      <th>total_rainfall</th>\n",
       "      <th>maximum_rainfall_in_a_day</th>\n",
       "      <th>mean_rh</th>\n",
       "      <th>mean_sunshine_hrs</th>\n",
       "      <th>asian_civilisations_museum</th>\n",
       "      <th>national_museum_of_singapore</th>\n",
       "      <th>science_centre_singapore</th>\n",
       "      <th>jurong_birdpark</th>\n",
       "      <th>night_safari</th>\n",
       "      <th>river_wonders</th>\n",
       "      <th>singapore_zoological_gardens</th>\n",
       "      <th>sun_yat_sen_nanyang_memorial_hall</th>\n",
       "      <th>indian_heritage_centre</th>\n",
       "    </tr>\n",
       "    <tr>\n",
       "      <th>month</th>\n",
       "      <th></th>\n",
       "      <th></th>\n",
       "      <th></th>\n",
       "      <th></th>\n",
       "      <th></th>\n",
       "      <th></th>\n",
       "      <th></th>\n",
       "      <th></th>\n",
       "      <th></th>\n",
       "      <th></th>\n",
       "      <th></th>\n",
       "      <th></th>\n",
       "      <th></th>\n",
       "      <th></th>\n",
       "    </tr>\n",
       "  </thead>\n",
       "  <tbody>\n",
       "    <tr>\n",
       "      <th>1982-01-01</th>\n",
       "      <td>10</td>\n",
       "      <td>107.1</td>\n",
       "      <td>36.5</td>\n",
       "      <td>81.2</td>\n",
       "      <td>5.6</td>\n",
       "      <td>0</td>\n",
       "      <td>0</td>\n",
       "      <td>0</td>\n",
       "      <td>0</td>\n",
       "      <td>0</td>\n",
       "      <td>0</td>\n",
       "      <td>0</td>\n",
       "      <td>0</td>\n",
       "      <td>0</td>\n",
       "    </tr>\n",
       "    <tr>\n",
       "      <th>1982-02-01</th>\n",
       "      <td>5</td>\n",
       "      <td>27.8</td>\n",
       "      <td>9.4</td>\n",
       "      <td>79.5</td>\n",
       "      <td>7.6</td>\n",
       "      <td>0</td>\n",
       "      <td>0</td>\n",
       "      <td>0</td>\n",
       "      <td>0</td>\n",
       "      <td>0</td>\n",
       "      <td>0</td>\n",
       "      <td>0</td>\n",
       "      <td>0</td>\n",
       "      <td>0</td>\n",
       "    </tr>\n",
       "    <tr>\n",
       "      <th>1982-03-01</th>\n",
       "      <td>11</td>\n",
       "      <td>160.8</td>\n",
       "      <td>61.7</td>\n",
       "      <td>82.3</td>\n",
       "      <td>5.1</td>\n",
       "      <td>0</td>\n",
       "      <td>0</td>\n",
       "      <td>0</td>\n",
       "      <td>0</td>\n",
       "      <td>0</td>\n",
       "      <td>0</td>\n",
       "      <td>0</td>\n",
       "      <td>0</td>\n",
       "      <td>0</td>\n",
       "    </tr>\n",
       "    <tr>\n",
       "      <th>1982-04-01</th>\n",
       "      <td>14</td>\n",
       "      <td>157.0</td>\n",
       "      <td>45.1</td>\n",
       "      <td>85.9</td>\n",
       "      <td>4.7</td>\n",
       "      <td>0</td>\n",
       "      <td>0</td>\n",
       "      <td>0</td>\n",
       "      <td>0</td>\n",
       "      <td>0</td>\n",
       "      <td>0</td>\n",
       "      <td>0</td>\n",
       "      <td>0</td>\n",
       "      <td>0</td>\n",
       "    </tr>\n",
       "    <tr>\n",
       "      <th>1982-05-01</th>\n",
       "      <td>10</td>\n",
       "      <td>102.2</td>\n",
       "      <td>33.0</td>\n",
       "      <td>83.2</td>\n",
       "      <td>5.8</td>\n",
       "      <td>0</td>\n",
       "      <td>0</td>\n",
       "      <td>0</td>\n",
       "      <td>0</td>\n",
       "      <td>0</td>\n",
       "      <td>0</td>\n",
       "      <td>0</td>\n",
       "      <td>0</td>\n",
       "      <td>0</td>\n",
       "    </tr>\n",
       "    <tr>\n",
       "      <th>...</th>\n",
       "      <td>...</td>\n",
       "      <td>...</td>\n",
       "      <td>...</td>\n",
       "      <td>...</td>\n",
       "      <td>...</td>\n",
       "      <td>...</td>\n",
       "      <td>...</td>\n",
       "      <td>...</td>\n",
       "      <td>...</td>\n",
       "      <td>...</td>\n",
       "      <td>...</td>\n",
       "      <td>...</td>\n",
       "      <td>...</td>\n",
       "      <td>...</td>\n",
       "    </tr>\n",
       "    <tr>\n",
       "      <th>2022-04-01</th>\n",
       "      <td>18</td>\n",
       "      <td>239.6</td>\n",
       "      <td>58.8</td>\n",
       "      <td>80.0</td>\n",
       "      <td>5.2</td>\n",
       "      <td>19</td>\n",
       "      <td>37</td>\n",
       "      <td>29</td>\n",
       "      <td>18</td>\n",
       "      <td>30</td>\n",
       "      <td>53</td>\n",
       "      <td>66</td>\n",
       "      <td>2</td>\n",
       "      <td>5</td>\n",
       "    </tr>\n",
       "    <tr>\n",
       "      <th>2022-05-01</th>\n",
       "      <td>12</td>\n",
       "      <td>102.0</td>\n",
       "      <td>44.6</td>\n",
       "      <td>76.5</td>\n",
       "      <td>6.7</td>\n",
       "      <td>24</td>\n",
       "      <td>52</td>\n",
       "      <td>39</td>\n",
       "      <td>20</td>\n",
       "      <td>40</td>\n",
       "      <td>68</td>\n",
       "      <td>93</td>\n",
       "      <td>4</td>\n",
       "      <td>9</td>\n",
       "    </tr>\n",
       "    <tr>\n",
       "      <th>2022-06-01</th>\n",
       "      <td>17</td>\n",
       "      <td>211.8</td>\n",
       "      <td>59.4</td>\n",
       "      <td>79.1</td>\n",
       "      <td>4.7</td>\n",
       "      <td>30</td>\n",
       "      <td>85</td>\n",
       "      <td>64</td>\n",
       "      <td>29</td>\n",
       "      <td>55</td>\n",
       "      <td>77</td>\n",
       "      <td>106</td>\n",
       "      <td>3</td>\n",
       "      <td>7</td>\n",
       "    </tr>\n",
       "    <tr>\n",
       "      <th>2022-07-01</th>\n",
       "      <td>16</td>\n",
       "      <td>145.2</td>\n",
       "      <td>27.8</td>\n",
       "      <td>76.8</td>\n",
       "      <td>6.2</td>\n",
       "      <td>32</td>\n",
       "      <td>84</td>\n",
       "      <td>33</td>\n",
       "      <td>23</td>\n",
       "      <td>59</td>\n",
       "      <td>66</td>\n",
       "      <td>101</td>\n",
       "      <td>3</td>\n",
       "      <td>11</td>\n",
       "    </tr>\n",
       "    <tr>\n",
       "      <th>2022-08-01</th>\n",
       "      <td>15</td>\n",
       "      <td>141.4</td>\n",
       "      <td>32.4</td>\n",
       "      <td>77.4</td>\n",
       "      <td>5.5</td>\n",
       "      <td>32</td>\n",
       "      <td>100</td>\n",
       "      <td>26</td>\n",
       "      <td>18</td>\n",
       "      <td>53</td>\n",
       "      <td>64</td>\n",
       "      <td>89</td>\n",
       "      <td>6</td>\n",
       "      <td>9</td>\n",
       "    </tr>\n",
       "  </tbody>\n",
       "</table>\n",
       "<p>488 rows × 14 columns</p>\n",
       "</div>"
      ],
      "text/plain": [
       "            no_of_rainy_days  total_rainfall  maximum_rainfall_in_a_day  \\\n",
       "month                                                                     \n",
       "1982-01-01                10           107.1                       36.5   \n",
       "1982-02-01                 5            27.8                        9.4   \n",
       "1982-03-01                11           160.8                       61.7   \n",
       "1982-04-01                14           157.0                       45.1   \n",
       "1982-05-01                10           102.2                       33.0   \n",
       "...                      ...             ...                        ...   \n",
       "2022-04-01                18           239.6                       58.8   \n",
       "2022-05-01                12           102.0                       44.6   \n",
       "2022-06-01                17           211.8                       59.4   \n",
       "2022-07-01                16           145.2                       27.8   \n",
       "2022-08-01                15           141.4                       32.4   \n",
       "\n",
       "            mean_rh  mean_sunshine_hrs  asian_civilisations_museum  \\\n",
       "month                                                                \n",
       "1982-01-01     81.2                5.6                           0   \n",
       "1982-02-01     79.5                7.6                           0   \n",
       "1982-03-01     82.3                5.1                           0   \n",
       "1982-04-01     85.9                4.7                           0   \n",
       "1982-05-01     83.2                5.8                           0   \n",
       "...             ...                ...                         ...   \n",
       "2022-04-01     80.0                5.2                          19   \n",
       "2022-05-01     76.5                6.7                          24   \n",
       "2022-06-01     79.1                4.7                          30   \n",
       "2022-07-01     76.8                6.2                          32   \n",
       "2022-08-01     77.4                5.5                          32   \n",
       "\n",
       "            national_museum_of_singapore  science_centre_singapore  \\\n",
       "month                                                                \n",
       "1982-01-01                             0                         0   \n",
       "1982-02-01                             0                         0   \n",
       "1982-03-01                             0                         0   \n",
       "1982-04-01                             0                         0   \n",
       "1982-05-01                             0                         0   \n",
       "...                                  ...                       ...   \n",
       "2022-04-01                            37                        29   \n",
       "2022-05-01                            52                        39   \n",
       "2022-06-01                            85                        64   \n",
       "2022-07-01                            84                        33   \n",
       "2022-08-01                           100                        26   \n",
       "\n",
       "            jurong_birdpark  night_safari  river_wonders  \\\n",
       "month                                                      \n",
       "1982-01-01                0             0              0   \n",
       "1982-02-01                0             0              0   \n",
       "1982-03-01                0             0              0   \n",
       "1982-04-01                0             0              0   \n",
       "1982-05-01                0             0              0   \n",
       "...                     ...           ...            ...   \n",
       "2022-04-01               18            30             53   \n",
       "2022-05-01               20            40             68   \n",
       "2022-06-01               29            55             77   \n",
       "2022-07-01               23            59             66   \n",
       "2022-08-01               18            53             64   \n",
       "\n",
       "            singapore_zoological_gardens  sun_yat_sen_nanyang_memorial_hall  \\\n",
       "month                                                                         \n",
       "1982-01-01                             0                                  0   \n",
       "1982-02-01                             0                                  0   \n",
       "1982-03-01                             0                                  0   \n",
       "1982-04-01                             0                                  0   \n",
       "1982-05-01                             0                                  0   \n",
       "...                                  ...                                ...   \n",
       "2022-04-01                            66                                  2   \n",
       "2022-05-01                            93                                  4   \n",
       "2022-06-01                           106                                  3   \n",
       "2022-07-01                           101                                  3   \n",
       "2022-08-01                            89                                  6   \n",
       "\n",
       "            indian_heritage_centre  \n",
       "month                               \n",
       "1982-01-01                       0  \n",
       "1982-02-01                       0  \n",
       "1982-03-01                       0  \n",
       "1982-04-01                       0  \n",
       "1982-05-01                       0  \n",
       "...                            ...  \n",
       "2022-04-01                       5  \n",
       "2022-05-01                       9  \n",
       "2022-06-01                       7  \n",
       "2022-07-01                      11  \n",
       "2022-08-01                       9  \n",
       "\n",
       "[488 rows x 14 columns]"
      ]
     },
     "execution_count": 49,
     "metadata": {},
     "output_type": "execute_result"
    }
   ],
   "source": [
    "merged_data"
   ]
  },
  {
   "cell_type": "code",
   "execution_count": 50,
   "metadata": {},
   "outputs": [],
   "source": [
    "merged_data['indoor_attractions'] = merged_data['asian_civilisations_museum'] + merged_data['national_museum_of_singapore'] + merged_data['science_centre_singapore'] + merged_data['sun_yat_sen_nanyang_memorial_hall'] + merged_data['indian_heritage_centre']\n",
    "\n",
    "merged_data['outdoor_attractions'] = merged_data['jurong_birdpark'] + merged_data['night_safari'] + merged_data['river_wonders'] + merged_data['singapore_zoological_gardens']"
   ]
  },
  {
   "cell_type": "code",
   "execution_count": 51,
   "metadata": {
    "scrolled": false
   },
   "outputs": [
    {
     "data": {
      "image/png": "[encoded data removed]",
      "text/plain": [
       "<Figure size 1080x1080 with 2 Axes>"
      ]
     },
     "metadata": {},
     "output_type": "display_data"
    }
   ],
   "source": [
    "# visualise heatmap\n",
    "\n",
    "# Drop 'year' column from the merged_data DataFrame\n",
    "# merged_data_without_month2 = merged_data.drop(columns=['month2'])\n",
    "\n",
    "plt.figure(figsize=(15,15))\n",
    "plt.title('Correlation between weather & visitor numbers at attractions', fontsize = 20)\n",
    "mask = np.zeros_like(merged_data.corr(), dtype=bool)\n",
    "mask[np.triu_indices_from(mask)] = True\n",
    "sns.heatmap(merged_data.corr(), annot=True, cmap=\"coolwarm\", mask=mask);"
   ]
  },
  {
   "cell_type": "markdown",
   "metadata": {},
   "source": [
    "As shown above, although there is a slight correlation of approximately -0.5 between mean relative humidity and attractions such as River Wonders & Sun Yat Sen Nanyang Memorial Hall, overall there is no correlation seen between weather data and visitor numbers."
   ]
  },
  {
   "cell_type": "markdown",
   "metadata": {},
   "source": [
    "#### 2. Visualize distributions using histograms. If you have a lot, consider writing a custom function and use subplots."
   ]
  },
  {
   "cell_type": "code",
   "execution_count": 52,
   "metadata": {},
   "outputs": [],
   "source": [
    "def subplot_histograms(data, columns, titles, ylabels, xlabels, suptitle):\n",
    "    fig, axes = plt.subplots(nrows=3, ncols=2, figsize=(12,12))\n",
    "    fig.suptitle(suptitle, fontsize=16)\n",
    "    for i, ax in enumerate(axes.flatten()):\n",
    "        if i < len(columns):\n",
    "            sns.histplot(data=data, x=columns[i], kde=True, ax=ax)\n",
    "            ax.axvline(data[columns[i]].median(), color='r', linestyle='--', label='Median')\n",
    "            ax.axvline(data[columns[i]].mean(), color='g', linestyle='--', label='Mean')\n",
    "            ax.set_title(titles[i])\n",
    "            ax.set_xlabel(xlabels[i])\n",
    "            ax.set_ylabel(ylabels[i])\n",
    "            ax.legend()\n",
    "        else:\n",
    "            fig.delaxes(ax)\n",
    "    plt.tight_layout()\n",
    "    plt.show()"
   ]
  },
  {
   "cell_type": "code",
   "execution_count": 53,
   "metadata": {
    "scrolled": false
   },
   "outputs": [
    {
     "data": {
      "text/html": [
       "<div>\n",
       "<style scoped>\n",
       "    .dataframe tbody tr th:only-of-type {\n",
       "        vertical-align: middle;\n",
       "    }\n",
       "\n",
       "    .dataframe tbody tr th {\n",
       "        vertical-align: top;\n",
       "    }\n",
       "\n",
       "    .dataframe thead th {\n",
       "        text-align: right;\n",
       "    }\n",
       "</style>\n",
       "<table border=\"1\" class=\"dataframe\">\n",
       "  <thead>\n",
       "    <tr style=\"text-align: right;\">\n",
       "      <th></th>\n",
       "      <th>no_of_rainy_days</th>\n",
       "      <th>total_rainfall</th>\n",
       "      <th>maximum_rainfall_in_a_day</th>\n",
       "      <th>mean_rh</th>\n",
       "      <th>mean_sunshine_hrs</th>\n",
       "    </tr>\n",
       "  </thead>\n",
       "  <tbody>\n",
       "    <tr>\n",
       "      <th>count</th>\n",
       "      <td>488.0</td>\n",
       "      <td>488.0</td>\n",
       "      <td>488.0</td>\n",
       "      <td>488.0</td>\n",
       "      <td>488.0</td>\n",
       "    </tr>\n",
       "    <tr>\n",
       "      <th>mean</th>\n",
       "      <td>14.1</td>\n",
       "      <td>177.2</td>\n",
       "      <td>52.3</td>\n",
       "      <td>82.2</td>\n",
       "      <td>5.7</td>\n",
       "    </tr>\n",
       "    <tr>\n",
       "      <th>std</th>\n",
       "      <td>4.9</td>\n",
       "      <td>113.9</td>\n",
       "      <td>35.7</td>\n",
       "      <td>3.4</td>\n",
       "      <td>1.2</td>\n",
       "    </tr>\n",
       "    <tr>\n",
       "      <th>min</th>\n",
       "      <td>1.0</td>\n",
       "      <td>0.2</td>\n",
       "      <td>0.2</td>\n",
       "      <td>72.0</td>\n",
       "      <td>2.7</td>\n",
       "    </tr>\n",
       "    <tr>\n",
       "      <th>25%</th>\n",
       "      <td>11.0</td>\n",
       "      <td>93.8</td>\n",
       "      <td>30.7</td>\n",
       "      <td>80.0</td>\n",
       "      <td>4.8</td>\n",
       "    </tr>\n",
       "    <tr>\n",
       "      <th>50%</th>\n",
       "      <td>14.0</td>\n",
       "      <td>159.4</td>\n",
       "      <td>43.9</td>\n",
       "      <td>82.6</td>\n",
       "      <td>5.7</td>\n",
       "    </tr>\n",
       "    <tr>\n",
       "      <th>75%</th>\n",
       "      <td>18.0</td>\n",
       "      <td>238.1</td>\n",
       "      <td>63.0</td>\n",
       "      <td>84.7</td>\n",
       "      <td>6.5</td>\n",
       "    </tr>\n",
       "    <tr>\n",
       "      <th>max</th>\n",
       "      <td>27.0</td>\n",
       "      <td>765.9</td>\n",
       "      <td>216.2</td>\n",
       "      <td>90.7</td>\n",
       "      <td>9.3</td>\n",
       "    </tr>\n",
       "  </tbody>\n",
       "</table>\n",
       "</div>"
      ],
      "text/plain": [
       "       no_of_rainy_days  total_rainfall  maximum_rainfall_in_a_day  mean_rh  \\\n",
       "count             488.0           488.0                      488.0    488.0   \n",
       "mean               14.1           177.2                       52.3     82.2   \n",
       "std                 4.9           113.9                       35.7      3.4   \n",
       "min                 1.0             0.2                        0.2     72.0   \n",
       "25%                11.0            93.8                       30.7     80.0   \n",
       "50%                14.0           159.4                       43.9     82.6   \n",
       "75%                18.0           238.1                       63.0     84.7   \n",
       "max                27.0           765.9                      216.2     90.7   \n",
       "\n",
       "       mean_sunshine_hrs  \n",
       "count              488.0  \n",
       "mean                 5.7  \n",
       "std                  1.2  \n",
       "min                  2.7  \n",
       "25%                  4.8  \n",
       "50%                  5.7  \n",
       "75%                  6.5  \n",
       "max                  9.3  "
      ]
     },
     "execution_count": 53,
     "metadata": {},
     "output_type": "execute_result"
    }
   ],
   "source": [
    "round(merged_data.iloc[:, :5].describe(), 1)"
   ]
  },
  {
   "cell_type": "code",
   "execution_count": 54,
   "metadata": {
    "scrolled": false
   },
   "outputs": [
    {
     "data": {
      "image/png": "[encoded data removed]",
      "text/plain": [
       "<Figure size 864x864 with 5 Axes>"
      ]
     },
     "metadata": {},
     "output_type": "display_data"
    }
   ],
   "source": [
    "# Display subplots using function created above\n",
    "\n",
    "final_col = ['no_of_rainy_days','total_rainfall', 'maximum_rainfall_in_a_day','mean_rh','mean_sunshine_hrs']\n",
    "titles = ['No of Rainy Days', 'Total Monthly Rainfall', 'Highest Daily Rainfall in a Month', 'Mean Relative Humidity', 'Monthly Mean Daily Sunshine Duration']\n",
    "xlabels = ['No of rainy days in a month', 'Total monthly rainfall (in mm)', 'Maximum monthly rainfall in a day (in mm)', 'Mean relative humidity (in %)', 'Mean sunshine hours']\n",
    "ylabels = ['Count', 'Count', 'Count', 'Count', 'Count']\n",
    "subplot_histograms(merged_data,final_col, titles, ylabels, xlabels, 'Singapore Rainfall from 1982 - 2022')"
   ]
  },
  {
   "cell_type": "markdown",
   "metadata": {},
   "source": [
    "**No. of Rainy Days**: We cannot assume that the distribution is normally distributed even though the mean and median are  very close to each other. As the standard deviation of 4.9 indicates that there is some variability in the data, this implies that estimates made from these data may not be as accurate as they would be if the data were normally distributed.\n",
    "\n",
    "**Total Monthly Rainfall**: The distribution appears to be right-skewed with a long tail towards higher values. Given the positively skewed distribution and the presence of outliers from previous data, we cannot assume that the data is normally distributed. The estimates made from this data may not be as accurate as they would be if the data were normally distributed.\n",
    "\n",
    "**Highest Daily Rainfall in a Month**: The distribution also appears to be right-skewed with a long tail towards higher values. Given the positively skewed distribution and the presence of outliers from previous data, we cannot assume that the data is normally distributed. The estimates made from this data may not be as accurate as they would be if the data were normally distributed.\n",
    "\n",
    "**Mean Relative Humidity**: The distribution appears to be normal as the standard deviation seems relatively small compared to the range of values. The mean and median values are close to each other, indicating a symmetric distribution too. Thus, estimates made from these data are likely to be relatively accurate. However, it is important to perform additional tests to confirm the normality of the data.\n",
    "\n",
    "**Monthly Mean Daily Sunshine Duration**: The distribution also appears to be normal as the standard deviation seems relatively small compared to the range of values. The mean and median values are equal, indicating a symmetric distribution too. Thus, estimates made from these data are likely to be relatively accurate. However, it is important to perform additional tests to confirm the normality of the data."
   ]
  },
  {
   "cell_type": "markdown",
   "metadata": {},
   "source": [
    "#### 3. Plot and interpret boxplots."
   ]
  },
  {
   "cell_type": "code",
   "execution_count": 55,
   "metadata": {
    "scrolled": false
   },
   "outputs": [
    {
     "data": {
      "image/png": "[encoded data removed]",
      "text/plain": [
       "<Figure size 720x432 with 6 Axes>"
      ]
     },
     "metadata": {},
     "output_type": "display_data"
    }
   ],
   "source": [
    "fig, ax = plt.subplots(nrows = 3, ncols = 2, figsize = (10,6))\n",
    "\n",
    "sns.boxplot(x=merged_data['no_of_rainy_days'], ax = ax[0,0], orient=\"h\", color = 'skyblue').set(xlabel='', title='No of Rainy Days')\n",
    "sns.boxplot(x=merged_data['total_rainfall'], ax = ax[0,1], orient=\"h\", color = 'skyblue').set(xlabel='', title='Total Monthly Rainfall (in mm)')\n",
    "sns.boxplot(x=merged_data['maximum_rainfall_in_a_day'], ax = ax[1,0], orient=\"h\", color = 'skyblue').set(xlabel='', title= 'Highest Daily Rainfall in a Month (in mm)')\n",
    "sns.boxplot(x=merged_data['mean_rh'], ax = ax[1,1], orient=\"h\", color = 'skyblue').set(xlabel='', title='Mean Relative Humidity (in %)')\n",
    "sns.boxplot(x=merged_data['mean_sunshine_hrs'], ax = ax[2,0], orient=\"h\", color = 'skyblue').set(xlabel='', title='Monthly Mean Daily Sunshine Duration (in hrs)')\n",
    "\n",
    "plt.tight_layout()"
   ]
  },
  {
   "cell_type": "code",
   "execution_count": 56,
   "metadata": {},
   "outputs": [
    {
     "name": "stdout",
     "output_type": "stream",
     "text": [
      "454.4\n"
     ]
    }
   ],
   "source": [
    "# finding outlier data for Total Monthly Rainfall (in mm)\n",
    "\n",
    "# finding the 1st quartile\n",
    "q1_1 = merged_data['total_rainfall'].quantile(0.25)\n",
    "\n",
    "# finding the 3rd quartile\n",
    "q3_1 = merged_data['total_rainfall'].quantile(0.75)\n",
    "\n",
    "iqr_1 = q3_1 - q1_1\n",
    "\n",
    "# finding upper and lower whiskers\n",
    "upper_whisker1 = round(q3_1+(1.5*iqr_1),1)\n",
    "lower_whisker1 = round(q1_1-(1.5*iqr_1),1)\n",
    "print(upper_whisker1)"
   ]
  },
  {
   "cell_type": "code",
   "execution_count": 57,
   "metadata": {
    "scrolled": false
   },
   "outputs": [
    {
     "data": {
      "text/plain": [
       "month\n",
       "2006-12-01    765.9\n",
       "2021-01-01    692.8\n",
       "2001-12-01    609.0\n",
       "2004-01-01    600.9\n",
       "1987-01-01    568.6\n",
       "2011-01-01    513.2\n",
       "1989-11-01    508.4\n",
       "1992-12-01    502.7\n",
       "1982-12-01    494.1\n",
       "1991-12-01    492.3\n",
       "1992-11-01    474.3\n",
       "1984-02-01    470.4\n",
       "2007-12-01    468.6\n",
       "1998-12-01    463.4\n",
       "Name: total_rainfall, dtype: float64"
      ]
     },
     "execution_count": 57,
     "metadata": {},
     "output_type": "execute_result"
    }
   ],
   "source": [
    "outliers1 = merged_data[merged_data['total_rainfall'] > 454.4]['total_rainfall']\n",
    "outliers1.sort_values(ascending=False)"
   ]
  },
  {
   "cell_type": "markdown",
   "metadata": {},
   "source": [
    "As expected, the outlier months with unusually high total rainfall are mainly in December & January, which is in line with the Northeast Monsoon season in Singapore. It can be seen from the NEA site [National Environmental Agency](https://www.nea.gov.sg/media/news/advisories/index/less-wet-weather-expected-for-second-half-of-december) that 765.9mm in Dec 2006 is the highest monthly rainfall ever recorded in Singapore's history."
   ]
  },
  {
   "cell_type": "code",
   "execution_count": 58,
   "metadata": {
    "scrolled": false
   },
   "outputs": [
    {
     "name": "stdout",
     "output_type": "stream",
     "text": [
      "111.6\n"
     ]
    }
   ],
   "source": [
    "# finding outlier data for Highest Daily Rainfall in a Month (in mm)\n",
    "\n",
    "# finding the 1st quartile\n",
    "q1_2 = merged_data['maximum_rainfall_in_a_day'].quantile(0.25)\n",
    "\n",
    "# finding the 3rd quartile\n",
    "q3_2 = merged_data['maximum_rainfall_in_a_day'].quantile(0.75)\n",
    "\n",
    "iqr_2 = q3_2 - q1_2\n",
    "\n",
    "# finding upper and lower whiskers\n",
    "upper_whisker2 = round(q3_2+(1.5*iqr_2),1)\n",
    "lower_whisker2 = round(q1_2-(1.5*iqr_2),1)\n",
    "print(upper_whisker2)"
   ]
  },
  {
   "cell_type": "code",
   "execution_count": 59,
   "metadata": {
    "scrolled": false
   },
   "outputs": [
    {
     "data": {
      "text/plain": [
       "month\n",
       "2011-01-01    216.2\n",
       "2001-12-01    211.1\n",
       "2021-01-01    210.6\n",
       "1995-11-01    198.6\n",
       "2006-12-01    198.0\n",
       "2003-01-01    194.4\n",
       "1988-09-01    187.3\n",
       "1983-08-01    181.8\n",
       "1994-11-01    178.3\n",
       "2004-01-01    177.8\n",
       "1983-12-01    164.4\n",
       "1995-02-01    159.3\n",
       "2007-12-01    159.0\n",
       "1984-02-01    154.4\n",
       "1990-05-01    153.7\n",
       "1989-11-01    148.6\n",
       "2007-01-01    143.8\n",
       "2013-10-01    139.8\n",
       "2008-08-01    133.9\n",
       "1994-12-01    133.8\n",
       "2005-11-01    133.8\n",
       "2006-01-01    131.7\n",
       "1986-12-01    131.7\n",
       "1991-08-01    129.9\n",
       "2000-01-01    127.6\n",
       "1987-01-01    127.4\n",
       "2001-01-01    125.4\n",
       "2008-01-01    123.1\n",
       "2004-03-01    122.8\n",
       "1984-06-01    121.1\n",
       "2010-07-01    121.1\n",
       "1992-11-01    120.6\n",
       "2013-12-01    119.8\n",
       "1984-03-01    119.4\n",
       "1988-11-01    111.9\n",
       "Name: maximum_rainfall_in_a_day, dtype: float64"
      ]
     },
     "execution_count": 59,
     "metadata": {},
     "output_type": "execute_result"
    }
   ],
   "source": [
    "outliers2 = merged_data[merged_data['maximum_rainfall_in_a_day'] > 111.6]['maximum_rainfall_in_a_day']\n",
    "outliers2.sort_values(ascending=False)"
   ]
  },
  {
   "cell_type": "markdown",
   "metadata": {},
   "source": [
    "It can be observed that the outlier months with unusually high total rainfall are mainly in December & January, which is in line with the Northeast Monsoon season in Singapore. [National Environmental Agency](https://www.nea.gov.sg/corporate-functions/resources/publications/annual-reports/annual-weather-review-2011) also states that 216.2mm in Jan 2011 was the highest ever rainfall in a day for the month of January since records began in 1869 due to a monsoon surge."
   ]
  },
  {
   "cell_type": "code",
   "execution_count": 60,
   "metadata": {},
   "outputs": [
    {
     "name": "stdout",
     "output_type": "stream",
     "text": [
      "72.9\n"
     ]
    }
   ],
   "source": [
    "# finding outlier data for mean relative humidity in a Month (in %)\n",
    "\n",
    "# finding the 1st quartile\n",
    "q1_3 = merged_data['mean_rh'].quantile(0.25)\n",
    "\n",
    "# finding the 3rd quartile\n",
    "q3_3 = merged_data['mean_rh'].quantile(0.75)\n",
    "\n",
    "iqr_3 = q3_3 - q1_3\n",
    "\n",
    "# finding upper and lower whiskers\n",
    "upper_whisker3 = round(q3_3+(1.5*iqr_3),1)\n",
    "lower_whisker3 = round(q1_3-(1.5*iqr_3),1)\n",
    "print(lower_whisker3)"
   ]
  },
  {
   "cell_type": "code",
   "execution_count": 61,
   "metadata": {
    "scrolled": false
   },
   "outputs": [
    {
     "data": {
      "text/plain": [
       "month\n",
       "2016-10-01    72.0\n",
       "2019-08-01    72.1\n",
       "2019-03-01    72.3\n",
       "2016-12-01    72.8\n",
       "Name: mean_rh, dtype: float64"
      ]
     },
     "execution_count": 61,
     "metadata": {},
     "output_type": "execute_result"
    }
   ],
   "source": [
    "outliers3 = merged_data[merged_data['mean_rh'] < 72.9]['mean_rh']\n",
    "outliers3.sort_values()"
   ]
  },
  {
   "cell_type": "markdown",
   "metadata": {},
   "source": [
    "There is no observable trend for these 4 outliers in relative humidity."
   ]
  },
  {
   "cell_type": "code",
   "execution_count": 62,
   "metadata": {},
   "outputs": [
    {
     "name": "stdout",
     "output_type": "stream",
     "text": [
      "9.0\n"
     ]
    }
   ],
   "source": [
    "# finding outlier data for mean sunshine hours in a month\n",
    "\n",
    "# finding the 1st quartile\n",
    "q1 = merged_data['mean_sunshine_hrs'].quantile(0.25)\n",
    "\n",
    "# finding the 3rd quartile\n",
    "q3 = merged_data['mean_sunshine_hrs'].quantile(0.75)\n",
    "\n",
    "iqr = q3 - q1\n",
    "\n",
    "# finding upper and lower whiskers\n",
    "upper_whisker = round(q3+(1.5*iqr),1)\n",
    "lower_whisker = round(q1-(1.5*iqr),1)\n",
    "print(upper_whisker)"
   ]
  },
  {
   "cell_type": "code",
   "execution_count": 63,
   "metadata": {
    "scrolled": true
   },
   "outputs": [
    {
     "data": {
      "text/plain": [
       "month\n",
       "1983-02-01    9.3\n",
       "1987-02-01    9.2\n",
       "2019-02-01    9.2\n",
       "2005-02-01    9.1\n",
       "Name: mean_sunshine_hrs, dtype: float64"
      ]
     },
     "execution_count": 63,
     "metadata": {},
     "output_type": "execute_result"
    }
   ],
   "source": [
    "outliers4 = merged_data[merged_data['mean_sunshine_hrs'] > 9]['mean_sunshine_hrs']\n",
    "outliers4.sort_values(ascending=False)"
   ]
  },
  {
   "cell_type": "markdown",
   "metadata": {},
   "source": [
    "It is evident from these outliers that February tends to be the sunniest month of the year."
   ]
  },
  {
   "cell_type": "markdown",
   "metadata": {},
   "source": [
    "#### 4. Plot and interpret scatter plots to view relationships between features. Feel free to write a custom function, and subplot if you'd              like. Functions save both time and space."
   ]
  },
  {
   "cell_type": "markdown",
   "metadata": {},
   "source": [
    "We shall investigate the relationships between the weather datasets and the attractions by using the most popular indoor and outdoor attraction for comparison, the National Museum & Singapore Zoo respectively."
   ]
  },
  {
   "cell_type": "code",
   "execution_count": 64,
   "metadata": {
    "scrolled": false
   },
   "outputs": [],
   "source": [
    "merged_data_2 = merged_data.loc[(merged_data[['national_museum_of_singapore', 'singapore_zoological_gardens']] != 0).any(axis=1)]"
   ]
  },
  {
   "cell_type": "code",
   "execution_count": 65,
   "metadata": {
    "scrolled": false
   },
   "outputs": [
    {
     "data": {
      "image/png": "[encoded data removed]",
      "text/plain": [
       "<Figure size 432x288 with 1 Axes>"
      ]
     },
     "metadata": {},
     "output_type": "display_data"
    },
    {
     "data": {
      "image/png": "[encoded data removed]",
      "text/plain": [
       "<Figure size 432x288 with 1 Axes>"
      ]
     },
     "metadata": {},
     "output_type": "display_data"
    },
    {
     "data": {
      "image/png": "[encoded data removed]",
      "text/plain": [
       "<Figure size 432x288 with 1 Axes>"
      ]
     },
     "metadata": {},
     "output_type": "display_data"
    },
    {
     "data": {
      "image/png": "[encoded data removed]",
      "text/plain": [
       "<Figure size 432x288 with 1 Axes>"
      ]
     },
     "metadata": {},
     "output_type": "display_data"
    }
   ],
   "source": [
    "# create a function that creates a scatter plot with two y-variables, color, alpha value, and legend labels\n",
    "\n",
    "def plot_scatter(x, y1, y2, color1, color2, alpha, title, x_label, y_label, label1, label2):\n",
    "    fig, ax = plt.subplots()\n",
    "    ax.scatter(x=x, y=y1, c=color1, alpha=alpha, label=label1)\n",
    "    ax.scatter(x=x, y=y2, c=color2, alpha=alpha, label=label2)\n",
    "    ax.set_title(title)\n",
    "    ax.set_xlabel(x_label)\n",
    "    ax.set_ylabel(y_label)\n",
    "    ax.legend()\n",
    "    plt.show()\n",
    "\n",
    "plot_scatter(merged_data_2['no_of_rainy_days'], \n",
    "             merged_data_2['national_museum_of_singapore'], \n",
    "             merged_data_2['singapore_zoological_gardens'], \n",
    "             'orange', \n",
    "             'green', \n",
    "             0.4, \n",
    "             \"No of rainy days vs. Attraction Visitors\", \n",
    "             \"No of rainy days\", \n",
    "             \"Attraction Visitors\", \n",
    "             \"National Museum of Singapore\", \n",
    "             \"Singapore Zoological Gardens\")\n",
    "\n",
    "plot_scatter(merged_data_2['total_rainfall'], \n",
    "             merged_data_2['national_museum_of_singapore'], \n",
    "             merged_data_2['singapore_zoological_gardens'], \n",
    "             'orange', \n",
    "             'green', \n",
    "             0.4, \n",
    "             \"Total Monthly Rainfall vs. Attraction Visitors\", \n",
    "             \"Total Monthly Rainfall\", \n",
    "             \"Attraction Visitors\", \n",
    "             \"National Museum of Singapore\", \n",
    "             \"Singapore Zoological Gardens\")\n",
    "\n",
    "plot_scatter(merged_data_2['mean_rh'], \n",
    "             merged_data_2['national_museum_of_singapore'], \n",
    "             merged_data_2['singapore_zoological_gardens'], \n",
    "             'orange', \n",
    "             'green', \n",
    "             0.4, \n",
    "             \"Monthly Mean Humidity vs. Attraction Visitors\", \n",
    "             \"Monthly Mean Humidity\", \n",
    "             \"Attraction Visitors\", \n",
    "             \"National Museum of Singapore\", \n",
    "             \"Singapore Zoological Gardens\")\n",
    "\n",
    "plot_scatter(merged_data_2['mean_sunshine_hrs'], \n",
    "             merged_data_2['national_museum_of_singapore'], \n",
    "             merged_data_2['singapore_zoological_gardens'], \n",
    "             'orange', \n",
    "             'green', \n",
    "             0.4, \n",
    "             \"Monthly Mean Sunshine Hours vs. Attraction Visitors\", \n",
    "             \"Monthly Mean Sunshine Hours\", \n",
    "             \"Attraction Visitors\", \n",
    "             \"National Museum of Singapore\", \n",
    "             \"Singapore Zoological Gardens\")"
   ]
  },
  {
   "cell_type": "markdown",
   "metadata": {},
   "source": [
    "As seen from the above scatter plots, there is no correlation between weather and the number of visitors to attractions."
   ]
  },
  {
   "cell_type": "markdown",
   "metadata": {},
   "source": [
    "<span style=\"color:red\">Consider using a regplot instead as the regression line may be helpful in drawing the relationship between variables</span>"
   ]
  },
  {
   "cell_type": "markdown",
   "metadata": {},
   "source": [
    "#### 5. Additional plots of your choosing."
   ]
  },
  {
   "cell_type": "markdown",
   "metadata": {},
   "source": [
    "  + **Bar chart displaying the count of highest number of rainy days by month**"
   ]
  },
  {
   "cell_type": "code",
   "execution_count": 66,
   "metadata": {
    "scrolled": false
   },
   "outputs": [
    {
     "data": {
      "text/html": [
       "<div>\n",
       "<style scoped>\n",
       "    .dataframe tbody tr th:only-of-type {\n",
       "        vertical-align: middle;\n",
       "    }\n",
       "\n",
       "    .dataframe tbody tr th {\n",
       "        vertical-align: top;\n",
       "    }\n",
       "\n",
       "    .dataframe thead th {\n",
       "        text-align: right;\n",
       "    }\n",
       "</style>\n",
       "<table border=\"1\" class=\"dataframe\">\n",
       "  <thead>\n",
       "    <tr style=\"text-align: right;\">\n",
       "      <th></th>\n",
       "      <th>no_of_rainy_days</th>\n",
       "      <th>total_rainfall</th>\n",
       "      <th>maximum_rainfall_in_a_day</th>\n",
       "      <th>mean_rh</th>\n",
       "      <th>mean_sunshine_hrs</th>\n",
       "      <th>asian_civilisations_museum</th>\n",
       "      <th>national_museum_of_singapore</th>\n",
       "      <th>science_centre_singapore</th>\n",
       "      <th>jurong_birdpark</th>\n",
       "      <th>night_safari</th>\n",
       "      <th>river_wonders</th>\n",
       "      <th>singapore_zoological_gardens</th>\n",
       "      <th>sun_yat_sen_nanyang_memorial_hall</th>\n",
       "      <th>indian_heritage_centre</th>\n",
       "      <th>indoor_attractions</th>\n",
       "      <th>outdoor_attractions</th>\n",
       "      <th>month2</th>\n",
       "      <th>year</th>\n",
       "    </tr>\n",
       "    <tr>\n",
       "      <th>month</th>\n",
       "      <th></th>\n",
       "      <th></th>\n",
       "      <th></th>\n",
       "      <th></th>\n",
       "      <th></th>\n",
       "      <th></th>\n",
       "      <th></th>\n",
       "      <th></th>\n",
       "      <th></th>\n",
       "      <th></th>\n",
       "      <th></th>\n",
       "      <th></th>\n",
       "      <th></th>\n",
       "      <th></th>\n",
       "      <th></th>\n",
       "      <th></th>\n",
       "      <th></th>\n",
       "      <th></th>\n",
       "    </tr>\n",
       "  </thead>\n",
       "  <tbody>\n",
       "    <tr>\n",
       "      <th>1982-01-01</th>\n",
       "      <td>10</td>\n",
       "      <td>107.1</td>\n",
       "      <td>36.5</td>\n",
       "      <td>81.2</td>\n",
       "      <td>5.6</td>\n",
       "      <td>0</td>\n",
       "      <td>0</td>\n",
       "      <td>0</td>\n",
       "      <td>0</td>\n",
       "      <td>0</td>\n",
       "      <td>0</td>\n",
       "      <td>0</td>\n",
       "      <td>0</td>\n",
       "      <td>0</td>\n",
       "      <td>0</td>\n",
       "      <td>0</td>\n",
       "      <td>1</td>\n",
       "      <td>1982</td>\n",
       "    </tr>\n",
       "    <tr>\n",
       "      <th>1982-02-01</th>\n",
       "      <td>5</td>\n",
       "      <td>27.8</td>\n",
       "      <td>9.4</td>\n",
       "      <td>79.5</td>\n",
       "      <td>7.6</td>\n",
       "      <td>0</td>\n",
       "      <td>0</td>\n",
       "      <td>0</td>\n",
       "      <td>0</td>\n",
       "      <td>0</td>\n",
       "      <td>0</td>\n",
       "      <td>0</td>\n",
       "      <td>0</td>\n",
       "      <td>0</td>\n",
       "      <td>0</td>\n",
       "      <td>0</td>\n",
       "      <td>2</td>\n",
       "      <td>1982</td>\n",
       "    </tr>\n",
       "    <tr>\n",
       "      <th>1982-03-01</th>\n",
       "      <td>11</td>\n",
       "      <td>160.8</td>\n",
       "      <td>61.7</td>\n",
       "      <td>82.3</td>\n",
       "      <td>5.1</td>\n",
       "      <td>0</td>\n",
       "      <td>0</td>\n",
       "      <td>0</td>\n",
       "      <td>0</td>\n",
       "      <td>0</td>\n",
       "      <td>0</td>\n",
       "      <td>0</td>\n",
       "      <td>0</td>\n",
       "      <td>0</td>\n",
       "      <td>0</td>\n",
       "      <td>0</td>\n",
       "      <td>3</td>\n",
       "      <td>1982</td>\n",
       "    </tr>\n",
       "    <tr>\n",
       "      <th>1982-04-01</th>\n",
       "      <td>14</td>\n",
       "      <td>157.0</td>\n",
       "      <td>45.1</td>\n",
       "      <td>85.9</td>\n",
       "      <td>4.7</td>\n",
       "      <td>0</td>\n",
       "      <td>0</td>\n",
       "      <td>0</td>\n",
       "      <td>0</td>\n",
       "      <td>0</td>\n",
       "      <td>0</td>\n",
       "      <td>0</td>\n",
       "      <td>0</td>\n",
       "      <td>0</td>\n",
       "      <td>0</td>\n",
       "      <td>0</td>\n",
       "      <td>4</td>\n",
       "      <td>1982</td>\n",
       "    </tr>\n",
       "    <tr>\n",
       "      <th>1982-05-01</th>\n",
       "      <td>10</td>\n",
       "      <td>102.2</td>\n",
       "      <td>33.0</td>\n",
       "      <td>83.2</td>\n",
       "      <td>5.8</td>\n",
       "      <td>0</td>\n",
       "      <td>0</td>\n",
       "      <td>0</td>\n",
       "      <td>0</td>\n",
       "      <td>0</td>\n",
       "      <td>0</td>\n",
       "      <td>0</td>\n",
       "      <td>0</td>\n",
       "      <td>0</td>\n",
       "      <td>0</td>\n",
       "      <td>0</td>\n",
       "      <td>5</td>\n",
       "      <td>1982</td>\n",
       "    </tr>\n",
       "    <tr>\n",
       "      <th>...</th>\n",
       "      <td>...</td>\n",
       "      <td>...</td>\n",
       "      <td>...</td>\n",
       "      <td>...</td>\n",
       "      <td>...</td>\n",
       "      <td>...</td>\n",
       "      <td>...</td>\n",
       "      <td>...</td>\n",
       "      <td>...</td>\n",
       "      <td>...</td>\n",
       "      <td>...</td>\n",
       "      <td>...</td>\n",
       "      <td>...</td>\n",
       "      <td>...</td>\n",
       "      <td>...</td>\n",
       "      <td>...</td>\n",
       "      <td>...</td>\n",
       "      <td>...</td>\n",
       "    </tr>\n",
       "    <tr>\n",
       "      <th>2022-04-01</th>\n",
       "      <td>18</td>\n",
       "      <td>239.6</td>\n",
       "      <td>58.8</td>\n",
       "      <td>80.0</td>\n",
       "      <td>5.2</td>\n",
       "      <td>19</td>\n",
       "      <td>37</td>\n",
       "      <td>29</td>\n",
       "      <td>18</td>\n",
       "      <td>30</td>\n",
       "      <td>53</td>\n",
       "      <td>66</td>\n",
       "      <td>2</td>\n",
       "      <td>5</td>\n",
       "      <td>92</td>\n",
       "      <td>167</td>\n",
       "      <td>4</td>\n",
       "      <td>2022</td>\n",
       "    </tr>\n",
       "    <tr>\n",
       "      <th>2022-05-01</th>\n",
       "      <td>12</td>\n",
       "      <td>102.0</td>\n",
       "      <td>44.6</td>\n",
       "      <td>76.5</td>\n",
       "      <td>6.7</td>\n",
       "      <td>24</td>\n",
       "      <td>52</td>\n",
       "      <td>39</td>\n",
       "      <td>20</td>\n",
       "      <td>40</td>\n",
       "      <td>68</td>\n",
       "      <td>93</td>\n",
       "      <td>4</td>\n",
       "      <td>9</td>\n",
       "      <td>128</td>\n",
       "      <td>221</td>\n",
       "      <td>5</td>\n",
       "      <td>2022</td>\n",
       "    </tr>\n",
       "    <tr>\n",
       "      <th>2022-06-01</th>\n",
       "      <td>17</td>\n",
       "      <td>211.8</td>\n",
       "      <td>59.4</td>\n",
       "      <td>79.1</td>\n",
       "      <td>4.7</td>\n",
       "      <td>30</td>\n",
       "      <td>85</td>\n",
       "      <td>64</td>\n",
       "      <td>29</td>\n",
       "      <td>55</td>\n",
       "      <td>77</td>\n",
       "      <td>106</td>\n",
       "      <td>3</td>\n",
       "      <td>7</td>\n",
       "      <td>189</td>\n",
       "      <td>267</td>\n",
       "      <td>6</td>\n",
       "      <td>2022</td>\n",
       "    </tr>\n",
       "    <tr>\n",
       "      <th>2022-07-01</th>\n",
       "      <td>16</td>\n",
       "      <td>145.2</td>\n",
       "      <td>27.8</td>\n",
       "      <td>76.8</td>\n",
       "      <td>6.2</td>\n",
       "      <td>32</td>\n",
       "      <td>84</td>\n",
       "      <td>33</td>\n",
       "      <td>23</td>\n",
       "      <td>59</td>\n",
       "      <td>66</td>\n",
       "      <td>101</td>\n",
       "      <td>3</td>\n",
       "      <td>11</td>\n",
       "      <td>163</td>\n",
       "      <td>249</td>\n",
       "      <td>7</td>\n",
       "      <td>2022</td>\n",
       "    </tr>\n",
       "    <tr>\n",
       "      <th>2022-08-01</th>\n",
       "      <td>15</td>\n",
       "      <td>141.4</td>\n",
       "      <td>32.4</td>\n",
       "      <td>77.4</td>\n",
       "      <td>5.5</td>\n",
       "      <td>32</td>\n",
       "      <td>100</td>\n",
       "      <td>26</td>\n",
       "      <td>18</td>\n",
       "      <td>53</td>\n",
       "      <td>64</td>\n",
       "      <td>89</td>\n",
       "      <td>6</td>\n",
       "      <td>9</td>\n",
       "      <td>173</td>\n",
       "      <td>224</td>\n",
       "      <td>8</td>\n",
       "      <td>2022</td>\n",
       "    </tr>\n",
       "  </tbody>\n",
       "</table>\n",
       "<p>488 rows × 18 columns</p>\n",
       "</div>"
      ],
      "text/plain": [
       "            no_of_rainy_days  total_rainfall  maximum_rainfall_in_a_day  \\\n",
       "month                                                                     \n",
       "1982-01-01                10           107.1                       36.5   \n",
       "1982-02-01                 5            27.8                        9.4   \n",
       "1982-03-01                11           160.8                       61.7   \n",
       "1982-04-01                14           157.0                       45.1   \n",
       "1982-05-01                10           102.2                       33.0   \n",
       "...                      ...             ...                        ...   \n",
       "2022-04-01                18           239.6                       58.8   \n",
       "2022-05-01                12           102.0                       44.6   \n",
       "2022-06-01                17           211.8                       59.4   \n",
       "2022-07-01                16           145.2                       27.8   \n",
       "2022-08-01                15           141.4                       32.4   \n",
       "\n",
       "            mean_rh  mean_sunshine_hrs  asian_civilisations_museum  \\\n",
       "month                                                                \n",
       "1982-01-01     81.2                5.6                           0   \n",
       "1982-02-01     79.5                7.6                           0   \n",
       "1982-03-01     82.3                5.1                           0   \n",
       "1982-04-01     85.9                4.7                           0   \n",
       "1982-05-01     83.2                5.8                           0   \n",
       "...             ...                ...                         ...   \n",
       "2022-04-01     80.0                5.2                          19   \n",
       "2022-05-01     76.5                6.7                          24   \n",
       "2022-06-01     79.1                4.7                          30   \n",
       "2022-07-01     76.8                6.2                          32   \n",
       "2022-08-01     77.4                5.5                          32   \n",
       "\n",
       "            national_museum_of_singapore  science_centre_singapore  \\\n",
       "month                                                                \n",
       "1982-01-01                             0                         0   \n",
       "1982-02-01                             0                         0   \n",
       "1982-03-01                             0                         0   \n",
       "1982-04-01                             0                         0   \n",
       "1982-05-01                             0                         0   \n",
       "...                                  ...                       ...   \n",
       "2022-04-01                            37                        29   \n",
       "2022-05-01                            52                        39   \n",
       "2022-06-01                            85                        64   \n",
       "2022-07-01                            84                        33   \n",
       "2022-08-01                           100                        26   \n",
       "\n",
       "            jurong_birdpark  night_safari  river_wonders  \\\n",
       "month                                                      \n",
       "1982-01-01                0             0              0   \n",
       "1982-02-01                0             0              0   \n",
       "1982-03-01                0             0              0   \n",
       "1982-04-01                0             0              0   \n",
       "1982-05-01                0             0              0   \n",
       "...                     ...           ...            ...   \n",
       "2022-04-01               18            30             53   \n",
       "2022-05-01               20            40             68   \n",
       "2022-06-01               29            55             77   \n",
       "2022-07-01               23            59             66   \n",
       "2022-08-01               18            53             64   \n",
       "\n",
       "            singapore_zoological_gardens  sun_yat_sen_nanyang_memorial_hall  \\\n",
       "month                                                                         \n",
       "1982-01-01                             0                                  0   \n",
       "1982-02-01                             0                                  0   \n",
       "1982-03-01                             0                                  0   \n",
       "1982-04-01                             0                                  0   \n",
       "1982-05-01                             0                                  0   \n",
       "...                                  ...                                ...   \n",
       "2022-04-01                            66                                  2   \n",
       "2022-05-01                            93                                  4   \n",
       "2022-06-01                           106                                  3   \n",
       "2022-07-01                           101                                  3   \n",
       "2022-08-01                            89                                  6   \n",
       "\n",
       "            indian_heritage_centre  indoor_attractions  outdoor_attractions  \\\n",
       "month                                                                         \n",
       "1982-01-01                       0                   0                    0   \n",
       "1982-02-01                       0                   0                    0   \n",
       "1982-03-01                       0                   0                    0   \n",
       "1982-04-01                       0                   0                    0   \n",
       "1982-05-01                       0                   0                    0   \n",
       "...                            ...                 ...                  ...   \n",
       "2022-04-01                       5                  92                  167   \n",
       "2022-05-01                       9                 128                  221   \n",
       "2022-06-01                       7                 189                  267   \n",
       "2022-07-01                      11                 163                  249   \n",
       "2022-08-01                       9                 173                  224   \n",
       "\n",
       "            month2  year  \n",
       "month                     \n",
       "1982-01-01       1  1982  \n",
       "1982-02-01       2  1982  \n",
       "1982-03-01       3  1982  \n",
       "1982-04-01       4  1982  \n",
       "1982-05-01       5  1982  \n",
       "...            ...   ...  \n",
       "2022-04-01       4  2022  \n",
       "2022-05-01       5  2022  \n",
       "2022-06-01       6  2022  \n",
       "2022-07-01       7  2022  \n",
       "2022-08-01       8  2022  \n",
       "\n",
       "[488 rows x 18 columns]"
      ]
     },
     "execution_count": 66,
     "metadata": {},
     "output_type": "execute_result"
    }
   ],
   "source": [
    "# create month & year columns\n",
    "merged_data['month2'] = merged_data.index.strftime('%m')\n",
    "merged_data['month2'] = merged_data['month2'].astype(int)\n",
    "merged_data['year'] = merged_data.index.strftime('%Y')\n",
    "\n",
    "merged_data"
   ]
  },
  {
   "cell_type": "code",
   "execution_count": 67,
   "metadata": {
    "scrolled": false
   },
   "outputs": [
    {
     "data": {
      "text/plain": [
       "year\n",
       "1982    12\n",
       "1983     1\n",
       "1984    12\n",
       "1985    12\n",
       "1986     9\n",
       "1987    11\n",
       "1988    11\n",
       "1989     3\n",
       "1990     9\n",
       "1991     5\n",
       "1992    12\n",
       "1993     4\n",
       "1994    11\n",
       "1995     1\n",
       "1996    10\n",
       "1997    12\n",
       "1998    12\n",
       "1999    10\n",
       "2000    11\n",
       "2001     1\n",
       "2002    12\n",
       "2003    10\n",
       "2004     7\n",
       "2005    11\n",
       "2006    12\n",
       "2007     3\n",
       "2008     1\n",
       "2009    11\n",
       "2010    11\n",
       "2011    11\n",
       "2012    11\n",
       "2013     2\n",
       "2014    11\n",
       "2015    12\n",
       "2016    12\n",
       "2017    11\n",
       "2018    11\n",
       "2019     6\n",
       "2020     7\n",
       "2021     8\n",
       "2022     3\n",
       "dtype: int64"
      ]
     },
     "execution_count": 67,
     "metadata": {},
     "output_type": "execute_result"
    }
   ],
   "source": [
    "# group the data by year\n",
    "merged_data_by_year = merged_data.groupby('year')\n",
    "\n",
    "# find the month with the highest count in each year\n",
    "max_months_1 = merged_data_by_year.apply(lambda x: x.loc[x['no_of_rainy_days'].idxmax()]['month2'])\n",
    "max_months_1 = max_months_1.astype(int)\n",
    "max_months_1"
   ]
  },
  {
   "cell_type": "code",
   "execution_count": 68,
   "metadata": {},
   "outputs": [
    {
     "data": {
      "text/plain": [
       "Jan     4\n",
       "Feb     1\n",
       "Mar     3\n",
       "Apr     1\n",
       "May     1\n",
       "Jun     1\n",
       "Jul     2\n",
       "Aug     1\n",
       "Sep     2\n",
       "Oct     3\n",
       "Nov    12\n",
       "Dec    10\n",
       "dtype: int64"
      ]
     },
     "execution_count": 68,
     "metadata": {},
     "output_type": "execute_result"
    }
   ],
   "source": [
    "# count the number of occurrences of each month in the max_months series\n",
    "month_count_1 = max_months_1.value_counts()\n",
    "\n",
    "# create dictionary to map month numbers to month names\n",
    "month_names = {1: 'Jan', 2: 'Feb', 3: 'Mar', 4: 'Apr', 5: 'May', 6: 'Jun', 7: 'Jul', 8: 'Aug', 9: 'Sep', 10: 'Oct', 11: 'Nov', 12: 'Dec'}\n",
    "\n",
    "# use dictionary created to map month numbers to month names\n",
    "month_count_1.index = [month_names[month_number] for month_number in month_count_1.index]\n",
    "\n",
    "# sort month counts by month numbers\n",
    "month_count_1 = month_count_1.reindex(index=[month_names[month_number] for month_number in sorted(month_names.keys())])\n",
    "\n",
    "# print the result\n",
    "month_count_1"
   ]
  },
  {
   "cell_type": "code",
   "execution_count": 69,
   "metadata": {
    "scrolled": false
   },
   "outputs": [
    {
     "data": {
      "image/png": "[encoded data removed]",
      "text/plain": [
       "<Figure size 432x288 with 1 Axes>"
      ]
     },
     "metadata": {},
     "output_type": "display_data"
    }
   ],
   "source": [
    "month_count_1.plot(kind='bar')\n",
    "plt.xlabel('Month')\n",
    "plt.ylabel('Count')\n",
    "plt.xticks(rotation=0)\n",
    "plt.title('Count of highest no. of rainy days by month from 1982-2022')\n",
    "plt.show()"
   ]
  },
  {
   "cell_type": "markdown",
   "metadata": {},
   "source": [
    "It can be observed that Nov-Jan are the months with the highest number of rainy days."
   ]
  },
  {
   "cell_type": "markdown",
   "metadata": {},
   "source": [
    "  + **Bar chart displaying the count of highest total rainfall by month**"
   ]
  },
  {
   "cell_type": "code",
   "execution_count": 70,
   "metadata": {},
   "outputs": [
    {
     "name": "stdout",
     "output_type": "stream",
     "text": [
      "Jan     6\n",
      "Feb     2\n",
      "Mar     0\n",
      "Apr     1\n",
      "May     1\n",
      "Jun     0\n",
      "Jul     1\n",
      "Aug     1\n",
      "Sep     3\n",
      "Oct     1\n",
      "Nov     7\n",
      "Dec    18\n",
      "dtype: int64\n"
     ]
    }
   ],
   "source": [
    "# find the month with the highest count in each year\n",
    "max_months_2 = merged_data_by_year.apply(lambda x: x.loc[x['total_rainfall'].idxmax()]['month2'])\n",
    "max_months_2 = max_months_2.astype(int)\n",
    "\n",
    "# count the number of occurrences of each month in the max_months series\n",
    "month_count_2 = max_months_2.value_counts()\n",
    "\n",
    "# use dictionary created to map month numbers to month names\n",
    "month_count_2.index = [month_names[month_number] for month_number in month_count_2.index]\n",
    "\n",
    "# sort month counts by month numbers\n",
    "month_count_2 = month_count_2.reindex(index=[month_names[month_number] for month_number in sorted(month_names.keys())])\n",
    "\n",
    "# replace NaN values with 0 & print result as integers \n",
    "print(month_count_2.fillna(0).astype(int))"
   ]
  },
  {
   "cell_type": "code",
   "execution_count": 71,
   "metadata": {
    "scrolled": false
   },
   "outputs": [
    {
     "data": {
      "image/png": "[encoded data removed]",
      "text/plain": [
       "<Figure size 432x288 with 1 Axes>"
      ]
     },
     "metadata": {},
     "output_type": "display_data"
    }
   ],
   "source": [
    "month_count_2.plot(kind='bar')\n",
    "plt.xlabel('Month')\n",
    "plt.xticks(rotation=0)\n",
    "plt.ylabel('Count')\n",
    "plt.title('Count of highest total rainfall by month from 1982-2022')\n",
    "plt.show()"
   ]
  },
  {
   "cell_type": "markdown",
   "metadata": {},
   "source": [
    "Similar to data above, Nov-Jan are the months with highest rainfall throughout the year."
   ]
  },
  {
   "cell_type": "markdown",
   "metadata": {},
   "source": [
    "  + **Bar chart displaying the count of highest daily rainfall by month**"
   ]
  },
  {
   "cell_type": "code",
   "execution_count": 72,
   "metadata": {},
   "outputs": [
    {
     "data": {
      "text/plain": [
       "Jan     6\n",
       "Feb     1\n",
       "Mar     1\n",
       "Apr     1\n",
       "May     1\n",
       "Jun     2\n",
       "Jul     1\n",
       "Aug     4\n",
       "Sep     1\n",
       "Oct     4\n",
       "Nov     8\n",
       "Dec    11\n",
       "dtype: int64"
      ]
     },
     "execution_count": 72,
     "metadata": {},
     "output_type": "execute_result"
    }
   ],
   "source": [
    "# find the month with the highest rainfall in each year\n",
    "max_months_3 = merged_data_by_year.apply(lambda x: x.loc[x['maximum_rainfall_in_a_day'].idxmax()]['month2'])\n",
    "max_months_3 = max_months_3.astype(int)\n",
    "\n",
    "# count the number of occurrences of each month in the max_months series\n",
    "month_count_3 = max_months_3.value_counts()\n",
    "\n",
    "# use dictionary created to map month numbers to month names\n",
    "month_count_3.index = [month_names[month_number] for month_number in month_count_3.index]\n",
    "\n",
    "# sort month counts by month numbers\n",
    "month_count_3 = month_count_3.reindex(index=[month_names[month_number] for month_number in sorted(month_names.keys())])\n",
    "\n",
    "# print the result\n",
    "month_count_3"
   ]
  },
  {
   "cell_type": "code",
   "execution_count": 73,
   "metadata": {
    "scrolled": false
   },
   "outputs": [
    {
     "data": {
      "image/png": "[encoded data removed]",
      "text/plain": [
       "<Figure size 432x288 with 1 Axes>"
      ]
     },
     "metadata": {},
     "output_type": "display_data"
    }
   ],
   "source": [
    "month_count_3.plot(kind='bar')\n",
    "plt.xlabel('Month')\n",
    "plt.xticks(rotation=0)\n",
    "plt.ylabel('Count')\n",
    "plt.title('Count of highest daily rainfall by month from 1982-2022')\n",
    "plt.show()"
   ]
  },
  {
   "cell_type": "markdown",
   "metadata": {},
   "source": [
    "Unsurprisingly in terms of daily rainfall, Nov-Jan are also months with the highest daily rainfall. "
   ]
  },
  {
   "cell_type": "markdown",
   "metadata": {},
   "source": [
    "  + **Bar chart displaying the count of highest relative humidity by month**"
   ]
  },
  {
   "cell_type": "code",
   "execution_count": 74,
   "metadata": {
    "scrolled": true
   },
   "outputs": [
    {
     "name": "stdout",
     "output_type": "stream",
     "text": [
      "Jan     9\n",
      "Feb     3\n",
      "Mar     3\n",
      "Apr     1\n",
      "May     0\n",
      "Jun     0\n",
      "Jul     0\n",
      "Aug     0\n",
      "Sep     0\n",
      "Oct     0\n",
      "Nov     8\n",
      "Dec    17\n",
      "dtype: int64\n"
     ]
    }
   ],
   "source": [
    "# find the month with the highest relative humidity in each year\n",
    "max_months_4 = merged_data_by_year.apply(lambda x: x.loc[x['mean_rh'].idxmax()]['month2'])\n",
    "max_months_4 = max_months_4.astype(int)\n",
    "\n",
    "# count the number of occurrences of each month in the max_months series\n",
    "month_count_4 = max_months_4.value_counts()\n",
    "\n",
    "# use dictionary created to map month numbers to month names\n",
    "month_count_4.index = [month_names[month_number] for month_number in month_count_4.index]\n",
    "\n",
    "# sort month counts by month numbers\n",
    "month_count_4 = month_count_4.reindex(index=[month_names[month_number] for month_number in sorted(month_names.keys())])\n",
    "\n",
    "# replace NaN values with 0 & print result as integers \n",
    "print(month_count_4.fillna(0).astype(int))"
   ]
  },
  {
   "cell_type": "code",
   "execution_count": 75,
   "metadata": {
    "scrolled": false
   },
   "outputs": [
    {
     "data": {
      "image/png": "[encoded data removed]",
      "text/plain": [
       "<Figure size 432x288 with 1 Axes>"
      ]
     },
     "metadata": {},
     "output_type": "display_data"
    }
   ],
   "source": [
    "month_count_4.plot(kind='bar')\n",
    "plt.xlabel('Month')\n",
    "plt.xticks(rotation=0)\n",
    "plt.ylabel('Count')\n",
    "plt.title('Count of highest relative humidity by month from 1982-2022')\n",
    "plt.show()"
   ]
  },
  {
   "cell_type": "markdown",
   "metadata": {},
   "source": [
    "Nov-Jan are the most humid months of the year due to the rainy season. We may observe that May-Oct are months which are not as humid as the rest of the year."
   ]
  },
  {
   "cell_type": "markdown",
   "metadata": {},
   "source": [
    "  + **Bar chart displaying the count of mean sunshine hours by month**"
   ]
  },
  {
   "cell_type": "code",
   "execution_count": 76,
   "metadata": {
    "scrolled": true
   },
   "outputs": [
    {
     "name": "stdout",
     "output_type": "stream",
     "text": [
      "Jan     4\n",
      "Feb    22\n",
      "Mar     5\n",
      "Apr     0\n",
      "May     3\n",
      "Jun     3\n",
      "Jul     4\n",
      "Aug     0\n",
      "Sep     0\n",
      "Oct     0\n",
      "Nov     0\n",
      "Dec     0\n",
      "dtype: int64\n"
     ]
    }
   ],
   "source": [
    "# find the month with the highest mean sunshine hours in each year\n",
    "max_months_5 = merged_data_by_year.apply(lambda x: x.loc[x['mean_sunshine_hrs'].idxmax()]['month2'])\n",
    "max_months_5 = max_months_5.astype(int)\n",
    "\n",
    "# count the number of occurrences of each month in the max_months series\n",
    "month_count_5 = max_months_5.value_counts()\n",
    "\n",
    "# use dictionary created to map month numbers to month names\n",
    "month_count_5.index = [month_names[month_number] for month_number in month_count_5.index]\n",
    "\n",
    "# sort month counts by month numbers\n",
    "month_count_5 = month_count_5.reindex(index=[month_names[month_number] for month_number in sorted(month_names.keys())])\n",
    "\n",
    "# replace NaN values with 0 & print result as integers \n",
    "print(month_count_5.fillna(0).astype(int))"
   ]
  },
  {
   "cell_type": "code",
   "execution_count": 77,
   "metadata": {
    "scrolled": false
   },
   "outputs": [
    {
     "data": {
      "image/png": "[encoded data removed]",
      "text/plain": [
       "<Figure size 432x288 with 1 Axes>"
      ]
     },
     "metadata": {},
     "output_type": "display_data"
    }
   ],
   "source": [
    "month_count_5.plot(kind='bar')\n",
    "plt.xlabel('Month')\n",
    "plt.xticks(rotation=0)\n",
    "plt.ylabel('Count')\n",
    "plt.title('Count of highest mean sunshine hours by month from 1982-2022')\n",
    "plt.show()"
   ]
  },
  {
   "cell_type": "markdown",
   "metadata": {},
   "source": [
    "February and March have the highest mean sunshine hours throughout the year."
   ]
  },
  {
   "cell_type": "markdown",
   "metadata": {},
   "source": [
    "## Conclusions and Recommendations"
   ]
  },
  {
   "cell_type": "markdown",
   "metadata": {},
   "source": [
    "Based on your exploration of the data, what are you key takeaways and recommendations? Make sure to answer your question of interest or address your problem statement here."
   ]
  },
  {
   "cell_type": "markdown",
   "metadata": {},
   "source": [
    "The data visualisations above have shown that there is no clear correlation between weather and visitor numbers to attractions. As there are more significant factors other than weather that impact footfall, it may be useful to gather trends from past weather data in order to advise tourists and outdoor lovers on when the best months are for visiting.\n",
    "\n",
    "The research has shown that the months from November to January tend to be the rainiest months of the year, hence these would be the months to avoid should travellers wish to explore the outdoors. It would be generally considered a safe choice to visit during the months of February to May as this is typically when Singapore experiences the least amount of rain and the most sunshine."
   ]
  }
 ],
 "metadata": {
  "anaconda-cloud": {},
  "celltoolbar": "Raw Cell Format",
  "kernelspec": {
   "display_name": "Python 3 (ipykernel)",
   "language": "python",
   "name": "python3"
  },
  "language_info": {
   "codemirror_mode": {
    "name": "ipython",
    "version": 3
   },
   "file_extension": ".py",
   "mimetype": "text/x-python",
   "name": "python",
   "nbconvert_exporter": "python",
   "pygments_lexer": "ipython3",
   "version": "3.9.13"
  }
 },
 "nbformat": 4,
 "nbformat_minor": 4
}
